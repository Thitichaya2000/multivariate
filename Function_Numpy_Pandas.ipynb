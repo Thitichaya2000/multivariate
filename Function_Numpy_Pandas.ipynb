{
  "nbformat": 4,
  "nbformat_minor": 0,
  "metadata": {
    "colab": {
      "name": "Function_Numpy_Pandas.ipynb",
      "provenance": [],
      "collapsed_sections": [],
      "authorship_tag": "ABX9TyPw+ZX0jmbD5767p5AJP0Ln",
      "include_colab_link": true
    },
    "kernelspec": {
      "name": "python3",
      "display_name": "Python 3"
    }
  },
  "cells": [
    {
      "cell_type": "markdown",
      "metadata": {
        "id": "view-in-github",
        "colab_type": "text"
      },
      "source": [
        "<a href=\"https://colab.research.google.com/github/Thitichaya2000/multivariate/blob/main/Function_Numpy_Pandas.ipynb\" target=\"_parent\"><img src=\"https://colab.research.google.com/assets/colab-badge.svg\" alt=\"Open In Colab\"/></a>"
      ]
    },
    {
      "cell_type": "markdown",
      "metadata": {
        "id": "sSnEq0hLSrFM"
      },
      "source": [
        "##Function"
      ]
    },
    {
      "cell_type": "markdown",
      "metadata": {
        "id": "ZwyyYqL5TC1S"
      },
      "source": [
        "```python\r\n",
        "def function_name(_Input) :\r\n",
        "    \r\n",
        "  do_someting with _input_ to produce _Output\r\n",
        "  return _Output_ \r\n",
        "```\r\n",
        " ``` backtick กดเปลี่ยนภาษาค้างไว้ , alt - 9>6 (full keyboard with number)"
      ]
    },
    {
      "cell_type": "markdown",
      "metadata": {
        "id": "VXesrvEUUYuL"
      },
      "source": [
        "function มีส่วนสำคัญทั้งหมด 4 ส่วน \r\n",
        "  1.  บอก python ว่าเราจะเขียนฟังก์ชัน ชื่ออะไร def function_name(): (ขาดไม่ได้)\r\n",
        "  2.  กำหนดตัวแปรที่จะเป็น input input (ขาดไม่ได้)\r\n",
        "  3.  ส่วนประมวลผล do_something with Input to get Output (ขาดไม่ได้)\r\n",
        "  4.  ส่วน output return Output(ขาดไม่ได้)\r\n",
        "\r\n",
        "  เราใช้ เว้นวรรค (indent) เพื่อบอกขอบเขตของ code\r\n",
        "\r\n",
        "\r\n",
        "\r\n"
      ]
    },
    {
      "cell_type": "markdown",
      "metadata": {
        "id": "PlhztOqTWOFz"
      },
      "source": [
        "## สร้างฟังก์ชัน"
      ]
    },
    {
      "cell_type": "code",
      "metadata": {
        "colab": {
          "base_uri": "https://localhost:8080/",
          "height": 130
        },
        "id": "4HAYEmvrStNj",
        "outputId": "11806813-902d-4537-efbb-1871497df458"
      },
      "source": [
        "def print_name(name,surname,ID) : #อย่าลืม :\r\n",
        "    st = f'ชื่อ {name} นามสกุล {surname} ID {ID}'             \r\n",
        "    return st\r\n",
        "    print(outside function)                #######################แก้ด้วย"
      ],
      "execution_count": 12,
      "outputs": [
        {
          "output_type": "error",
          "ename": "SyntaxError",
          "evalue": "ignored",
          "traceback": [
            "\u001b[0;36m  File \u001b[0;32m\"<ipython-input-12-db5ed34f2491>\"\u001b[0;36m, line \u001b[0;32m4\u001b[0m\n\u001b[0;31m    print(outside function)\u001b[0m\n\u001b[0m                         ^\u001b[0m\n\u001b[0;31mSyntaxError\u001b[0m\u001b[0;31m:\u001b[0m invalid syntax\n"
          ]
        }
      ]
    },
    {
      "cell_type": "code",
      "metadata": {
        "colab": {
          "base_uri": "https://localhost:8080/",
          "height": 35
        },
        "id": "APmJN9eYV9tC",
        "outputId": "b92dfdd1-ec08-4a34-9ff9-ed884f2f12ec"
      },
      "source": [
        "print_name( 'ฐิติชญา' , 'ไกรวงค์' ,'623020520-0' )"
      ],
      "execution_count": 11,
      "outputs": [
        {
          "output_type": "execute_result",
          "data": {
            "application/vnd.google.colaboratory.intrinsic+json": {
              "type": "string"
            },
            "text/plain": [
              "'ชื่อ ฐิติชญา นามสกุล ไกรวงค์ ID 623020520-0'"
            ]
          },
          "metadata": {
            "tags": []
          },
          "execution_count": 11
        }
      ]
    },
    {
      "cell_type": "markdown",
      "metadata": {
        "id": "DGDgXcrJYByD"
      },
      "source": [
        "ฟังก์ชันไม่จำเป็นต้อง output "
      ]
    },
    {
      "cell_type": "code",
      "metadata": {
        "id": "c0cK-ixpYHc4"
      },
      "source": [
        "def print_name2(surname,ID,name) : \r\n",
        "    st = f'ชื่อ {name} นามสกุล {surname} รหัส {ID}'\r\n",
        "    print(st)\r\n"
      ],
      "execution_count": 15,
      "outputs": []
    },
    {
      "cell_type": "code",
      "metadata": {
        "colab": {
          "base_uri": "https://localhost:8080/"
        },
        "id": "R5foJvIwYsjL",
        "outputId": "d49e1dc9-da20-4518-bcbc-7b9249d058c8"
      },
      "source": [
        "print_name2('ฐิติชญา' , 'ไกรวงค์' ,'623020520-0')"
      ],
      "execution_count": 16,
      "outputs": [
        {
          "output_type": "stream",
          "text": [
            "ชื่อ 623020520-0 นามสกุล ฐิติชญา รหัส ไกรวงค์\n"
          ],
          "name": "stdout"
        }
      ]
    },
    {
      "cell_type": "code",
      "metadata": {
        "colab": {
          "base_uri": "https://localhost:8080/"
        },
        "id": "EGmm66uEY_5Y",
        "outputId": "11843eb5-8078-466e-9b67-7fb2963796a6"
      },
      "source": [
        "op2 = print_name2('ฐิติชญา' , 'ไกรวงค์' ,'623020520-0')"
      ],
      "execution_count": 17,
      "outputs": [
        {
          "output_type": "stream",
          "text": [
            "ชื่อ 623020520-0 นามสกุล ฐิติชญา รหัส ไกรวงค์\n"
          ],
          "name": "stdout"
        }
      ]
    },
    {
      "cell_type": "code",
      "metadata": {
        "colab": {
          "base_uri": "https://localhost:8080/"
        },
        "id": "JCT4sfRLZLyA",
        "outputId": "e778b867-a231-4d53-d455-711bbfdc3d15"
      },
      "source": [
        "print(op2)"
      ],
      "execution_count": 18,
      "outputs": [
        {
          "output_type": "stream",
          "text": [
            "None\n"
          ],
          "name": "stdout"
        }
      ]
    },
    {
      "cell_type": "markdown",
      "metadata": {
        "id": "QX1E7dIUZQKh"
      },
      "source": [
        "ฟังก์ชันไม่จำเป็นต้องมี input "
      ]
    },
    {
      "cell_type": "code",
      "metadata": {
        "id": "SLw-bCtkZguZ"
      },
      "source": [
        "def Pi() :\r\n",
        "    return 3.14159265359"
      ],
      "execution_count": 31,
      "outputs": []
    },
    {
      "cell_type": "code",
      "metadata": {
        "colab": {
          "base_uri": "https://localhost:8080/"
        },
        "id": "9XX9I5TJZzkJ",
        "outputId": "23ce0d97-0af7-4f0b-b287-98f77ec7c640"
      },
      "source": [
        "#คำนวณพื้นที่วงกลมที่มีขนาดเส้นผ่านศูนย์กลางเท่ากับ 3\r\n",
        "Pi()*(1.5**2)"
      ],
      "execution_count": 32,
      "outputs": [
        {
          "output_type": "execute_result",
          "data": {
            "text/plain": [
              "7.0685834705775"
            ]
          },
          "metadata": {
            "tags": []
          },
          "execution_count": 32
        }
      ]
    },
    {
      "cell_type": "code",
      "metadata": {
        "id": "IDvlRkb1aKm4"
      },
      "source": [
        "def print_my_name() :\r\n",
        "    print( 'ฐิติชญา ไกรวงค์ ID 623020520-0' )  ###################"
      ],
      "execution_count": 26,
      "outputs": []
    },
    {
      "cell_type": "markdown",
      "metadata": {
        "id": "N6FVYnmzapDg"
      },
      "source": [
        "1. input ของ function ใน python มีสองแบบ input ที่จำเป็นต้องใส่ กับ input ที่ไม่จำเป็นต้องใส่ (มีค่า default) \r\n",
        "2. เราต้องเรียง input ที่จำเป็นต้องใส่ขึ้นก่อน\r\n",
        "\r\n"
      ]
    },
    {
      "cell_type": "code",
      "metadata": {
        "id": "-CCA2iCFbNhh"
      },
      "source": [
        "def print_2lines_default(name, surname, ID, grade='F') :\r\n",
        "    st = f'ชื่อ {name} นามสกุล {surname} รหัส {ID}'\r\n",
        "    print(st)\r\n",
        "    st2 = f'เกรดวิชา Multivariate >>> {grade}'\r\n",
        "    print(st2)\r\n"
      ],
      "execution_count": 35,
      "outputs": []
    },
    {
      "cell_type": "code",
      "metadata": {
        "colab": {
          "base_uri": "https://localhost:8080/"
        },
        "id": "2GhVdwbHdKBR",
        "outputId": "0295d4f2-94bb-444c-9a61-bc89b0284607"
      },
      "source": [
        " print_2lines_default('ฐิติชญา' , 'ไกรวงค์' , '623020520-0' , 'A')"
      ],
      "execution_count": 34,
      "outputs": [
        {
          "output_type": "stream",
          "text": [
            "ชื่อ ฐิติชญา นามสกุล ไกรวงค์ รหัส 623020520-0\n",
            "เกรดวิชา Multivariate >>> A\n"
          ],
          "name": "stdout"
        }
      ]
    },
    {
      "cell_type": "markdown",
      "metadata": {
        "id": "aFECbzDwd1Bi"
      },
      "source": [
        "เราสามารถเรียกฟังก์ชันโดยใช้ชื่อเรียกตัวแปรของฟังก์ชันช่วยได้"
      ]
    },
    {
      "cell_type": "code",
      "metadata": {
        "colab": {
          "base_uri": "https://localhost:8080/"
        },
        "id": "mu5tVwoAeA8w",
        "outputId": "682039b0-91c0-4047-f153-51201640430c"
      },
      "source": [
        "print_name2(name ='ฐิติชญา', surname = 'ไกรวงค์' , ID = '623020520-0')"
      ],
      "execution_count": 36,
      "outputs": [
        {
          "output_type": "stream",
          "text": [
            "ชื่อ ฐิติชญา นามสกุล ไกรวงค์ รหัส 623020520-0\n"
          ],
          "name": "stdout"
        }
      ]
    },
    {
      "cell_type": "markdown",
      "metadata": {
        "id": "ammkI4ouehHv"
      },
      "source": [
        "HW3 ให้เขียน function คำนวณจำนวนวินาทีจาก เวลาต่อไปนี้\r\n",
        "\r\n",
        "'14-15-31'\r\n",
        "\r\n",
        "'13-00-01'\r\n",
        "\r\n",
        "'05-49-44'\r\n",
        "\r\n",
        "'00-00-16'\r\n",
        "\r\n",
        "และ print ให้สวยงาม\r\n",
        "\r\n"
      ]
    }
  ]
}