{
  "nbformat": 4,
  "nbformat_minor": 0,
  "metadata": {
    "colab": {
      "name": "python101.ipynb",
      "provenance": [],
      "collapsed_sections": [],
      "authorship_tag": "ABX9TyNVtf6EfwN/BZRNlFjdxac6",
      "include_colab_link": true
    },
    "kernelspec": {
      "name": "python3",
      "display_name": "Python 3"
    }
  },
  "cells": [
    {
      "cell_type": "markdown",
      "metadata": {
        "id": "view-in-github",
        "colab_type": "text"
      },
      "source": [
        "<a href=\"https://colab.research.google.com/github/Thitichaya2000/multivariate/blob/main/python101.ipynb\" target=\"_parent\"><img src=\"https://colab.research.google.com/assets/colab-badge.svg\" alt=\"Open In Colab\"/></a>"
      ]
    },
    {
      "cell_type": "markdown",
      "metadata": {
        "id": "DsCCfnweLrhb"
      },
      "source": [
        "# ตัวแปร varible "
      ]
    },
    {
      "cell_type": "markdown",
      "metadata": {
        "id": "X4fRXqyiMcwh"
      },
      "source": [
        "หลักการตั้งชื่อตัวแปรเบื้องต้น\r\n",
        "\r\n",
        "1.   ตั้งให้สื่อ\r\n",
        "2.   ภาษาอังกฤษ\r\n",
        "3.   ใช้ตัวเลขได้แต่ห้ามขึ้นต้นด้วยตัวเลข\r\n",
        "4.   ห้ามเว้นวรรค\r\n",
        "5.   ตัวเลขกับตัวใหญ่ไม่เหมือนกัน\r\n",
        "\r\n",
        "\r\n",
        "\r\n"
      ]
    },
    {
      "cell_type": "markdown",
      "metadata": {
        "id": "0SXS5u5dN7Qb"
      },
      "source": [
        "มี output 2 mode : ออกหน้าจอ กับ เข้าไปเก็บในตัวแปร"
      ]
    },
    {
      "cell_type": "code",
      "metadata": {
        "colab": {
          "base_uri": "https://localhost:8080/"
        },
        "id": "zUmXY8N7NKDp",
        "outputId": "6290257a-7752-47e0-9712-158f9cfd32e9"
      },
      "source": [
        "3.1459 # hashtag หรือ shap # คือ comment >>> อันนี้คือ output ที่ออกหน้าจอ"
      ],
      "execution_count": 1,
      "outputs": [
        {
          "output_type": "execute_result",
          "data": {
            "text/plain": [
              "3.1459"
            ]
          },
          "metadata": {
            "tags": []
          },
          "execution_count": 1
        }
      ]
    },
    {
      "cell_type": "code",
      "metadata": {
        "id": "0r_xMPMpOXpb"
      },
      "source": [
        "Pi = 3.1459 # อันนี้คือ output ที่เข้าไปอยู่ในตัวแปร "
      ],
      "execution_count": 2,
      "outputs": []
    },
    {
      "cell_type": "code",
      "metadata": {
        "colab": {
          "base_uri": "https://localhost:8080/"
        },
        "id": "lfA7E9YpOdzZ",
        "outputId": "96db1045-a539-4e53-8ad1-368197471ed0"
      },
      "source": [
        "Pi"
      ],
      "execution_count": 3,
      "outputs": [
        {
          "output_type": "execute_result",
          "data": {
            "text/plain": [
              "3.1459"
            ]
          },
          "metadata": {
            "tags": []
          },
          "execution_count": 3
        }
      ]
    },
    {
      "cell_type": "code",
      "metadata": {
        "colab": {
          "base_uri": "https://localhost:8080/"
        },
        "id": "DVSkFL6MOemD",
        "outputId": "e731e552-d6b7-46e9-9b7a-d0ab74f8a1cd"
      },
      "source": [
        "a = 1234567\r\n",
        "print(a)"
      ],
      "execution_count": 4,
      "outputs": [
        {
          "output_type": "stream",
          "text": [
            "1234567\n"
          ],
          "name": "stdout"
        }
      ]
    },
    {
      "cell_type": "markdown",
      "metadata": {
        "id": "1tv33KeMOyDx"
      },
      "source": [
        "# ชนิดของตัวแปร 3 ชนิด \r\n"
      ]
    },
    {
      "cell_type": "markdown",
      "metadata": {
        "id": "CZqjSjjmO4WR"
      },
      "source": [
        "## จำนวนเต็ม (integer,int)"
      ]
    },
    {
      "cell_type": "code",
      "metadata": {
        "colab": {
          "base_uri": "https://localhost:8080/"
        },
        "id": "Kvrx6SoDPGqG",
        "outputId": "0565958b-bb5f-4cbb-943d-9fad49a8916a"
      },
      "source": [
        "aaa = 1092\r\n",
        "print(aaa)"
      ],
      "execution_count": 5,
      "outputs": [
        {
          "output_type": "stream",
          "text": [
            "1092\n"
          ],
          "name": "stdout"
        }
      ]
    },
    {
      "cell_type": "markdown",
      "metadata": {
        "id": "tOLmp_8JPLgR"
      },
      "source": [
        "# จำนวนจริง (float)"
      ]
    },
    {
      "cell_type": "code",
      "metadata": {
        "colab": {
          "base_uri": "https://localhost:8080/"
        },
        "id": "X_A6CkX9PUwL",
        "outputId": "444325fc-4778-49bf-9d6a-b15518d3f7f1"
      },
      "source": [
        "bbb = 11.\r\n",
        "print(bbb)"
      ],
      "execution_count": 6,
      "outputs": [
        {
          "output_type": "stream",
          "text": [
            "11.0\n"
          ],
          "name": "stdout"
        }
      ]
    },
    {
      "cell_type": "markdown",
      "metadata": {
        "id": "E4GK5uEqPZKs"
      },
      "source": [
        "## ตัวอักษร-ข้อความ (character และ text, string)"
      ]
    },
    {
      "cell_type": "markdown",
      "metadata": {
        "id": "B_JSPjV3MjIb"
      },
      "source": [
        ""
      ]
    },
    {
      "cell_type": "code",
      "metadata": {
        "colab": {
          "base_uri": "https://localhost:8080/"
        },
        "id": "vp7Bf5_ZPuU2",
        "outputId": "5b1de209-27a0-41d8-fc14-daa5af50b3e5"
      },
      "source": [
        "ccc = '123456' # เราใช้ single quote ' หรือ double quote ' ล้อมรอบตัวหนังสือเพื่อระบุว่เป็น character-string\r\n",
        "print(ccc)"
      ],
      "execution_count": 7,
      "outputs": [
        {
          "output_type": "stream",
          "text": [
            "123456\n"
          ],
          "name": "stdout"
        }
      ]
    },
    {
      "cell_type": "code",
      "metadata": {
        "id": "ldBJrQUMQKNZ"
      },
      "source": [
        "aaa + bbb # float + int = float "
      ],
      "execution_count": null,
      "outputs": []
    },
    {
      "cell_type": "code",
      "metadata": {
        "colab": {
          "base_uri": "https://localhost:8080/",
          "height": 163
        },
        "id": "R_KxFngXQduX",
        "outputId": "f6e722dc-7563-4bc7-dd96-eb7784cf042a"
      },
      "source": [
        "bbb + ccc"
      ],
      "execution_count": 8,
      "outputs": [
        {
          "output_type": "error",
          "ename": "TypeError",
          "evalue": "ignored",
          "traceback": [
            "\u001b[0;31m---------------------------------------------------------------------------\u001b[0m",
            "\u001b[0;31mTypeError\u001b[0m                                 Traceback (most recent call last)",
            "\u001b[0;32m<ipython-input-8-a3916046ad1c>\u001b[0m in \u001b[0;36m<module>\u001b[0;34m()\u001b[0m\n\u001b[0;32m----> 1\u001b[0;31m \u001b[0mbbb\u001b[0m \u001b[0;34m+\u001b[0m \u001b[0mccc\u001b[0m\u001b[0;34m\u001b[0m\u001b[0;34m\u001b[0m\u001b[0m\n\u001b[0m",
            "\u001b[0;31mTypeError\u001b[0m: unsupported operand type(s) for +: 'float' and 'str'"
          ]
        }
      ]
    },
    {
      "cell_type": "code",
      "metadata": {
        "colab": {
          "base_uri": "https://localhost:8080/"
        },
        "id": "7f0XfHu3Qmz9",
        "outputId": "8acfe714-adf7-4f6f-fa50-c4c978cd83ab"
      },
      "source": [
        "ddd = 'ฐิติชญา'\r\n",
        "print(ddd)"
      ],
      "execution_count": 9,
      "outputs": [
        {
          "output_type": "stream",
          "text": [
            "ฐิติชญา\n"
          ],
          "name": "stdout"
        }
      ]
    },
    {
      "cell_type": "markdown",
      "metadata": {
        "id": "Uka6QKyTQvx6"
      },
      "source": [
        "# การเปลี่ยนชนิดของตัวแปร variable casting"
      ]
    },
    {
      "cell_type": "code",
      "metadata": {
        "colab": {
          "base_uri": "https://localhost:8080/"
        },
        "id": "GzaNbp6yQ-Hx",
        "outputId": "a5b5cfa8-65f4-42ef-a22c-13edfcbae20d"
      },
      "source": [
        "aaa + int(ccc)"
      ],
      "execution_count": 10,
      "outputs": [
        {
          "output_type": "execute_result",
          "data": {
            "text/plain": [
              "124548"
            ]
          },
          "metadata": {
            "tags": []
          },
          "execution_count": 10
        }
      ]
    },
    {
      "cell_type": "code",
      "metadata": {
        "colab": {
          "base_uri": "https://localhost:8080/"
        },
        "id": "eULjZYUQRneT",
        "outputId": "08fa7966-59ad-4834-a299-ad01e5bc547d"
      },
      "source": [
        "aaa + float(ccc)"
      ],
      "execution_count": 11,
      "outputs": [
        {
          "output_type": "execute_result",
          "data": {
            "text/plain": [
              "124548.0"
            ]
          },
          "metadata": {
            "tags": []
          },
          "execution_count": 11
        }
      ]
    },
    {
      "cell_type": "code",
      "metadata": {
        "colab": {
          "base_uri": "https://localhost:8080/",
          "height": 35
        },
        "id": "dy0FHuitUB78",
        "outputId": "27f61d03-724a-4327-dae4-96adf19afddc"
      },
      "source": [
        "str(aaa)"
      ],
      "execution_count": 12,
      "outputs": [
        {
          "output_type": "execute_result",
          "data": {
            "application/vnd.google.colaboratory.intrinsic+json": {
              "type": "string"
            },
            "text/plain": [
              "'1092'"
            ]
          },
          "metadata": {
            "tags": []
          },
          "execution_count": 12
        }
      ]
    },
    {
      "cell_type": "markdown",
      "metadata": {
        "id": "vYW80tPpl7TN"
      },
      "source": [
        "## การดำเนินการ Operation (Operators +,-,*,/,%)\r\n",
        "\r\n"
      ]
    },
    {
      "cell_type": "code",
      "metadata": {
        "colab": {
          "base_uri": "https://localhost:8080/",
          "height": 163
        },
        "id": "d7ixGEO0UL5d",
        "outputId": "1b869799-002e-463e-db58-08426da3426d"
      },
      "source": [
        "a+b"
      ],
      "execution_count": 14,
      "outputs": [
        {
          "output_type": "error",
          "ename": "NameError",
          "evalue": "ignored",
          "traceback": [
            "\u001b[0;31m---------------------------------------------------------------------------\u001b[0m",
            "\u001b[0;31mNameError\u001b[0m                                 Traceback (most recent call last)",
            "\u001b[0;32m<ipython-input-14-ca730b97bf8a>\u001b[0m in \u001b[0;36m<module>\u001b[0;34m()\u001b[0m\n\u001b[0;32m----> 1\u001b[0;31m \u001b[0ma\u001b[0m\u001b[0;34m+\u001b[0m\u001b[0mb\u001b[0m\u001b[0;34m\u001b[0m\u001b[0;34m\u001b[0m\u001b[0m\n\u001b[0m",
            "\u001b[0;31mNameError\u001b[0m: name 'b' is not defined"
          ]
        }
      ]
    },
    {
      "cell_type": "code",
      "metadata": {
        "colab": {
          "base_uri": "https://localhost:8080/"
        },
        "id": "pBahLajFmmiy",
        "outputId": "dff9af17-761f-4ace-f168-36ca7cf4ec40"
      },
      "source": [
        "aaa+bbb"
      ],
      "execution_count": 15,
      "outputs": [
        {
          "output_type": "execute_result",
          "data": {
            "text/plain": [
              "1103.0"
            ]
          },
          "metadata": {
            "tags": []
          },
          "execution_count": 15
        }
      ]
    },
    {
      "cell_type": "code",
      "metadata": {
        "colab": {
          "base_uri": "https://localhost:8080/"
        },
        "id": "d5hw6LBumqyY",
        "outputId": "c54143d6-ecef-4d4a-b071-6889185a5aba"
      },
      "source": [
        "aaa-bbb"
      ],
      "execution_count": 16,
      "outputs": [
        {
          "output_type": "execute_result",
          "data": {
            "text/plain": [
              "1081.0"
            ]
          },
          "metadata": {
            "tags": []
          },
          "execution_count": 16
        }
      ]
    },
    {
      "cell_type": "code",
      "metadata": {
        "colab": {
          "base_uri": "https://localhost:8080/"
        },
        "id": "ebJ-n-inmwHa",
        "outputId": "8c8612f1-5205-492f-f195-4a77c6c8211f"
      },
      "source": [
        "ab = aaa*bbb\r\n",
        "print(ab)"
      ],
      "execution_count": 17,
      "outputs": [
        {
          "output_type": "stream",
          "text": [
            "12012.0\n"
          ],
          "name": "stdout"
        }
      ]
    },
    {
      "cell_type": "code",
      "metadata": {
        "colab": {
          "base_uri": "https://localhost:8080/"
        },
        "id": "xFNVqybqmuVh",
        "outputId": "f36fc167-f73b-4a8c-8c65-86e4ec4cef55"
      },
      "source": [
        "ab+int(ccc)"
      ],
      "execution_count": 18,
      "outputs": [
        {
          "output_type": "execute_result",
          "data": {
            "text/plain": [
              "135468.0"
            ]
          },
          "metadata": {
            "tags": []
          },
          "execution_count": 18
        }
      ]
    },
    {
      "cell_type": "markdown",
      "metadata": {
        "id": "hvLMbsGrUMQJ"
      },
      "source": [
        "### % คือเครื่องหมาย modulo"
      ]
    },
    {
      "cell_type": "code",
      "metadata": {
        "colab": {
          "base_uri": "https://localhost:8080/"
        },
        "id": "I2nZfphDUcgm",
        "outputId": "0e9eed64-254a-45ec-a202-cb02c21f38da"
      },
      "source": [
        "5%3"
      ],
      "execution_count": 19,
      "outputs": [
        {
          "output_type": "execute_result",
          "data": {
            "text/plain": [
              "2"
            ]
          },
          "metadata": {
            "tags": []
          },
          "execution_count": 19
        }
      ]
    },
    {
      "cell_type": "code",
      "metadata": {
        "colab": {
          "base_uri": "https://localhost:8080/"
        },
        "id": "BNU75CuoUfLC",
        "outputId": "c71f3e6f-4513-4e02-e42c-fd11ec195376"
      },
      "source": [
        "7%3"
      ],
      "execution_count": 20,
      "outputs": [
        {
          "output_type": "execute_result",
          "data": {
            "text/plain": [
              "1"
            ]
          },
          "metadata": {
            "tags": []
          },
          "execution_count": 20
        }
      ]
    },
    {
      "cell_type": "markdown",
      "metadata": {
        "id": "WylYlXLdXc4D"
      },
      "source": [
        "## คำสั่ง print แบบพิเศษ (การ format string)"
      ]
    },
    {
      "cell_type": "code",
      "metadata": {
        "colab": {
          "base_uri": "https://localhost:8080/"
        },
        "id": "6Z6XkFbWXi4B",
        "outputId": "3803f9f7-3328-41c8-abc4-0555c44639c7"
      },
      "source": [
        "print('ตัวแปร') # สิ่งที่อยู่ในวงเล็บคือ ตัวแปร และ string "
      ],
      "execution_count": 21,
      "outputs": [
        {
          "output_type": "stream",
          "text": [
            "ตัวแปร\n"
          ],
          "name": "stdout"
        }
      ]
    },
    {
      "cell_type": "code",
      "metadata": {
        "colab": {
          "base_uri": "https://localhost:8080/"
        },
        "id": "WtO6I9mwX07m",
        "outputId": "b132d9d7-5322-4f9a-dbb6-bfb0a0a1a4a7"
      },
      "source": [
        "print(f'% คือการหารเอาเศษ เช่น 7%3 = {7%3} ') # เพิ่ม f หน้า 'string' และใช้ {} ใส่ code"
      ],
      "execution_count": 22,
      "outputs": [
        {
          "output_type": "stream",
          "text": [
            "% คือการหารเอาเศษ เช่น 7%3 = 1 \n"
          ],
          "name": "stdout"
        }
      ]
    },
    {
      "cell_type": "code",
      "metadata": {
        "colab": {
          "base_uri": "https://localhost:8080/"
        },
        "id": "rSFL5iiJUwBo",
        "outputId": "3b4b7ce4-a60a-4a05-cf42-961fd204ae84"
      },
      "source": [
        "print(f'% คือการหารเอาเศษ เช่น 7%3 = {7%3}  \\\r\n",
        "แต่ \\n/ คือการหารปกติ เช่น 7/3 = {7/3} \\\r\n",
        "และ\\n/ / คือการการเอาส่วน เช่น 7//3 {7//3} \\\r\n",
        "หรือ \\nใช้ int() เพื่อหารเอาส่วน เช่น int (7/3) = {int(7/3)} ' ) # \\n คือการขึ้นบรรทัดใหม่ \\ใช้ในการตัด code แต่คอมจะไม่เห็น"
      ],
      "execution_count": 23,
      "outputs": [
        {
          "output_type": "stream",
          "text": [
            "% คือการหารเอาเศษ เช่น 7%3 = 1  แต่ \n",
            "/ คือการหารปกติ เช่น 7/3 = 2.3333333333333335 และ\n",
            "/ / คือการการเอาส่วน เช่น 7//3 2 หรือ \n",
            "ใช้ int() เพื่อหารเอาส่วน เช่น int (7/3) = 2 \n"
          ],
          "name": "stdout"
        }
      ]
    },
    {
      "cell_type": "markdown",
      "metadata": {
        "id": "cz0LVUnmX-aY"
      },
      "source": [
        "# DATA STRUCTURE (โครงสร้างข้อมูล)"
      ]
    },
    {
      "cell_type": "markdown",
      "metadata": {
        "id": "mxo602mVYcbf"
      },
      "source": [
        "# List คือการเอาข้อมูลหลายๆตัวมาเรียงกัน"
      ]
    },
    {
      "cell_type": "markdown",
      "metadata": {
        "id": "TbcfeZwSYfX2"
      },
      "source": [
        "List สามารถสร้างได้ 2 แบบดังนี้"
      ]
    },
    {
      "cell_type": "markdown",
      "metadata": {
        "id": "6uTQ7JNMYsZE"
      },
      "source": [
        "# แบบที่ 1 > square brackets "
      ]
    },
    {
      "cell_type": "code",
      "metadata": {
        "colab": {
          "base_uri": "https://localhost:8080/"
        },
        "id": "JnYogs42Y45j",
        "outputId": "34d553c2-2456-4f11-8253-343af0535a6b"
      },
      "source": [
        "list_a = []\r\n",
        "print(list_a)"
      ],
      "execution_count": 24,
      "outputs": [
        {
          "output_type": "stream",
          "text": [
            "[]\n"
          ],
          "name": "stdout"
        }
      ]
    },
    {
      "cell_type": "code",
      "metadata": {
        "colab": {
          "base_uri": "https://localhost:8080/"
        },
        "id": "cSzptQYsZPgI",
        "outputId": "878befdb-9e89-42e4-af71-65ed579b0626"
      },
      "source": [
        "list_b = [111,'c', 'งง', aaa]\r\n",
        "print(list_b)"
      ],
      "execution_count": 25,
      "outputs": [
        {
          "output_type": "stream",
          "text": [
            "[111, 'c', 'งง', 1092]\n"
          ],
          "name": "stdout"
        }
      ]
    },
    {
      "cell_type": "markdown",
      "metadata": {
        "id": "NiXZNZV8aIs4"
      },
      "source": [
        "# ลำดับที่อยู่ใน list มีความสำคัญ (ลำดับใน list เริ่มจาก 0,1,2,3,)"
      ]
    },
    {
      "cell_type": "code",
      "metadata": {
        "colab": {
          "base_uri": "https://localhost:8080/",
          "height": 35
        },
        "id": "M2egt7B2qSmS",
        "outputId": "8176bad6-eaba-4b58-b4a6-b60fd3b39d72"
      },
      "source": [
        "list_b[2]"
      ],
      "execution_count": 26,
      "outputs": [
        {
          "output_type": "execute_result",
          "data": {
            "application/vnd.google.colaboratory.intrinsic+json": {
              "type": "string"
            },
            "text/plain": [
              "'งง'"
            ]
          },
          "metadata": {
            "tags": []
          },
          "execution_count": 26
        }
      ]
    },
    {
      "cell_type": "code",
      "metadata": {
        "colab": {
          "base_uri": "https://localhost:8080/"
        },
        "id": "a_1Lqk9cqZaj",
        "outputId": "288ec82e-9c87-4279-e070-75befa1dabe4"
      },
      "source": [
        "list_c = list()\r\n",
        "print(list_c)"
      ],
      "execution_count": 27,
      "outputs": [
        {
          "output_type": "stream",
          "text": [
            "[]\n"
          ],
          "name": "stdout"
        }
      ]
    },
    {
      "cell_type": "markdown",
      "metadata": {
        "id": "x1IVKJbDqpbT"
      },
      "source": [
        "# append() เพิ่มสมาชิกใน list "
      ]
    },
    {
      "cell_type": "code",
      "metadata": {
        "colab": {
          "base_uri": "https://localhost:8080/"
        },
        "id": "ZcTXyrHJqwvL",
        "outputId": "b33dd3a1-06d6-4559-c070-987615a84de3"
      },
      "source": [
        "list_b.append('u')\r\n",
        "print(list_b)"
      ],
      "execution_count": 28,
      "outputs": [
        {
          "output_type": "stream",
          "text": [
            "[111, 'c', 'งง', 1092, 'u']\n"
          ],
          "name": "stdout"
        }
      ]
    },
    {
      "cell_type": "markdown",
      "metadata": {
        "id": "sifT5m69q8an"
      },
      "source": [
        "ตัวที่อยู่ในวงเล็บหลังจากตัวแปร list เรียกว่า index ใช้สำหรับชี้ข้อมูลใน list \r\n",
        "(ชี้จากข้างหน้า,ชี้จากข้างหลัง)\r\n",
        "0 คือสมาชิกตัวแรก , -1 คือสมาชิกตัวสุดท้าย"
      ]
    },
    {
      "cell_type": "code",
      "metadata": {
        "colab": {
          "base_uri": "https://localhost:8080/",
          "height": 35
        },
        "id": "1QlH0zePr3Yy",
        "outputId": "81661a15-e93e-4b50-8d76-66ad82f0414d"
      },
      "source": [
        "list_b[-1]"
      ],
      "execution_count": 29,
      "outputs": [
        {
          "output_type": "execute_result",
          "data": {
            "application/vnd.google.colaboratory.intrinsic+json": {
              "type": "string"
            },
            "text/plain": [
              "'u'"
            ]
          },
          "metadata": {
            "tags": []
          },
          "execution_count": 29
        }
      ]
    },
    {
      "cell_type": "markdown",
      "metadata": {
        "id": "kgZ6PpeisEhy"
      },
      "source": [
        "# String > list of characters"
      ]
    },
    {
      "cell_type": "code",
      "metadata": {
        "colab": {
          "base_uri": "https://localhost:8080/"
        },
        "id": "es5JzCmRsOaq",
        "outputId": "883328b3-fe08-4652-aff1-fd8f2662812a"
      },
      "source": [
        "t = 'python is easy'\r\n",
        "print(t)"
      ],
      "execution_count": 30,
      "outputs": [
        {
          "output_type": "stream",
          "text": [
            "python is easy\n"
          ],
          "name": "stdout"
        }
      ]
    },
    {
      "cell_type": "code",
      "metadata": {
        "colab": {
          "base_uri": "https://localhost:8080/",
          "height": 35
        },
        "id": "nJljds74slkO",
        "outputId": "9b0b18bd-8af8-4e5a-a9cf-2da43be05c86"
      },
      "source": [
        "t[1]\r\n"
      ],
      "execution_count": 31,
      "outputs": [
        {
          "output_type": "execute_result",
          "data": {
            "application/vnd.google.colaboratory.intrinsic+json": {
              "type": "string"
            },
            "text/plain": [
              "'y'"
            ]
          },
          "metadata": {
            "tags": []
          },
          "execution_count": 31
        }
      ]
    },
    {
      "cell_type": "code",
      "metadata": {
        "colab": {
          "base_uri": "https://localhost:8080/",
          "height": 35
        },
        "id": "3CBLxf9yssgS",
        "outputId": "5263f7c5-d022-4275-e657-104fb770318d"
      },
      "source": [
        "t[-4]"
      ],
      "execution_count": 32,
      "outputs": [
        {
          "output_type": "execute_result",
          "data": {
            "application/vnd.google.colaboratory.intrinsic+json": {
              "type": "string"
            },
            "text/plain": [
              "'e'"
            ]
          },
          "metadata": {
            "tags": []
          },
          "execution_count": 32
        }
      ]
    },
    {
      "cell_type": "code",
      "metadata": {
        "colab": {
          "base_uri": "https://localhost:8080/",
          "height": 35
        },
        "id": "h1zl7X11szkE",
        "outputId": "1a79b8d0-7cec-473e-836e-cb2dd6d91340"
      },
      "source": [
        "t[6]"
      ],
      "execution_count": 33,
      "outputs": [
        {
          "output_type": "execute_result",
          "data": {
            "application/vnd.google.colaboratory.intrinsic+json": {
              "type": "string"
            },
            "text/plain": [
              "' '"
            ]
          },
          "metadata": {
            "tags": []
          },
          "execution_count": 33
        }
      ]
    },
    {
      "cell_type": "markdown",
      "metadata": {
        "id": "ko82ZFNFs3YY"
      },
      "source": [
        "#จบ 5 มค 2021"
      ]
    },
    {
      "cell_type": "markdown",
      "metadata": {
        "id": "JG48R6jyk2ln"
      },
      "source": [
        "#คาบ 3 11 มค 2021"
      ]
    },
    {
      "cell_type": "code",
      "metadata": {
        "colab": {
          "base_uri": "https://localhost:8080/"
        },
        "id": "DpL5MzWLk8-c",
        "outputId": "ea8ed237-af49-4519-9318-c56ba530612c"
      },
      "source": [
        "len(t)"
      ],
      "execution_count": 34,
      "outputs": [
        {
          "output_type": "execute_result",
          "data": {
            "text/plain": [
              "14"
            ]
          },
          "metadata": {
            "tags": []
          },
          "execution_count": 34
        }
      ]
    },
    {
      "cell_type": "markdown",
      "metadata": {
        "id": "_P9yAIDZmDAE"
      },
      "source": [
        "ตัวที่อยู่ข้างใน [ ] เราเรียกว่า index (ตัวชี้) "
      ]
    },
    {
      "cell_type": "markdown",
      "metadata": {
        "id": "nXuN1PIXmSGK"
      },
      "source": [
        "###List slicing สามารถทำได้โดย ใช้ colon :\r\n",
        "\r\n",
        "[a:b] -> [a,b)"
      ]
    },
    {
      "cell_type": "code",
      "metadata": {
        "colab": {
          "base_uri": "https://localhost:8080/"
        },
        "id": "dgaqcB-Cm0G0",
        "outputId": "c9051d56-0e9b-4073-b5b2-1fdbe4084a70"
      },
      "source": [
        "print(t)\r\n",
        "print(t[7:9])\r\n",
        "print(len(t[7:9]))"
      ],
      "execution_count": 35,
      "outputs": [
        {
          "output_type": "stream",
          "text": [
            "python is easy\n",
            "is\n",
            "2\n"
          ],
          "name": "stdout"
        }
      ]
    },
    {
      "cell_type": "code",
      "metadata": {
        "colab": {
          "base_uri": "https://localhost:8080/",
          "height": 35
        },
        "id": "iX-wy258n_AE",
        "outputId": "b1b345bc-f7dc-4de1-a446-170ef49ed118"
      },
      "source": [
        "t[0:14:2]  #เริ่มตัวที่ 0 โดยหยิบทุกๆ 2 ตัว จนครบ 14 ตัว"
      ],
      "execution_count": 36,
      "outputs": [
        {
          "output_type": "execute_result",
          "data": {
            "application/vnd.google.colaboratory.intrinsic+json": {
              "type": "string"
            },
            "text/plain": [
              "'pto ses'"
            ]
          },
          "metadata": {
            "tags": []
          },
          "execution_count": 36
        }
      ]
    },
    {
      "cell_type": "code",
      "metadata": {
        "colab": {
          "base_uri": "https://localhost:8080/"
        },
        "id": "3J9v_WVUoJmt",
        "outputId": "eb8fe70c-549e-4a9a-d371-ef8f1568b8d3"
      },
      "source": [
        "z= [1,2,3,4,5,6,7,8,9,10]\r\n",
        "print(z[1:10:2]) \r\n"
      ],
      "execution_count": 37,
      "outputs": [
        {
          "output_type": "stream",
          "text": [
            "[2, 4, 6, 8, 10]\n"
          ],
          "name": "stdout"
        }
      ]
    },
    {
      "cell_type": "markdown",
      "metadata": {
        "id": "2z6B_579oUtH"
      },
      "source": [
        "### quiz\r\n",
        "ให้ใช้ list slicing เลือกมาเฉพาะเลขคู่"
      ]
    },
    {
      "cell_type": "markdown",
      "metadata": {
        "id": "pt6zVlW3nbto"
      },
      "source": [
        "*   ถ้าเว้นว่างหน้า : หมายความว่า เริ่มตั้งแต่ตัวแรก (0)\r\n",
        "*   ถ้าเว้นว่างหลัง : หมายความว่า ไปจนถึงตัวสุดท้าย (len(list)\r\n",
        "\r\n",
        "\r\n",
        "\r\n"
      ]
    },
    {
      "cell_type": "code",
      "metadata": {
        "colab": {
          "base_uri": "https://localhost:8080/"
        },
        "id": "_CQEta0OpNCe",
        "outputId": "9f59e87c-7091-421c-87dc-f1ab81608b49"
      },
      "source": [
        "print(t)\r\n",
        "print(t[:6]) #เอาตั้งแต่ตัวแรกถึง 6\r\n",
        "print(t[10:])\r\n",
        "print(t[-4:])\r\n",
        "print(t[:])"
      ],
      "execution_count": 38,
      "outputs": [
        {
          "output_type": "stream",
          "text": [
            "python is easy\n",
            "python\n",
            "easy\n",
            "easy\n",
            "python is easy\n"
          ],
          "name": "stdout"
        }
      ]
    },
    {
      "cell_type": "code",
      "metadata": {
        "id": "3h5kLv3Cp8ID",
        "colab": {
          "base_uri": "https://localhost:8080/"
        },
        "outputId": "c686bfe4-7058-41ba-9488-ed7d6d9d65b8"
      },
      "source": [
        "print(z[::2]) # :"
      ],
      "execution_count": 39,
      "outputs": [
        {
          "output_type": "stream",
          "text": [
            "[1, 3, 5, 7, 9]\n"
          ],
          "name": "stdout"
        }
      ]
    },
    {
      "cell_type": "markdown",
      "metadata": {
        "id": "X47FEvjMp_C9"
      },
      "source": [
        "###เราสามารถเอา list มาต่อกันได้ด้วย + "
      ]
    },
    {
      "cell_type": "code",
      "metadata": {
        "id": "rcX9lcAOqYGa",
        "colab": {
          "base_uri": "https://localhost:8080/",
          "height": 35
        },
        "outputId": "b1d67b97-f337-45af-b634-12e0865848d2"
      },
      "source": [
        "t + '??'"
      ],
      "execution_count": 40,
      "outputs": [
        {
          "output_type": "execute_result",
          "data": {
            "application/vnd.google.colaboratory.intrinsic+json": {
              "type": "string"
            },
            "text/plain": [
              "'python is easy??'"
            ]
          },
          "metadata": {
            "tags": []
          },
          "execution_count": 40
        }
      ]
    },
    {
      "cell_type": "code",
      "metadata": {
        "id": "t-hW5vjtsCA7",
        "colab": {
          "base_uri": "https://localhost:8080/",
          "height": 130
        },
        "outputId": "8d4fccc4-168c-4847-f187-9d7589a4d7d8"
      },
      "source": [
        "t + list b #ไม่สามารถเอา list ปกติมาต่อกับ string ได้"
      ],
      "execution_count": 41,
      "outputs": [
        {
          "output_type": "error",
          "ename": "SyntaxError",
          "evalue": "ignored",
          "traceback": [
            "\u001b[0;36m  File \u001b[0;32m\"<ipython-input-41-095d80b13056>\"\u001b[0;36m, line \u001b[0;32m1\u001b[0m\n\u001b[0;31m    t + list b #ไม่สามารถเอา list ปกติมาต่อกับ string ได้\u001b[0m\n\u001b[0m             ^\u001b[0m\n\u001b[0;31mSyntaxError\u001b[0m\u001b[0;31m:\u001b[0m invalid syntax\n"
          ]
        }
      ]
    },
    {
      "cell_type": "code",
      "metadata": {
        "id": "V-9Puqh3sQnS",
        "colab": {
          "base_uri": "https://localhost:8080/"
        },
        "outputId": "71e729d4-5603-47a6-ef1f-5f8f0eb3356b"
      },
      "source": [
        "print(list_a)\r\n",
        "list_b=[111, 'c','งง', aaa]\r\n",
        "print(list_b)\r\n",
        "print(list_b + list_a) # + คือเอาสมาชิกมารวมกัน\r\n"
      ],
      "execution_count": 42,
      "outputs": [
        {
          "output_type": "stream",
          "text": [
            "[]\n",
            "[111, 'c', 'งง', 1092]\n",
            "[111, 'c', 'งง', 1092]\n"
          ],
          "name": "stdout"
        }
      ]
    },
    {
      "cell_type": "code",
      "metadata": {
        "id": "fBEqSRUrtC5s",
        "colab": {
          "base_uri": "https://localhost:8080/"
        },
        "outputId": "5a23f60d-1141-48b2-b34e-bea10b7d4f19"
      },
      "source": [
        "list_b.append(list_a)\r\n",
        "print(list_b)"
      ],
      "execution_count": 43,
      "outputs": [
        {
          "output_type": "stream",
          "text": [
            "[111, 'c', 'งง', 1092, []]\n"
          ],
          "name": "stdout"
        }
      ]
    },
    {
      "cell_type": "markdown",
      "metadata": {
        "id": "2efRWpFSuX6F"
      },
      "source": [
        "##การแบ่ง string ตามสัญลักษณ์ที่กำหนด -> split string\r\n"
      ]
    },
    {
      "cell_type": "code",
      "metadata": {
        "id": "BR5bqzlJulTx",
        "colab": {
          "base_uri": "https://localhost:8080/",
          "height": 35
        },
        "outputId": "b0c78ac5-d958-4880-c2ee-a89ed52a88c7"
      },
      "source": [
        "t"
      ],
      "execution_count": 44,
      "outputs": [
        {
          "output_type": "execute_result",
          "data": {
            "application/vnd.google.colaboratory.intrinsic+json": {
              "type": "string"
            },
            "text/plain": [
              "'python is easy'"
            ]
          },
          "metadata": {
            "tags": []
          },
          "execution_count": 44
        }
      ]
    },
    {
      "cell_type": "code",
      "metadata": {
        "id": "18Blq4umun4C",
        "colab": {
          "base_uri": "https://localhost:8080/"
        },
        "outputId": "feec97a4-e3b6-429f-93eb-327e0bc25885"
      },
      "source": [
        "t.split(' ')"
      ],
      "execution_count": 45,
      "outputs": [
        {
          "output_type": "execute_result",
          "data": {
            "text/plain": [
              "['python', 'is', 'easy']"
            ]
          },
          "metadata": {
            "tags": []
          },
          "execution_count": 45
        }
      ]
    },
    {
      "cell_type": "code",
      "metadata": {
        "id": "WgOvSwkavJ4D"
      },
      "source": [
        "time = '12:30:15'"
      ],
      "execution_count": 46,
      "outputs": []
    },
    {
      "cell_type": "code",
      "metadata": {
        "id": "yx5_Kv5RvjnR",
        "colab": {
          "base_uri": "https://localhost:8080/"
        },
        "outputId": "f4392830-fb01-435f-ab91-f4c5ef49e434"
      },
      "source": [
        "time.split(' : ')"
      ],
      "execution_count": 47,
      "outputs": [
        {
          "output_type": "execute_result",
          "data": {
            "text/plain": [
              "['12:30:15']"
            ]
          },
          "metadata": {
            "tags": []
          },
          "execution_count": 47
        }
      ]
    },
    {
      "cell_type": "code",
      "metadata": {
        "id": "ffGAZy2IwOPC",
        "colab": {
          "base_uri": "https://localhost:8080/"
        },
        "outputId": "86e4d3cb-1991-4709-beab-fd4bc04539d0"
      },
      "source": [
        "t_sp = t.split(' ')\r\n",
        "print(t_sp)\r\n",
        "## วิธีรวมกลับ\r\n",
        "print(' : '.join(t_sp))"
      ],
      "execution_count": 48,
      "outputs": [
        {
          "output_type": "stream",
          "text": [
            "['python', 'is', 'easy']\n",
            "python : is : easy\n"
          ],
          "name": "stdout"
        }
      ]
    },
    {
      "cell_type": "code",
      "metadata": {
        "id": "rxYTuvCuxStE",
        "colab": {
          "base_uri": "https://localhost:8080/"
        },
        "outputId": "abf6d766-dd76-48b5-cca1-c1113a9aec62"
      },
      "source": [
        "## วิธีรวมกลับ\r\n",
        "print(' : '.join(t_sp))"
      ],
      "execution_count": 49,
      "outputs": [
        {
          "output_type": "stream",
          "text": [
            "python : is : easy\n"
          ],
          "name": "stdout"
        }
      ]
    },
    {
      "cell_type": "markdown",
      "metadata": {
        "id": "C8DQU1C8x_SQ"
      },
      "source": [
        "### HW คำนวณเวลาเป็นวินาทีของเวลาต่อไปนี้โดยใช้คำสั่ง split ช่วย (print ออกมาให้สวยงาม)\r\n",
        "12:30:15\r\n",
        "\r\n",
        "13:41:07\r\n",
        "\r\n",
        "12:53:15\r\n",
        "\r\n",
        "00:59:25\r\n",
        "\r\n",
        "11:11:11\r\n",
        "\r\n",
        "16:06:09\r\n",
        "\r\n",
        "21:12:30\r\n",
        "\r\n",
        "10:06:15\r\n",
        "\r\n",
        "ตัวอย่าง > 00:01:10 = 70 วินาที\r\n",
        "\r\n",
        "ตัวอย่าง > 10:00:01= 3601 วินาที"
      ]
    },
    {
      "cell_type": "code",
      "metadata": {
        "id": "hi4hz1fDOl1S"
      },
      "source": [
        "q1 = '12:30:15'"
      ],
      "execution_count": 59,
      "outputs": []
    },
    {
      "cell_type": "code",
      "metadata": {
        "colab": {
          "base_uri": "https://localhost:8080/"
        },
        "id": "NbU6MPQfOuq6",
        "outputId": "fb44d8b4-d5f0-42b2-bb08-c72f528e386a"
      },
      "source": [
        "q1_sp = q1.split(':')\r\n",
        "print(q1_sp)"
      ],
      "execution_count": 60,
      "outputs": [
        {
          "output_type": "stream",
          "text": [
            "['12', '30', '15']\n"
          ],
          "name": "stdout"
        }
      ]
    },
    {
      "cell_type": "code",
      "metadata": {
        "colab": {
          "base_uri": "https://localhost:8080/"
        },
        "id": "kH9KRfAOO_8M",
        "outputId": "a9afbbd3-24ab-4867-9035-68f7d83e477b"
      },
      "source": [
        "answer1 = int(q1_sp[0]) * 3600 + int(q1_sp[1]) * 60 + int(q1_sp[2])  #เปลี่ยน string เป็น int ก่อน\r\n",
        "print(answer1)"
      ],
      "execution_count": 66,
      "outputs": [
        {
          "output_type": "stream",
          "text": [
            "45015\n"
          ],
          "name": "stdout"
        }
      ]
    },
    {
      "cell_type": "code",
      "metadata": {
        "id": "MzLvzyQFPWRc"
      },
      "source": [
        ""
      ],
      "execution_count": null,
      "outputs": []
    },
    {
      "cell_type": "code",
      "metadata": {
        "colab": {
          "base_uri": "https://localhost:8080/"
        },
        "id": "xlCdAUJitmzr",
        "outputId": "2e74a3f0-0eeb-47a7-fc93-dd83cdc53085"
      },
      "source": [
        "q1= '12:30:15'\r\n",
        "q1.split(':')\r\n",
        "list_q1 = [12,30,15]\r\n",
        "h1 = list_q1[0]*3600\r\n",
        "m1 = list_q1[1]*60\r\n",
        "s1 = list_q1[2]\r\n",
        "aq1 = h1+m1+s1\r\n",
        "print(f'แปลงเป็นวินาทีได้เป็น {aq1} วินาที')"
      ],
      "execution_count": 50,
      "outputs": [
        {
          "output_type": "stream",
          "text": [
            "แปลงเป็นวินาทีได้เป็น 45015 วินาที\n"
          ],
          "name": "stdout"
        }
      ]
    },
    {
      "cell_type": "code",
      "metadata": {
        "colab": {
          "base_uri": "https://localhost:8080/"
        },
        "id": "H4OBooYNvgID",
        "outputId": "87fc449b-4681-4367-daeb-ce00e2c078f0"
      },
      "source": [
        "q2= '13:41:07'\r\n",
        "q2.split(':')\r\n",
        "list_q2 = [13,41,7]\r\n",
        "h2 = list_q2[0]*3600\r\n",
        "m2 = list_q2[1]*60\r\n",
        "s2 = list_q2[2]\r\n",
        "aq2 = h2+m2+s2\r\n",
        "print(f'แปลงเป็นวินาทีได้เป็น {aq2} วินาที')"
      ],
      "execution_count": 51,
      "outputs": [
        {
          "output_type": "stream",
          "text": [
            "แปลงเป็นวินาทีได้เป็น 49267 วินาที\n"
          ],
          "name": "stdout"
        }
      ]
    },
    {
      "cell_type": "code",
      "metadata": {
        "colab": {
          "base_uri": "https://localhost:8080/"
        },
        "id": "oI2vA4UY0B4u",
        "outputId": "0d780899-b5fb-4f5a-e9b0-042c84f25fe3"
      },
      "source": [
        "q3= '12:53:15'\r\n",
        "q3.split(':')\r\n",
        "list_q3 = [12,53,15]\r\n",
        "h3 = list_q3[0]*3600\r\n",
        "m3 = list_q3[1]*60\r\n",
        "s3 = list_q3[2]\r\n",
        "aq3 = h3+m3+s3\r\n",
        "print(f'แปลงเป็นวินาทีได้เป็น {aq3} วินาที')"
      ],
      "execution_count": 52,
      "outputs": [
        {
          "output_type": "stream",
          "text": [
            "แปลงเป็นวินาทีได้เป็น 46395 วินาที\n"
          ],
          "name": "stdout"
        }
      ]
    },
    {
      "cell_type": "code",
      "metadata": {
        "colab": {
          "base_uri": "https://localhost:8080/"
        },
        "id": "71Jr6sriw4sP",
        "outputId": "b1e31720-a91b-4eb0-ab46-4f4e06f68911"
      },
      "source": [
        "q4= '00:59:25'\r\n",
        "q4.split(':')\r\n",
        "list_q4 = [00,59,25]\r\n",
        "h4 = list_q4[0]*3600\r\n",
        "m4 = list_q4[1]*60\r\n",
        "s4 = list_q4[2]\r\n",
        "aq4 = h4+m4+s4\r\n",
        "print(f'แปลงเป็นวินาทีได้เป็น {aq4} วินาที')"
      ],
      "execution_count": 53,
      "outputs": [
        {
          "output_type": "stream",
          "text": [
            "แปลงเป็นวินาทีได้เป็น 3565 วินาที\n"
          ],
          "name": "stdout"
        }
      ]
    },
    {
      "cell_type": "code",
      "metadata": {
        "colab": {
          "base_uri": "https://localhost:8080/"
        },
        "id": "2H-Kc6h-xnc0",
        "outputId": "c7319e65-2bcb-4790-b405-68b17e5cae3f"
      },
      "source": [
        "q5= '11:11:11'\r\n",
        "q5.split(':')\r\n",
        "list_q5 = [11,11,11]\r\n",
        "h5 = list_q5[0]*3600\r\n",
        "m5 = list_q5[1]*60\r\n",
        "s5 = list_q5[2]\r\n",
        "aq5 = h5+m5+s5\r\n",
        "print(f'แปลงเป็นวินาทีได้เป็น {aq5} วินาที')"
      ],
      "execution_count": 54,
      "outputs": [
        {
          "output_type": "stream",
          "text": [
            "แปลงเป็นวินาทีได้เป็น 40271 วินาที\n"
          ],
          "name": "stdout"
        }
      ]
    },
    {
      "cell_type": "code",
      "metadata": {
        "colab": {
          "base_uri": "https://localhost:8080/"
        },
        "id": "L7eD93WLxphu",
        "outputId": "0d4e8428-1df4-48b5-f530-922aa17687f4"
      },
      "source": [
        "q6= '16:06:09'\r\n",
        "q6.split(':')\r\n",
        "list_q6 = [16,6,9]\r\n",
        "h6 = list_q6[0]*3600\r\n",
        "m6 = list_q6[1]*60\r\n",
        "s6 = list_q6[2]\r\n",
        "aq6 = h6+m6+s6\r\n",
        "print(f'แปลงเป็นวินาทีได้เป็น {aq6} วินาที')"
      ],
      "execution_count": 55,
      "outputs": [
        {
          "output_type": "stream",
          "text": [
            "แปลงเป็นวินาทีได้เป็น 57969 วินาที\n"
          ],
          "name": "stdout"
        }
      ]
    },
    {
      "cell_type": "code",
      "metadata": {
        "colab": {
          "base_uri": "https://localhost:8080/"
        },
        "id": "A6gWziSyxqXk",
        "outputId": "32154101-3d2e-4f75-f21e-91be8f6bb8a8"
      },
      "source": [
        "q7= '21:12:30'\r\n",
        "q7.split(':')\r\n",
        "list_q7 = [21,12,30]\r\n",
        "h7 = list_q7[0]*3600\r\n",
        "m7 = list_q7[1]*60\r\n",
        "s7 = list_q7[2]\r\n",
        "aq7 = h7+m7+s7\r\n",
        "print(f'แปลงเป็นวินาทีได้เป็น {aq7} วินาที')"
      ],
      "execution_count": 57,
      "outputs": [
        {
          "output_type": "stream",
          "text": [
            "แปลงเป็นวินาทีได้เป็น 76350 วินาที\n"
          ],
          "name": "stdout"
        }
      ]
    },
    {
      "cell_type": "code",
      "metadata": {
        "colab": {
          "base_uri": "https://localhost:8080/"
        },
        "id": "Hc-UGMJDxrE_",
        "outputId": "fbe90ba8-ce33-43a4-c282-4ce518874018"
      },
      "source": [
        "q8= '10:06:15'\r\n",
        "q8.split(':')\r\n",
        "list_q8 = [10,6,15]\r\n",
        "h8 = list_q8[0]*3600\r\n",
        "m8 = list_q8[1]*60\r\n",
        "s8 = list_q8[2]\r\n",
        "aq8 = h8+m8+s8\r\n",
        "print(f'แปลงเป็นวินาทีได้เป็น {aq8} วินาที')"
      ],
      "execution_count": 58,
      "outputs": [
        {
          "output_type": "stream",
          "text": [
            "แปลงเป็นวินาทีได้เป็น 36375 วินาที\n"
          ],
          "name": "stdout"
        }
      ]
    }
  ]
}