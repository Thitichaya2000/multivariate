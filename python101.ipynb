{
  "nbformat": 4,
  "nbformat_minor": 0,
  "metadata": {
    "colab": {
      "name": "python101.ipynb",
      "provenance": [],
      "collapsed_sections": [],
      "authorship_tag": "ABX9TyMnvamFtWPde1IbKsCIrLs0",
      "include_colab_link": true
    },
    "kernelspec": {
      "name": "python3",
      "display_name": "Python 3"
    }
  },
  "cells": [
    {
      "cell_type": "markdown",
      "metadata": {
        "id": "view-in-github",
        "colab_type": "text"
      },
      "source": [
        "<a href=\"https://colab.research.google.com/github/Thitichaya2000/multivariate/blob/main/python101.ipynb\" target=\"_parent\"><img src=\"https://colab.research.google.com/assets/colab-badge.svg\" alt=\"Open In Colab\"/></a>"
      ]
    },
    {
      "cell_type": "markdown",
      "metadata": {
        "id": "DsCCfnweLrhb"
      },
      "source": [
        "# ตัวแปร varible "
      ]
    },
    {
      "cell_type": "markdown",
      "metadata": {
        "id": "X4fRXqyiMcwh"
      },
      "source": [
        "หลักการตั้งชื่อตัวแปรเบื้องต้น\r\n",
        "\r\n",
        "1.   ตั้งให้สื่อ\r\n",
        "2.   ภาษาอังกฤษ\r\n",
        "3.   ใช้ตัวเลขได้แต่ห้ามขึ้นต้นด้วยตัวเลข\r\n",
        "4.   ห้ามเว้นวรรค\r\n",
        "5.   ตัวเลขกับตัวใหญ่ไม่เหมือนกัน\r\n",
        "\r\n",
        "\r\n",
        "\r\n"
      ]
    },
    {
      "cell_type": "markdown",
      "metadata": {
        "id": "0SXS5u5dN7Qb"
      },
      "source": [
        "มี output 2 mode : ออกหน้าจอ กับ เข้าไปเก็บในตัวแปร"
      ]
    },
    {
      "cell_type": "code",
      "metadata": {
        "colab": {
          "base_uri": "https://localhost:8080/"
        },
        "id": "zUmXY8N7NKDp",
        "outputId": "b80c9b47-7207-427b-d253-15aeac619f5f"
      },
      "source": [
        "3.1459 # hashtag หรือ shap # คือ comment >>> อันนี้คือ output ที่ออกหน้าจอ"
      ],
      "execution_count": 1,
      "outputs": [
        {
          "output_type": "execute_result",
          "data": {
            "text/plain": [
              "3.1459"
            ]
          },
          "metadata": {
            "tags": []
          },
          "execution_count": 1
        }
      ]
    },
    {
      "cell_type": "code",
      "metadata": {
        "id": "0r_xMPMpOXpb"
      },
      "source": [
        "Pi = 3.1459 # อันนี้คือ output ที่เข้าไปอยู่ในตัวแปร "
      ],
      "execution_count": 2,
      "outputs": []
    },
    {
      "cell_type": "code",
      "metadata": {
        "colab": {
          "base_uri": "https://localhost:8080/"
        },
        "id": "lfA7E9YpOdzZ",
        "outputId": "c8a32cd4-4c99-4d4d-c073-b3d60c3fe4b6"
      },
      "source": [
        "Pi"
      ],
      "execution_count": 3,
      "outputs": [
        {
          "output_type": "execute_result",
          "data": {
            "text/plain": [
              "3.1459"
            ]
          },
          "metadata": {
            "tags": []
          },
          "execution_count": 3
        }
      ]
    },
    {
      "cell_type": "code",
      "metadata": {
        "colab": {
          "base_uri": "https://localhost:8080/"
        },
        "id": "DVSkFL6MOemD",
        "outputId": "f0650d88-00f4-48f2-b7de-ceb9bc730684"
      },
      "source": [
        "a = 1234567\r\n",
        "print(a)"
      ],
      "execution_count": 4,
      "outputs": [
        {
          "output_type": "stream",
          "text": [
            "1234567\n"
          ],
          "name": "stdout"
        }
      ]
    },
    {
      "cell_type": "markdown",
      "metadata": {
        "id": "1tv33KeMOyDx"
      },
      "source": [
        "# ชนิดของตัวแปร 3 ชนิด \r\n"
      ]
    },
    {
      "cell_type": "markdown",
      "metadata": {
        "id": "CZqjSjjmO4WR"
      },
      "source": [
        "## จำนวนเต็ม (integer,int)"
      ]
    },
    {
      "cell_type": "code",
      "metadata": {
        "colab": {
          "base_uri": "https://localhost:8080/"
        },
        "id": "Kvrx6SoDPGqG",
        "outputId": "6ab9537e-64da-4fd3-d7f0-d64ec2dff329"
      },
      "source": [
        "aaa = 1092\r\n",
        "print(aaa)"
      ],
      "execution_count": 5,
      "outputs": [
        {
          "output_type": "stream",
          "text": [
            "1092\n"
          ],
          "name": "stdout"
        }
      ]
    },
    {
      "cell_type": "markdown",
      "metadata": {
        "id": "tOLmp_8JPLgR"
      },
      "source": [
        "# จำนวนจริง (float)"
      ]
    },
    {
      "cell_type": "code",
      "metadata": {
        "colab": {
          "base_uri": "https://localhost:8080/"
        },
        "id": "X_A6CkX9PUwL",
        "outputId": "bed2f065-3143-4962-b1fc-eb1fc0c845d6"
      },
      "source": [
        "bbb = 11.\r\n",
        "print(bbb)"
      ],
      "execution_count": 6,
      "outputs": [
        {
          "output_type": "stream",
          "text": [
            "11.0\n"
          ],
          "name": "stdout"
        }
      ]
    },
    {
      "cell_type": "markdown",
      "metadata": {
        "id": "E4GK5uEqPZKs"
      },
      "source": [
        "## ตัวอักษร-ข้อความ (character และ text, string)"
      ]
    },
    {
      "cell_type": "markdown",
      "metadata": {
        "id": "B_JSPjV3MjIb"
      },
      "source": [
        ""
      ]
    },
    {
      "cell_type": "code",
      "metadata": {
        "colab": {
          "base_uri": "https://localhost:8080/"
        },
        "id": "vp7Bf5_ZPuU2",
        "outputId": "d40f095c-65cf-4459-a7f4-91ee59434c0c"
      },
      "source": [
        "ccc = '123456' # เราใช้ single quote ' หรือ double quote ' ล้อมรอบตัวหนังสือเพื่อระบุว่เป็น character-string\r\n",
        "print(ccc)"
      ],
      "execution_count": 7,
      "outputs": [
        {
          "output_type": "stream",
          "text": [
            "123456\n"
          ],
          "name": "stdout"
        }
      ]
    },
    {
      "cell_type": "code",
      "metadata": {
        "id": "ldBJrQUMQKNZ",
        "outputId": "aadf07ee-1b50-4835-ffe2-bb713e1bcaaa",
        "colab": {
          "base_uri": "https://localhost:8080/"
        }
      },
      "source": [
        "aaa + bbb # float + int = float "
      ],
      "execution_count": 8,
      "outputs": [
        {
          "output_type": "execute_result",
          "data": {
            "text/plain": [
              "1103.0"
            ]
          },
          "metadata": {
            "tags": []
          },
          "execution_count": 8
        }
      ]
    },
    {
      "cell_type": "code",
      "metadata": {
        "colab": {
          "base_uri": "https://localhost:8080/",
          "height": 163
        },
        "id": "R_KxFngXQduX",
        "outputId": "40093765-7648-40d1-efb3-ec644f806b39"
      },
      "source": [
        "bbb + ccc"
      ],
      "execution_count": 9,
      "outputs": [
        {
          "output_type": "error",
          "ename": "TypeError",
          "evalue": "ignored",
          "traceback": [
            "\u001b[0;31m---------------------------------------------------------------------------\u001b[0m",
            "\u001b[0;31mTypeError\u001b[0m                                 Traceback (most recent call last)",
            "\u001b[0;32m<ipython-input-9-a3916046ad1c>\u001b[0m in \u001b[0;36m<module>\u001b[0;34m()\u001b[0m\n\u001b[0;32m----> 1\u001b[0;31m \u001b[0mbbb\u001b[0m \u001b[0;34m+\u001b[0m \u001b[0mccc\u001b[0m\u001b[0;34m\u001b[0m\u001b[0;34m\u001b[0m\u001b[0m\n\u001b[0m",
            "\u001b[0;31mTypeError\u001b[0m: unsupported operand type(s) for +: 'float' and 'str'"
          ]
        }
      ]
    },
    {
      "cell_type": "code",
      "metadata": {
        "colab": {
          "base_uri": "https://localhost:8080/"
        },
        "id": "7f0XfHu3Qmz9",
        "outputId": "ac5b3000-81c9-4c8a-8e9e-7f681d1eba86"
      },
      "source": [
        "ddd = 'ฐิติชญา'\r\n",
        "print(ddd)"
      ],
      "execution_count": 10,
      "outputs": [
        {
          "output_type": "stream",
          "text": [
            "ฐิติชญา\n"
          ],
          "name": "stdout"
        }
      ]
    },
    {
      "cell_type": "markdown",
      "metadata": {
        "id": "Uka6QKyTQvx6"
      },
      "source": [
        "# การเปลี่ยนชนิดของตัวแปร variable casting"
      ]
    },
    {
      "cell_type": "code",
      "metadata": {
        "colab": {
          "base_uri": "https://localhost:8080/"
        },
        "id": "GzaNbp6yQ-Hx",
        "outputId": "173c3db3-bd56-4ad8-f452-3afe255efb90"
      },
      "source": [
        "aaa + int(ccc)"
      ],
      "execution_count": 11,
      "outputs": [
        {
          "output_type": "execute_result",
          "data": {
            "text/plain": [
              "124548"
            ]
          },
          "metadata": {
            "tags": []
          },
          "execution_count": 11
        }
      ]
    },
    {
      "cell_type": "code",
      "metadata": {
        "colab": {
          "base_uri": "https://localhost:8080/"
        },
        "id": "eULjZYUQRneT",
        "outputId": "946b5786-fd2e-49a2-dbb2-9f6c782b3d1e"
      },
      "source": [
        "aaa + float(ccc)"
      ],
      "execution_count": 12,
      "outputs": [
        {
          "output_type": "execute_result",
          "data": {
            "text/plain": [
              "124548.0"
            ]
          },
          "metadata": {
            "tags": []
          },
          "execution_count": 12
        }
      ]
    },
    {
      "cell_type": "code",
      "metadata": {
        "colab": {
          "base_uri": "https://localhost:8080/",
          "height": 35
        },
        "id": "dy0FHuitUB78",
        "outputId": "8506120b-9ad1-4fc6-eef3-7cf6706dbe5b"
      },
      "source": [
        "str(aaa)"
      ],
      "execution_count": 13,
      "outputs": [
        {
          "output_type": "execute_result",
          "data": {
            "application/vnd.google.colaboratory.intrinsic+json": {
              "type": "string"
            },
            "text/plain": [
              "'1092'"
            ]
          },
          "metadata": {
            "tags": []
          },
          "execution_count": 13
        }
      ]
    },
    {
      "cell_type": "markdown",
      "metadata": {
        "id": "vYW80tPpl7TN"
      },
      "source": [
        "## การดำเนินการ Operation (Operators +,-,*,/,%)\r\n",
        "\r\n"
      ]
    },
    {
      "cell_type": "code",
      "metadata": {
        "colab": {
          "base_uri": "https://localhost:8080/",
          "height": 163
        },
        "id": "d7ixGEO0UL5d",
        "outputId": "137ed2cb-5e24-48aa-92ce-b5833718676e"
      },
      "source": [
        "a+b"
      ],
      "execution_count": 14,
      "outputs": [
        {
          "output_type": "error",
          "ename": "NameError",
          "evalue": "ignored",
          "traceback": [
            "\u001b[0;31m---------------------------------------------------------------------------\u001b[0m",
            "\u001b[0;31mNameError\u001b[0m                                 Traceback (most recent call last)",
            "\u001b[0;32m<ipython-input-14-ca730b97bf8a>\u001b[0m in \u001b[0;36m<module>\u001b[0;34m()\u001b[0m\n\u001b[0;32m----> 1\u001b[0;31m \u001b[0ma\u001b[0m\u001b[0;34m+\u001b[0m\u001b[0mb\u001b[0m\u001b[0;34m\u001b[0m\u001b[0;34m\u001b[0m\u001b[0m\n\u001b[0m",
            "\u001b[0;31mNameError\u001b[0m: name 'b' is not defined"
          ]
        }
      ]
    },
    {
      "cell_type": "code",
      "metadata": {
        "colab": {
          "base_uri": "https://localhost:8080/"
        },
        "id": "pBahLajFmmiy",
        "outputId": "524284ab-3c1d-4506-ab01-eb8ab37f9e4f"
      },
      "source": [
        "aaa+bbb"
      ],
      "execution_count": 15,
      "outputs": [
        {
          "output_type": "execute_result",
          "data": {
            "text/plain": [
              "1103.0"
            ]
          },
          "metadata": {
            "tags": []
          },
          "execution_count": 15
        }
      ]
    },
    {
      "cell_type": "code",
      "metadata": {
        "colab": {
          "base_uri": "https://localhost:8080/"
        },
        "id": "d5hw6LBumqyY",
        "outputId": "ca197b7f-d780-4d70-e7e7-fb6c2cb3f2dd"
      },
      "source": [
        "aaa-bbb"
      ],
      "execution_count": 16,
      "outputs": [
        {
          "output_type": "execute_result",
          "data": {
            "text/plain": [
              "1081.0"
            ]
          },
          "metadata": {
            "tags": []
          },
          "execution_count": 16
        }
      ]
    },
    {
      "cell_type": "code",
      "metadata": {
        "colab": {
          "base_uri": "https://localhost:8080/"
        },
        "id": "ebJ-n-inmwHa",
        "outputId": "aff3e5a2-db03-41cc-d484-e7ba6e4af04c"
      },
      "source": [
        "ab = aaa*bbb\r\n",
        "print(ab)"
      ],
      "execution_count": 17,
      "outputs": [
        {
          "output_type": "stream",
          "text": [
            "12012.0\n"
          ],
          "name": "stdout"
        }
      ]
    },
    {
      "cell_type": "code",
      "metadata": {
        "colab": {
          "base_uri": "https://localhost:8080/"
        },
        "id": "xFNVqybqmuVh",
        "outputId": "bb5ad0b4-1a48-4c85-9346-ab580b1d22b7"
      },
      "source": [
        "ab+int(ccc)"
      ],
      "execution_count": 18,
      "outputs": [
        {
          "output_type": "execute_result",
          "data": {
            "text/plain": [
              "135468.0"
            ]
          },
          "metadata": {
            "tags": []
          },
          "execution_count": 18
        }
      ]
    },
    {
      "cell_type": "markdown",
      "metadata": {
        "id": "hvLMbsGrUMQJ"
      },
      "source": [
        "### % คือเครื่องหมาย modulo"
      ]
    },
    {
      "cell_type": "code",
      "metadata": {
        "colab": {
          "base_uri": "https://localhost:8080/"
        },
        "id": "I2nZfphDUcgm",
        "outputId": "0c9bea71-426d-4b77-fbec-04abcbe8861c"
      },
      "source": [
        "5%3"
      ],
      "execution_count": 19,
      "outputs": [
        {
          "output_type": "execute_result",
          "data": {
            "text/plain": [
              "2"
            ]
          },
          "metadata": {
            "tags": []
          },
          "execution_count": 19
        }
      ]
    },
    {
      "cell_type": "code",
      "metadata": {
        "colab": {
          "base_uri": "https://localhost:8080/"
        },
        "id": "BNU75CuoUfLC",
        "outputId": "4331bf58-64bb-416e-817c-6a65e373f3e5"
      },
      "source": [
        "7%3"
      ],
      "execution_count": 20,
      "outputs": [
        {
          "output_type": "execute_result",
          "data": {
            "text/plain": [
              "1"
            ]
          },
          "metadata": {
            "tags": []
          },
          "execution_count": 20
        }
      ]
    },
    {
      "cell_type": "markdown",
      "metadata": {
        "id": "WylYlXLdXc4D"
      },
      "source": [
        "## คำสั่ง print แบบพิเศษ (การ format string)"
      ]
    },
    {
      "cell_type": "code",
      "metadata": {
        "colab": {
          "base_uri": "https://localhost:8080/"
        },
        "id": "6Z6XkFbWXi4B",
        "outputId": "9d2bdac0-d52d-4b17-fc68-bc625a77acc1"
      },
      "source": [
        "print('ตัวแปร') # สิ่งที่อยู่ในวงเล็บคือ ตัวแปร และ string "
      ],
      "execution_count": 21,
      "outputs": [
        {
          "output_type": "stream",
          "text": [
            "ตัวแปร\n"
          ],
          "name": "stdout"
        }
      ]
    },
    {
      "cell_type": "code",
      "metadata": {
        "colab": {
          "base_uri": "https://localhost:8080/"
        },
        "id": "WtO6I9mwX07m",
        "outputId": "c47a44a6-0b21-44fd-fbeb-6eb0d0c2c3d6"
      },
      "source": [
        "print(f'% คือการหารเอาเศษ เช่น 7%3 = {7%3} ') # เพิ่ม f หน้า 'string' และใช้ {} ใส่ code"
      ],
      "execution_count": 22,
      "outputs": [
        {
          "output_type": "stream",
          "text": [
            "% คือการหารเอาเศษ เช่น 7%3 = 1 \n"
          ],
          "name": "stdout"
        }
      ]
    },
    {
      "cell_type": "code",
      "metadata": {
        "colab": {
          "base_uri": "https://localhost:8080/"
        },
        "id": "rSFL5iiJUwBo",
        "outputId": "a157bf70-2887-428b-913d-909f1cce2f00"
      },
      "source": [
        "print(f'% คือการหารเอาเศษ เช่น 7%3 = {7%3}  \\\r\n",
        "แต่ \\n/ คือการหารปกติ เช่น 7/3 = {7/3} \\\r\n",
        "และ\\n/ / คือการการเอาส่วน เช่น 7//3 {7//3} \\\r\n",
        "หรือ \\nใช้ int() เพื่อหารเอาส่วน เช่น int (7/3) = {int(7/3)} ' ) # \\n คือการขึ้นบรรทัดใหม่ \\ใช้ในการตัด code แต่คอมจะไม่เห็น"
      ],
      "execution_count": 23,
      "outputs": [
        {
          "output_type": "stream",
          "text": [
            "% คือการหารเอาเศษ เช่น 7%3 = 1  แต่ \n",
            "/ คือการหารปกติ เช่น 7/3 = 2.3333333333333335 และ\n",
            "/ / คือการการเอาส่วน เช่น 7//3 2 หรือ \n",
            "ใช้ int() เพื่อหารเอาส่วน เช่น int (7/3) = 2 \n"
          ],
          "name": "stdout"
        }
      ]
    },
    {
      "cell_type": "markdown",
      "metadata": {
        "id": "cz0LVUnmX-aY"
      },
      "source": [
        "# DATA STRUCTURE (โครงสร้างข้อมูล)"
      ]
    },
    {
      "cell_type": "markdown",
      "metadata": {
        "id": "mxo602mVYcbf"
      },
      "source": [
        "# List คือการเอาข้อมูลหลายๆตัวมาเรียงกัน"
      ]
    },
    {
      "cell_type": "markdown",
      "metadata": {
        "id": "TbcfeZwSYfX2"
      },
      "source": [
        "List สามารถสร้างได้ 2 แบบดังนี้"
      ]
    },
    {
      "cell_type": "markdown",
      "metadata": {
        "id": "6uTQ7JNMYsZE"
      },
      "source": [
        "# แบบที่ 1 > square brackets "
      ]
    },
    {
      "cell_type": "code",
      "metadata": {
        "colab": {
          "base_uri": "https://localhost:8080/"
        },
        "id": "JnYogs42Y45j",
        "outputId": "defeef47-de05-4f45-8486-94ffe32694f0"
      },
      "source": [
        "list_a = []\r\n",
        "print(list_a)"
      ],
      "execution_count": 24,
      "outputs": [
        {
          "output_type": "stream",
          "text": [
            "[]\n"
          ],
          "name": "stdout"
        }
      ]
    },
    {
      "cell_type": "code",
      "metadata": {
        "colab": {
          "base_uri": "https://localhost:8080/"
        },
        "id": "cSzptQYsZPgI",
        "outputId": "a2419f57-44de-4101-f9c6-8eda020683bb"
      },
      "source": [
        "list_b = [111,'c', 'งง', aaa]\r\n",
        "print(list_b)"
      ],
      "execution_count": 25,
      "outputs": [
        {
          "output_type": "stream",
          "text": [
            "[111, 'c', 'งง', 1092]\n"
          ],
          "name": "stdout"
        }
      ]
    },
    {
      "cell_type": "markdown",
      "metadata": {
        "id": "NiXZNZV8aIs4"
      },
      "source": [
        "# ลำดับที่อยู่ใน list มีความสำคัญ (ลำดับใน list เริ่มจาก 0,1,2,3,)"
      ]
    },
    {
      "cell_type": "code",
      "metadata": {
        "colab": {
          "base_uri": "https://localhost:8080/",
          "height": 35
        },
        "id": "M2egt7B2qSmS",
        "outputId": "7b2b4145-46eb-4717-c3d4-c62c4b00ce26"
      },
      "source": [
        "list_b[2]"
      ],
      "execution_count": 26,
      "outputs": [
        {
          "output_type": "execute_result",
          "data": {
            "application/vnd.google.colaboratory.intrinsic+json": {
              "type": "string"
            },
            "text/plain": [
              "'งง'"
            ]
          },
          "metadata": {
            "tags": []
          },
          "execution_count": 26
        }
      ]
    },
    {
      "cell_type": "code",
      "metadata": {
        "colab": {
          "base_uri": "https://localhost:8080/"
        },
        "id": "a_1Lqk9cqZaj",
        "outputId": "13e013e5-1b03-46b6-a180-3b76c8c21408"
      },
      "source": [
        "list_c = list()\r\n",
        "print(list_c)"
      ],
      "execution_count": 27,
      "outputs": [
        {
          "output_type": "stream",
          "text": [
            "[]\n"
          ],
          "name": "stdout"
        }
      ]
    },
    {
      "cell_type": "markdown",
      "metadata": {
        "id": "x1IVKJbDqpbT"
      },
      "source": [
        "# append() เพิ่มสมาชิกใน list "
      ]
    },
    {
      "cell_type": "code",
      "metadata": {
        "colab": {
          "base_uri": "https://localhost:8080/"
        },
        "id": "ZcTXyrHJqwvL",
        "outputId": "371a9dc3-6d1e-44a6-8b2c-e39f2767c992"
      },
      "source": [
        "list_b.append('u')\r\n",
        "print(list_b)"
      ],
      "execution_count": 28,
      "outputs": [
        {
          "output_type": "stream",
          "text": [
            "[111, 'c', 'งง', 1092, 'u']\n"
          ],
          "name": "stdout"
        }
      ]
    },
    {
      "cell_type": "markdown",
      "metadata": {
        "id": "sifT5m69q8an"
      },
      "source": [
        "ตัวที่อยู่ในวงเล็บหลังจากตัวแปร list เรียกว่า index ใช้สำหรับชี้ข้อมูลใน list \r\n",
        "(ชี้จากข้างหน้า,ชี้จากข้างหลัง)\r\n",
        "0 คือสมาชิกตัวแรก , -1 คือสมาชิกตัวสุดท้าย"
      ]
    },
    {
      "cell_type": "code",
      "metadata": {
        "colab": {
          "base_uri": "https://localhost:8080/",
          "height": 35
        },
        "id": "1QlH0zePr3Yy",
        "outputId": "6d368476-c627-4eee-ea4b-411aa002c1ea"
      },
      "source": [
        "list_b[-1]"
      ],
      "execution_count": 29,
      "outputs": [
        {
          "output_type": "execute_result",
          "data": {
            "application/vnd.google.colaboratory.intrinsic+json": {
              "type": "string"
            },
            "text/plain": [
              "'u'"
            ]
          },
          "metadata": {
            "tags": []
          },
          "execution_count": 29
        }
      ]
    },
    {
      "cell_type": "markdown",
      "metadata": {
        "id": "kgZ6PpeisEhy"
      },
      "source": [
        "# String > list of characters"
      ]
    },
    {
      "cell_type": "code",
      "metadata": {
        "colab": {
          "base_uri": "https://localhost:8080/"
        },
        "id": "es5JzCmRsOaq",
        "outputId": "2e820283-c186-4e71-dbfa-07ba6bd75daa"
      },
      "source": [
        "t = 'python is easy'\r\n",
        "print(t)"
      ],
      "execution_count": 30,
      "outputs": [
        {
          "output_type": "stream",
          "text": [
            "python is easy\n"
          ],
          "name": "stdout"
        }
      ]
    },
    {
      "cell_type": "code",
      "metadata": {
        "colab": {
          "base_uri": "https://localhost:8080/",
          "height": 35
        },
        "id": "nJljds74slkO",
        "outputId": "76bb2fef-c21d-40bb-c980-fc90a3441b71"
      },
      "source": [
        "t[1]\r\n"
      ],
      "execution_count": 31,
      "outputs": [
        {
          "output_type": "execute_result",
          "data": {
            "application/vnd.google.colaboratory.intrinsic+json": {
              "type": "string"
            },
            "text/plain": [
              "'y'"
            ]
          },
          "metadata": {
            "tags": []
          },
          "execution_count": 31
        }
      ]
    },
    {
      "cell_type": "code",
      "metadata": {
        "colab": {
          "base_uri": "https://localhost:8080/",
          "height": 35
        },
        "id": "3CBLxf9yssgS",
        "outputId": "6edede23-080e-4cda-b462-589c05536d10"
      },
      "source": [
        "t[-4]"
      ],
      "execution_count": 32,
      "outputs": [
        {
          "output_type": "execute_result",
          "data": {
            "application/vnd.google.colaboratory.intrinsic+json": {
              "type": "string"
            },
            "text/plain": [
              "'e'"
            ]
          },
          "metadata": {
            "tags": []
          },
          "execution_count": 32
        }
      ]
    },
    {
      "cell_type": "code",
      "metadata": {
        "colab": {
          "base_uri": "https://localhost:8080/",
          "height": 35
        },
        "id": "h1zl7X11szkE",
        "outputId": "468850bf-a66f-4e82-efc0-7f319374760e"
      },
      "source": [
        "t[6]"
      ],
      "execution_count": 33,
      "outputs": [
        {
          "output_type": "execute_result",
          "data": {
            "application/vnd.google.colaboratory.intrinsic+json": {
              "type": "string"
            },
            "text/plain": [
              "' '"
            ]
          },
          "metadata": {
            "tags": []
          },
          "execution_count": 33
        }
      ]
    },
    {
      "cell_type": "markdown",
      "metadata": {
        "id": "ko82ZFNFs3YY"
      },
      "source": [
        "#จบ 5 มค 2021"
      ]
    },
    {
      "cell_type": "markdown",
      "metadata": {
        "id": "JG48R6jyk2ln"
      },
      "source": [
        "#คาบ 3 11 มค 2021"
      ]
    },
    {
      "cell_type": "code",
      "metadata": {
        "colab": {
          "base_uri": "https://localhost:8080/"
        },
        "id": "DpL5MzWLk8-c",
        "outputId": "baa28ed9-1309-485d-8f04-25bd9812261d"
      },
      "source": [
        "len(t)"
      ],
      "execution_count": 34,
      "outputs": [
        {
          "output_type": "execute_result",
          "data": {
            "text/plain": [
              "14"
            ]
          },
          "metadata": {
            "tags": []
          },
          "execution_count": 34
        }
      ]
    },
    {
      "cell_type": "markdown",
      "metadata": {
        "id": "_P9yAIDZmDAE"
      },
      "source": [
        "ตัวที่อยู่ข้างใน [ ] เราเรียกว่า index (ตัวชี้) "
      ]
    },
    {
      "cell_type": "markdown",
      "metadata": {
        "id": "nXuN1PIXmSGK"
      },
      "source": [
        "###List slicing สามารถทำได้โดย ใช้ colon :\r\n",
        "\r\n",
        "[a:b] -> [a,b)"
      ]
    },
    {
      "cell_type": "code",
      "metadata": {
        "colab": {
          "base_uri": "https://localhost:8080/"
        },
        "id": "dgaqcB-Cm0G0",
        "outputId": "9e0cbd1c-aebc-4887-8687-df2c6f6d0171"
      },
      "source": [
        "print(t)\r\n",
        "print(t[7:9])\r\n",
        "print(len(t[7:9]))"
      ],
      "execution_count": 35,
      "outputs": [
        {
          "output_type": "stream",
          "text": [
            "python is easy\n",
            "is\n",
            "2\n"
          ],
          "name": "stdout"
        }
      ]
    },
    {
      "cell_type": "code",
      "metadata": {
        "colab": {
          "base_uri": "https://localhost:8080/",
          "height": 35
        },
        "id": "iX-wy258n_AE",
        "outputId": "2312f53b-05fb-4a7a-d210-c3b18a45bf55"
      },
      "source": [
        "t[0:14:2]  #เริ่มตัวที่ 0 โดยหยิบทุกๆ 2 ตัว จนครบ 14 ตัว"
      ],
      "execution_count": 36,
      "outputs": [
        {
          "output_type": "execute_result",
          "data": {
            "application/vnd.google.colaboratory.intrinsic+json": {
              "type": "string"
            },
            "text/plain": [
              "'pto ses'"
            ]
          },
          "metadata": {
            "tags": []
          },
          "execution_count": 36
        }
      ]
    },
    {
      "cell_type": "code",
      "metadata": {
        "colab": {
          "base_uri": "https://localhost:8080/"
        },
        "id": "3J9v_WVUoJmt",
        "outputId": "c0c5d463-59cf-48a7-bb68-cece1011145f"
      },
      "source": [
        "z= [1,2,3,4,5,6,7,8,9,10]\r\n",
        "print(z[1:10:2]) \r\n"
      ],
      "execution_count": 37,
      "outputs": [
        {
          "output_type": "stream",
          "text": [
            "[2, 4, 6, 8, 10]\n"
          ],
          "name": "stdout"
        }
      ]
    },
    {
      "cell_type": "markdown",
      "metadata": {
        "id": "2z6B_579oUtH"
      },
      "source": [
        "### quiz\r\n",
        "ให้ใช้ list slicing เลือกมาเฉพาะเลขคู่"
      ]
    },
    {
      "cell_type": "markdown",
      "metadata": {
        "id": "pt6zVlW3nbto"
      },
      "source": [
        "*   ถ้าเว้นว่างหน้า : หมายความว่า เริ่มตั้งแต่ตัวแรก (0)\r\n",
        "*   ถ้าเว้นว่างหลัง : หมายความว่า ไปจนถึงตัวสุดท้าย (len(list)\r\n",
        "\r\n",
        "\r\n",
        "\r\n"
      ]
    },
    {
      "cell_type": "code",
      "metadata": {
        "colab": {
          "base_uri": "https://localhost:8080/"
        },
        "id": "_CQEta0OpNCe",
        "outputId": "faf445ba-2714-4bb5-abcf-529717878cb7"
      },
      "source": [
        "print(t)\r\n",
        "print(t[:6]) #เอาตั้งแต่ตัวแรกถึง 6\r\n",
        "print(t[10:])\r\n",
        "print(t[-4:])\r\n",
        "print(t[:])"
      ],
      "execution_count": 38,
      "outputs": [
        {
          "output_type": "stream",
          "text": [
            "python is easy\n",
            "python\n",
            "easy\n",
            "easy\n",
            "python is easy\n"
          ],
          "name": "stdout"
        }
      ]
    },
    {
      "cell_type": "code",
      "metadata": {
        "id": "3h5kLv3Cp8ID",
        "colab": {
          "base_uri": "https://localhost:8080/"
        },
        "outputId": "8c63688c-bd0e-4772-ec72-9a01ec78203f"
      },
      "source": [
        "print(z[::2]) # :"
      ],
      "execution_count": 39,
      "outputs": [
        {
          "output_type": "stream",
          "text": [
            "[1, 3, 5, 7, 9]\n"
          ],
          "name": "stdout"
        }
      ]
    },
    {
      "cell_type": "markdown",
      "metadata": {
        "id": "X47FEvjMp_C9"
      },
      "source": [
        "###เราสามารถเอา list มาต่อกันได้ด้วย + "
      ]
    },
    {
      "cell_type": "code",
      "metadata": {
        "id": "rcX9lcAOqYGa",
        "colab": {
          "base_uri": "https://localhost:8080/",
          "height": 35
        },
        "outputId": "cdccc1be-246a-4a20-9b93-b1cccf44e329"
      },
      "source": [
        "t + '??'"
      ],
      "execution_count": 40,
      "outputs": [
        {
          "output_type": "execute_result",
          "data": {
            "application/vnd.google.colaboratory.intrinsic+json": {
              "type": "string"
            },
            "text/plain": [
              "'python is easy??'"
            ]
          },
          "metadata": {
            "tags": []
          },
          "execution_count": 40
        }
      ]
    },
    {
      "cell_type": "code",
      "metadata": {
        "id": "t-hW5vjtsCA7",
        "colab": {
          "base_uri": "https://localhost:8080/",
          "height": 130
        },
        "outputId": "7eec2aba-3e25-4140-e8d4-c53f94eaaefa"
      },
      "source": [
        "t + list b #ไม่สามารถเอา list ปกติมาต่อกับ string ได้"
      ],
      "execution_count": 41,
      "outputs": [
        {
          "output_type": "error",
          "ename": "SyntaxError",
          "evalue": "ignored",
          "traceback": [
            "\u001b[0;36m  File \u001b[0;32m\"<ipython-input-41-095d80b13056>\"\u001b[0;36m, line \u001b[0;32m1\u001b[0m\n\u001b[0;31m    t + list b #ไม่สามารถเอา list ปกติมาต่อกับ string ได้\u001b[0m\n\u001b[0m             ^\u001b[0m\n\u001b[0;31mSyntaxError\u001b[0m\u001b[0;31m:\u001b[0m invalid syntax\n"
          ]
        }
      ]
    },
    {
      "cell_type": "code",
      "metadata": {
        "id": "V-9Puqh3sQnS",
        "colab": {
          "base_uri": "https://localhost:8080/"
        },
        "outputId": "60556177-0672-4934-cee3-8b34250ceb5e"
      },
      "source": [
        "print(list_a)\r\n",
        "list_b=[111, 'c','งง', aaa]\r\n",
        "print(list_b)\r\n",
        "print(list_b + list_a) # + คือเอาสมาชิกมารวมกัน\r\n"
      ],
      "execution_count": 42,
      "outputs": [
        {
          "output_type": "stream",
          "text": [
            "[]\n",
            "[111, 'c', 'งง', 1092]\n",
            "[111, 'c', 'งง', 1092]\n"
          ],
          "name": "stdout"
        }
      ]
    },
    {
      "cell_type": "code",
      "metadata": {
        "id": "fBEqSRUrtC5s",
        "colab": {
          "base_uri": "https://localhost:8080/"
        },
        "outputId": "eca3a8f7-117e-4608-feb7-0d6f58a56e0f"
      },
      "source": [
        "list_b.append(list_a)\r\n",
        "print(list_b)"
      ],
      "execution_count": 43,
      "outputs": [
        {
          "output_type": "stream",
          "text": [
            "[111, 'c', 'งง', 1092, []]\n"
          ],
          "name": "stdout"
        }
      ]
    },
    {
      "cell_type": "markdown",
      "metadata": {
        "id": "2efRWpFSuX6F"
      },
      "source": [
        "##การแบ่ง string ตามสัญลักษณ์ที่กำหนด -> split string\r\n"
      ]
    },
    {
      "cell_type": "code",
      "metadata": {
        "id": "BR5bqzlJulTx",
        "colab": {
          "base_uri": "https://localhost:8080/",
          "height": 35
        },
        "outputId": "2f9c9073-787b-44ac-d3e5-aca80001c1fa"
      },
      "source": [
        "t"
      ],
      "execution_count": 44,
      "outputs": [
        {
          "output_type": "execute_result",
          "data": {
            "application/vnd.google.colaboratory.intrinsic+json": {
              "type": "string"
            },
            "text/plain": [
              "'python is easy'"
            ]
          },
          "metadata": {
            "tags": []
          },
          "execution_count": 44
        }
      ]
    },
    {
      "cell_type": "code",
      "metadata": {
        "id": "18Blq4umun4C",
        "colab": {
          "base_uri": "https://localhost:8080/"
        },
        "outputId": "4365a765-dfe1-4943-dc26-507cda3a3fd7"
      },
      "source": [
        "t.split(' ')"
      ],
      "execution_count": 45,
      "outputs": [
        {
          "output_type": "execute_result",
          "data": {
            "text/plain": [
              "['python', 'is', 'easy']"
            ]
          },
          "metadata": {
            "tags": []
          },
          "execution_count": 45
        }
      ]
    },
    {
      "cell_type": "code",
      "metadata": {
        "id": "WgOvSwkavJ4D"
      },
      "source": [
        "time = '12:30:15'"
      ],
      "execution_count": 47,
      "outputs": []
    },
    {
      "cell_type": "code",
      "metadata": {
        "id": "yx5_Kv5RvjnR",
        "colab": {
          "base_uri": "https://localhost:8080/"
        },
        "outputId": "030213f9-c61f-407c-d188-5287bea82467"
      },
      "source": [
        "time.split(' : ')"
      ],
      "execution_count": 48,
      "outputs": [
        {
          "output_type": "execute_result",
          "data": {
            "text/plain": [
              "['12:30:15']"
            ]
          },
          "metadata": {
            "tags": []
          },
          "execution_count": 48
        }
      ]
    },
    {
      "cell_type": "code",
      "metadata": {
        "id": "ffGAZy2IwOPC",
        "colab": {
          "base_uri": "https://localhost:8080/"
        },
        "outputId": "87c1e0ee-99ab-43ff-908c-d684c280a269"
      },
      "source": [
        "t_sp = t.split(' ')\r\n",
        "print(t_sp)\r\n",
        "## วิธีรวมกลับ\r\n",
        "print(' : '.join(t_sp))"
      ],
      "execution_count": 49,
      "outputs": [
        {
          "output_type": "stream",
          "text": [
            "['python', 'is', 'easy']\n",
            "python : is : easy\n"
          ],
          "name": "stdout"
        }
      ]
    },
    {
      "cell_type": "code",
      "metadata": {
        "id": "rxYTuvCuxStE",
        "colab": {
          "base_uri": "https://localhost:8080/"
        },
        "outputId": "8603494c-19dd-4caf-d20d-9e00ec9609ca"
      },
      "source": [
        "## วิธีรวมกลับ\r\n",
        "print(' : '.join(t_sp))"
      ],
      "execution_count": 50,
      "outputs": [
        {
          "output_type": "stream",
          "text": [
            "python : is : easy\n"
          ],
          "name": "stdout"
        }
      ]
    },
    {
      "cell_type": "markdown",
      "metadata": {
        "id": "C8DQU1C8x_SQ"
      },
      "source": [
        "### HW คำนวณเวลาเป็นวินาทีของเวลาต่อไปนี้โดยใช้คำสั่ง split ช่วย (print ออกมาให้สวยงาม)\r\n",
        "12:30:15\r\n",
        "\r\n",
        "13:41:07\r\n",
        "\r\n",
        "12:53:15\r\n",
        "\r\n",
        "00:59:25\r\n",
        "\r\n",
        "11:11:11\r\n",
        "\r\n",
        "16:06:09\r\n",
        "\r\n",
        "21:12:30\r\n",
        "\r\n",
        "10:06:15\r\n",
        "\r\n",
        "ตัวอย่าง > 00:01:10 = 70 วินาที\r\n",
        "\r\n",
        "ตัวอย่าง > 10:00:01= 3601 วินาที"
      ]
    },
    {
      "cell_type": "code",
      "metadata": {
        "id": "hi4hz1fDOl1S"
      },
      "source": [
        "q1 = '12:30:15'"
      ],
      "execution_count": null,
      "outputs": []
    },
    {
      "cell_type": "code",
      "metadata": {
        "colab": {
          "base_uri": "https://localhost:8080/"
        },
        "id": "NbU6MPQfOuq6",
        "outputId": "fb44d8b4-d5f0-42b2-bb08-c72f528e386a"
      },
      "source": [
        "q1_sp = q1.split(':')\r\n",
        "print(q1_sp)"
      ],
      "execution_count": null,
      "outputs": [
        {
          "output_type": "stream",
          "text": [
            "['12', '30', '15']\n"
          ],
          "name": "stdout"
        }
      ]
    },
    {
      "cell_type": "code",
      "metadata": {
        "colab": {
          "base_uri": "https://localhost:8080/"
        },
        "id": "kH9KRfAOO_8M",
        "outputId": "a9afbbd3-24ab-4867-9035-68f7d83e477b"
      },
      "source": [
        "answer1 = int(q1_sp[0]) * 3600 + int(q1_sp[1]) * 60 + int(q1_sp[2])  #เปลี่ยน string เป็น int ก่อน\r\n",
        "print(answer1)"
      ],
      "execution_count": null,
      "outputs": [
        {
          "output_type": "stream",
          "text": [
            "45015\n"
          ],
          "name": "stdout"
        }
      ]
    },
    {
      "cell_type": "code",
      "metadata": {
        "colab": {
          "base_uri": "https://localhost:8080/"
        },
        "id": "xlCdAUJitmzr",
        "outputId": "17ccb4f0-6337-4403-c875-d664f89c977c"
      },
      "source": [
        "q1 = '12:30:15 '\r\n",
        "q1_sp = q1.split(':')\r\n",
        "answer1 = int(q1_sp[0]) * 3600 + int(q1_sp[1]) * 60 + int(q1_sp[2])  \r\n",
        "print(f'แปลงเป็นวินาทีมีค่าเท่ากับ {answer1} วินาที')"
      ],
      "execution_count": 60,
      "outputs": [
        {
          "output_type": "stream",
          "text": [
            "แปลงเป็นวินาทีมีค่าเท่ากับ 45015 วินาที\n"
          ],
          "name": "stdout"
        }
      ]
    },
    {
      "cell_type": "code",
      "metadata": {
        "colab": {
          "base_uri": "https://localhost:8080/"
        },
        "id": "H4OBooYNvgID",
        "outputId": "9601c7a4-4c99-49d3-9ff4-f1558c854324"
      },
      "source": [
        "q2 = '13:41:07 '\r\n",
        "q2_sp = q2.split(':')\r\n",
        "answer2 = int(q2_sp[0]) * 3600 + int(q2_sp[1]) * 60 + int(q2_sp[2])  \r\n",
        "print(f'แปลงเป็นวินาทีมีค่าเท่ากับ {answer2} วินาที')"
      ],
      "execution_count": 62,
      "outputs": [
        {
          "output_type": "stream",
          "text": [
            "แปลงเป็นวินาทีมีค่าเท่ากับ 49267 วินาที\n"
          ],
          "name": "stdout"
        }
      ]
    },
    {
      "cell_type": "code",
      "metadata": {
        "colab": {
          "base_uri": "https://localhost:8080/"
        },
        "id": "oI2vA4UY0B4u",
        "outputId": "f5b741d3-08d5-4d9a-f2e9-65a50b58dd65"
      },
      "source": [
        "q3 = '12:53:15 '\r\n",
        "q3_sp = q3.split(':')\r\n",
        "answer3 = int(q3_sp[0]) * 3600 + int(q3_sp[1]) * 60 + int(q3_sp[2])  \r\n",
        "print(f'แปลงเป็นวินาทีมีค่าเท่ากับ {answer3} วินาที')"
      ],
      "execution_count": 63,
      "outputs": [
        {
          "output_type": "stream",
          "text": [
            "แปลงเป็นวินาทีมีค่าเท่ากับ 46395 วินาที\n"
          ],
          "name": "stdout"
        }
      ]
    },
    {
      "cell_type": "code",
      "metadata": {
        "colab": {
          "base_uri": "https://localhost:8080/"
        },
        "id": "71Jr6sriw4sP",
        "outputId": "29f78a20-f47c-458f-f368-26c00bd3094c"
      },
      "source": [
        "q4 = '00:59:25 '\r\n",
        "q4_sp = q4.split(':')\r\n",
        "answer4 = int(q4_sp[0]) * 3600 + int(q4_sp[1]) * 60 + int(q4_sp[2])  \r\n",
        "print(f'แปลงเป็นวินาทีมีค่าเท่ากับ {answer4} วินาที')"
      ],
      "execution_count": 64,
      "outputs": [
        {
          "output_type": "stream",
          "text": [
            "แปลงเป็นวินาทีมีค่าเท่ากับ 3565 วินาที\n"
          ],
          "name": "stdout"
        }
      ]
    },
    {
      "cell_type": "code",
      "metadata": {
        "colab": {
          "base_uri": "https://localhost:8080/"
        },
        "id": "2H-Kc6h-xnc0",
        "outputId": "4032fa4b-b2ed-43a0-8bbf-d1df376f856a"
      },
      "source": [
        "q5 = '11:11:11 '\r\n",
        "q5_sp = q5.split(':')\r\n",
        "answer5 = int(q5_sp[0]) * 3600 + int(q5_sp[1]) * 60 + int(q5_sp[2])  \r\n",
        "print(f'แปลงเป็นวินาทีมีค่าเท่ากับ {answer5} วินาที')"
      ],
      "execution_count": 65,
      "outputs": [
        {
          "output_type": "stream",
          "text": [
            "แปลงเป็นวินาทีมีค่าเท่ากับ 40271 วินาที\n"
          ],
          "name": "stdout"
        }
      ]
    },
    {
      "cell_type": "code",
      "metadata": {
        "colab": {
          "base_uri": "https://localhost:8080/"
        },
        "id": "L7eD93WLxphu",
        "outputId": "4fe9660b-fa32-4c70-d7fb-e4d71787c066"
      },
      "source": [
        "q6 = '16:06:09 '\r\n",
        "q6_sp = q6.split(':')\r\n",
        "answer6 = int(q6_sp[0]) * 3600 + int(q6_sp[1]) * 60 + int(q6_sp[2])  \r\n",
        "print(f'แปลงเป็นวินาทีมีค่าเท่ากับ {answer6} วินาที')"
      ],
      "execution_count": 66,
      "outputs": [
        {
          "output_type": "stream",
          "text": [
            "แปลงเป็นวินาทีมีค่าเท่ากับ 57969 วินาที\n"
          ],
          "name": "stdout"
        }
      ]
    },
    {
      "cell_type": "code",
      "metadata": {
        "colab": {
          "base_uri": "https://localhost:8080/"
        },
        "id": "A6gWziSyxqXk",
        "outputId": "07f60681-daf9-4719-82a6-f847dc8d8060"
      },
      "source": [
        "q7 = '21:12:30 '\r\n",
        "q7_sp = q7.split(':')\r\n",
        "answer7 = int(q7_sp[0]) * 3600 + int(q7_sp[1]) * 60 + int(q7_sp[2])  \r\n",
        "print(f'แปลงเป็นวินาทีมีค่าเท่ากับ {answer7} วินาที')"
      ],
      "execution_count": 67,
      "outputs": [
        {
          "output_type": "stream",
          "text": [
            "แปลงเป็นวินาทีมีค่าเท่ากับ 76350 วินาที\n"
          ],
          "name": "stdout"
        }
      ]
    },
    {
      "cell_type": "code",
      "metadata": {
        "colab": {
          "base_uri": "https://localhost:8080/"
        },
        "id": "Hc-UGMJDxrE_",
        "outputId": "93cd49e1-cc50-40c2-bb26-4eecece0be4f"
      },
      "source": [
        "q8 = '10:06:15 '\r\n",
        "q8_sp = q8.split(':')\r\n",
        "answer8 = int(q8_sp[0]) * 3600 + int(q8_sp[1]) * 60 + int(q8_sp[2])  \r\n",
        "print(f'แปลงเป็นวินาทีมีค่าเท่ากับ {answer8} วินาที')"
      ],
      "execution_count": 68,
      "outputs": [
        {
          "output_type": "stream",
          "text": [
            "แปลงเป็นวินาทีมีค่าเท่ากับ 36375 วินาที\n"
          ],
          "name": "stdout"
        }
      ]
    }
  ]
}