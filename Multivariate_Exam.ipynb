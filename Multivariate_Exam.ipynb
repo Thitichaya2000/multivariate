{
  "nbformat": 4,
  "nbformat_minor": 0,
  "metadata": {
    "colab": {
      "name": "Multivariate Exam.ipynb",
      "provenance": [],
      "include_colab_link": true
    },
    "kernelspec": {
      "name": "python3",
      "display_name": "Python 3"
    },
    "language_info": {
      "name": "python"
    }
  },
  "cells": [
    {
      "cell_type": "markdown",
      "metadata": {
        "id": "view-in-github",
        "colab_type": "text"
      },
      "source": [
        "<a href=\"https://colab.research.google.com/github/Thitichaya2000/multivariate/blob/main/Multivariate_Exam.ipynb\" target=\"_parent\"><img src=\"https://colab.research.google.com/assets/colab-badge.svg\" alt=\"Open In Colab\"/></a>"
      ]
    },
    {
      "cell_type": "markdown",
      "metadata": {
        "id": "qcXG6G3rJx5p"
      },
      "source": [
        "ให้นักศึกษาทำข้อสอบใน Colab Notebook นี้โดยกรอกข้อมูลของตัวเองใน cell ที่ 2 แล้วรัน cell ที่ 1 - 5 และเริ่มทำข้อสอบใน cell ที่ 6 เป็นต้นไป\n",
        "\n",
        "โดยโจทย์คือ\n",
        "1. ข้อมูลโจทย์ อยู่ใน ตัวแปร ```Data```\n",
        "2. ทำ clustering แล้วทำ visualize ข้อมูลแบบ 2 มิติ\n",
        "3. ลด Dimension ของข้อมูลเหลือ 2 มิติ แล้วทำ clustering แล้ว visualize ข้อมูลแบบ 2 มิติ\n",
        "4. เปรียบเทียบความแตกต่างของผลข้อ 2. กับ ข้อ 3.\n",
        "5. เขียน comments อธิบายทุกขั้นตอน\n",
        "6. อัด video อธิบาย code ทุกๆขั้นตอนรวมถึงผลแล้วอัพลง youtube ในรูปแบบ unlist \n",
        "7. commit โดยใช้ชื่อ commit เป็น link youtube ที่อธิบาย code ในข้อ 6.\n",
        "\n",
        "กำหนดส่งวันที่ 2 พฤษภาคม 2564 (โดยให้มากรอกวันที่ commit ครั้งสุดท้ายใน sheet: https://docs.google.com/spreadsheets/d/1_qJwLDJVtOW1HxBcf_FHVc6UT4J_SOonuR6o3EEnVzw/edit?usp=sharing ช่อง Final)"
      ]
    },
    {
      "cell_type": "code",
      "metadata": {
        "id": "JRsbWLFqJxQY"
      },
      "source": [
        "from sklearn.datasets import make_blobs\n",
        "import random,math\n",
        "import numpy as np\n",
        "import pandas \n",
        "from matplotlib import pyplot as plt\n",
        "from sklearn.decomposition import PCA"
      ],
      "execution_count": null,
      "outputs": []
    },
    {
      "cell_type": "code",
      "metadata": {
        "id": "d3QlbNsdKBYh"
      },
      "source": [
        "Name = 'ฐิติชญา ไกรวงค์'\n",
        "ID = '623020520-0'"
      ],
      "execution_count": null,
      "outputs": []
    },
    {
      "cell_type": "code",
      "metadata": {
        "id": "D3yrN2x4KDvf"
      },
      "source": [
        "def DataGenerator(name,id):\n",
        "    random.seed(int(id[3:6]))\n",
        "    numfeat = random.randint(20,30)\n",
        "    ct = random.randint(len(name)-6,len(name))\n",
        "    \n",
        "    X, y = make_blobs(n_samples=10000, centers=ct, n_features=numfeat , random_state=int(id[3:6]))\n",
        "\n",
        "    print(f'{id[3:6]}:{numfeat}:{ct}')\n",
        "    X_t = (X[:,1]*2)+int(id[3])\n",
        "    X_t2 = (X[:,-1]*5)+int(id[4])\n",
        "\n",
        "    DT = np.append(X,X_t.reshape([10000,1]),axis=1)\n",
        "    DT = np.append(DT,X_t2.reshape([10000,1]),axis=1)\n",
        "    \n",
        "    return pandas.DataFrame(DT)"
      ],
      "execution_count": null,
      "outputs": []
    },
    {
      "cell_type": "code",
      "metadata": {
        "colab": {
          "base_uri": "https://localhost:8080/"
        },
        "id": "QmM317--KGfn",
        "outputId": "156a68fb-90c2-4351-90b8-d379e389cdce"
      },
      "source": [
        "Data = DataGenerator(Name,ID)"
      ],
      "execution_count": null,
      "outputs": [
        {
          "output_type": "stream",
          "text": [
            "020:30:15\n"
          ],
          "name": "stdout"
        }
      ]
    },
    {
      "cell_type": "code",
      "metadata": {
        "colab": {
          "base_uri": "https://localhost:8080/",
          "height": 422
        },
        "id": "x8zN7wf3KId4",
        "outputId": "a111db8d-1e80-4978-e07a-bb02c70b9fff"
      },
      "source": [
        "Data"
      ],
      "execution_count": null,
      "outputs": [
        {
          "output_type": "execute_result",
          "data": {
            "text/html": [
              "<div>\n",
              "<style scoped>\n",
              "    .dataframe tbody tr th:only-of-type {\n",
              "        vertical-align: middle;\n",
              "    }\n",
              "\n",
              "    .dataframe tbody tr th {\n",
              "        vertical-align: top;\n",
              "    }\n",
              "\n",
              "    .dataframe thead th {\n",
              "        text-align: right;\n",
              "    }\n",
              "</style>\n",
              "<table border=\"1\" class=\"dataframe\">\n",
              "  <thead>\n",
              "    <tr style=\"text-align: right;\">\n",
              "      <th></th>\n",
              "      <th>0</th>\n",
              "      <th>1</th>\n",
              "      <th>2</th>\n",
              "      <th>3</th>\n",
              "      <th>4</th>\n",
              "      <th>5</th>\n",
              "      <th>6</th>\n",
              "      <th>7</th>\n",
              "      <th>8</th>\n",
              "      <th>9</th>\n",
              "      <th>10</th>\n",
              "      <th>11</th>\n",
              "      <th>12</th>\n",
              "      <th>13</th>\n",
              "      <th>14</th>\n",
              "      <th>15</th>\n",
              "      <th>16</th>\n",
              "      <th>17</th>\n",
              "      <th>18</th>\n",
              "      <th>19</th>\n",
              "      <th>20</th>\n",
              "      <th>21</th>\n",
              "      <th>22</th>\n",
              "      <th>23</th>\n",
              "      <th>24</th>\n",
              "      <th>25</th>\n",
              "      <th>26</th>\n",
              "      <th>27</th>\n",
              "      <th>28</th>\n",
              "      <th>29</th>\n",
              "      <th>30</th>\n",
              "      <th>31</th>\n",
              "    </tr>\n",
              "  </thead>\n",
              "  <tbody>\n",
              "    <tr>\n",
              "      <th>0</th>\n",
              "      <td>-1.431317</td>\n",
              "      <td>-3.805310</td>\n",
              "      <td>-1.683298</td>\n",
              "      <td>3.670962</td>\n",
              "      <td>5.333743</td>\n",
              "      <td>6.968222</td>\n",
              "      <td>5.297155</td>\n",
              "      <td>-0.622868</td>\n",
              "      <td>-8.659695</td>\n",
              "      <td>0.506338</td>\n",
              "      <td>-2.231758</td>\n",
              "      <td>-4.966134</td>\n",
              "      <td>2.878114</td>\n",
              "      <td>7.374850</td>\n",
              "      <td>1.860676</td>\n",
              "      <td>-0.038871</td>\n",
              "      <td>2.196023</td>\n",
              "      <td>11.370829</td>\n",
              "      <td>6.688385</td>\n",
              "      <td>6.105780</td>\n",
              "      <td>-4.416389</td>\n",
              "      <td>-4.717553</td>\n",
              "      <td>9.194900</td>\n",
              "      <td>0.249966</td>\n",
              "      <td>-1.970441</td>\n",
              "      <td>4.105653</td>\n",
              "      <td>3.420734</td>\n",
              "      <td>4.639702</td>\n",
              "      <td>-1.725424</td>\n",
              "      <td>9.603881</td>\n",
              "      <td>-7.610621</td>\n",
              "      <td>50.019407</td>\n",
              "    </tr>\n",
              "    <tr>\n",
              "      <th>1</th>\n",
              "      <td>-0.222700</td>\n",
              "      <td>-4.318604</td>\n",
              "      <td>-1.021648</td>\n",
              "      <td>4.262164</td>\n",
              "      <td>4.447866</td>\n",
              "      <td>10.645853</td>\n",
              "      <td>4.765258</td>\n",
              "      <td>-0.790480</td>\n",
              "      <td>-8.108423</td>\n",
              "      <td>-1.114622</td>\n",
              "      <td>-2.005512</td>\n",
              "      <td>-5.068586</td>\n",
              "      <td>4.139944</td>\n",
              "      <td>7.948390</td>\n",
              "      <td>4.017807</td>\n",
              "      <td>1.361718</td>\n",
              "      <td>3.219721</td>\n",
              "      <td>8.928908</td>\n",
              "      <td>6.658795</td>\n",
              "      <td>5.475026</td>\n",
              "      <td>-4.660510</td>\n",
              "      <td>-4.876859</td>\n",
              "      <td>7.906575</td>\n",
              "      <td>-0.422501</td>\n",
              "      <td>-2.430645</td>\n",
              "      <td>1.426361</td>\n",
              "      <td>4.555166</td>\n",
              "      <td>5.161480</td>\n",
              "      <td>-1.333644</td>\n",
              "      <td>9.095333</td>\n",
              "      <td>-8.637208</td>\n",
              "      <td>47.476663</td>\n",
              "    </tr>\n",
              "    <tr>\n",
              "      <th>2</th>\n",
              "      <td>-10.034376</td>\n",
              "      <td>6.161892</td>\n",
              "      <td>-3.954476</td>\n",
              "      <td>-8.050792</td>\n",
              "      <td>-5.352337</td>\n",
              "      <td>6.411617</td>\n",
              "      <td>-6.332182</td>\n",
              "      <td>-7.345645</td>\n",
              "      <td>-7.169272</td>\n",
              "      <td>10.553513</td>\n",
              "      <td>2.975710</td>\n",
              "      <td>0.441505</td>\n",
              "      <td>1.776539</td>\n",
              "      <td>7.340909</td>\n",
              "      <td>0.620935</td>\n",
              "      <td>3.145672</td>\n",
              "      <td>5.817364</td>\n",
              "      <td>8.331761</td>\n",
              "      <td>-8.568314</td>\n",
              "      <td>-4.763978</td>\n",
              "      <td>7.189534</td>\n",
              "      <td>0.715256</td>\n",
              "      <td>-2.086542</td>\n",
              "      <td>3.539530</td>\n",
              "      <td>0.488147</td>\n",
              "      <td>-3.906897</td>\n",
              "      <td>5.546570</td>\n",
              "      <td>-6.069777</td>\n",
              "      <td>7.307131</td>\n",
              "      <td>-8.493889</td>\n",
              "      <td>12.323783</td>\n",
              "      <td>-40.469445</td>\n",
              "    </tr>\n",
              "    <tr>\n",
              "      <th>3</th>\n",
              "      <td>2.807811</td>\n",
              "      <td>3.136014</td>\n",
              "      <td>3.270353</td>\n",
              "      <td>6.546945</td>\n",
              "      <td>-5.862550</td>\n",
              "      <td>-12.552502</td>\n",
              "      <td>6.869210</td>\n",
              "      <td>4.978822</td>\n",
              "      <td>-0.880895</td>\n",
              "      <td>7.677638</td>\n",
              "      <td>-2.179459</td>\n",
              "      <td>6.689613</td>\n",
              "      <td>5.866614</td>\n",
              "      <td>2.598473</td>\n",
              "      <td>11.440434</td>\n",
              "      <td>9.917409</td>\n",
              "      <td>6.283930</td>\n",
              "      <td>-1.044869</td>\n",
              "      <td>-11.599362</td>\n",
              "      <td>7.609711</td>\n",
              "      <td>-8.686592</td>\n",
              "      <td>-3.201546</td>\n",
              "      <td>-5.693836</td>\n",
              "      <td>10.478092</td>\n",
              "      <td>-5.883031</td>\n",
              "      <td>-4.733943</td>\n",
              "      <td>-2.132558</td>\n",
              "      <td>-9.512157</td>\n",
              "      <td>0.184631</td>\n",
              "      <td>-8.506297</td>\n",
              "      <td>6.272028</td>\n",
              "      <td>-40.531484</td>\n",
              "    </tr>\n",
              "    <tr>\n",
              "      <th>4</th>\n",
              "      <td>0.981739</td>\n",
              "      <td>5.057586</td>\n",
              "      <td>6.035421</td>\n",
              "      <td>6.643368</td>\n",
              "      <td>-9.726732</td>\n",
              "      <td>7.433159</td>\n",
              "      <td>8.389728</td>\n",
              "      <td>-5.688372</td>\n",
              "      <td>4.057948</td>\n",
              "      <td>-1.067151</td>\n",
              "      <td>-0.113727</td>\n",
              "      <td>3.773041</td>\n",
              "      <td>7.207748</td>\n",
              "      <td>8.921411</td>\n",
              "      <td>9.088559</td>\n",
              "      <td>3.895733</td>\n",
              "      <td>-7.498781</td>\n",
              "      <td>8.757467</td>\n",
              "      <td>-2.416330</td>\n",
              "      <td>4.642086</td>\n",
              "      <td>7.698492</td>\n",
              "      <td>-0.165685</td>\n",
              "      <td>6.799617</td>\n",
              "      <td>9.441419</td>\n",
              "      <td>10.733818</td>\n",
              "      <td>-3.927096</td>\n",
              "      <td>-4.872414</td>\n",
              "      <td>-7.582712</td>\n",
              "      <td>-0.734257</td>\n",
              "      <td>7.437834</td>\n",
              "      <td>10.115172</td>\n",
              "      <td>39.189171</td>\n",
              "    </tr>\n",
              "    <tr>\n",
              "      <th>...</th>\n",
              "      <td>...</td>\n",
              "      <td>...</td>\n",
              "      <td>...</td>\n",
              "      <td>...</td>\n",
              "      <td>...</td>\n",
              "      <td>...</td>\n",
              "      <td>...</td>\n",
              "      <td>...</td>\n",
              "      <td>...</td>\n",
              "      <td>...</td>\n",
              "      <td>...</td>\n",
              "      <td>...</td>\n",
              "      <td>...</td>\n",
              "      <td>...</td>\n",
              "      <td>...</td>\n",
              "      <td>...</td>\n",
              "      <td>...</td>\n",
              "      <td>...</td>\n",
              "      <td>...</td>\n",
              "      <td>...</td>\n",
              "      <td>...</td>\n",
              "      <td>...</td>\n",
              "      <td>...</td>\n",
              "      <td>...</td>\n",
              "      <td>...</td>\n",
              "      <td>...</td>\n",
              "      <td>...</td>\n",
              "      <td>...</td>\n",
              "      <td>...</td>\n",
              "      <td>...</td>\n",
              "      <td>...</td>\n",
              "      <td>...</td>\n",
              "    </tr>\n",
              "    <tr>\n",
              "      <th>9995</th>\n",
              "      <td>8.570252</td>\n",
              "      <td>-8.547499</td>\n",
              "      <td>-6.627521</td>\n",
              "      <td>-0.738247</td>\n",
              "      <td>5.041646</td>\n",
              "      <td>8.379100</td>\n",
              "      <td>8.531765</td>\n",
              "      <td>1.861021</td>\n",
              "      <td>-1.478735</td>\n",
              "      <td>-1.421689</td>\n",
              "      <td>4.005371</td>\n",
              "      <td>2.120472</td>\n",
              "      <td>5.035665</td>\n",
              "      <td>-3.002748</td>\n",
              "      <td>8.055580</td>\n",
              "      <td>7.182527</td>\n",
              "      <td>-6.023813</td>\n",
              "      <td>2.258496</td>\n",
              "      <td>7.288834</td>\n",
              "      <td>-8.409583</td>\n",
              "      <td>-10.399815</td>\n",
              "      <td>7.948018</td>\n",
              "      <td>5.700540</td>\n",
              "      <td>6.105651</td>\n",
              "      <td>7.671632</td>\n",
              "      <td>-3.864644</td>\n",
              "      <td>-7.989939</td>\n",
              "      <td>5.141135</td>\n",
              "      <td>-1.598991</td>\n",
              "      <td>5.689240</td>\n",
              "      <td>-17.094999</td>\n",
              "      <td>30.446201</td>\n",
              "    </tr>\n",
              "    <tr>\n",
              "      <th>9996</th>\n",
              "      <td>-10.438886</td>\n",
              "      <td>5.510990</td>\n",
              "      <td>-1.623076</td>\n",
              "      <td>-9.326215</td>\n",
              "      <td>-6.385069</td>\n",
              "      <td>6.938657</td>\n",
              "      <td>-6.563878</td>\n",
              "      <td>-8.289501</td>\n",
              "      <td>-5.761271</td>\n",
              "      <td>7.928461</td>\n",
              "      <td>3.251750</td>\n",
              "      <td>1.482022</td>\n",
              "      <td>1.123383</td>\n",
              "      <td>5.989536</td>\n",
              "      <td>1.200461</td>\n",
              "      <td>0.735872</td>\n",
              "      <td>4.707533</td>\n",
              "      <td>8.231279</td>\n",
              "      <td>-10.546153</td>\n",
              "      <td>-4.309346</td>\n",
              "      <td>5.425850</td>\n",
              "      <td>2.465032</td>\n",
              "      <td>-3.326625</td>\n",
              "      <td>1.770823</td>\n",
              "      <td>2.090981</td>\n",
              "      <td>-3.050056</td>\n",
              "      <td>6.267379</td>\n",
              "      <td>-6.057672</td>\n",
              "      <td>8.780392</td>\n",
              "      <td>-10.478475</td>\n",
              "      <td>11.021979</td>\n",
              "      <td>-50.392375</td>\n",
              "    </tr>\n",
              "    <tr>\n",
              "      <th>9997</th>\n",
              "      <td>-2.171386</td>\n",
              "      <td>-3.572374</td>\n",
              "      <td>-2.281624</td>\n",
              "      <td>9.609861</td>\n",
              "      <td>3.647927</td>\n",
              "      <td>-7.071517</td>\n",
              "      <td>5.912975</td>\n",
              "      <td>-1.965732</td>\n",
              "      <td>6.946705</td>\n",
              "      <td>-2.177729</td>\n",
              "      <td>-5.651136</td>\n",
              "      <td>-0.720117</td>\n",
              "      <td>-7.696067</td>\n",
              "      <td>-6.032868</td>\n",
              "      <td>-3.678252</td>\n",
              "      <td>2.299576</td>\n",
              "      <td>-0.520670</td>\n",
              "      <td>6.917413</td>\n",
              "      <td>1.350440</td>\n",
              "      <td>-7.531208</td>\n",
              "      <td>6.656311</td>\n",
              "      <td>-5.945639</td>\n",
              "      <td>-10.804183</td>\n",
              "      <td>-1.086603</td>\n",
              "      <td>5.390014</td>\n",
              "      <td>-5.256982</td>\n",
              "      <td>-3.354696</td>\n",
              "      <td>9.149446</td>\n",
              "      <td>9.679640</td>\n",
              "      <td>3.251425</td>\n",
              "      <td>-7.144748</td>\n",
              "      <td>18.257126</td>\n",
              "    </tr>\n",
              "    <tr>\n",
              "      <th>9998</th>\n",
              "      <td>0.578091</td>\n",
              "      <td>6.232268</td>\n",
              "      <td>5.490281</td>\n",
              "      <td>5.679421</td>\n",
              "      <td>-9.322961</td>\n",
              "      <td>7.872634</td>\n",
              "      <td>8.821317</td>\n",
              "      <td>-4.478623</td>\n",
              "      <td>6.994061</td>\n",
              "      <td>-1.793188</td>\n",
              "      <td>0.012370</td>\n",
              "      <td>3.955197</td>\n",
              "      <td>8.481484</td>\n",
              "      <td>6.869151</td>\n",
              "      <td>11.919347</td>\n",
              "      <td>2.971310</td>\n",
              "      <td>-9.245483</td>\n",
              "      <td>6.041311</td>\n",
              "      <td>-1.832211</td>\n",
              "      <td>3.352620</td>\n",
              "      <td>8.421936</td>\n",
              "      <td>0.247541</td>\n",
              "      <td>7.469489</td>\n",
              "      <td>9.172441</td>\n",
              "      <td>11.945841</td>\n",
              "      <td>-4.429715</td>\n",
              "      <td>-6.446364</td>\n",
              "      <td>-4.332076</td>\n",
              "      <td>0.118959</td>\n",
              "      <td>7.302469</td>\n",
              "      <td>12.464536</td>\n",
              "      <td>38.512345</td>\n",
              "    </tr>\n",
              "    <tr>\n",
              "      <th>9999</th>\n",
              "      <td>-0.558383</td>\n",
              "      <td>-4.232199</td>\n",
              "      <td>-1.561527</td>\n",
              "      <td>4.578128</td>\n",
              "      <td>5.214853</td>\n",
              "      <td>10.834549</td>\n",
              "      <td>4.136782</td>\n",
              "      <td>-0.257248</td>\n",
              "      <td>-8.111795</td>\n",
              "      <td>1.044219</td>\n",
              "      <td>-0.176064</td>\n",
              "      <td>-6.682805</td>\n",
              "      <td>2.564414</td>\n",
              "      <td>7.341102</td>\n",
              "      <td>4.936028</td>\n",
              "      <td>2.603198</td>\n",
              "      <td>4.570491</td>\n",
              "      <td>9.076012</td>\n",
              "      <td>8.423855</td>\n",
              "      <td>5.346889</td>\n",
              "      <td>-3.866453</td>\n",
              "      <td>-6.109065</td>\n",
              "      <td>10.444767</td>\n",
              "      <td>-1.589327</td>\n",
              "      <td>-1.254135</td>\n",
              "      <td>3.608581</td>\n",
              "      <td>3.814310</td>\n",
              "      <td>4.219695</td>\n",
              "      <td>-0.271109</td>\n",
              "      <td>9.799393</td>\n",
              "      <td>-8.464397</td>\n",
              "      <td>50.996967</td>\n",
              "    </tr>\n",
              "  </tbody>\n",
              "</table>\n",
              "<p>10000 rows × 32 columns</p>\n",
              "</div>"
            ],
            "text/plain": [
              "             0         1         2   ...         29         30         31\n",
              "0     -1.431317 -3.805310 -1.683298  ...   9.603881  -7.610621  50.019407\n",
              "1     -0.222700 -4.318604 -1.021648  ...   9.095333  -8.637208  47.476663\n",
              "2    -10.034376  6.161892 -3.954476  ...  -8.493889  12.323783 -40.469445\n",
              "3      2.807811  3.136014  3.270353  ...  -8.506297   6.272028 -40.531484\n",
              "4      0.981739  5.057586  6.035421  ...   7.437834  10.115172  39.189171\n",
              "...         ...       ...       ...  ...        ...        ...        ...\n",
              "9995   8.570252 -8.547499 -6.627521  ...   5.689240 -17.094999  30.446201\n",
              "9996 -10.438886  5.510990 -1.623076  ... -10.478475  11.021979 -50.392375\n",
              "9997  -2.171386 -3.572374 -2.281624  ...   3.251425  -7.144748  18.257126\n",
              "9998   0.578091  6.232268  5.490281  ...   7.302469  12.464536  38.512345\n",
              "9999  -0.558383 -4.232199 -1.561527  ...   9.799393  -8.464397  50.996967\n",
              "\n",
              "[10000 rows x 32 columns]"
            ]
          },
          "metadata": {
            "tags": []
          },
          "execution_count": 5
        }
      ]
    },
    {
      "cell_type": "markdown",
      "metadata": {
        "id": "J3Z3Zfd6LGqJ"
      },
      "source": [
        "ทำการเตรียมข้อมูลก่อนจะนำข้อมูลไปใช้ โดยการตัดตัวที่มี correlation กันออกไป เพื่อลดข้อมูลที่เหมือนกันออกจาก Data"
      ]
    },
    {
      "cell_type": "code",
      "metadata": {
        "colab": {
          "base_uri": "https://localhost:8080/"
        },
        "id": "DXOi97Z1LHM-",
        "outputId": "a5e3588e-d22b-4150-971e-6c7a30dfea13"
      },
      "source": [
        "Data.shape #ดูขนาดของข้อมูล"
      ],
      "execution_count": null,
      "outputs": [
        {
          "output_type": "execute_result",
          "data": {
            "text/plain": [
              "(10000, 32)"
            ]
          },
          "metadata": {
            "tags": []
          },
          "execution_count": 6
        }
      ]
    },
    {
      "cell_type": "code",
      "metadata": {
        "id": "rx4Kknm_LacP"
      },
      "source": [
        "corr = np.corrcoef(Data.to_numpy().T)"
      ],
      "execution_count": null,
      "outputs": []
    },
    {
      "cell_type": "code",
      "metadata": {
        "colab": {
          "base_uri": "https://localhost:8080/"
        },
        "id": "AEhG8S2OLgSo",
        "outputId": "10fb4fa6-d6f1-4965-89b3-8864f488afbf"
      },
      "source": [
        "corr.shape #ดูขนาดของ corrcoef ของ Data"
      ],
      "execution_count": null,
      "outputs": [
        {
          "output_type": "execute_result",
          "data": {
            "text/plain": [
              "(32, 32)"
            ]
          },
          "metadata": {
            "tags": []
          },
          "execution_count": 8
        }
      ]
    },
    {
      "cell_type": "code",
      "metadata": {
        "colab": {
          "base_uri": "https://localhost:8080/"
        },
        "id": "CwT5eo4pLkq2",
        "outputId": "ddbf7d5f-b293-4a70-f58f-96422e1675f7"
      },
      "source": [
        "#ทำการวนลูป เพื่อหาค่า correlation ที่ซ้ำกัน\n",
        "for i in range(corr.shape[0]):\n",
        "    for j in range(corr.shape[1]):\n",
        "        if (i !=j) and (corr[i,j] == 1.):\n",
        "            print(f'row = {i} column = {j} corrcoef = {corr[i,j]}')"
      ],
      "execution_count": null,
      "outputs": [
        {
          "output_type": "stream",
          "text": [
            "row = 1 column = 30 corrcoef = 1.0\n",
            "row = 29 column = 31 corrcoef = 1.0\n",
            "row = 30 column = 1 corrcoef = 1.0\n",
            "row = 31 column = 29 corrcoef = 1.0\n"
          ],
          "name": "stdout"
        }
      ]
    },
    {
      "cell_type": "markdown",
      "metadata": {
        "id": "sQfYgTvCLxsX"
      },
      "source": [
        "จากการวนลูป พบว่า correlation มีตัวซ้ำกัน จึงต้องตัดข้อมูลออกก่อน"
      ]
    },
    {
      "cell_type": "code",
      "metadata": {
        "id": "UF6uIgMG6sxp",
        "colab": {
          "base_uri": "https://localhost:8080/",
          "height": 422
        },
        "outputId": "b39c1f5a-8c36-4cb7-dfa6-b4f9832a6a2e"
      },
      "source": [
        "newdata = Data.iloc[1:,:31]\n",
        "newdata"
      ],
      "execution_count": null,
      "outputs": [
        {
          "output_type": "execute_result",
          "data": {
            "text/html": [
              "<div>\n",
              "<style scoped>\n",
              "    .dataframe tbody tr th:only-of-type {\n",
              "        vertical-align: middle;\n",
              "    }\n",
              "\n",
              "    .dataframe tbody tr th {\n",
              "        vertical-align: top;\n",
              "    }\n",
              "\n",
              "    .dataframe thead th {\n",
              "        text-align: right;\n",
              "    }\n",
              "</style>\n",
              "<table border=\"1\" class=\"dataframe\">\n",
              "  <thead>\n",
              "    <tr style=\"text-align: right;\">\n",
              "      <th></th>\n",
              "      <th>0</th>\n",
              "      <th>1</th>\n",
              "      <th>2</th>\n",
              "      <th>3</th>\n",
              "      <th>4</th>\n",
              "      <th>5</th>\n",
              "      <th>6</th>\n",
              "      <th>7</th>\n",
              "      <th>8</th>\n",
              "      <th>9</th>\n",
              "      <th>10</th>\n",
              "      <th>11</th>\n",
              "      <th>12</th>\n",
              "      <th>13</th>\n",
              "      <th>14</th>\n",
              "      <th>15</th>\n",
              "      <th>16</th>\n",
              "      <th>17</th>\n",
              "      <th>18</th>\n",
              "      <th>19</th>\n",
              "      <th>20</th>\n",
              "      <th>21</th>\n",
              "      <th>22</th>\n",
              "      <th>23</th>\n",
              "      <th>24</th>\n",
              "      <th>25</th>\n",
              "      <th>26</th>\n",
              "      <th>27</th>\n",
              "      <th>28</th>\n",
              "      <th>29</th>\n",
              "      <th>30</th>\n",
              "    </tr>\n",
              "  </thead>\n",
              "  <tbody>\n",
              "    <tr>\n",
              "      <th>1</th>\n",
              "      <td>-0.222700</td>\n",
              "      <td>-4.318604</td>\n",
              "      <td>-1.021648</td>\n",
              "      <td>4.262164</td>\n",
              "      <td>4.447866</td>\n",
              "      <td>10.645853</td>\n",
              "      <td>4.765258</td>\n",
              "      <td>-0.790480</td>\n",
              "      <td>-8.108423</td>\n",
              "      <td>-1.114622</td>\n",
              "      <td>-2.005512</td>\n",
              "      <td>-5.068586</td>\n",
              "      <td>4.139944</td>\n",
              "      <td>7.948390</td>\n",
              "      <td>4.017807</td>\n",
              "      <td>1.361718</td>\n",
              "      <td>3.219721</td>\n",
              "      <td>8.928908</td>\n",
              "      <td>6.658795</td>\n",
              "      <td>5.475026</td>\n",
              "      <td>-4.660510</td>\n",
              "      <td>-4.876859</td>\n",
              "      <td>7.906575</td>\n",
              "      <td>-0.422501</td>\n",
              "      <td>-2.430645</td>\n",
              "      <td>1.426361</td>\n",
              "      <td>4.555166</td>\n",
              "      <td>5.161480</td>\n",
              "      <td>-1.333644</td>\n",
              "      <td>9.095333</td>\n",
              "      <td>-8.637208</td>\n",
              "    </tr>\n",
              "    <tr>\n",
              "      <th>2</th>\n",
              "      <td>-10.034376</td>\n",
              "      <td>6.161892</td>\n",
              "      <td>-3.954476</td>\n",
              "      <td>-8.050792</td>\n",
              "      <td>-5.352337</td>\n",
              "      <td>6.411617</td>\n",
              "      <td>-6.332182</td>\n",
              "      <td>-7.345645</td>\n",
              "      <td>-7.169272</td>\n",
              "      <td>10.553513</td>\n",
              "      <td>2.975710</td>\n",
              "      <td>0.441505</td>\n",
              "      <td>1.776539</td>\n",
              "      <td>7.340909</td>\n",
              "      <td>0.620935</td>\n",
              "      <td>3.145672</td>\n",
              "      <td>5.817364</td>\n",
              "      <td>8.331761</td>\n",
              "      <td>-8.568314</td>\n",
              "      <td>-4.763978</td>\n",
              "      <td>7.189534</td>\n",
              "      <td>0.715256</td>\n",
              "      <td>-2.086542</td>\n",
              "      <td>3.539530</td>\n",
              "      <td>0.488147</td>\n",
              "      <td>-3.906897</td>\n",
              "      <td>5.546570</td>\n",
              "      <td>-6.069777</td>\n",
              "      <td>7.307131</td>\n",
              "      <td>-8.493889</td>\n",
              "      <td>12.323783</td>\n",
              "    </tr>\n",
              "    <tr>\n",
              "      <th>3</th>\n",
              "      <td>2.807811</td>\n",
              "      <td>3.136014</td>\n",
              "      <td>3.270353</td>\n",
              "      <td>6.546945</td>\n",
              "      <td>-5.862550</td>\n",
              "      <td>-12.552502</td>\n",
              "      <td>6.869210</td>\n",
              "      <td>4.978822</td>\n",
              "      <td>-0.880895</td>\n",
              "      <td>7.677638</td>\n",
              "      <td>-2.179459</td>\n",
              "      <td>6.689613</td>\n",
              "      <td>5.866614</td>\n",
              "      <td>2.598473</td>\n",
              "      <td>11.440434</td>\n",
              "      <td>9.917409</td>\n",
              "      <td>6.283930</td>\n",
              "      <td>-1.044869</td>\n",
              "      <td>-11.599362</td>\n",
              "      <td>7.609711</td>\n",
              "      <td>-8.686592</td>\n",
              "      <td>-3.201546</td>\n",
              "      <td>-5.693836</td>\n",
              "      <td>10.478092</td>\n",
              "      <td>-5.883031</td>\n",
              "      <td>-4.733943</td>\n",
              "      <td>-2.132558</td>\n",
              "      <td>-9.512157</td>\n",
              "      <td>0.184631</td>\n",
              "      <td>-8.506297</td>\n",
              "      <td>6.272028</td>\n",
              "    </tr>\n",
              "    <tr>\n",
              "      <th>4</th>\n",
              "      <td>0.981739</td>\n",
              "      <td>5.057586</td>\n",
              "      <td>6.035421</td>\n",
              "      <td>6.643368</td>\n",
              "      <td>-9.726732</td>\n",
              "      <td>7.433159</td>\n",
              "      <td>8.389728</td>\n",
              "      <td>-5.688372</td>\n",
              "      <td>4.057948</td>\n",
              "      <td>-1.067151</td>\n",
              "      <td>-0.113727</td>\n",
              "      <td>3.773041</td>\n",
              "      <td>7.207748</td>\n",
              "      <td>8.921411</td>\n",
              "      <td>9.088559</td>\n",
              "      <td>3.895733</td>\n",
              "      <td>-7.498781</td>\n",
              "      <td>8.757467</td>\n",
              "      <td>-2.416330</td>\n",
              "      <td>4.642086</td>\n",
              "      <td>7.698492</td>\n",
              "      <td>-0.165685</td>\n",
              "      <td>6.799617</td>\n",
              "      <td>9.441419</td>\n",
              "      <td>10.733818</td>\n",
              "      <td>-3.927096</td>\n",
              "      <td>-4.872414</td>\n",
              "      <td>-7.582712</td>\n",
              "      <td>-0.734257</td>\n",
              "      <td>7.437834</td>\n",
              "      <td>10.115172</td>\n",
              "    </tr>\n",
              "    <tr>\n",
              "      <th>5</th>\n",
              "      <td>3.505251</td>\n",
              "      <td>1.657214</td>\n",
              "      <td>2.027504</td>\n",
              "      <td>6.243717</td>\n",
              "      <td>-2.966860</td>\n",
              "      <td>-7.778522</td>\n",
              "      <td>7.457068</td>\n",
              "      <td>5.803688</td>\n",
              "      <td>2.910542</td>\n",
              "      <td>7.486494</td>\n",
              "      <td>-2.028465</td>\n",
              "      <td>5.427090</td>\n",
              "      <td>4.780364</td>\n",
              "      <td>4.188361</td>\n",
              "      <td>11.324828</td>\n",
              "      <td>10.388716</td>\n",
              "      <td>7.653717</td>\n",
              "      <td>-3.519595</td>\n",
              "      <td>-10.954537</td>\n",
              "      <td>8.408032</td>\n",
              "      <td>-11.121467</td>\n",
              "      <td>-2.957681</td>\n",
              "      <td>-4.487006</td>\n",
              "      <td>7.719704</td>\n",
              "      <td>-4.678739</td>\n",
              "      <td>-3.802615</td>\n",
              "      <td>-3.399993</td>\n",
              "      <td>-8.945305</td>\n",
              "      <td>0.878750</td>\n",
              "      <td>-8.450332</td>\n",
              "      <td>3.314428</td>\n",
              "    </tr>\n",
              "    <tr>\n",
              "      <th>...</th>\n",
              "      <td>...</td>\n",
              "      <td>...</td>\n",
              "      <td>...</td>\n",
              "      <td>...</td>\n",
              "      <td>...</td>\n",
              "      <td>...</td>\n",
              "      <td>...</td>\n",
              "      <td>...</td>\n",
              "      <td>...</td>\n",
              "      <td>...</td>\n",
              "      <td>...</td>\n",
              "      <td>...</td>\n",
              "      <td>...</td>\n",
              "      <td>...</td>\n",
              "      <td>...</td>\n",
              "      <td>...</td>\n",
              "      <td>...</td>\n",
              "      <td>...</td>\n",
              "      <td>...</td>\n",
              "      <td>...</td>\n",
              "      <td>...</td>\n",
              "      <td>...</td>\n",
              "      <td>...</td>\n",
              "      <td>...</td>\n",
              "      <td>...</td>\n",
              "      <td>...</td>\n",
              "      <td>...</td>\n",
              "      <td>...</td>\n",
              "      <td>...</td>\n",
              "      <td>...</td>\n",
              "      <td>...</td>\n",
              "    </tr>\n",
              "    <tr>\n",
              "      <th>9995</th>\n",
              "      <td>8.570252</td>\n",
              "      <td>-8.547499</td>\n",
              "      <td>-6.627521</td>\n",
              "      <td>-0.738247</td>\n",
              "      <td>5.041646</td>\n",
              "      <td>8.379100</td>\n",
              "      <td>8.531765</td>\n",
              "      <td>1.861021</td>\n",
              "      <td>-1.478735</td>\n",
              "      <td>-1.421689</td>\n",
              "      <td>4.005371</td>\n",
              "      <td>2.120472</td>\n",
              "      <td>5.035665</td>\n",
              "      <td>-3.002748</td>\n",
              "      <td>8.055580</td>\n",
              "      <td>7.182527</td>\n",
              "      <td>-6.023813</td>\n",
              "      <td>2.258496</td>\n",
              "      <td>7.288834</td>\n",
              "      <td>-8.409583</td>\n",
              "      <td>-10.399815</td>\n",
              "      <td>7.948018</td>\n",
              "      <td>5.700540</td>\n",
              "      <td>6.105651</td>\n",
              "      <td>7.671632</td>\n",
              "      <td>-3.864644</td>\n",
              "      <td>-7.989939</td>\n",
              "      <td>5.141135</td>\n",
              "      <td>-1.598991</td>\n",
              "      <td>5.689240</td>\n",
              "      <td>-17.094999</td>\n",
              "    </tr>\n",
              "    <tr>\n",
              "      <th>9996</th>\n",
              "      <td>-10.438886</td>\n",
              "      <td>5.510990</td>\n",
              "      <td>-1.623076</td>\n",
              "      <td>-9.326215</td>\n",
              "      <td>-6.385069</td>\n",
              "      <td>6.938657</td>\n",
              "      <td>-6.563878</td>\n",
              "      <td>-8.289501</td>\n",
              "      <td>-5.761271</td>\n",
              "      <td>7.928461</td>\n",
              "      <td>3.251750</td>\n",
              "      <td>1.482022</td>\n",
              "      <td>1.123383</td>\n",
              "      <td>5.989536</td>\n",
              "      <td>1.200461</td>\n",
              "      <td>0.735872</td>\n",
              "      <td>4.707533</td>\n",
              "      <td>8.231279</td>\n",
              "      <td>-10.546153</td>\n",
              "      <td>-4.309346</td>\n",
              "      <td>5.425850</td>\n",
              "      <td>2.465032</td>\n",
              "      <td>-3.326625</td>\n",
              "      <td>1.770823</td>\n",
              "      <td>2.090981</td>\n",
              "      <td>-3.050056</td>\n",
              "      <td>6.267379</td>\n",
              "      <td>-6.057672</td>\n",
              "      <td>8.780392</td>\n",
              "      <td>-10.478475</td>\n",
              "      <td>11.021979</td>\n",
              "    </tr>\n",
              "    <tr>\n",
              "      <th>9997</th>\n",
              "      <td>-2.171386</td>\n",
              "      <td>-3.572374</td>\n",
              "      <td>-2.281624</td>\n",
              "      <td>9.609861</td>\n",
              "      <td>3.647927</td>\n",
              "      <td>-7.071517</td>\n",
              "      <td>5.912975</td>\n",
              "      <td>-1.965732</td>\n",
              "      <td>6.946705</td>\n",
              "      <td>-2.177729</td>\n",
              "      <td>-5.651136</td>\n",
              "      <td>-0.720117</td>\n",
              "      <td>-7.696067</td>\n",
              "      <td>-6.032868</td>\n",
              "      <td>-3.678252</td>\n",
              "      <td>2.299576</td>\n",
              "      <td>-0.520670</td>\n",
              "      <td>6.917413</td>\n",
              "      <td>1.350440</td>\n",
              "      <td>-7.531208</td>\n",
              "      <td>6.656311</td>\n",
              "      <td>-5.945639</td>\n",
              "      <td>-10.804183</td>\n",
              "      <td>-1.086603</td>\n",
              "      <td>5.390014</td>\n",
              "      <td>-5.256982</td>\n",
              "      <td>-3.354696</td>\n",
              "      <td>9.149446</td>\n",
              "      <td>9.679640</td>\n",
              "      <td>3.251425</td>\n",
              "      <td>-7.144748</td>\n",
              "    </tr>\n",
              "    <tr>\n",
              "      <th>9998</th>\n",
              "      <td>0.578091</td>\n",
              "      <td>6.232268</td>\n",
              "      <td>5.490281</td>\n",
              "      <td>5.679421</td>\n",
              "      <td>-9.322961</td>\n",
              "      <td>7.872634</td>\n",
              "      <td>8.821317</td>\n",
              "      <td>-4.478623</td>\n",
              "      <td>6.994061</td>\n",
              "      <td>-1.793188</td>\n",
              "      <td>0.012370</td>\n",
              "      <td>3.955197</td>\n",
              "      <td>8.481484</td>\n",
              "      <td>6.869151</td>\n",
              "      <td>11.919347</td>\n",
              "      <td>2.971310</td>\n",
              "      <td>-9.245483</td>\n",
              "      <td>6.041311</td>\n",
              "      <td>-1.832211</td>\n",
              "      <td>3.352620</td>\n",
              "      <td>8.421936</td>\n",
              "      <td>0.247541</td>\n",
              "      <td>7.469489</td>\n",
              "      <td>9.172441</td>\n",
              "      <td>11.945841</td>\n",
              "      <td>-4.429715</td>\n",
              "      <td>-6.446364</td>\n",
              "      <td>-4.332076</td>\n",
              "      <td>0.118959</td>\n",
              "      <td>7.302469</td>\n",
              "      <td>12.464536</td>\n",
              "    </tr>\n",
              "    <tr>\n",
              "      <th>9999</th>\n",
              "      <td>-0.558383</td>\n",
              "      <td>-4.232199</td>\n",
              "      <td>-1.561527</td>\n",
              "      <td>4.578128</td>\n",
              "      <td>5.214853</td>\n",
              "      <td>10.834549</td>\n",
              "      <td>4.136782</td>\n",
              "      <td>-0.257248</td>\n",
              "      <td>-8.111795</td>\n",
              "      <td>1.044219</td>\n",
              "      <td>-0.176064</td>\n",
              "      <td>-6.682805</td>\n",
              "      <td>2.564414</td>\n",
              "      <td>7.341102</td>\n",
              "      <td>4.936028</td>\n",
              "      <td>2.603198</td>\n",
              "      <td>4.570491</td>\n",
              "      <td>9.076012</td>\n",
              "      <td>8.423855</td>\n",
              "      <td>5.346889</td>\n",
              "      <td>-3.866453</td>\n",
              "      <td>-6.109065</td>\n",
              "      <td>10.444767</td>\n",
              "      <td>-1.589327</td>\n",
              "      <td>-1.254135</td>\n",
              "      <td>3.608581</td>\n",
              "      <td>3.814310</td>\n",
              "      <td>4.219695</td>\n",
              "      <td>-0.271109</td>\n",
              "      <td>9.799393</td>\n",
              "      <td>-8.464397</td>\n",
              "    </tr>\n",
              "  </tbody>\n",
              "</table>\n",
              "<p>9999 rows × 31 columns</p>\n",
              "</div>"
            ],
            "text/plain": [
              "             0         1         2   ...        28         29         30\n",
              "1     -0.222700 -4.318604 -1.021648  ... -1.333644   9.095333  -8.637208\n",
              "2    -10.034376  6.161892 -3.954476  ...  7.307131  -8.493889  12.323783\n",
              "3      2.807811  3.136014  3.270353  ...  0.184631  -8.506297   6.272028\n",
              "4      0.981739  5.057586  6.035421  ... -0.734257   7.437834  10.115172\n",
              "5      3.505251  1.657214  2.027504  ...  0.878750  -8.450332   3.314428\n",
              "...         ...       ...       ...  ...       ...        ...        ...\n",
              "9995   8.570252 -8.547499 -6.627521  ... -1.598991   5.689240 -17.094999\n",
              "9996 -10.438886  5.510990 -1.623076  ...  8.780392 -10.478475  11.021979\n",
              "9997  -2.171386 -3.572374 -2.281624  ...  9.679640   3.251425  -7.144748\n",
              "9998   0.578091  6.232268  5.490281  ...  0.118959   7.302469  12.464536\n",
              "9999  -0.558383 -4.232199 -1.561527  ... -0.271109   9.799393  -8.464397\n",
              "\n",
              "[9999 rows x 31 columns]"
            ]
          },
          "metadata": {
            "tags": []
          },
          "execution_count": 10
        }
      ]
    },
    {
      "cell_type": "markdown",
      "metadata": {
        "id": "K--JKDCtLzF_"
      },
      "source": [
        "**2.ทำการ clustering data แล้วทำ visualize ให้ข้อมูลออกมาในรูปแบบ 2 มิติ**"
      ]
    },
    {
      "cell_type": "code",
      "metadata": {
        "id": "PhKiA3nYL4me"
      },
      "source": [
        "from sklearn.cluster import KMeans\n",
        "#import function ที่ต้องการใช้ในการทำ K-mean "
      ],
      "execution_count": null,
      "outputs": []
    },
    {
      "cell_type": "code",
      "metadata": {
        "id": "PNYnf4a5MAz3"
      },
      "source": [
        "kmeans = KMeans(n_clusters=3,random_state=2021) #Defind ทำการกำหนดค่า k ที่เราต้องการ \n",
        "#random_state=2021 เริ่มสุ่มที่จุดเดียวกัน จะได้มีกลุ่มเหมือนกัน"
      ],
      "execution_count": null,
      "outputs": []
    },
    {
      "cell_type": "code",
      "metadata": {
        "colab": {
          "base_uri": "https://localhost:8080/"
        },
        "id": "XuhUm3HQMVvP",
        "outputId": "949b8dfa-304d-4822-8303-bc531cfa1c90"
      },
      "source": [
        "kmeans.fit(Data)"
      ],
      "execution_count": null,
      "outputs": [
        {
          "output_type": "execute_result",
          "data": {
            "text/plain": [
              "KMeans(algorithm='auto', copy_x=True, init='k-means++', max_iter=300,\n",
              "       n_clusters=3, n_init=10, n_jobs=None, precompute_distances='auto',\n",
              "       random_state=2021, tol=0.0001, verbose=0)"
            ]
          },
          "metadata": {
            "tags": []
          },
          "execution_count": 13
        }
      ]
    },
    {
      "cell_type": "code",
      "metadata": {
        "colab": {
          "base_uri": "https://localhost:8080/"
        },
        "id": "pC5wNnVpMYeI",
        "outputId": "a07f8efa-5066-4938-b43d-e8b07aa5d036"
      },
      "source": [
        "kmeans.cluster_centers_ #แสดงจุดที่คำนวณได้"
      ],
      "execution_count": null,
      "outputs": [
        {
          "output_type": "execute_result",
          "data": {
            "text/plain": [
              "array([[ 1.27368952e+00,  2.69721312e+00, -2.18861418e+00,\n",
              "         1.52049597e+00,  1.35948763e+00, -1.66342049e+00,\n",
              "         2.66935986e+00,  2.12110594e+00,  3.97591973e+00,\n",
              "        -2.26167165e+00,  6.99883575e-01, -3.85316449e-01,\n",
              "        -1.36166225e+00, -1.15609100e+00, -3.94378168e+00,\n",
              "        -4.05717315e-01, -4.85074635e-02,  1.73272007e+00,\n",
              "         1.48231748e+00, -1.82873887e+00,  1.04893095e+00,\n",
              "        -9.98687639e-01, -4.45434330e-01, -2.24636768e+00,\n",
              "         3.91775303e+00, -3.05079689e+00,  5.11040188e-01,\n",
              "         2.01566556e+00,  1.31604442e+00,  2.33661803e+00,\n",
              "         5.39442623e+00,  1.36830902e+01],\n",
              "       [-1.95455906e+00,  7.94491819e-01,  3.33008156e-02,\n",
              "        -1.03548443e+00,  6.05310320e-01, -2.90237233e+00,\n",
              "        -1.51176216e+00, -3.07488307e+00, -2.45356592e+00,\n",
              "         3.03728067e+00, -1.05565746e+00,  3.74117892e+00,\n",
              "         3.86391944e+00,  3.43520462e+00,  9.19527635e-01,\n",
              "         4.78632917e+00,  5.14215577e+00,  1.92097748e+00,\n",
              "        -8.14539562e+00,  3.20483831e+00, -1.35193867e+00,\n",
              "        -3.14529346e-02, -2.09361172e+00,  1.49622454e+00,\n",
              "        -5.78703488e-01, -5.54261455e+00,  4.42416769e-01,\n",
              "        -2.29725696e+00,  1.96959589e+00, -8.12395407e+00,\n",
              "         1.58898364e+00, -3.86197703e+01],\n",
              "       [ 2.39934086e+00, -3.52744805e+00, -3.27695305e-01,\n",
              "         4.42870234e+00, -1.62119807e+00,  6.12844393e+00,\n",
              "         4.72883218e+00, -1.94752545e+00, -2.96025895e+00,\n",
              "        -2.12853172e+00,  2.54096603e+00, -4.76928464e-01,\n",
              "         1.49512874e+00,  2.84374119e+00,  5.95967794e+00,\n",
              "         1.84028296e+00, -3.41743980e-01,  3.10535115e+00,\n",
              "         5.10913252e+00, -4.64564037e-01,  5.13463123e-01,\n",
              "         1.99424268e+00,  3.94901713e+00,  1.46825788e+00,\n",
              "         6.13786418e+00,  2.68502559e-01, -1.10373992e+00,\n",
              "         9.54374165e-01, -9.89715881e-01,  7.16275009e+00,\n",
              "        -7.05489610e+00,  3.78137504e+01]])"
            ]
          },
          "metadata": {
            "tags": []
          },
          "execution_count": 14
        }
      ]
    },
    {
      "cell_type": "code",
      "metadata": {
        "colab": {
          "base_uri": "https://localhost:8080/"
        },
        "id": "BJWqg5UsMeGI",
        "outputId": "7ce2b61e-9ea5-4a35-fb72-6e6cae00e81d"
      },
      "source": [
        "y = kmeans.predict(Data) #ทดสอบการจัดกลุ่มของ Data\n",
        "y\n",
        "#เนื่องจากมี data ที่มากเกินไป จึงจะทำ PCA ข้อมูลเพื่อลด dimensions "
      ],
      "execution_count": null,
      "outputs": [
        {
          "output_type": "execute_result",
          "data": {
            "text/plain": [
              "array([2, 2, 1, ..., 0, 2, 2], dtype=int32)"
            ]
          },
          "metadata": {
            "tags": []
          },
          "execution_count": 15
        }
      ]
    },
    {
      "cell_type": "markdown",
      "metadata": {
        "id": "KxgnrcFPMlBH"
      },
      "source": [
        "**ทำ PCA ลด Dimention**"
      ]
    },
    {
      "cell_type": "code",
      "metadata": {
        "id": "_UGLNEs22YCy"
      },
      "source": [
        "from sklearn.decomposition import PCA"
      ],
      "execution_count": null,
      "outputs": []
    },
    {
      "cell_type": "code",
      "metadata": {
        "id": "i9OGiT5bMlk3"
      },
      "source": [
        "pca = PCA(n_components=2)"
      ],
      "execution_count": null,
      "outputs": []
    },
    {
      "cell_type": "code",
      "metadata": {
        "id": "2M5gq8wzMp0e"
      },
      "source": [
        "new_pca = pca.fit_transform(Data)"
      ],
      "execution_count": null,
      "outputs": []
    },
    {
      "cell_type": "markdown",
      "metadata": {
        "id": "-h1Ay0zMwFfl"
      },
      "source": [
        "**plot กราฟเพื่อดูการกระจายกลุ่ม**"
      ]
    },
    {
      "cell_type": "code",
      "metadata": {
        "id": "UCO2xHwYMrtm"
      },
      "source": [
        "import matplotlib.pyplot as plt"
      ],
      "execution_count": null,
      "outputs": []
    },
    {
      "cell_type": "code",
      "metadata": {
        "colab": {
          "base_uri": "https://localhost:8080/",
          "height": 279
        },
        "id": "X8XC_A8mMyjw",
        "outputId": "220a6191-51a5-428e-a647-2f72c190fa33"
      },
      "source": [
        "kmeans = KMeans(n_clusters= 3,random_state=2021)\n",
        "kmeans.fit(newdata)\n",
        "y = kmeans.predict(newdata)\n",
        "plt.scatter(new_pca[:,0],new_pca[:,1],c=y,alpha=0.5)"
      ],
      "execution_count": null,
      "outputs": [
        {
          "output_type": "display_data",
          "data": {
            "image/png": "[encoded data removed]",
            "text/plain": [
              "<Figure size 432x288 with 1 Axes>"
            ]
          },
          "metadata": {
            "tags": [],
            "needs_background": "light"
          }
        }
      ]
    },
    {
      "cell_type": "markdown",
      "metadata": {
        "id": "T1UyonlmM29e"
      },
      "source": [
        "###หาค่า k ด้วยวิธี  elbow method "
      ]
    },
    {
      "cell_type": "code",
      "metadata": {
        "colab": {
          "base_uri": "https://localhost:8080/"
        },
        "id": "Oyqr4NAQM4V-",
        "outputId": "eb96bd10-9008-4904-dce7-2c50dbedbd92"
      },
      "source": [
        "kmeans.inertia_  "
      ],
      "execution_count": null,
      "outputs": [
        {
          "output_type": "execute_result",
          "data": {
            "text/plain": [
              "5136927.9223541105"
            ]
          },
          "metadata": {
            "tags": []
          },
          "execution_count": 21
        }
      ]
    },
    {
      "cell_type": "code",
      "metadata": {
        "id": "3LykMrpUNA3X"
      },
      "source": [
        "SSE = list()\n",
        "for k in [1,2,3,4,5,6,7,8]:\n",
        "    kmeans = KMeans(n_clusters = k , random_state = 2021)\n",
        "    XX = kmeans.fit(Data)\n",
        "    SSE.append(kmeans.inertia_)"
      ],
      "execution_count": null,
      "outputs": []
    },
    {
      "cell_type": "code",
      "metadata": {
        "colab": {
          "base_uri": "https://localhost:8080/"
        },
        "id": "oF9RniNYNEHY",
        "outputId": "fe82c030-8707-45e0-db99-6c193f87a56f"
      },
      "source": [
        "SSE #เมื่อรันข้อมูลแล้วจะมีข้อมูลออกมาทั้งหมด 8 ตัวด้วยกัน"
      ],
      "execution_count": null,
      "outputs": [
        {
          "output_type": "execute_result",
          "data": {
            "text/plain": [
              "[20638831.92010504,\n",
              " 12176335.794695133,\n",
              " 10196224.23516815,\n",
              " 8970661.80275478,\n",
              " 7903901.912406155,\n",
              " 6875446.393153721,\n",
              " 6150175.424016003,\n",
              " 5136927.9223541105]"
            ]
          },
          "metadata": {
            "tags": []
          },
          "execution_count": 23
        }
      ]
    },
    {
      "cell_type": "code",
      "metadata": {
        "colab": {
          "base_uri": "https://localhost:8080/",
          "height": 290
        },
        "id": "vtSFN1TBNHVm",
        "outputId": "45a52bcf-64ce-4232-960d-cb584c3cd7be"
      },
      "source": [
        "#นำค่า SSE ที่ได้มา plot กราฟเพื่อดูว่ามี k กี่กลุ่ม\n",
        "plt.plot([1,2,3,4,5,6,7,8],SSE,'o-b')\n",
        "plt.xlabel('k')\n",
        "plt.ylabel('SSE');"
      ],
      "execution_count": null,
      "outputs": [
        {
          "output_type": "display_data",
          "data": {
            "image/png": "[encoded data removed]",
            "text/plain": [
              "<Figure size 432x288 with 1 Axes>"
            ]
          },
          "metadata": {
            "tags": [],
            "needs_background": "light"
          }
        }
      ]
    },
    {
      "cell_type": "markdown",
      "metadata": {
        "id": "naWclCz0NLUX"
      },
      "source": [
        "k=3 กลุ่ม เพราะ k=3 อยู่ตรงข้อศอก\n"
      ]
    },
    {
      "cell_type": "markdown",
      "metadata": {
        "id": "uUv_-lSpWX0s"
      },
      "source": [
        "###หาค่า k ด้วยวิธี silhouette coefficient "
      ]
    },
    {
      "cell_type": "code",
      "metadata": {
        "id": "aY_NyLh7NMp3"
      },
      "source": [
        "from sklearn import metrics #import function metrics "
      ],
      "execution_count": null,
      "outputs": []
    },
    {
      "cell_type": "code",
      "metadata": {
        "id": "eASxK14xNS9H"
      },
      "source": [
        "SilH = list()\n",
        "for k in [2,3,4,5,6,7,8]:\n",
        "    kmeans = KMeans(n_clusters = k , random_state = 2021)\n",
        "    kmeans.fit(Data)\n",
        "    score = metrics.silhouette_score(Data,kmeans.labels_)\n",
        "    SilH.append(score)\n",
        "    #การทำ Silhouette Scores ต้องคิดข้อมูลหลายๆกลุ่ม จะคิดแค่กลุ่มเดียวไม่ได้"
      ],
      "execution_count": null,
      "outputs": []
    },
    {
      "cell_type": "code",
      "metadata": {
        "colab": {
          "base_uri": "https://localhost:8080/",
          "height": 279
        },
        "id": "9xetmPReNZn6",
        "outputId": "15c2142d-0caa-4f77-9a4e-63c47d40b77d"
      },
      "source": [
        "plt.plot([2,3,4,5,6,7,8],SilH,'o-r')\n",
        "plt.xlabel('k')\n",
        "plt.ylabel('SilH');\n",
        "#ถ้ามีค่ามากแสดงว่าใกล้กันมาก และจะมีค่าตั้งแต่-1ถึง 1"
      ],
      "execution_count": null,
      "outputs": [
        {
          "output_type": "display_data",
          "data": {
            "image/png": "[encoded data removed]",
            "text/plain": [
              "<Figure size 432x288 with 1 Axes>"
            ]
          },
          "metadata": {
            "tags": [],
            "needs_background": "light"
          }
        }
      ]
    },
    {
      "cell_type": "code",
      "metadata": {
        "id": "3Bd1vcovGImZ",
        "colab": {
          "base_uri": "https://localhost:8080/",
          "height": 282
        },
        "outputId": "3f2428b8-fe3e-4f2c-9ace-9cae15a46a20"
      },
      "source": [
        "kmeans = KMeans(random_state=2021)\n",
        "kmeans.fit(Data)\n",
        "y = kmeans.predict(Data)\n",
        "plt.scatter(new_pca[:,0],new_pca[:,1],c=y)"
      ],
      "execution_count": null,
      "outputs": [
        {
          "output_type": "execute_result",
          "data": {
            "text/plain": [
              "<matplotlib.collections.PathCollection at 0x7f6db76af690>"
            ]
          },
          "metadata": {
            "tags": []
          },
          "execution_count": 52
        },
        {
          "output_type": "display_data",
          "data": {
            "image/png": "[encoded data removed]",
            "text/plain": [
              "<Figure size 432x288 with 1 Axes>"
            ]
          },
          "metadata": {
            "tags": [],
            "needs_background": "light"
          }
        }
      ]
    },
    {
      "cell_type": "markdown",
      "metadata": {
        "id": "OnAOaMe2Nn5A"
      },
      "source": [
        "**3.ลด Dimension ของข้อมูลเหลือ 2 มิติ แล้วทำ clustering แล้ว visualize ข้อมูลแบบ 2 มิติ**"
      ]
    },
    {
      "cell_type": "markdown",
      "metadata": {
        "id": "gtWgXG5LN9HA"
      },
      "source": [
        "**ใช้วิธีการ MDS**"
      ]
    },
    {
      "cell_type": "code",
      "metadata": {
        "id": "nyXhtUmQNqgw"
      },
      "source": [
        "from sklearn.manifold import MDS"
      ],
      "execution_count": null,
      "outputs": []
    },
    {
      "cell_type": "code",
      "metadata": {
        "id": "z1yw-bgfOCQx"
      },
      "source": [
        "mds = MDS(n_components=2)"
      ],
      "execution_count": null,
      "outputs": []
    },
    {
      "cell_type": "code",
      "metadata": {
        "id": "NRHnSot0OFJ4"
      },
      "source": [
        "New_mds = mds.fit_transform(Data) #คำนวณระยะห่างระหว่างจุด"
      ],
      "execution_count": null,
      "outputs": []
    },
    {
      "cell_type": "code",
      "metadata": {
        "id": "EZhH6HftTgCo"
      },
      "source": [
        "kmeans2 = KMeans(n_clusters=3,random_state=2021)  \n",
        "kmeans2.fit(Data) \n",
        "b = kmeans2.predict(Data)"
      ],
      "execution_count": null,
      "outputs": []
    },
    {
      "cell_type": "code",
      "metadata": {
        "id": "mzhNCU_GEMeh",
        "colab": {
          "base_uri": "https://localhost:8080/",
          "height": 282
        },
        "outputId": "3ae0efa1-eebc-49cb-dc90-f785f762f4f5"
      },
      "source": [
        "plt.scatter(New_mds[:,0],New_mds[:,1],c=b,alpha=0.5)"
      ],
      "execution_count": null,
      "outputs": [
        {
          "output_type": "execute_result",
          "data": {
            "text/plain": [
              "<matplotlib.collections.PathCollection at 0x7f6db781d3d0>"
            ]
          },
          "metadata": {
            "tags": []
          },
          "execution_count": 46
        },
        {
          "output_type": "display_data",
          "data": {
            "image/png": "[encoded data removed]",
            "text/plain": [
              "<Figure size 432x288 with 1 Axes>"
            ]
          },
          "metadata": {
            "tags": [],
            "needs_background": "light"
          }
        }
      ]
    },
    {
      "cell_type": "markdown",
      "metadata": {
        "id": "J5eLMaZUxvuP"
      },
      "source": [
        "\n",
        "จากการทำข้อ 2 และข้อ 3 ให้ลดจำนวน Dimension ของข้อมูลก่อน แล้วจึงทำ clustering จึงทำให้ผลลัพธ์ออกมาแตกต่างกัน"
      ]
    },
    {
      "cell_type": "markdown",
      "metadata": {
        "id": "0lM-wgQBTm2l"
      },
      "source": [
        "**4.เปรียบเทียบความแตกต่างของผลข้อ 2. กับ ข้อ 3.**"
      ]
    },
    {
      "cell_type": "code",
      "metadata": {
        "id": "32yIBv5lTrFd",
        "colab": {
          "base_uri": "https://localhost:8080/",
          "height": 282
        },
        "outputId": "7f8eed00-9e8c-44c1-90a4-a8d556ca3a84"
      },
      "source": [
        "kmeans = KMeans(random_state=2021)\n",
        "kmeans.fit(Data)\n",
        "y = kmeans.predict(Data)\n",
        "plt.scatter(new_pca[:,0],new_pca[:,1],c=y)\n",
        "#กราฟข้อ 2"
      ],
      "execution_count": null,
      "outputs": [
        {
          "output_type": "execute_result",
          "data": {
            "text/plain": [
              "<matplotlib.collections.PathCollection at 0x7f6db75e0b90>"
            ]
          },
          "metadata": {
            "tags": []
          },
          "execution_count": 54
        },
        {
          "output_type": "display_data",
          "data": {
            "image/png": "[encoded data removed]",
            "text/plain": [
              "<Figure size 432x288 with 1 Axes>"
            ]
          },
          "metadata": {
            "tags": [],
            "needs_background": "light"
          }
        }
      ]
    },
    {
      "cell_type": "code",
      "metadata": {
        "id": "o55sQEw3yEt8",
        "colab": {
          "base_uri": "https://localhost:8080/",
          "height": 282
        },
        "outputId": "5c418b45-172b-41ef-e040-6c5f4ca5b3a7"
      },
      "source": [
        "kmeans2 = KMeans(n_clusters=3,random_state=2021)  \n",
        "kmeans2.fit(Data) \n",
        "b = kmeans2.predict(Data)\n",
        "plt.scatter(New_mds[:,0],New_mds[:,1],c=b,alpha=0.5)\n",
        "#กราฟข้อ 3"
      ],
      "execution_count": null,
      "outputs": [
        {
          "output_type": "execute_result",
          "data": {
            "text/plain": [
              "<matplotlib.collections.PathCollection at 0x7f6db7559990>"
            ]
          },
          "metadata": {
            "tags": []
          },
          "execution_count": 55
        },
        {
          "output_type": "display_data",
          "data": {
            "image/png": "[encoded data removed]",
            "text/plain": [
              "<Figure size 432x288 with 1 Axes>"
            ]
          },
          "metadata": {
            "tags": [],
            "needs_background": "light"
          }
        }
      ]
    },
    {
      "cell_type": "markdown",
      "metadata": {
        "id": "x49Y28_lIvkx"
      },
      "source": [
        "จากการทำ clustering และ visualize ข้อมูลแบบ 2 มิติ ข้อ 2 กับ ข้อ 3 และลด Dimension ของข้อมูลเหลือ 2 มิติ แล้วทำ clustering โดยลด Dimension ด้วยวิธี MDS ซึ่งวิธีการ MDS จะสนใจระยะห่างระหว่างจุด\n",
        "จะเห็นว่ากราฟข้อ 3 มีการกระจายข้อมูลมากกว่าข้อ 2 แต่ ข้อ 2 การกระจายของข้อมูลยังมีการซ้อนทับกันอยู่ เนื่องจากไม่มีการลด dimension"
      ]
    }
  ]
}