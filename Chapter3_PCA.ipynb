{
  "nbformat": 4,
  "nbformat_minor": 0,
  "metadata": {
    "colab": {
      "name": "Chapter3 PCA.ipynb",
      "provenance": [],
      "collapsed_sections": [],
      "authorship_tag": "ABX9TyMH4o+5qE2XKrYgL6aOhGB4",
      "include_colab_link": true
    },
    "kernelspec": {
      "name": "python3",
      "display_name": "Python 3"
    }
  },
  "cells": [
    {
      "cell_type": "markdown",
      "metadata": {
        "id": "view-in-github",
        "colab_type": "text"
      },
      "source": [
        "<a href=\"https://colab.research.google.com/github/Thitichaya2000/multivariate/blob/main/Chapter3_PCA.ipynb\" target=\"_parent\"><img src=\"https://colab.research.google.com/assets/colab-badge.svg\" alt=\"Open In Colab\"/></a>"
      ]
    },
    {
      "cell_type": "markdown",
      "metadata": {
        "id": "NCaMyf-yzrW4"
      },
      "source": [
        "#PCA (Principle Component Analysis)"
      ]
    },
    {
      "cell_type": "markdown",
      "metadata": {
        "id": "2yDFON7CZ8bm"
      },
      "source": [
        "Project\r\n",
        "![hjkkl..png](data:image/png;base64,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)\r\n",
        "\r\n",
        "\r\n",
        "1. Standardizing the Data (ปรับ mean และ std ให้มี mean=0 std=1)\r\n",
        "\r\n",
        "2. Caculating the covariance matrix(หา covariance matrix ของข้อมูลเรา )\r\n",
        "\r\n",
        "3. Computing the Eigenvectors and Eigenvalues(คำนวณ eigen value-vectors)\r\n",
        "\r\n",
        "4. Picking Principal Components Using the Explained Variance(เลือกมาเฉพาะ eigens ที่จำเป็น)\r\n",
        "\r\n",
        "5. Project Data Onto Lower-Dimensional Linear Subspace(map data ไปบนแกนใหม่)"
      ]
    },
    {
      "cell_type": "markdown",
      "metadata": {
        "id": "VqGAMNjTz2xX"
      },
      "source": [
        "#PCA step by step"
      ]
    },
    {
      "cell_type": "code",
      "metadata": {
        "id": "_LSCOJE3erFx"
      },
      "source": [
        "import pandas as pd "
      ],
      "execution_count": null,
      "outputs": []
    },
    {
      "cell_type": "markdown",
      "metadata": {
        "id": "b72A0NjEz_xX"
      },
      "source": [
        "##load data"
      ]
    },
    {
      "cell_type": "code",
      "metadata": {
        "colab": {
          "base_uri": "https://localhost:8080/",
          "height": 399
        },
        "id": "rx8tDB6KehIX",
        "outputId": "62b0ed42-90ed-4e6a-95e8-3458a833349e"
      },
      "source": [
        "example_df = pd.read_csv('https://raw.github.com/pandas-dev/pandas/master/pandas/tests/io/data/csv/iris.csv')\r\n",
        "example_df  ##อย่าลืม import pandas"
      ],
      "execution_count": null,
      "outputs": [
        {
          "output_type": "execute_result",
          "data": {
            "text/html": [
              "<div>\n",
              "<style scoped>\n",
              "    .dataframe tbody tr th:only-of-type {\n",
              "        vertical-align: middle;\n",
              "    }\n",
              "\n",
              "    .dataframe tbody tr th {\n",
              "        vertical-align: top;\n",
              "    }\n",
              "\n",
              "    .dataframe thead th {\n",
              "        text-align: right;\n",
              "    }\n",
              "</style>\n",
              "<table border=\"1\" class=\"dataframe\">\n",
              "  <thead>\n",
              "    <tr style=\"text-align: right;\">\n",
              "      <th></th>\n",
              "      <th>SepalLength</th>\n",
              "      <th>SepalWidth</th>\n",
              "      <th>PetalLength</th>\n",
              "      <th>PetalWidth</th>\n",
              "      <th>Name</th>\n",
              "    </tr>\n",
              "  </thead>\n",
              "  <tbody>\n",
              "    <tr>\n",
              "      <th>0</th>\n",
              "      <td>5.1</td>\n",
              "      <td>3.5</td>\n",
              "      <td>1.4</td>\n",
              "      <td>0.2</td>\n",
              "      <td>Iris-setosa</td>\n",
              "    </tr>\n",
              "    <tr>\n",
              "      <th>1</th>\n",
              "      <td>4.9</td>\n",
              "      <td>3.0</td>\n",
              "      <td>1.4</td>\n",
              "      <td>0.2</td>\n",
              "      <td>Iris-setosa</td>\n",
              "    </tr>\n",
              "    <tr>\n",
              "      <th>2</th>\n",
              "      <td>4.7</td>\n",
              "      <td>3.2</td>\n",
              "      <td>1.3</td>\n",
              "      <td>0.2</td>\n",
              "      <td>Iris-setosa</td>\n",
              "    </tr>\n",
              "    <tr>\n",
              "      <th>3</th>\n",
              "      <td>4.6</td>\n",
              "      <td>3.1</td>\n",
              "      <td>1.5</td>\n",
              "      <td>0.2</td>\n",
              "      <td>Iris-setosa</td>\n",
              "    </tr>\n",
              "    <tr>\n",
              "      <th>4</th>\n",
              "      <td>5.0</td>\n",
              "      <td>3.6</td>\n",
              "      <td>1.4</td>\n",
              "      <td>0.2</td>\n",
              "      <td>Iris-setosa</td>\n",
              "    </tr>\n",
              "    <tr>\n",
              "      <th>...</th>\n",
              "      <td>...</td>\n",
              "      <td>...</td>\n",
              "      <td>...</td>\n",
              "      <td>...</td>\n",
              "      <td>...</td>\n",
              "    </tr>\n",
              "    <tr>\n",
              "      <th>145</th>\n",
              "      <td>6.7</td>\n",
              "      <td>3.0</td>\n",
              "      <td>5.2</td>\n",
              "      <td>2.3</td>\n",
              "      <td>Iris-virginica</td>\n",
              "    </tr>\n",
              "    <tr>\n",
              "      <th>146</th>\n",
              "      <td>6.3</td>\n",
              "      <td>2.5</td>\n",
              "      <td>5.0</td>\n",
              "      <td>1.9</td>\n",
              "      <td>Iris-virginica</td>\n",
              "    </tr>\n",
              "    <tr>\n",
              "      <th>147</th>\n",
              "      <td>6.5</td>\n",
              "      <td>3.0</td>\n",
              "      <td>5.2</td>\n",
              "      <td>2.0</td>\n",
              "      <td>Iris-virginica</td>\n",
              "    </tr>\n",
              "    <tr>\n",
              "      <th>148</th>\n",
              "      <td>6.2</td>\n",
              "      <td>3.4</td>\n",
              "      <td>5.4</td>\n",
              "      <td>2.3</td>\n",
              "      <td>Iris-virginica</td>\n",
              "    </tr>\n",
              "    <tr>\n",
              "      <th>149</th>\n",
              "      <td>5.9</td>\n",
              "      <td>3.0</td>\n",
              "      <td>5.1</td>\n",
              "      <td>1.8</td>\n",
              "      <td>Iris-virginica</td>\n",
              "    </tr>\n",
              "  </tbody>\n",
              "</table>\n",
              "<p>150 rows × 5 columns</p>\n",
              "</div>"
            ],
            "text/plain": [
              "     SepalLength  SepalWidth  PetalLength  PetalWidth            Name\n",
              "0            5.1         3.5          1.4         0.2     Iris-setosa\n",
              "1            4.9         3.0          1.4         0.2     Iris-setosa\n",
              "2            4.7         3.2          1.3         0.2     Iris-setosa\n",
              "3            4.6         3.1          1.5         0.2     Iris-setosa\n",
              "4            5.0         3.6          1.4         0.2     Iris-setosa\n",
              "..           ...         ...          ...         ...             ...\n",
              "145          6.7         3.0          5.2         2.3  Iris-virginica\n",
              "146          6.3         2.5          5.0         1.9  Iris-virginica\n",
              "147          6.5         3.0          5.2         2.0  Iris-virginica\n",
              "148          6.2         3.4          5.4         2.3  Iris-virginica\n",
              "149          5.9         3.0          5.1         1.8  Iris-virginica\n",
              "\n",
              "[150 rows x 5 columns]"
            ]
          },
          "metadata": {
            "tags": []
          },
          "execution_count": 2
        }
      ]
    },
    {
      "cell_type": "code",
      "metadata": {
        "colab": {
          "base_uri": "https://localhost:8080/",
          "height": 286
        },
        "id": "v9aVp3yTfm1v",
        "outputId": "6942e8e7-8acd-42a2-e546-63916946a2b9"
      },
      "source": [
        "pd.plotting.scatter_matrix(example_df) ;"
      ],
      "execution_count": null,
      "outputs": [
        {
          "output_type": "display_data",
          "data": {
            "image/png": "[encoded data removed]",
            "text/plain": [
              "<Figure size 432x288 with 16 Axes>"
            ]
          },
          "metadata": {
            "tags": [],
            "needs_background": "light"
          }
        }
      ]
    },
    {
      "cell_type": "code",
      "metadata": {
        "id": "dNYH6CqqgrHq"
      },
      "source": [
        "import numpy as np\r\n"
      ],
      "execution_count": null,
      "outputs": []
    },
    {
      "cell_type": "code",
      "metadata": {
        "colab": {
          "base_uri": "https://localhost:8080/"
        },
        "id": "aFOik01Lgwy_",
        "outputId": "ba5b5658-5c73-4aba-9619-17d95cbabcdf"
      },
      "source": [
        "data_matrix = np.array(example_df .iloc[:,:-1])\r\n",
        "data_matrix"
      ],
      "execution_count": null,
      "outputs": [
        {
          "output_type": "execute_result",
          "data": {
            "text/plain": [
              "array([[5.1, 3.5, 1.4, 0.2],\n",
              "       [4.9, 3. , 1.4, 0.2],\n",
              "       [4.7, 3.2, 1.3, 0.2],\n",
              "       [4.6, 3.1, 1.5, 0.2],\n",
              "       [5. , 3.6, 1.4, 0.2],\n",
              "       [5.4, 3.9, 1.7, 0.4],\n",
              "       [4.6, 3.4, 1.4, 0.3],\n",
              "       [5. , 3.4, 1.5, 0.2],\n",
              "       [4.4, 2.9, 1.4, 0.2],\n",
              "       [4.9, 3.1, 1.5, 0.1],\n",
              "       [5.4, 3.7, 1.5, 0.2],\n",
              "       [4.8, 3.4, 1.6, 0.2],\n",
              "       [4.8, 3. , 1.4, 0.1],\n",
              "       [4.3, 3. , 1.1, 0.1],\n",
              "       [5.8, 4. , 1.2, 0.2],\n",
              "       [5.7, 4.4, 1.5, 0.4],\n",
              "       [5.4, 3.9, 1.3, 0.4],\n",
              "       [5.1, 3.5, 1.4, 0.3],\n",
              "       [5.7, 3.8, 1.7, 0.3],\n",
              "       [5.1, 3.8, 1.5, 0.3],\n",
              "       [5.4, 3.4, 1.7, 0.2],\n",
              "       [5.1, 3.7, 1.5, 0.4],\n",
              "       [4.6, 3.6, 1. , 0.2],\n",
              "       [5.1, 3.3, 1.7, 0.5],\n",
              "       [4.8, 3.4, 1.9, 0.2],\n",
              "       [5. , 3. , 1.6, 0.2],\n",
              "       [5. , 3.4, 1.6, 0.4],\n",
              "       [5.2, 3.5, 1.5, 0.2],\n",
              "       [5.2, 3.4, 1.4, 0.2],\n",
              "       [4.7, 3.2, 1.6, 0.2],\n",
              "       [4.8, 3.1, 1.6, 0.2],\n",
              "       [5.4, 3.4, 1.5, 0.4],\n",
              "       [5.2, 4.1, 1.5, 0.1],\n",
              "       [5.5, 4.2, 1.4, 0.2],\n",
              "       [4.9, 3.1, 1.5, 0.1],\n",
              "       [5. , 3.2, 1.2, 0.2],\n",
              "       [5.5, 3.5, 1.3, 0.2],\n",
              "       [4.9, 3.1, 1.5, 0.1],\n",
              "       [4.4, 3. , 1.3, 0.2],\n",
              "       [5.1, 3.4, 1.5, 0.2],\n",
              "       [5. , 3.5, 1.3, 0.3],\n",
              "       [4.5, 2.3, 1.3, 0.3],\n",
              "       [4.4, 3.2, 1.3, 0.2],\n",
              "       [5. , 3.5, 1.6, 0.6],\n",
              "       [5.1, 3.8, 1.9, 0.4],\n",
              "       [4.8, 3. , 1.4, 0.3],\n",
              "       [5.1, 3.8, 1.6, 0.2],\n",
              "       [4.6, 3.2, 1.4, 0.2],\n",
              "       [5.3, 3.7, 1.5, 0.2],\n",
              "       [5. , 3.3, 1.4, 0.2],\n",
              "       [7. , 3.2, 4.7, 1.4],\n",
              "       [6.4, 3.2, 4.5, 1.5],\n",
              "       [6.9, 3.1, 4.9, 1.5],\n",
              "       [5.5, 2.3, 4. , 1.3],\n",
              "       [6.5, 2.8, 4.6, 1.5],\n",
              "       [5.7, 2.8, 4.5, 1.3],\n",
              "       [6.3, 3.3, 4.7, 1.6],\n",
              "       [4.9, 2.4, 3.3, 1. ],\n",
              "       [6.6, 2.9, 4.6, 1.3],\n",
              "       [5.2, 2.7, 3.9, 1.4],\n",
              "       [5. , 2. , 3.5, 1. ],\n",
              "       [5.9, 3. , 4.2, 1.5],\n",
              "       [6. , 2.2, 4. , 1. ],\n",
              "       [6.1, 2.9, 4.7, 1.4],\n",
              "       [5.6, 2.9, 3.6, 1.3],\n",
              "       [6.7, 3.1, 4.4, 1.4],\n",
              "       [5.6, 3. , 4.5, 1.5],\n",
              "       [5.8, 2.7, 4.1, 1. ],\n",
              "       [6.2, 2.2, 4.5, 1.5],\n",
              "       [5.6, 2.5, 3.9, 1.1],\n",
              "       [5.9, 3.2, 4.8, 1.8],\n",
              "       [6.1, 2.8, 4. , 1.3],\n",
              "       [6.3, 2.5, 4.9, 1.5],\n",
              "       [6.1, 2.8, 4.7, 1.2],\n",
              "       [6.4, 2.9, 4.3, 1.3],\n",
              "       [6.6, 3. , 4.4, 1.4],\n",
              "       [6.8, 2.8, 4.8, 1.4],\n",
              "       [6.7, 3. , 5. , 1.7],\n",
              "       [6. , 2.9, 4.5, 1.5],\n",
              "       [5.7, 2.6, 3.5, 1. ],\n",
              "       [5.5, 2.4, 3.8, 1.1],\n",
              "       [5.5, 2.4, 3.7, 1. ],\n",
              "       [5.8, 2.7, 3.9, 1.2],\n",
              "       [6. , 2.7, 5.1, 1.6],\n",
              "       [5.4, 3. , 4.5, 1.5],\n",
              "       [6. , 3.4, 4.5, 1.6],\n",
              "       [6.7, 3.1, 4.7, 1.5],\n",
              "       [6.3, 2.3, 4.4, 1.3],\n",
              "       [5.6, 3. , 4.1, 1.3],\n",
              "       [5.5, 2.5, 4. , 1.3],\n",
              "       [5.5, 2.6, 4.4, 1.2],\n",
              "       [6.1, 3. , 4.6, 1.4],\n",
              "       [5.8, 2.6, 4. , 1.2],\n",
              "       [5. , 2.3, 3.3, 1. ],\n",
              "       [5.6, 2.7, 4.2, 1.3],\n",
              "       [5.7, 3. , 4.2, 1.2],\n",
              "       [5.7, 2.9, 4.2, 1.3],\n",
              "       [6.2, 2.9, 4.3, 1.3],\n",
              "       [5.1, 2.5, 3. , 1.1],\n",
              "       [5.7, 2.8, 4.1, 1.3],\n",
              "       [6.3, 3.3, 6. , 2.5],\n",
              "       [5.8, 2.7, 5.1, 1.9],\n",
              "       [7.1, 3. , 5.9, 2.1],\n",
              "       [6.3, 2.9, 5.6, 1.8],\n",
              "       [6.5, 3. , 5.8, 2.2],\n",
              "       [7.6, 3. , 6.6, 2.1],\n",
              "       [4.9, 2.5, 4.5, 1.7],\n",
              "       [7.3, 2.9, 6.3, 1.8],\n",
              "       [6.7, 2.5, 5.8, 1.8],\n",
              "       [7.2, 3.6, 6.1, 2.5],\n",
              "       [6.5, 3.2, 5.1, 2. ],\n",
              "       [6.4, 2.7, 5.3, 1.9],\n",
              "       [6.8, 3. , 5.5, 2.1],\n",
              "       [5.7, 2.5, 5. , 2. ],\n",
              "       [5.8, 2.8, 5.1, 2.4],\n",
              "       [6.4, 3.2, 5.3, 2.3],\n",
              "       [6.5, 3. , 5.5, 1.8],\n",
              "       [7.7, 3.8, 6.7, 2.2],\n",
              "       [7.7, 2.6, 6.9, 2.3],\n",
              "       [6. , 2.2, 5. , 1.5],\n",
              "       [6.9, 3.2, 5.7, 2.3],\n",
              "       [5.6, 2.8, 4.9, 2. ],\n",
              "       [7.7, 2.8, 6.7, 2. ],\n",
              "       [6.3, 2.7, 4.9, 1.8],\n",
              "       [6.7, 3.3, 5.7, 2.1],\n",
              "       [7.2, 3.2, 6. , 1.8],\n",
              "       [6.2, 2.8, 4.8, 1.8],\n",
              "       [6.1, 3. , 4.9, 1.8],\n",
              "       [6.4, 2.8, 5.6, 2.1],\n",
              "       [7.2, 3. , 5.8, 1.6],\n",
              "       [7.4, 2.8, 6.1, 1.9],\n",
              "       [7.9, 3.8, 6.4, 2. ],\n",
              "       [6.4, 2.8, 5.6, 2.2],\n",
              "       [6.3, 2.8, 5.1, 1.5],\n",
              "       [6.1, 2.6, 5.6, 1.4],\n",
              "       [7.7, 3. , 6.1, 2.3],\n",
              "       [6.3, 3.4, 5.6, 2.4],\n",
              "       [6.4, 3.1, 5.5, 1.8],\n",
              "       [6. , 3. , 4.8, 1.8],\n",
              "       [6.9, 3.1, 5.4, 2.1],\n",
              "       [6.7, 3.1, 5.6, 2.4],\n",
              "       [6.9, 3.1, 5.1, 2.3],\n",
              "       [5.8, 2.7, 5.1, 1.9],\n",
              "       [6.8, 3.2, 5.9, 2.3],\n",
              "       [6.7, 3.3, 5.7, 2.5],\n",
              "       [6.7, 3. , 5.2, 2.3],\n",
              "       [6.3, 2.5, 5. , 1.9],\n",
              "       [6.5, 3. , 5.2, 2. ],\n",
              "       [6.2, 3.4, 5.4, 2.3],\n",
              "       [5.9, 3. , 5.1, 1.8]])"
            ]
          },
          "metadata": {
            "tags": []
          },
          "execution_count": 5
        }
      ]
    },
    {
      "cell_type": "code",
      "metadata": {
        "colab": {
          "base_uri": "https://localhost:8080/"
        },
        "id": "4jfpe2abhFsv",
        "outputId": "d87c5f8e-b3fc-4bf4-c158-2004d290cede"
      },
      "source": [
        "data_matrix = data_matrix.T\r\n",
        "print(data_matrix.shape)\r\n",
        "data_matrix"
      ],
      "execution_count": null,
      "outputs": [
        {
          "output_type": "stream",
          "text": [
            "(4, 150)\n"
          ],
          "name": "stdout"
        },
        {
          "output_type": "execute_result",
          "data": {
            "text/plain": [
              "array([[5.1, 4.9, 4.7, 4.6, 5. , 5.4, 4.6, 5. , 4.4, 4.9, 5.4, 4.8, 4.8,\n",
              "        4.3, 5.8, 5.7, 5.4, 5.1, 5.7, 5.1, 5.4, 5.1, 4.6, 5.1, 4.8, 5. ,\n",
              "        5. , 5.2, 5.2, 4.7, 4.8, 5.4, 5.2, 5.5, 4.9, 5. , 5.5, 4.9, 4.4,\n",
              "        5.1, 5. , 4.5, 4.4, 5. , 5.1, 4.8, 5.1, 4.6, 5.3, 5. , 7. , 6.4,\n",
              "        6.9, 5.5, 6.5, 5.7, 6.3, 4.9, 6.6, 5.2, 5. , 5.9, 6. , 6.1, 5.6,\n",
              "        6.7, 5.6, 5.8, 6.2, 5.6, 5.9, 6.1, 6.3, 6.1, 6.4, 6.6, 6.8, 6.7,\n",
              "        6. , 5.7, 5.5, 5.5, 5.8, 6. , 5.4, 6. , 6.7, 6.3, 5.6, 5.5, 5.5,\n",
              "        6.1, 5.8, 5. , 5.6, 5.7, 5.7, 6.2, 5.1, 5.7, 6.3, 5.8, 7.1, 6.3,\n",
              "        6.5, 7.6, 4.9, 7.3, 6.7, 7.2, 6.5, 6.4, 6.8, 5.7, 5.8, 6.4, 6.5,\n",
              "        7.7, 7.7, 6. , 6.9, 5.6, 7.7, 6.3, 6.7, 7.2, 6.2, 6.1, 6.4, 7.2,\n",
              "        7.4, 7.9, 6.4, 6.3, 6.1, 7.7, 6.3, 6.4, 6. , 6.9, 6.7, 6.9, 5.8,\n",
              "        6.8, 6.7, 6.7, 6.3, 6.5, 6.2, 5.9],\n",
              "       [3.5, 3. , 3.2, 3.1, 3.6, 3.9, 3.4, 3.4, 2.9, 3.1, 3.7, 3.4, 3. ,\n",
              "        3. , 4. , 4.4, 3.9, 3.5, 3.8, 3.8, 3.4, 3.7, 3.6, 3.3, 3.4, 3. ,\n",
              "        3.4, 3.5, 3.4, 3.2, 3.1, 3.4, 4.1, 4.2, 3.1, 3.2, 3.5, 3.1, 3. ,\n",
              "        3.4, 3.5, 2.3, 3.2, 3.5, 3.8, 3. , 3.8, 3.2, 3.7, 3.3, 3.2, 3.2,\n",
              "        3.1, 2.3, 2.8, 2.8, 3.3, 2.4, 2.9, 2.7, 2. , 3. , 2.2, 2.9, 2.9,\n",
              "        3.1, 3. , 2.7, 2.2, 2.5, 3.2, 2.8, 2.5, 2.8, 2.9, 3. , 2.8, 3. ,\n",
              "        2.9, 2.6, 2.4, 2.4, 2.7, 2.7, 3. , 3.4, 3.1, 2.3, 3. , 2.5, 2.6,\n",
              "        3. , 2.6, 2.3, 2.7, 3. , 2.9, 2.9, 2.5, 2.8, 3.3, 2.7, 3. , 2.9,\n",
              "        3. , 3. , 2.5, 2.9, 2.5, 3.6, 3.2, 2.7, 3. , 2.5, 2.8, 3.2, 3. ,\n",
              "        3.8, 2.6, 2.2, 3.2, 2.8, 2.8, 2.7, 3.3, 3.2, 2.8, 3. , 2.8, 3. ,\n",
              "        2.8, 3.8, 2.8, 2.8, 2.6, 3. , 3.4, 3.1, 3. , 3.1, 3.1, 3.1, 2.7,\n",
              "        3.2, 3.3, 3. , 2.5, 3. , 3.4, 3. ],\n",
              "       [1.4, 1.4, 1.3, 1.5, 1.4, 1.7, 1.4, 1.5, 1.4, 1.5, 1.5, 1.6, 1.4,\n",
              "        1.1, 1.2, 1.5, 1.3, 1.4, 1.7, 1.5, 1.7, 1.5, 1. , 1.7, 1.9, 1.6,\n",
              "        1.6, 1.5, 1.4, 1.6, 1.6, 1.5, 1.5, 1.4, 1.5, 1.2, 1.3, 1.5, 1.3,\n",
              "        1.5, 1.3, 1.3, 1.3, 1.6, 1.9, 1.4, 1.6, 1.4, 1.5, 1.4, 4.7, 4.5,\n",
              "        4.9, 4. , 4.6, 4.5, 4.7, 3.3, 4.6, 3.9, 3.5, 4.2, 4. , 4.7, 3.6,\n",
              "        4.4, 4.5, 4.1, 4.5, 3.9, 4.8, 4. , 4.9, 4.7, 4.3, 4.4, 4.8, 5. ,\n",
              "        4.5, 3.5, 3.8, 3.7, 3.9, 5.1, 4.5, 4.5, 4.7, 4.4, 4.1, 4. , 4.4,\n",
              "        4.6, 4. , 3.3, 4.2, 4.2, 4.2, 4.3, 3. , 4.1, 6. , 5.1, 5.9, 5.6,\n",
              "        5.8, 6.6, 4.5, 6.3, 5.8, 6.1, 5.1, 5.3, 5.5, 5. , 5.1, 5.3, 5.5,\n",
              "        6.7, 6.9, 5. , 5.7, 4.9, 6.7, 4.9, 5.7, 6. , 4.8, 4.9, 5.6, 5.8,\n",
              "        6.1, 6.4, 5.6, 5.1, 5.6, 6.1, 5.6, 5.5, 4.8, 5.4, 5.6, 5.1, 5.1,\n",
              "        5.9, 5.7, 5.2, 5. , 5.2, 5.4, 5.1],\n",
              "       [0.2, 0.2, 0.2, 0.2, 0.2, 0.4, 0.3, 0.2, 0.2, 0.1, 0.2, 0.2, 0.1,\n",
              "        0.1, 0.2, 0.4, 0.4, 0.3, 0.3, 0.3, 0.2, 0.4, 0.2, 0.5, 0.2, 0.2,\n",
              "        0.4, 0.2, 0.2, 0.2, 0.2, 0.4, 0.1, 0.2, 0.1, 0.2, 0.2, 0.1, 0.2,\n",
              "        0.2, 0.3, 0.3, 0.2, 0.6, 0.4, 0.3, 0.2, 0.2, 0.2, 0.2, 1.4, 1.5,\n",
              "        1.5, 1.3, 1.5, 1.3, 1.6, 1. , 1.3, 1.4, 1. , 1.5, 1. , 1.4, 1.3,\n",
              "        1.4, 1.5, 1. , 1.5, 1.1, 1.8, 1.3, 1.5, 1.2, 1.3, 1.4, 1.4, 1.7,\n",
              "        1.5, 1. , 1.1, 1. , 1.2, 1.6, 1.5, 1.6, 1.5, 1.3, 1.3, 1.3, 1.2,\n",
              "        1.4, 1.2, 1. , 1.3, 1.2, 1.3, 1.3, 1.1, 1.3, 2.5, 1.9, 2.1, 1.8,\n",
              "        2.2, 2.1, 1.7, 1.8, 1.8, 2.5, 2. , 1.9, 2.1, 2. , 2.4, 2.3, 1.8,\n",
              "        2.2, 2.3, 1.5, 2.3, 2. , 2. , 1.8, 2.1, 1.8, 1.8, 1.8, 2.1, 1.6,\n",
              "        1.9, 2. , 2.2, 1.5, 1.4, 2.3, 2.4, 1.8, 1.8, 2.1, 2.4, 2.3, 1.9,\n",
              "        2.3, 2.5, 2.3, 1.9, 2. , 2.3, 1.8]])"
            ]
          },
          "metadata": {
            "tags": []
          },
          "execution_count": 6
        }
      ]
    },
    {
      "cell_type": "markdown",
      "metadata": {
        "id": "aLHm3DcdgDi_"
      },
      "source": [
        "#Standardizing the Data (ปรับ mean และ std ให้มี mean=0 std=1)\r\n",
        "\r\n",
        "![olikuyjhf.png](data:image/png;base64,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)"
      ]
    },
    {
      "cell_type": "markdown",
      "metadata": {
        "id": "c2frzPBM0ZGR"
      },
      "source": [
        "##วิธีซับซ้อน"
      ]
    },
    {
      "cell_type": "code",
      "metadata": {
        "colab": {
          "base_uri": "https://localhost:8080/"
        },
        "id": "ulTAp5IIhvTg",
        "outputId": "f2dfd659-5b12-4684-9095-b1ab0b6d39f1"
      },
      "source": [
        "meanD = np.mean(data_matrix,axis=1)\r\n",
        "meanD "
      ],
      "execution_count": null,
      "outputs": [
        {
          "output_type": "execute_result",
          "data": {
            "text/plain": [
              "array([5.84333333, 3.054     , 3.75866667, 1.19866667])"
            ]
          },
          "metadata": {
            "tags": []
          },
          "execution_count": 7
        }
      ]
    },
    {
      "cell_type": "code",
      "metadata": {
        "colab": {
          "base_uri": "https://localhost:8080/"
        },
        "id": "W4-Rm2lviwbR",
        "outputId": "7330b354-8b22-4478-f450-f39d76229a35"
      },
      "source": [
        "stdD = np.std(data_matrix,axis=1)\r\n",
        "stdD"
      ],
      "execution_count": null,
      "outputs": [
        {
          "output_type": "execute_result",
          "data": {
            "text/plain": [
              "array([0.82530129, 0.43214658, 1.75852918, 0.76061262])"
            ]
          },
          "metadata": {
            "tags": []
          },
          "execution_count": 8
        }
      ]
    },
    {
      "cell_type": "code",
      "metadata": {
        "colab": {
          "base_uri": "https://localhost:8080/"
        },
        "id": "RluCjSCKi6i6",
        "outputId": "00f7c738-ff7d-41cd-c14c-8ddfa718dc14"
      },
      "source": [
        "zeromatrix = np.zeros((4 , 10))\r\n",
        "zeromatrix"
      ],
      "execution_count": null,
      "outputs": [
        {
          "output_type": "execute_result",
          "data": {
            "text/plain": [
              "array([[0., 0., 0., 0., 0., 0., 0., 0., 0., 0.],\n",
              "       [0., 0., 0., 0., 0., 0., 0., 0., 0., 0.],\n",
              "       [0., 0., 0., 0., 0., 0., 0., 0., 0., 0.],\n",
              "       [0., 0., 0., 0., 0., 0., 0., 0., 0., 0.]])"
            ]
          },
          "metadata": {
            "tags": []
          },
          "execution_count": 9
        }
      ]
    },
    {
      "cell_type": "code",
      "metadata": {
        "colab": {
          "base_uri": "https://localhost:8080/",
          "height": 164
        },
        "id": "REC9D5GUjrvo",
        "outputId": "66853305-cdc8-4eff-9e2f-02813202b99f"
      },
      "source": [
        "zeromatrix - meanD"
      ],
      "execution_count": null,
      "outputs": [
        {
          "output_type": "error",
          "ename": "ValueError",
          "evalue": "ignored",
          "traceback": [
            "\u001b[0;31m---------------------------------------------------------------------------\u001b[0m",
            "\u001b[0;31mValueError\u001b[0m                                Traceback (most recent call last)",
            "\u001b[0;32m<ipython-input-10-3fbc6ca05483>\u001b[0m in \u001b[0;36m<module>\u001b[0;34m()\u001b[0m\n\u001b[0;32m----> 1\u001b[0;31m \u001b[0mzeromatrix\u001b[0m \u001b[0;34m-\u001b[0m \u001b[0mmeanD\u001b[0m\u001b[0;34m\u001b[0m\u001b[0;34m\u001b[0m\u001b[0m\n\u001b[0m",
            "\u001b[0;31mValueError\u001b[0m: operands could not be broadcast together with shapes (4,10) (4,) "
          ]
        }
      ]
    },
    {
      "cell_type": "code",
      "metadata": {
        "id": "YWbmQZmtldxy"
      },
      "source": [
        "zeromatrix - meanD.reshape((4 , 1)) ## คำสั่ง reshape บังคับขนาดของ matrix ให้เป็นไปตามที่เราต้องการ"
      ],
      "execution_count": null,
      "outputs": []
    },
    {
      "cell_type": "markdown",
      "metadata": {
        "id": "6R_WIo6BnFOD"
      },
      "source": [
        "##เลื่อน mean มาที่ 0"
      ]
    },
    {
      "cell_type": "code",
      "metadata": {
        "colab": {
          "base_uri": "https://localhost:8080/"
        },
        "id": "q-0NFElenCJq",
        "outputId": "537bb75a-6ec6-4a4f-a8f9-1d80a652e671"
      },
      "source": [
        "data_matrix_m0 = data_matrix - meanD.reshape((4 , 1))\r\n",
        "data_matrix_m0"
      ],
      "execution_count": null,
      "outputs": [
        {
          "output_type": "execute_result",
          "data": {
            "text/plain": [
              "array([[-7.43333333e-01, -9.43333333e-01, -1.14333333e+00,\n",
              "        -1.24333333e+00, -8.43333333e-01, -4.43333333e-01,\n",
              "        -1.24333333e+00, -8.43333333e-01, -1.44333333e+00,\n",
              "        -9.43333333e-01, -4.43333333e-01, -1.04333333e+00,\n",
              "        -1.04333333e+00, -1.54333333e+00, -4.33333333e-02,\n",
              "        -1.43333333e-01, -4.43333333e-01, -7.43333333e-01,\n",
              "        -1.43333333e-01, -7.43333333e-01, -4.43333333e-01,\n",
              "        -7.43333333e-01, -1.24333333e+00, -7.43333333e-01,\n",
              "        -1.04333333e+00, -8.43333333e-01, -8.43333333e-01,\n",
              "        -6.43333333e-01, -6.43333333e-01, -1.14333333e+00,\n",
              "        -1.04333333e+00, -4.43333333e-01, -6.43333333e-01,\n",
              "        -3.43333333e-01, -9.43333333e-01, -8.43333333e-01,\n",
              "        -3.43333333e-01, -9.43333333e-01, -1.44333333e+00,\n",
              "        -7.43333333e-01, -8.43333333e-01, -1.34333333e+00,\n",
              "        -1.44333333e+00, -8.43333333e-01, -7.43333333e-01,\n",
              "        -1.04333333e+00, -7.43333333e-01, -1.24333333e+00,\n",
              "        -5.43333333e-01, -8.43333333e-01,  1.15666667e+00,\n",
              "         5.56666667e-01,  1.05666667e+00, -3.43333333e-01,\n",
              "         6.56666667e-01, -1.43333333e-01,  4.56666667e-01,\n",
              "        -9.43333333e-01,  7.56666667e-01, -6.43333333e-01,\n",
              "        -8.43333333e-01,  5.66666667e-02,  1.56666667e-01,\n",
              "         2.56666667e-01, -2.43333333e-01,  8.56666667e-01,\n",
              "        -2.43333333e-01, -4.33333333e-02,  3.56666667e-01,\n",
              "        -2.43333333e-01,  5.66666667e-02,  2.56666667e-01,\n",
              "         4.56666667e-01,  2.56666667e-01,  5.56666667e-01,\n",
              "         7.56666667e-01,  9.56666667e-01,  8.56666667e-01,\n",
              "         1.56666667e-01, -1.43333333e-01, -3.43333333e-01,\n",
              "        -3.43333333e-01, -4.33333333e-02,  1.56666667e-01,\n",
              "        -4.43333333e-01,  1.56666667e-01,  8.56666667e-01,\n",
              "         4.56666667e-01, -2.43333333e-01, -3.43333333e-01,\n",
              "        -3.43333333e-01,  2.56666667e-01, -4.33333333e-02,\n",
              "        -8.43333333e-01, -2.43333333e-01, -1.43333333e-01,\n",
              "        -1.43333333e-01,  3.56666667e-01, -7.43333333e-01,\n",
              "        -1.43333333e-01,  4.56666667e-01, -4.33333333e-02,\n",
              "         1.25666667e+00,  4.56666667e-01,  6.56666667e-01,\n",
              "         1.75666667e+00, -9.43333333e-01,  1.45666667e+00,\n",
              "         8.56666667e-01,  1.35666667e+00,  6.56666667e-01,\n",
              "         5.56666667e-01,  9.56666667e-01, -1.43333333e-01,\n",
              "        -4.33333333e-02,  5.56666667e-01,  6.56666667e-01,\n",
              "         1.85666667e+00,  1.85666667e+00,  1.56666667e-01,\n",
              "         1.05666667e+00, -2.43333333e-01,  1.85666667e+00,\n",
              "         4.56666667e-01,  8.56666667e-01,  1.35666667e+00,\n",
              "         3.56666667e-01,  2.56666667e-01,  5.56666667e-01,\n",
              "         1.35666667e+00,  1.55666667e+00,  2.05666667e+00,\n",
              "         5.56666667e-01,  4.56666667e-01,  2.56666667e-01,\n",
              "         1.85666667e+00,  4.56666667e-01,  5.56666667e-01,\n",
              "         1.56666667e-01,  1.05666667e+00,  8.56666667e-01,\n",
              "         1.05666667e+00, -4.33333333e-02,  9.56666667e-01,\n",
              "         8.56666667e-01,  8.56666667e-01,  4.56666667e-01,\n",
              "         6.56666667e-01,  3.56666667e-01,  5.66666667e-02],\n",
              "       [ 4.46000000e-01, -5.40000000e-02,  1.46000000e-01,\n",
              "         4.60000000e-02,  5.46000000e-01,  8.46000000e-01,\n",
              "         3.46000000e-01,  3.46000000e-01, -1.54000000e-01,\n",
              "         4.60000000e-02,  6.46000000e-01,  3.46000000e-01,\n",
              "        -5.40000000e-02, -5.40000000e-02,  9.46000000e-01,\n",
              "         1.34600000e+00,  8.46000000e-01,  4.46000000e-01,\n",
              "         7.46000000e-01,  7.46000000e-01,  3.46000000e-01,\n",
              "         6.46000000e-01,  5.46000000e-01,  2.46000000e-01,\n",
              "         3.46000000e-01, -5.40000000e-02,  3.46000000e-01,\n",
              "         4.46000000e-01,  3.46000000e-01,  1.46000000e-01,\n",
              "         4.60000000e-02,  3.46000000e-01,  1.04600000e+00,\n",
              "         1.14600000e+00,  4.60000000e-02,  1.46000000e-01,\n",
              "         4.46000000e-01,  4.60000000e-02, -5.40000000e-02,\n",
              "         3.46000000e-01,  4.46000000e-01, -7.54000000e-01,\n",
              "         1.46000000e-01,  4.46000000e-01,  7.46000000e-01,\n",
              "        -5.40000000e-02,  7.46000000e-01,  1.46000000e-01,\n",
              "         6.46000000e-01,  2.46000000e-01,  1.46000000e-01,\n",
              "         1.46000000e-01,  4.60000000e-02, -7.54000000e-01,\n",
              "        -2.54000000e-01, -2.54000000e-01,  2.46000000e-01,\n",
              "        -6.54000000e-01, -1.54000000e-01, -3.54000000e-01,\n",
              "        -1.05400000e+00, -5.40000000e-02, -8.54000000e-01,\n",
              "        -1.54000000e-01, -1.54000000e-01,  4.60000000e-02,\n",
              "        -5.40000000e-02, -3.54000000e-01, -8.54000000e-01,\n",
              "        -5.54000000e-01,  1.46000000e-01, -2.54000000e-01,\n",
              "        -5.54000000e-01, -2.54000000e-01, -1.54000000e-01,\n",
              "        -5.40000000e-02, -2.54000000e-01, -5.40000000e-02,\n",
              "        -1.54000000e-01, -4.54000000e-01, -6.54000000e-01,\n",
              "        -6.54000000e-01, -3.54000000e-01, -3.54000000e-01,\n",
              "        -5.40000000e-02,  3.46000000e-01,  4.60000000e-02,\n",
              "        -7.54000000e-01, -5.40000000e-02, -5.54000000e-01,\n",
              "        -4.54000000e-01, -5.40000000e-02, -4.54000000e-01,\n",
              "        -7.54000000e-01, -3.54000000e-01, -5.40000000e-02,\n",
              "        -1.54000000e-01, -1.54000000e-01, -5.54000000e-01,\n",
              "        -2.54000000e-01,  2.46000000e-01, -3.54000000e-01,\n",
              "        -5.40000000e-02, -1.54000000e-01, -5.40000000e-02,\n",
              "        -5.40000000e-02, -5.54000000e-01, -1.54000000e-01,\n",
              "        -5.54000000e-01,  5.46000000e-01,  1.46000000e-01,\n",
              "        -3.54000000e-01, -5.40000000e-02, -5.54000000e-01,\n",
              "        -2.54000000e-01,  1.46000000e-01, -5.40000000e-02,\n",
              "         7.46000000e-01, -4.54000000e-01, -8.54000000e-01,\n",
              "         1.46000000e-01, -2.54000000e-01, -2.54000000e-01,\n",
              "        -3.54000000e-01,  2.46000000e-01,  1.46000000e-01,\n",
              "        -2.54000000e-01, -5.40000000e-02, -2.54000000e-01,\n",
              "        -5.40000000e-02, -2.54000000e-01,  7.46000000e-01,\n",
              "        -2.54000000e-01, -2.54000000e-01, -4.54000000e-01,\n",
              "        -5.40000000e-02,  3.46000000e-01,  4.60000000e-02,\n",
              "        -5.40000000e-02,  4.60000000e-02,  4.60000000e-02,\n",
              "         4.60000000e-02, -3.54000000e-01,  1.46000000e-01,\n",
              "         2.46000000e-01, -5.40000000e-02, -5.54000000e-01,\n",
              "        -5.40000000e-02,  3.46000000e-01, -5.40000000e-02],\n",
              "       [-2.35866667e+00, -2.35866667e+00, -2.45866667e+00,\n",
              "        -2.25866667e+00, -2.35866667e+00, -2.05866667e+00,\n",
              "        -2.35866667e+00, -2.25866667e+00, -2.35866667e+00,\n",
              "        -2.25866667e+00, -2.25866667e+00, -2.15866667e+00,\n",
              "        -2.35866667e+00, -2.65866667e+00, -2.55866667e+00,\n",
              "        -2.25866667e+00, -2.45866667e+00, -2.35866667e+00,\n",
              "        -2.05866667e+00, -2.25866667e+00, -2.05866667e+00,\n",
              "        -2.25866667e+00, -2.75866667e+00, -2.05866667e+00,\n",
              "        -1.85866667e+00, -2.15866667e+00, -2.15866667e+00,\n",
              "        -2.25866667e+00, -2.35866667e+00, -2.15866667e+00,\n",
              "        -2.15866667e+00, -2.25866667e+00, -2.25866667e+00,\n",
              "        -2.35866667e+00, -2.25866667e+00, -2.55866667e+00,\n",
              "        -2.45866667e+00, -2.25866667e+00, -2.45866667e+00,\n",
              "        -2.25866667e+00, -2.45866667e+00, -2.45866667e+00,\n",
              "        -2.45866667e+00, -2.15866667e+00, -1.85866667e+00,\n",
              "        -2.35866667e+00, -2.15866667e+00, -2.35866667e+00,\n",
              "        -2.25866667e+00, -2.35866667e+00,  9.41333333e-01,\n",
              "         7.41333333e-01,  1.14133333e+00,  2.41333333e-01,\n",
              "         8.41333333e-01,  7.41333333e-01,  9.41333333e-01,\n",
              "        -4.58666667e-01,  8.41333333e-01,  1.41333333e-01,\n",
              "        -2.58666667e-01,  4.41333333e-01,  2.41333333e-01,\n",
              "         9.41333333e-01, -1.58666667e-01,  6.41333333e-01,\n",
              "         7.41333333e-01,  3.41333333e-01,  7.41333333e-01,\n",
              "         1.41333333e-01,  1.04133333e+00,  2.41333333e-01,\n",
              "         1.14133333e+00,  9.41333333e-01,  5.41333333e-01,\n",
              "         6.41333333e-01,  1.04133333e+00,  1.24133333e+00,\n",
              "         7.41333333e-01, -2.58666667e-01,  4.13333333e-02,\n",
              "        -5.86666667e-02,  1.41333333e-01,  1.34133333e+00,\n",
              "         7.41333333e-01,  7.41333333e-01,  9.41333333e-01,\n",
              "         6.41333333e-01,  3.41333333e-01,  2.41333333e-01,\n",
              "         6.41333333e-01,  8.41333333e-01,  2.41333333e-01,\n",
              "        -4.58666667e-01,  4.41333333e-01,  4.41333333e-01,\n",
              "         4.41333333e-01,  5.41333333e-01, -7.58666667e-01,\n",
              "         3.41333333e-01,  2.24133333e+00,  1.34133333e+00,\n",
              "         2.14133333e+00,  1.84133333e+00,  2.04133333e+00,\n",
              "         2.84133333e+00,  7.41333333e-01,  2.54133333e+00,\n",
              "         2.04133333e+00,  2.34133333e+00,  1.34133333e+00,\n",
              "         1.54133333e+00,  1.74133333e+00,  1.24133333e+00,\n",
              "         1.34133333e+00,  1.54133333e+00,  1.74133333e+00,\n",
              "         2.94133333e+00,  3.14133333e+00,  1.24133333e+00,\n",
              "         1.94133333e+00,  1.14133333e+00,  2.94133333e+00,\n",
              "         1.14133333e+00,  1.94133333e+00,  2.24133333e+00,\n",
              "         1.04133333e+00,  1.14133333e+00,  1.84133333e+00,\n",
              "         2.04133333e+00,  2.34133333e+00,  2.64133333e+00,\n",
              "         1.84133333e+00,  1.34133333e+00,  1.84133333e+00,\n",
              "         2.34133333e+00,  1.84133333e+00,  1.74133333e+00,\n",
              "         1.04133333e+00,  1.64133333e+00,  1.84133333e+00,\n",
              "         1.34133333e+00,  1.34133333e+00,  2.14133333e+00,\n",
              "         1.94133333e+00,  1.44133333e+00,  1.24133333e+00,\n",
              "         1.44133333e+00,  1.64133333e+00,  1.34133333e+00],\n",
              "       [-9.98666667e-01, -9.98666667e-01, -9.98666667e-01,\n",
              "        -9.98666667e-01, -9.98666667e-01, -7.98666667e-01,\n",
              "        -8.98666667e-01, -9.98666667e-01, -9.98666667e-01,\n",
              "        -1.09866667e+00, -9.98666667e-01, -9.98666667e-01,\n",
              "        -1.09866667e+00, -1.09866667e+00, -9.98666667e-01,\n",
              "        -7.98666667e-01, -7.98666667e-01, -8.98666667e-01,\n",
              "        -8.98666667e-01, -8.98666667e-01, -9.98666667e-01,\n",
              "        -7.98666667e-01, -9.98666667e-01, -6.98666667e-01,\n",
              "        -9.98666667e-01, -9.98666667e-01, -7.98666667e-01,\n",
              "        -9.98666667e-01, -9.98666667e-01, -9.98666667e-01,\n",
              "        -9.98666667e-01, -7.98666667e-01, -1.09866667e+00,\n",
              "        -9.98666667e-01, -1.09866667e+00, -9.98666667e-01,\n",
              "        -9.98666667e-01, -1.09866667e+00, -9.98666667e-01,\n",
              "        -9.98666667e-01, -8.98666667e-01, -8.98666667e-01,\n",
              "        -9.98666667e-01, -5.98666667e-01, -7.98666667e-01,\n",
              "        -8.98666667e-01, -9.98666667e-01, -9.98666667e-01,\n",
              "        -9.98666667e-01, -9.98666667e-01,  2.01333333e-01,\n",
              "         3.01333333e-01,  3.01333333e-01,  1.01333333e-01,\n",
              "         3.01333333e-01,  1.01333333e-01,  4.01333333e-01,\n",
              "        -1.98666667e-01,  1.01333333e-01,  2.01333333e-01,\n",
              "        -1.98666667e-01,  3.01333333e-01, -1.98666667e-01,\n",
              "         2.01333333e-01,  1.01333333e-01,  2.01333333e-01,\n",
              "         3.01333333e-01, -1.98666667e-01,  3.01333333e-01,\n",
              "        -9.86666667e-02,  6.01333333e-01,  1.01333333e-01,\n",
              "         3.01333333e-01,  1.33333333e-03,  1.01333333e-01,\n",
              "         2.01333333e-01,  2.01333333e-01,  5.01333333e-01,\n",
              "         3.01333333e-01, -1.98666667e-01, -9.86666667e-02,\n",
              "        -1.98666667e-01,  1.33333333e-03,  4.01333333e-01,\n",
              "         3.01333333e-01,  4.01333333e-01,  3.01333333e-01,\n",
              "         1.01333333e-01,  1.01333333e-01,  1.01333333e-01,\n",
              "         1.33333333e-03,  2.01333333e-01,  1.33333333e-03,\n",
              "        -1.98666667e-01,  1.01333333e-01,  1.33333333e-03,\n",
              "         1.01333333e-01,  1.01333333e-01, -9.86666667e-02,\n",
              "         1.01333333e-01,  1.30133333e+00,  7.01333333e-01,\n",
              "         9.01333333e-01,  6.01333333e-01,  1.00133333e+00,\n",
              "         9.01333333e-01,  5.01333333e-01,  6.01333333e-01,\n",
              "         6.01333333e-01,  1.30133333e+00,  8.01333333e-01,\n",
              "         7.01333333e-01,  9.01333333e-01,  8.01333333e-01,\n",
              "         1.20133333e+00,  1.10133333e+00,  6.01333333e-01,\n",
              "         1.00133333e+00,  1.10133333e+00,  3.01333333e-01,\n",
              "         1.10133333e+00,  8.01333333e-01,  8.01333333e-01,\n",
              "         6.01333333e-01,  9.01333333e-01,  6.01333333e-01,\n",
              "         6.01333333e-01,  6.01333333e-01,  9.01333333e-01,\n",
              "         4.01333333e-01,  7.01333333e-01,  8.01333333e-01,\n",
              "         1.00133333e+00,  3.01333333e-01,  2.01333333e-01,\n",
              "         1.10133333e+00,  1.20133333e+00,  6.01333333e-01,\n",
              "         6.01333333e-01,  9.01333333e-01,  1.20133333e+00,\n",
              "         1.10133333e+00,  7.01333333e-01,  1.10133333e+00,\n",
              "         1.30133333e+00,  1.10133333e+00,  7.01333333e-01,\n",
              "         8.01333333e-01,  1.10133333e+00,  6.01333333e-01]])"
            ]
          },
          "metadata": {
            "tags": []
          },
          "execution_count": 11
        }
      ]
    },
    {
      "cell_type": "code",
      "metadata": {
        "id": "MFZDc12qmcrz"
      },
      "source": [
        "from matplotlib import pyplot as plt"
      ],
      "execution_count": null,
      "outputs": []
    },
    {
      "cell_type": "code",
      "metadata": {
        "colab": {
          "base_uri": "https://localhost:8080/",
          "height": 349
        },
        "id": "TCoWgTMFn2BF",
        "outputId": "9734f712-3fb6-43e4-f9c3-016a9c57b676"
      },
      "source": [
        "plt.hist(data_matrix[0, :],bins = 'rice')"
      ],
      "execution_count": null,
      "outputs": [
        {
          "output_type": "execute_result",
          "data": {
            "text/plain": [
              "(array([ 9., 13., 23., 20., 18., 16., 21., 17.,  5.,  2.,  6.]),\n",
              " array([4.3       , 4.62727273, 4.95454545, 5.28181818, 5.60909091,\n",
              "        5.93636364, 6.26363636, 6.59090909, 6.91818182, 7.24545455,\n",
              "        7.57272727, 7.9       ]),\n",
              " <a list of 11 Patch objects>)"
            ]
          },
          "metadata": {
            "tags": []
          },
          "execution_count": 13
        },
        {
          "output_type": "display_data",
          "data": {
            "image/png": "[encoded data removed]",
            "text/plain": [
              "<Figure size 432x288 with 1 Axes>"
            ]
          },
          "metadata": {
            "tags": [],
            "needs_background": "light"
          }
        }
      ]
    },
    {
      "cell_type": "code",
      "metadata": {
        "colab": {
          "base_uri": "https://localhost:8080/",
          "height": 349
        },
        "id": "4L-BIbBSpee8",
        "outputId": "a4826111-1824-497c-8a9f-a673fa15b4da"
      },
      "source": [
        "plt.hist(data_matrix_m0[0,:],bins = 'rice')"
      ],
      "execution_count": null,
      "outputs": [
        {
          "output_type": "execute_result",
          "data": {
            "text/plain": [
              "(array([ 9., 13., 23., 20., 18., 16., 21., 17.,  5.,  2.,  6.]),\n",
              " array([-1.54333333, -1.21606061, -0.88878788, -0.56151515, -0.23424242,\n",
              "         0.0930303 ,  0.42030303,  0.74757576,  1.07484848,  1.40212121,\n",
              "         1.72939394,  2.05666667]),\n",
              " <a list of 11 Patch objects>)"
            ]
          },
          "metadata": {
            "tags": []
          },
          "execution_count": 14
        },
        {
          "output_type": "display_data",
          "data": {
            "image/png": "[encoded data removed]",
            "text/plain": [
              "<Figure size 432x288 with 1 Axes>"
            ]
          },
          "metadata": {
            "tags": [],
            "needs_background": "light"
          }
        }
      ]
    },
    {
      "cell_type": "code",
      "metadata": {
        "id": "6-TTsoHy4jvx",
        "colab": {
          "base_uri": "https://localhost:8080/",
          "height": 349
        },
        "outputId": "9282973b-c551-45cf-b155-131c39ba21ed"
      },
      "source": [
        "plt.hist(data_matrix[0,:],bins = 'rice', color = 'b')\r\n",
        "plt.hist(data_matrix_m0[0,:],bins = 'rice', color = 'y')"
      ],
      "execution_count": null,
      "outputs": [
        {
          "output_type": "execute_result",
          "data": {
            "text/plain": [
              "(array([ 9., 13., 23., 20., 18., 16., 21., 17.,  5.,  2.,  6.]),\n",
              " array([-1.54333333, -1.21606061, -0.88878788, -0.56151515, -0.23424242,\n",
              "         0.0930303 ,  0.42030303,  0.74757576,  1.07484848,  1.40212121,\n",
              "         1.72939394,  2.05666667]),\n",
              " <a list of 11 Patch objects>)"
            ]
          },
          "metadata": {
            "tags": []
          },
          "execution_count": 15
        },
        {
          "output_type": "display_data",
          "data": {
            "image/png": "[encoded data removed]",
            "text/plain": [
              "<Figure size 432x288 with 1 Axes>"
            ]
          },
          "metadata": {
            "tags": [],
            "needs_background": "light"
          }
        }
      ]
    },
    {
      "cell_type": "code",
      "metadata": {
        "id": "J5iGtqv304vp"
      },
      "source": [
        "data_matrix_m0_std1 = data_matrix_m0/stdD.reshape((4,1))"
      ],
      "execution_count": null,
      "outputs": []
    },
    {
      "cell_type": "code",
      "metadata": {
        "colab": {
          "base_uri": "https://localhost:8080/",
          "height": 349
        },
        "id": "ja_hEVUd08Wf",
        "outputId": "68724bbd-e86d-45d6-8f60-b14db892e279"
      },
      "source": [
        "plt.hist(data_matrix_m0_std1[0,:],bins = 'rice')"
      ],
      "execution_count": null,
      "outputs": [
        {
          "output_type": "execute_result",
          "data": {
            "text/plain": [
              "(array([ 9., 13., 23., 20., 18., 16., 21., 17.,  5.,  2.,  6.]),\n",
              " array([-1.87002413, -1.47347474, -1.07692535, -0.68037595, -0.28382656,\n",
              "         0.11272284,  0.50927223,  0.90582163,  1.30237102,  1.69892041,\n",
              "         2.09546981,  2.4920192 ]),\n",
              " <a list of 11 Patch objects>)"
            ]
          },
          "metadata": {
            "tags": []
          },
          "execution_count": 17
        },
        {
          "output_type": "display_data",
          "data": {
            "image/png": "[encoded data removed]",
            "text/plain": [
              "<Figure size 432x288 with 1 Axes>"
            ]
          },
          "metadata": {
            "tags": [],
            "needs_background": "light"
          }
        }
      ]
    },
    {
      "cell_type": "code",
      "metadata": {
        "id": "sesWL_Bn5H8x",
        "colab": {
          "base_uri": "https://localhost:8080/",
          "height": 349
        },
        "outputId": "c9d2e4c6-17d8-4262-fc3b-90cf6c243b99"
      },
      "source": [
        "plt.hist(data_matrix[0,:],bins = 'rice', color = 'b')\r\n",
        "plt.hist(data_matrix_m0_std1[0,:],bins = 'rice', color = 'r')\r\n",
        "plt.hist(data_matrix_m0[0,:],bins = 'rice', color = 'y')"
      ],
      "execution_count": null,
      "outputs": [
        {
          "output_type": "execute_result",
          "data": {
            "text/plain": [
              "(array([ 9., 13., 23., 20., 18., 16., 21., 17.,  5.,  2.,  6.]),\n",
              " array([-1.54333333, -1.21606061, -0.88878788, -0.56151515, -0.23424242,\n",
              "         0.0930303 ,  0.42030303,  0.74757576,  1.07484848,  1.40212121,\n",
              "         1.72939394,  2.05666667]),\n",
              " <a list of 11 Patch objects>)"
            ]
          },
          "metadata": {
            "tags": []
          },
          "execution_count": 18
        },
        {
          "output_type": "display_data",
          "data": {
            "image/png": "[encoded data removed]",
            "text/plain": [
              "<Figure size 432x288 with 1 Axes>"
            ]
          },
          "metadata": {
            "tags": [],
            "needs_background": "light"
          }
        }
      ]
    },
    {
      "cell_type": "code",
      "metadata": {
        "colab": {
          "base_uri": "https://localhost:8080/"
        },
        "id": "Xk2WgwFk1snZ",
        "outputId": "9327befd-f031-4a04-a9d6-e626e89df6cc"
      },
      "source": [
        "data_matrix_m0_std1"
      ],
      "execution_count": null,
      "outputs": [
        {
          "output_type": "execute_result",
          "data": {
            "text/plain": [
              "array([[-9.00681170e-01, -1.14301691e+00, -1.38535265e+00,\n",
              "        -1.50652052e+00, -1.02184904e+00, -5.37177559e-01,\n",
              "        -1.50652052e+00, -1.02184904e+00, -1.74885626e+00,\n",
              "        -1.14301691e+00, -5.37177559e-01, -1.26418478e+00,\n",
              "        -1.26418478e+00, -1.87002413e+00, -5.25060772e-02,\n",
              "        -1.73673948e-01, -5.37177559e-01, -9.00681170e-01,\n",
              "        -1.73673948e-01, -9.00681170e-01, -5.37177559e-01,\n",
              "        -9.00681170e-01, -1.50652052e+00, -9.00681170e-01,\n",
              "        -1.26418478e+00, -1.02184904e+00, -1.02184904e+00,\n",
              "        -7.79513300e-01, -7.79513300e-01, -1.38535265e+00,\n",
              "        -1.26418478e+00, -5.37177559e-01, -7.79513300e-01,\n",
              "        -4.16009689e-01, -1.14301691e+00, -1.02184904e+00,\n",
              "        -4.16009689e-01, -1.14301691e+00, -1.74885626e+00,\n",
              "        -9.00681170e-01, -1.02184904e+00, -1.62768839e+00,\n",
              "        -1.74885626e+00, -1.02184904e+00, -9.00681170e-01,\n",
              "        -1.26418478e+00, -9.00681170e-01, -1.50652052e+00,\n",
              "        -6.58345429e-01, -1.02184904e+00,  1.40150837e+00,\n",
              "         6.74501145e-01,  1.28034050e+00, -4.16009689e-01,\n",
              "         7.95669016e-01, -1.73673948e-01,  5.53333275e-01,\n",
              "        -1.14301691e+00,  9.16836886e-01, -7.79513300e-01,\n",
              "        -1.02184904e+00,  6.86617933e-02,  1.89829664e-01,\n",
              "         3.10997534e-01, -2.94841818e-01,  1.03800476e+00,\n",
              "        -2.94841818e-01, -5.25060772e-02,  4.32165405e-01,\n",
              "        -2.94841818e-01,  6.86617933e-02,  3.10997534e-01,\n",
              "         5.53333275e-01,  3.10997534e-01,  6.74501145e-01,\n",
              "         9.16836886e-01,  1.15917263e+00,  1.03800476e+00,\n",
              "         1.89829664e-01, -1.73673948e-01, -4.16009689e-01,\n",
              "        -4.16009689e-01, -5.25060772e-02,  1.89829664e-01,\n",
              "        -5.37177559e-01,  1.89829664e-01,  1.03800476e+00,\n",
              "         5.53333275e-01, -2.94841818e-01, -4.16009689e-01,\n",
              "        -4.16009689e-01,  3.10997534e-01, -5.25060772e-02,\n",
              "        -1.02184904e+00, -2.94841818e-01, -1.73673948e-01,\n",
              "        -1.73673948e-01,  4.32165405e-01, -9.00681170e-01,\n",
              "        -1.73673948e-01,  5.53333275e-01, -5.25060772e-02,\n",
              "         1.52267624e+00,  5.53333275e-01,  7.95669016e-01,\n",
              "         2.12851559e+00, -1.14301691e+00,  1.76501198e+00,\n",
              "         1.03800476e+00,  1.64384411e+00,  7.95669016e-01,\n",
              "         6.74501145e-01,  1.15917263e+00, -1.73673948e-01,\n",
              "        -5.25060772e-02,  6.74501145e-01,  7.95669016e-01,\n",
              "         2.24968346e+00,  2.24968346e+00,  1.89829664e-01,\n",
              "         1.28034050e+00, -2.94841818e-01,  2.24968346e+00,\n",
              "         5.53333275e-01,  1.03800476e+00,  1.64384411e+00,\n",
              "         4.32165405e-01,  3.10997534e-01,  6.74501145e-01,\n",
              "         1.64384411e+00,  1.88617985e+00,  2.49201920e+00,\n",
              "         6.74501145e-01,  5.53333275e-01,  3.10997534e-01,\n",
              "         2.24968346e+00,  5.53333275e-01,  6.74501145e-01,\n",
              "         1.89829664e-01,  1.28034050e+00,  1.03800476e+00,\n",
              "         1.28034050e+00, -5.25060772e-02,  1.15917263e+00,\n",
              "         1.03800476e+00,  1.03800476e+00,  5.53333275e-01,\n",
              "         7.95669016e-01,  4.32165405e-01,  6.86617933e-02],\n",
              "       [ 1.03205722e+00, -1.24957601e-01,  3.37848329e-01,\n",
              "         1.06445364e-01,  1.26346019e+00,  1.95766909e+00,\n",
              "         8.00654259e-01,  8.00654259e-01, -3.56360566e-01,\n",
              "         1.06445364e-01,  1.49486315e+00,  8.00654259e-01,\n",
              "        -1.24957601e-01, -1.24957601e-01,  2.18907205e+00,\n",
              "         3.11468391e+00,  1.95766909e+00,  1.03205722e+00,\n",
              "         1.72626612e+00,  1.72626612e+00,  8.00654259e-01,\n",
              "         1.49486315e+00,  1.26346019e+00,  5.69251294e-01,\n",
              "         8.00654259e-01, -1.24957601e-01,  8.00654259e-01,\n",
              "         1.03205722e+00,  8.00654259e-01,  3.37848329e-01,\n",
              "         1.06445364e-01,  8.00654259e-01,  2.42047502e+00,\n",
              "         2.65187798e+00,  1.06445364e-01,  3.37848329e-01,\n",
              "         1.03205722e+00,  1.06445364e-01, -1.24957601e-01,\n",
              "         8.00654259e-01,  1.03205722e+00, -1.74477836e+00,\n",
              "         3.37848329e-01,  1.03205722e+00,  1.72626612e+00,\n",
              "        -1.24957601e-01,  1.72626612e+00,  3.37848329e-01,\n",
              "         1.49486315e+00,  5.69251294e-01,  3.37848329e-01,\n",
              "         3.37848329e-01,  1.06445364e-01, -1.74477836e+00,\n",
              "        -5.87763531e-01, -5.87763531e-01,  5.69251294e-01,\n",
              "        -1.51337539e+00, -3.56360566e-01, -8.19166497e-01,\n",
              "        -2.43898725e+00, -1.24957601e-01, -1.97618132e+00,\n",
              "        -3.56360566e-01, -3.56360566e-01,  1.06445364e-01,\n",
              "        -1.24957601e-01, -8.19166497e-01, -1.97618132e+00,\n",
              "        -1.28197243e+00,  3.37848329e-01, -5.87763531e-01,\n",
              "        -1.28197243e+00, -5.87763531e-01, -3.56360566e-01,\n",
              "        -1.24957601e-01, -5.87763531e-01, -1.24957601e-01,\n",
              "        -3.56360566e-01, -1.05056946e+00, -1.51337539e+00,\n",
              "        -1.51337539e+00, -8.19166497e-01, -8.19166497e-01,\n",
              "        -1.24957601e-01,  8.00654259e-01,  1.06445364e-01,\n",
              "        -1.74477836e+00, -1.24957601e-01, -1.28197243e+00,\n",
              "        -1.05056946e+00, -1.24957601e-01, -1.05056946e+00,\n",
              "        -1.74477836e+00, -8.19166497e-01, -1.24957601e-01,\n",
              "        -3.56360566e-01, -3.56360566e-01, -1.28197243e+00,\n",
              "        -5.87763531e-01,  5.69251294e-01, -8.19166497e-01,\n",
              "        -1.24957601e-01, -3.56360566e-01, -1.24957601e-01,\n",
              "        -1.24957601e-01, -1.28197243e+00, -3.56360566e-01,\n",
              "        -1.28197243e+00,  1.26346019e+00,  3.37848329e-01,\n",
              "        -8.19166497e-01, -1.24957601e-01, -1.28197243e+00,\n",
              "        -5.87763531e-01,  3.37848329e-01, -1.24957601e-01,\n",
              "         1.72626612e+00, -1.05056946e+00, -1.97618132e+00,\n",
              "         3.37848329e-01, -5.87763531e-01, -5.87763531e-01,\n",
              "        -8.19166497e-01,  5.69251294e-01,  3.37848329e-01,\n",
              "        -5.87763531e-01, -1.24957601e-01, -5.87763531e-01,\n",
              "        -1.24957601e-01, -5.87763531e-01,  1.72626612e+00,\n",
              "        -5.87763531e-01, -5.87763531e-01, -1.05056946e+00,\n",
              "        -1.24957601e-01,  8.00654259e-01,  1.06445364e-01,\n",
              "        -1.24957601e-01,  1.06445364e-01,  1.06445364e-01,\n",
              "         1.06445364e-01, -8.19166497e-01,  3.37848329e-01,\n",
              "         5.69251294e-01, -1.24957601e-01, -1.28197243e+00,\n",
              "        -1.24957601e-01,  8.00654259e-01, -1.24957601e-01],\n",
              "       [-1.34127240e+00, -1.34127240e+00, -1.39813811e+00,\n",
              "        -1.28440670e+00, -1.34127240e+00, -1.17067529e+00,\n",
              "        -1.34127240e+00, -1.28440670e+00, -1.34127240e+00,\n",
              "        -1.28440670e+00, -1.28440670e+00, -1.22754100e+00,\n",
              "        -1.34127240e+00, -1.51186952e+00, -1.45500381e+00,\n",
              "        -1.28440670e+00, -1.39813811e+00, -1.34127240e+00,\n",
              "        -1.17067529e+00, -1.28440670e+00, -1.17067529e+00,\n",
              "        -1.28440670e+00, -1.56873522e+00, -1.17067529e+00,\n",
              "        -1.05694388e+00, -1.22754100e+00, -1.22754100e+00,\n",
              "        -1.28440670e+00, -1.34127240e+00, -1.22754100e+00,\n",
              "        -1.22754100e+00, -1.28440670e+00, -1.28440670e+00,\n",
              "        -1.34127240e+00, -1.28440670e+00, -1.45500381e+00,\n",
              "        -1.39813811e+00, -1.28440670e+00, -1.39813811e+00,\n",
              "        -1.28440670e+00, -1.39813811e+00, -1.39813811e+00,\n",
              "        -1.39813811e+00, -1.22754100e+00, -1.05694388e+00,\n",
              "        -1.34127240e+00, -1.22754100e+00, -1.34127240e+00,\n",
              "        -1.28440670e+00, -1.34127240e+00,  5.35295827e-01,\n",
              "         4.21564419e-01,  6.49027235e-01,  1.37235899e-01,\n",
              "         4.78430123e-01,  4.21564419e-01,  5.35295827e-01,\n",
              "        -2.60824029e-01,  4.78430123e-01,  8.03701950e-02,\n",
              "        -1.47092621e-01,  2.50967307e-01,  1.37235899e-01,\n",
              "         5.35295827e-01, -9.02269170e-02,  3.64698715e-01,\n",
              "         4.21564419e-01,  1.94101603e-01,  4.21564419e-01,\n",
              "         8.03701950e-02,  5.92161531e-01,  1.37235899e-01,\n",
              "         6.49027235e-01,  5.35295827e-01,  3.07833011e-01,\n",
              "         3.64698715e-01,  5.92161531e-01,  7.05892939e-01,\n",
              "         4.21564419e-01, -1.47092621e-01,  2.35044910e-02,\n",
              "        -3.33612130e-02,  8.03701950e-02,  7.62758643e-01,\n",
              "         4.21564419e-01,  4.21564419e-01,  5.35295827e-01,\n",
              "         3.64698715e-01,  1.94101603e-01,  1.37235899e-01,\n",
              "         3.64698715e-01,  4.78430123e-01,  1.37235899e-01,\n",
              "        -2.60824029e-01,  2.50967307e-01,  2.50967307e-01,\n",
              "         2.50967307e-01,  3.07833011e-01, -4.31421141e-01,\n",
              "         1.94101603e-01,  1.27454998e+00,  7.62758643e-01,\n",
              "         1.21768427e+00,  1.04708716e+00,  1.16081857e+00,\n",
              "         1.61574420e+00,  4.21564419e-01,  1.44514709e+00,\n",
              "         1.16081857e+00,  1.33141568e+00,  7.62758643e-01,\n",
              "         8.76490051e-01,  9.90221459e-01,  7.05892939e-01,\n",
              "         7.62758643e-01,  8.76490051e-01,  9.90221459e-01,\n",
              "         1.67260991e+00,  1.78634131e+00,  7.05892939e-01,\n",
              "         1.10395287e+00,  6.49027235e-01,  1.67260991e+00,\n",
              "         6.49027235e-01,  1.10395287e+00,  1.27454998e+00,\n",
              "         5.92161531e-01,  6.49027235e-01,  1.04708716e+00,\n",
              "         1.16081857e+00,  1.33141568e+00,  1.50201279e+00,\n",
              "         1.04708716e+00,  7.62758643e-01,  1.04708716e+00,\n",
              "         1.33141568e+00,  1.04708716e+00,  9.90221459e-01,\n",
              "         5.92161531e-01,  9.33355755e-01,  1.04708716e+00,\n",
              "         7.62758643e-01,  7.62758643e-01,  1.21768427e+00,\n",
              "         1.10395287e+00,  8.19624347e-01,  7.05892939e-01,\n",
              "         8.19624347e-01,  9.33355755e-01,  7.62758643e-01],\n",
              "       [-1.31297673e+00, -1.31297673e+00, -1.31297673e+00,\n",
              "        -1.31297673e+00, -1.31297673e+00, -1.05003079e+00,\n",
              "        -1.18150376e+00, -1.31297673e+00, -1.31297673e+00,\n",
              "        -1.44444970e+00, -1.31297673e+00, -1.31297673e+00,\n",
              "        -1.44444970e+00, -1.44444970e+00, -1.31297673e+00,\n",
              "        -1.05003079e+00, -1.05003079e+00, -1.18150376e+00,\n",
              "        -1.18150376e+00, -1.18150376e+00, -1.31297673e+00,\n",
              "        -1.05003079e+00, -1.31297673e+00, -9.18557817e-01,\n",
              "        -1.31297673e+00, -1.31297673e+00, -1.05003079e+00,\n",
              "        -1.31297673e+00, -1.31297673e+00, -1.31297673e+00,\n",
              "        -1.31297673e+00, -1.05003079e+00, -1.44444970e+00,\n",
              "        -1.31297673e+00, -1.44444970e+00, -1.31297673e+00,\n",
              "        -1.31297673e+00, -1.44444970e+00, -1.31297673e+00,\n",
              "        -1.31297673e+00, -1.18150376e+00, -1.18150376e+00,\n",
              "        -1.31297673e+00, -7.87084847e-01, -1.05003079e+00,\n",
              "        -1.18150376e+00, -1.31297673e+00, -1.31297673e+00,\n",
              "        -1.31297673e+00, -1.31297673e+00,  2.64698913e-01,\n",
              "         3.96171883e-01,  3.96171883e-01,  1.33225943e-01,\n",
              "         3.96171883e-01,  1.33225943e-01,  5.27644853e-01,\n",
              "        -2.61192967e-01,  1.33225943e-01,  2.64698913e-01,\n",
              "        -2.61192967e-01,  3.96171883e-01, -2.61192967e-01,\n",
              "         2.64698913e-01,  1.33225943e-01,  2.64698913e-01,\n",
              "         3.96171883e-01, -2.61192967e-01,  3.96171883e-01,\n",
              "        -1.29719997e-01,  7.90590793e-01,  1.33225943e-01,\n",
              "         3.96171883e-01,  1.75297293e-03,  1.33225943e-01,\n",
              "         2.64698913e-01,  2.64698913e-01,  6.59117823e-01,\n",
              "         3.96171883e-01, -2.61192967e-01, -1.29719997e-01,\n",
              "        -2.61192967e-01,  1.75297293e-03,  5.27644853e-01,\n",
              "         3.96171883e-01,  5.27644853e-01,  3.96171883e-01,\n",
              "         1.33225943e-01,  1.33225943e-01,  1.33225943e-01,\n",
              "         1.75297293e-03,  2.64698913e-01,  1.75297293e-03,\n",
              "        -2.61192967e-01,  1.33225943e-01,  1.75297293e-03,\n",
              "         1.33225943e-01,  1.33225943e-01, -1.29719997e-01,\n",
              "         1.33225943e-01,  1.71090158e+00,  9.22063763e-01,\n",
              "         1.18500970e+00,  7.90590793e-01,  1.31648267e+00,\n",
              "         1.18500970e+00,  6.59117823e-01,  7.90590793e-01,\n",
              "         7.90590793e-01,  1.71090158e+00,  1.05353673e+00,\n",
              "         9.22063763e-01,  1.18500970e+00,  1.05353673e+00,\n",
              "         1.57942861e+00,  1.44795564e+00,  7.90590793e-01,\n",
              "         1.31648267e+00,  1.44795564e+00,  3.96171883e-01,\n",
              "         1.44795564e+00,  1.05353673e+00,  1.05353673e+00,\n",
              "         7.90590793e-01,  1.18500970e+00,  7.90590793e-01,\n",
              "         7.90590793e-01,  7.90590793e-01,  1.18500970e+00,\n",
              "         5.27644853e-01,  9.22063763e-01,  1.05353673e+00,\n",
              "         1.31648267e+00,  3.96171883e-01,  2.64698913e-01,\n",
              "         1.44795564e+00,  1.57942861e+00,  7.90590793e-01,\n",
              "         7.90590793e-01,  1.18500970e+00,  1.57942861e+00,\n",
              "         1.44795564e+00,  9.22063763e-01,  1.44795564e+00,\n",
              "         1.71090158e+00,  1.44795564e+00,  9.22063763e-01,\n",
              "         1.05353673e+00,  1.44795564e+00,  7.90590793e-01]])"
            ]
          },
          "metadata": {
            "tags": []
          },
          "execution_count": 32
        }
      ]
    },
    {
      "cell_type": "code",
      "metadata": {
        "colab": {
          "base_uri": "https://localhost:8080/"
        },
        "id": "1iaeI90yqH9L",
        "outputId": "c4a1a4dd-bde6-4d16-ee06-17748334a498"
      },
      "source": [
        "np.mean(data_matrix_m0_std1,axis=1)"
      ],
      "execution_count": null,
      "outputs": [
        {
          "output_type": "execute_result",
          "data": {
            "text/plain": [
              "array([-4.73695157e-16, -6.63173220e-16,  3.31586610e-16, -2.84217094e-16])"
            ]
          },
          "metadata": {
            "tags": []
          },
          "execution_count": 33
        }
      ]
    },
    {
      "cell_type": "code",
      "metadata": {
        "colab": {
          "base_uri": "https://localhost:8080/"
        },
        "id": "527ZuVG71Pvm",
        "outputId": "80cc4f62-308e-4e0f-faec-8f1d4856dd35"
      },
      "source": [
        "np.std(data_matrix_m0_std1,axis=1)"
      ],
      "execution_count": null,
      "outputs": [
        {
          "output_type": "execute_result",
          "data": {
            "text/plain": [
              "array([1., 1., 1., 1.])"
            ]
          },
          "metadata": {
            "tags": []
          },
          "execution_count": 34
        }
      ]
    },
    {
      "cell_type": "markdown",
      "metadata": {
        "id": "BPU-6rzrpfZ7"
      },
      "source": [
        "## วิธีแบบเร็ว "
      ]
    },
    {
      "cell_type": "code",
      "metadata": {
        "id": "kwJhjgZbpjJF"
      },
      "source": [
        "from scipy import stats"
      ],
      "execution_count": null,
      "outputs": []
    },
    {
      "cell_type": "code",
      "metadata": {
        "colab": {
          "base_uri": "https://localhost:8080/"
        },
        "id": "kvo6hdfdp2nz",
        "outputId": "2fe30c18-24e9-43f3-aa41-428be60e06b1"
      },
      "source": [
        "data_matrix_m0_std1_useSTAT = stats.zscore(data_matrix,axis=1)\r\n",
        "data_matrix_m0_std1_useSTAT"
      ],
      "execution_count": null,
      "outputs": [
        {
          "output_type": "execute_result",
          "data": {
            "text/plain": [
              "array([[-9.00681170e-01, -1.14301691e+00, -1.38535265e+00,\n",
              "        -1.50652052e+00, -1.02184904e+00, -5.37177559e-01,\n",
              "        -1.50652052e+00, -1.02184904e+00, -1.74885626e+00,\n",
              "        -1.14301691e+00, -5.37177559e-01, -1.26418478e+00,\n",
              "        -1.26418478e+00, -1.87002413e+00, -5.25060772e-02,\n",
              "        -1.73673948e-01, -5.37177559e-01, -9.00681170e-01,\n",
              "        -1.73673948e-01, -9.00681170e-01, -5.37177559e-01,\n",
              "        -9.00681170e-01, -1.50652052e+00, -9.00681170e-01,\n",
              "        -1.26418478e+00, -1.02184904e+00, -1.02184904e+00,\n",
              "        -7.79513300e-01, -7.79513300e-01, -1.38535265e+00,\n",
              "        -1.26418478e+00, -5.37177559e-01, -7.79513300e-01,\n",
              "        -4.16009689e-01, -1.14301691e+00, -1.02184904e+00,\n",
              "        -4.16009689e-01, -1.14301691e+00, -1.74885626e+00,\n",
              "        -9.00681170e-01, -1.02184904e+00, -1.62768839e+00,\n",
              "        -1.74885626e+00, -1.02184904e+00, -9.00681170e-01,\n",
              "        -1.26418478e+00, -9.00681170e-01, -1.50652052e+00,\n",
              "        -6.58345429e-01, -1.02184904e+00,  1.40150837e+00,\n",
              "         6.74501145e-01,  1.28034050e+00, -4.16009689e-01,\n",
              "         7.95669016e-01, -1.73673948e-01,  5.53333275e-01,\n",
              "        -1.14301691e+00,  9.16836886e-01, -7.79513300e-01,\n",
              "        -1.02184904e+00,  6.86617933e-02,  1.89829664e-01,\n",
              "         3.10997534e-01, -2.94841818e-01,  1.03800476e+00,\n",
              "        -2.94841818e-01, -5.25060772e-02,  4.32165405e-01,\n",
              "        -2.94841818e-01,  6.86617933e-02,  3.10997534e-01,\n",
              "         5.53333275e-01,  3.10997534e-01,  6.74501145e-01,\n",
              "         9.16836886e-01,  1.15917263e+00,  1.03800476e+00,\n",
              "         1.89829664e-01, -1.73673948e-01, -4.16009689e-01,\n",
              "        -4.16009689e-01, -5.25060772e-02,  1.89829664e-01,\n",
              "        -5.37177559e-01,  1.89829664e-01,  1.03800476e+00,\n",
              "         5.53333275e-01, -2.94841818e-01, -4.16009689e-01,\n",
              "        -4.16009689e-01,  3.10997534e-01, -5.25060772e-02,\n",
              "        -1.02184904e+00, -2.94841818e-01, -1.73673948e-01,\n",
              "        -1.73673948e-01,  4.32165405e-01, -9.00681170e-01,\n",
              "        -1.73673948e-01,  5.53333275e-01, -5.25060772e-02,\n",
              "         1.52267624e+00,  5.53333275e-01,  7.95669016e-01,\n",
              "         2.12851559e+00, -1.14301691e+00,  1.76501198e+00,\n",
              "         1.03800476e+00,  1.64384411e+00,  7.95669016e-01,\n",
              "         6.74501145e-01,  1.15917263e+00, -1.73673948e-01,\n",
              "        -5.25060772e-02,  6.74501145e-01,  7.95669016e-01,\n",
              "         2.24968346e+00,  2.24968346e+00,  1.89829664e-01,\n",
              "         1.28034050e+00, -2.94841818e-01,  2.24968346e+00,\n",
              "         5.53333275e-01,  1.03800476e+00,  1.64384411e+00,\n",
              "         4.32165405e-01,  3.10997534e-01,  6.74501145e-01,\n",
              "         1.64384411e+00,  1.88617985e+00,  2.49201920e+00,\n",
              "         6.74501145e-01,  5.53333275e-01,  3.10997534e-01,\n",
              "         2.24968346e+00,  5.53333275e-01,  6.74501145e-01,\n",
              "         1.89829664e-01,  1.28034050e+00,  1.03800476e+00,\n",
              "         1.28034050e+00, -5.25060772e-02,  1.15917263e+00,\n",
              "         1.03800476e+00,  1.03800476e+00,  5.53333275e-01,\n",
              "         7.95669016e-01,  4.32165405e-01,  6.86617933e-02],\n",
              "       [ 1.03205722e+00, -1.24957601e-01,  3.37848329e-01,\n",
              "         1.06445364e-01,  1.26346019e+00,  1.95766909e+00,\n",
              "         8.00654259e-01,  8.00654259e-01, -3.56360566e-01,\n",
              "         1.06445364e-01,  1.49486315e+00,  8.00654259e-01,\n",
              "        -1.24957601e-01, -1.24957601e-01,  2.18907205e+00,\n",
              "         3.11468391e+00,  1.95766909e+00,  1.03205722e+00,\n",
              "         1.72626612e+00,  1.72626612e+00,  8.00654259e-01,\n",
              "         1.49486315e+00,  1.26346019e+00,  5.69251294e-01,\n",
              "         8.00654259e-01, -1.24957601e-01,  8.00654259e-01,\n",
              "         1.03205722e+00,  8.00654259e-01,  3.37848329e-01,\n",
              "         1.06445364e-01,  8.00654259e-01,  2.42047502e+00,\n",
              "         2.65187798e+00,  1.06445364e-01,  3.37848329e-01,\n",
              "         1.03205722e+00,  1.06445364e-01, -1.24957601e-01,\n",
              "         8.00654259e-01,  1.03205722e+00, -1.74477836e+00,\n",
              "         3.37848329e-01,  1.03205722e+00,  1.72626612e+00,\n",
              "        -1.24957601e-01,  1.72626612e+00,  3.37848329e-01,\n",
              "         1.49486315e+00,  5.69251294e-01,  3.37848329e-01,\n",
              "         3.37848329e-01,  1.06445364e-01, -1.74477836e+00,\n",
              "        -5.87763531e-01, -5.87763531e-01,  5.69251294e-01,\n",
              "        -1.51337539e+00, -3.56360566e-01, -8.19166497e-01,\n",
              "        -2.43898725e+00, -1.24957601e-01, -1.97618132e+00,\n",
              "        -3.56360566e-01, -3.56360566e-01,  1.06445364e-01,\n",
              "        -1.24957601e-01, -8.19166497e-01, -1.97618132e+00,\n",
              "        -1.28197243e+00,  3.37848329e-01, -5.87763531e-01,\n",
              "        -1.28197243e+00, -5.87763531e-01, -3.56360566e-01,\n",
              "        -1.24957601e-01, -5.87763531e-01, -1.24957601e-01,\n",
              "        -3.56360566e-01, -1.05056946e+00, -1.51337539e+00,\n",
              "        -1.51337539e+00, -8.19166497e-01, -8.19166497e-01,\n",
              "        -1.24957601e-01,  8.00654259e-01,  1.06445364e-01,\n",
              "        -1.74477836e+00, -1.24957601e-01, -1.28197243e+00,\n",
              "        -1.05056946e+00, -1.24957601e-01, -1.05056946e+00,\n",
              "        -1.74477836e+00, -8.19166497e-01, -1.24957601e-01,\n",
              "        -3.56360566e-01, -3.56360566e-01, -1.28197243e+00,\n",
              "        -5.87763531e-01,  5.69251294e-01, -8.19166497e-01,\n",
              "        -1.24957601e-01, -3.56360566e-01, -1.24957601e-01,\n",
              "        -1.24957601e-01, -1.28197243e+00, -3.56360566e-01,\n",
              "        -1.28197243e+00,  1.26346019e+00,  3.37848329e-01,\n",
              "        -8.19166497e-01, -1.24957601e-01, -1.28197243e+00,\n",
              "        -5.87763531e-01,  3.37848329e-01, -1.24957601e-01,\n",
              "         1.72626612e+00, -1.05056946e+00, -1.97618132e+00,\n",
              "         3.37848329e-01, -5.87763531e-01, -5.87763531e-01,\n",
              "        -8.19166497e-01,  5.69251294e-01,  3.37848329e-01,\n",
              "        -5.87763531e-01, -1.24957601e-01, -5.87763531e-01,\n",
              "        -1.24957601e-01, -5.87763531e-01,  1.72626612e+00,\n",
              "        -5.87763531e-01, -5.87763531e-01, -1.05056946e+00,\n",
              "        -1.24957601e-01,  8.00654259e-01,  1.06445364e-01,\n",
              "        -1.24957601e-01,  1.06445364e-01,  1.06445364e-01,\n",
              "         1.06445364e-01, -8.19166497e-01,  3.37848329e-01,\n",
              "         5.69251294e-01, -1.24957601e-01, -1.28197243e+00,\n",
              "        -1.24957601e-01,  8.00654259e-01, -1.24957601e-01],\n",
              "       [-1.34127240e+00, -1.34127240e+00, -1.39813811e+00,\n",
              "        -1.28440670e+00, -1.34127240e+00, -1.17067529e+00,\n",
              "        -1.34127240e+00, -1.28440670e+00, -1.34127240e+00,\n",
              "        -1.28440670e+00, -1.28440670e+00, -1.22754100e+00,\n",
              "        -1.34127240e+00, -1.51186952e+00, -1.45500381e+00,\n",
              "        -1.28440670e+00, -1.39813811e+00, -1.34127240e+00,\n",
              "        -1.17067529e+00, -1.28440670e+00, -1.17067529e+00,\n",
              "        -1.28440670e+00, -1.56873522e+00, -1.17067529e+00,\n",
              "        -1.05694388e+00, -1.22754100e+00, -1.22754100e+00,\n",
              "        -1.28440670e+00, -1.34127240e+00, -1.22754100e+00,\n",
              "        -1.22754100e+00, -1.28440670e+00, -1.28440670e+00,\n",
              "        -1.34127240e+00, -1.28440670e+00, -1.45500381e+00,\n",
              "        -1.39813811e+00, -1.28440670e+00, -1.39813811e+00,\n",
              "        -1.28440670e+00, -1.39813811e+00, -1.39813811e+00,\n",
              "        -1.39813811e+00, -1.22754100e+00, -1.05694388e+00,\n",
              "        -1.34127240e+00, -1.22754100e+00, -1.34127240e+00,\n",
              "        -1.28440670e+00, -1.34127240e+00,  5.35295827e-01,\n",
              "         4.21564419e-01,  6.49027235e-01,  1.37235899e-01,\n",
              "         4.78430123e-01,  4.21564419e-01,  5.35295827e-01,\n",
              "        -2.60824029e-01,  4.78430123e-01,  8.03701950e-02,\n",
              "        -1.47092621e-01,  2.50967307e-01,  1.37235899e-01,\n",
              "         5.35295827e-01, -9.02269170e-02,  3.64698715e-01,\n",
              "         4.21564419e-01,  1.94101603e-01,  4.21564419e-01,\n",
              "         8.03701950e-02,  5.92161531e-01,  1.37235899e-01,\n",
              "         6.49027235e-01,  5.35295827e-01,  3.07833011e-01,\n",
              "         3.64698715e-01,  5.92161531e-01,  7.05892939e-01,\n",
              "         4.21564419e-01, -1.47092621e-01,  2.35044910e-02,\n",
              "        -3.33612130e-02,  8.03701950e-02,  7.62758643e-01,\n",
              "         4.21564419e-01,  4.21564419e-01,  5.35295827e-01,\n",
              "         3.64698715e-01,  1.94101603e-01,  1.37235899e-01,\n",
              "         3.64698715e-01,  4.78430123e-01,  1.37235899e-01,\n",
              "        -2.60824029e-01,  2.50967307e-01,  2.50967307e-01,\n",
              "         2.50967307e-01,  3.07833011e-01, -4.31421141e-01,\n",
              "         1.94101603e-01,  1.27454998e+00,  7.62758643e-01,\n",
              "         1.21768427e+00,  1.04708716e+00,  1.16081857e+00,\n",
              "         1.61574420e+00,  4.21564419e-01,  1.44514709e+00,\n",
              "         1.16081857e+00,  1.33141568e+00,  7.62758643e-01,\n",
              "         8.76490051e-01,  9.90221459e-01,  7.05892939e-01,\n",
              "         7.62758643e-01,  8.76490051e-01,  9.90221459e-01,\n",
              "         1.67260991e+00,  1.78634131e+00,  7.05892939e-01,\n",
              "         1.10395287e+00,  6.49027235e-01,  1.67260991e+00,\n",
              "         6.49027235e-01,  1.10395287e+00,  1.27454998e+00,\n",
              "         5.92161531e-01,  6.49027235e-01,  1.04708716e+00,\n",
              "         1.16081857e+00,  1.33141568e+00,  1.50201279e+00,\n",
              "         1.04708716e+00,  7.62758643e-01,  1.04708716e+00,\n",
              "         1.33141568e+00,  1.04708716e+00,  9.90221459e-01,\n",
              "         5.92161531e-01,  9.33355755e-01,  1.04708716e+00,\n",
              "         7.62758643e-01,  7.62758643e-01,  1.21768427e+00,\n",
              "         1.10395287e+00,  8.19624347e-01,  7.05892939e-01,\n",
              "         8.19624347e-01,  9.33355755e-01,  7.62758643e-01],\n",
              "       [-1.31297673e+00, -1.31297673e+00, -1.31297673e+00,\n",
              "        -1.31297673e+00, -1.31297673e+00, -1.05003079e+00,\n",
              "        -1.18150376e+00, -1.31297673e+00, -1.31297673e+00,\n",
              "        -1.44444970e+00, -1.31297673e+00, -1.31297673e+00,\n",
              "        -1.44444970e+00, -1.44444970e+00, -1.31297673e+00,\n",
              "        -1.05003079e+00, -1.05003079e+00, -1.18150376e+00,\n",
              "        -1.18150376e+00, -1.18150376e+00, -1.31297673e+00,\n",
              "        -1.05003079e+00, -1.31297673e+00, -9.18557817e-01,\n",
              "        -1.31297673e+00, -1.31297673e+00, -1.05003079e+00,\n",
              "        -1.31297673e+00, -1.31297673e+00, -1.31297673e+00,\n",
              "        -1.31297673e+00, -1.05003079e+00, -1.44444970e+00,\n",
              "        -1.31297673e+00, -1.44444970e+00, -1.31297673e+00,\n",
              "        -1.31297673e+00, -1.44444970e+00, -1.31297673e+00,\n",
              "        -1.31297673e+00, -1.18150376e+00, -1.18150376e+00,\n",
              "        -1.31297673e+00, -7.87084847e-01, -1.05003079e+00,\n",
              "        -1.18150376e+00, -1.31297673e+00, -1.31297673e+00,\n",
              "        -1.31297673e+00, -1.31297673e+00,  2.64698913e-01,\n",
              "         3.96171883e-01,  3.96171883e-01,  1.33225943e-01,\n",
              "         3.96171883e-01,  1.33225943e-01,  5.27644853e-01,\n",
              "        -2.61192967e-01,  1.33225943e-01,  2.64698913e-01,\n",
              "        -2.61192967e-01,  3.96171883e-01, -2.61192967e-01,\n",
              "         2.64698913e-01,  1.33225943e-01,  2.64698913e-01,\n",
              "         3.96171883e-01, -2.61192967e-01,  3.96171883e-01,\n",
              "        -1.29719997e-01,  7.90590793e-01,  1.33225943e-01,\n",
              "         3.96171883e-01,  1.75297293e-03,  1.33225943e-01,\n",
              "         2.64698913e-01,  2.64698913e-01,  6.59117823e-01,\n",
              "         3.96171883e-01, -2.61192967e-01, -1.29719997e-01,\n",
              "        -2.61192967e-01,  1.75297293e-03,  5.27644853e-01,\n",
              "         3.96171883e-01,  5.27644853e-01,  3.96171883e-01,\n",
              "         1.33225943e-01,  1.33225943e-01,  1.33225943e-01,\n",
              "         1.75297293e-03,  2.64698913e-01,  1.75297293e-03,\n",
              "        -2.61192967e-01,  1.33225943e-01,  1.75297293e-03,\n",
              "         1.33225943e-01,  1.33225943e-01, -1.29719997e-01,\n",
              "         1.33225943e-01,  1.71090158e+00,  9.22063763e-01,\n",
              "         1.18500970e+00,  7.90590793e-01,  1.31648267e+00,\n",
              "         1.18500970e+00,  6.59117823e-01,  7.90590793e-01,\n",
              "         7.90590793e-01,  1.71090158e+00,  1.05353673e+00,\n",
              "         9.22063763e-01,  1.18500970e+00,  1.05353673e+00,\n",
              "         1.57942861e+00,  1.44795564e+00,  7.90590793e-01,\n",
              "         1.31648267e+00,  1.44795564e+00,  3.96171883e-01,\n",
              "         1.44795564e+00,  1.05353673e+00,  1.05353673e+00,\n",
              "         7.90590793e-01,  1.18500970e+00,  7.90590793e-01,\n",
              "         7.90590793e-01,  7.90590793e-01,  1.18500970e+00,\n",
              "         5.27644853e-01,  9.22063763e-01,  1.05353673e+00,\n",
              "         1.31648267e+00,  3.96171883e-01,  2.64698913e-01,\n",
              "         1.44795564e+00,  1.57942861e+00,  7.90590793e-01,\n",
              "         7.90590793e-01,  1.18500970e+00,  1.57942861e+00,\n",
              "         1.44795564e+00,  9.22063763e-01,  1.44795564e+00,\n",
              "         1.71090158e+00,  1.44795564e+00,  9.22063763e-01,\n",
              "         1.05353673e+00,  1.44795564e+00,  7.90590793e-01]])"
            ]
          },
          "metadata": {
            "tags": []
          },
          "execution_count": 36
        }
      ]
    },
    {
      "cell_type": "code",
      "metadata": {
        "colab": {
          "base_uri": "https://localhost:8080/",
          "height": 349
        },
        "id": "Tdjur1vQ-exl",
        "outputId": "cf564658-7f1b-4a9a-9a08-2913bcd855cf"
      },
      "source": [
        "plt.hist(data_matrix[0,:],bins = 'rice', color = 'b')\r\n",
        "plt.hist(data_matrix_m0_std1_useSTAT[0,:],bins = 'rice', color = 'r')\r\n",
        "plt.hist(data_matrix_m0[0,:],bins = 'rice', color = 'y')"
      ],
      "execution_count": null,
      "outputs": [
        {
          "output_type": "execute_result",
          "data": {
            "text/plain": [
              "(array([ 9., 13., 23., 20., 18., 16., 21., 17.,  5.,  2.,  6.]),\n",
              " array([-1.54333333, -1.21606061, -0.88878788, -0.56151515, -0.23424242,\n",
              "         0.0930303 ,  0.42030303,  0.74757576,  1.07484848,  1.40212121,\n",
              "         1.72939394,  2.05666667]),\n",
              " <a list of 11 Patch objects>)"
            ]
          },
          "metadata": {
            "tags": []
          },
          "execution_count": 37
        },
        {
          "output_type": "display_data",
          "data": {
            "image/png": "[encoded data removed]",
            "text/plain": [
              "<Figure size 432x288 with 1 Axes>"
            ]
          },
          "metadata": {
            "tags": [],
            "needs_background": "light"
          }
        }
      ]
    },
    {
      "cell_type": "markdown",
      "metadata": {
        "id": "MJcWh8lB2D9f"
      },
      "source": [
        "## 2. Calculating the covariance matrix (หา covariance matrix ของข้อมูลของเรา)\r\n",
        "\r\n",
        "![yuiuyt.png](data:image/png;base64,iVBORw0KGgoAAAANSUhEUgAAASwAAAAhCAAAAABG/8nDAAAACXBIWXMAABYlAAAWJQFJUiTwAAAH2klEQVRo3u1ZaVBUVxb+Ht10v+5miWADLbKIgCC4IiA6BqIoxJhoHOOCFZeUcUFx1Jko1qilo0FjQohmppzRUFErDhIVjCUJ7gtiwHaLG7gCATOiQLM19PrO/OjXLZB2oZNKMZk+f/rde8937u3vLud79zEEu72sOdgpsJP1/0ZWK2cn6yWtOXtRY1cbk7DLrqu6IuOvEKY6tZv2wQDDj7vZ3/PKkkf9KmHKwlZ6XE5OdWP/F1fWlQr+YVyne669NAbQnI5jcZEAWeijKqC328/9jKd0ABMj2/9HEeAxz0k5yFO8EOg0lvs2yuOZZJXdFQb37IjWVfcQ/AJuaql7+4q7M7kpgVCfvahy6mSoO8tXAU/WDBeBKjbeGZCB1gWaP/ey4mjYpgKY9P6qlC0sAlBd8q4Y/dB5LCNJ+ci/fTPx1rrcVeYqX66m9na5122ywbafNP0um9KhQfdX5rVaIlWfpheFuNi3pm2xJvQMUeu0zQYiosMY0ko54VetI1tbWlpajGRYlUJEVCAxjaXzWC7n9fp2jRay5kozn6gyZB92AP8nvcYWsqLXmH6/29uxpXkSM0dDlKt9UYii9mS9P4sj+jKqjoiIVMEuynMhBS+I0OR3jIjSvaqIyCasdsKHXNtKwVr+LFn28VwpG115fpK4es/e8p5O5wuChDhTFFAeLr73xf5L3m6VOZJdB9GLoQs781r9haj5KrveXwQA2brCnQ+DTmZe9nNBxb/2XfKQZR/SMWE73M4d9YH3nse9mavf+FRl+TgDgCju9LeyGIcQ0+Y2Goy8OTDtV/yjzdc9+zpaijeWrg9E/fyxYwEA4qqT6i82JFjfrxczc6LZ/X/r4ykqOTaN4Ta5zRECNmEF+i1TZVa24T+cVUREnJFKgnsnBYSW7nP9gbghS5TuJde8B84M8jEclYaMi2SPUKY0NtHpT4ayQf2mK8ariYiG+EdMlg0Lm95jVPODHv1m9g2+McPVb7aWHe4yccE47gOXK4+Dp+sy2UK+q2u+LjfNc7U5krdXHzx/prcKa4kuOR4y71GRIIN7hmthhmTx4ZFJPxDt6FZRkxE4qpAjm7BEF5zz2raaD/j7PVgAYBhspgJFZXz6Os/8/rdv/pMAZViWW96ESuiXzGsafnzo6jkZzGfZj7aKTnS7GZs/EQC886WzTxT13L2iocirkC1MbNo1NGEdjE+KQpPBrC6eFyROd3w9P5zvKijGO9A8VQPN2UPkyieUh1bmm1XgvlQMlDEuZhXGtgSbl2LzPf5BHCQEgGFR13aX7PQBINeUxS5ZwqevzmN94SwpGWslG0rVBAANtd7Fbyvg8+YJ99F5Cw8HDr4EvBuZc/2M0YBXRsHZr+lOzWwHpMyRnG9cCiMVTgSAkU5Q+PWEF3GTB+y5XsiZ3lOY90IBwHnb0KtHPKFQmBPO56K1IqBVAgCjR3fg5cE7VsiK2Il6lgHqhfy+LF0Wc2RfIq8Rr0/gb078vjOlXuGMnSN9AECir7PEsAnrKKy2Jh2Cqu/1A7Btb56eBcAajJOy7x9MYgBkrxgaPSMVELAAg1aSAoYaD72TApgbbQ7CCAAGOJQcHfPeSl7v8nm3wUFYGmfpkMsu2OEM6NPWA0BOgXllLfMEAIRct36YeLUQ4KXXAgAezpk1ovjUT7zOGXiG93Hsxp8sD0VKowCARvBUn9iENRhcrZEV77XuS2dU7A3xDD2xXNZ4OlgS6f/pnckAjFkRex1zLNdevdijwfhqW27Yk9XSxhTHDv9pT58DguMGAATA1FibMjpwbdRgdZ2HGADOpKXV1UH3zWMAwE/mbSDRP19lBWuaZOjlUAsAdbMS5umjjp1N4qEhHXzLD848dA++EtSxfpZKm7BqbR+rOivTNS5tU0Tvy3RSPuHvb3meIkoTJehI6X5rll/Gur7MJ0e9KonenM8lu6/5yPd9XaH35K3jFTeIiIasI0odQXTUs3KhfOuGvpL12jGDPtOzB4gWjDMs8i2vj3xVleV/gYjoRoBQLpfLuzGbXlKEXMknIqLy7geJmkf8hUhXHBuvIW4lXqu1CshNSjyudE5YoiZKjjE+lSy2YP+tqLAmHTBwWFXxg8EZ4YxfzG2lIu0PDDwbZoVCW5s4vFqpWyOoH9mcIMHDoEGxkuKyt1OdvKNvKd0+jgCAygGhqHGNRUtzYnRtkXapXDUqoFoXfz/eG9UePicXR7MDSntKniS6A5SnDQsICAgIDJ/k+1K6/dTyxrEA8Mq9C5MhQtZE2dk9IgWF5JYGuv44xNEK4u7ppAlyo26FB5pXbAy2VNuC1W184w0HayuLiFO3mDIqp2mfWY0aIxn0T8t6He9m/PncdPT9pWb4YJHp4XH4CSL19A2GFyE4DZFpCKvmtx2gDdicMe0VeRviGKnElFEZcXuB6CB2gKDNSySfVxixlSuLjr6dN+X4/MUTLSWBuQ951gYlpJ+U7HrRlSAjBiAQAlu0n7YdYOexxw9td+/iVzTupV/3v0WNKpVKpVK3qQ//ugbw2u6he8k4uqA0SfuE2kksh61+Hbjscl938qbm3vk+c9pdAHhrPZOq/tx+U/pMO/dO3PaRwgOWM9V+B/+cHfD9FEZ5VWMuNtyuaugyY7NIh65iBp8YVjFVbhGJ3ftL5V1lbIz9i/Tv4ruhnSw7WXay7GYny07Wb2T/Bb++Nwnph2nOAAAAAElFTkSuQmCC)"
      ]
    },
    {
      "cell_type": "code",
      "metadata": {
        "colab": {
          "base_uri": "https://localhost:8080/",
          "height": 286
        },
        "id": "53SQCaBn2GN_",
        "outputId": "11e4bd92-a452-487b-9623-7af9d91f71fc"
      },
      "source": [
        "pd.plotting.scatter_matrix(example_df);"
      ],
      "execution_count": null,
      "outputs": [
        {
          "output_type": "display_data",
          "data": {
            "image/png": "[encoded data removed]",
            "text/plain": [
              "<Figure size 432x288 with 16 Axes>"
            ]
          },
          "metadata": {
            "tags": [],
            "needs_background": "light"
          }
        }
      ]
    },
    {
      "cell_type": "code",
      "metadata": {
        "colab": {
          "base_uri": "https://localhost:8080/"
        },
        "id": "R7Eqduah2Rqh",
        "outputId": "6b10b941-2c94-4d9f-97eb-0449fb030b0a"
      },
      "source": [
        "data_cov = np.cov(data_matrix_m0_std1)\r\n",
        "data_cov"
      ],
      "execution_count": null,
      "outputs": [
        {
          "output_type": "execute_result",
          "data": {
            "text/plain": [
              "array([[ 1.00671141, -0.11010327,  0.87760486,  0.82344326],\n",
              "       [-0.11010327,  1.00671141, -0.42333835, -0.358937  ],\n",
              "       [ 0.87760486, -0.42333835,  1.00671141,  0.96921855],\n",
              "       [ 0.82344326, -0.358937  ,  0.96921855,  1.00671141]])"
            ]
          },
          "metadata": {
            "tags": []
          },
          "execution_count": 39
        }
      ]
    },
    {
      "cell_type": "markdown",
      "metadata": {
        "id": "fEgcQusl_ZdZ"
      },
      "source": [
        "## 3 คำนวณ Eigenvectors and Eigenvalues (คำนวณ eigen values-vectors)"
      ]
    },
    {
      "cell_type": "code",
      "metadata": {
        "id": "0ymWmqXLAsPQ"
      },
      "source": [
        "eigen_values, eigen_vectors = np.linalg.eig(data_cov)"
      ],
      "execution_count": null,
      "outputs": []
    },
    {
      "cell_type": "code",
      "metadata": {
        "colab": {
          "base_uri": "https://localhost:8080/"
        },
        "id": "SWeG0golAwEU",
        "outputId": "8cd66f8b-5c43-4f46-c904-adfe0a25e088"
      },
      "source": [
        "eigen_values"
      ],
      "execution_count": null,
      "outputs": [
        {
          "output_type": "execute_result",
          "data": {
            "text/plain": [
              "array([2.93035378, 0.92740362, 0.14834223, 0.02074601])"
            ]
          },
          "metadata": {
            "tags": []
          },
          "execution_count": 41
        }
      ]
    },
    {
      "cell_type": "code",
      "metadata": {
        "colab": {
          "base_uri": "https://localhost:8080/"
        },
        "id": "Fp1_SKzNA0-Z",
        "outputId": "251290a6-6a83-4750-a41f-88e60d66d0c1"
      },
      "source": [
        "eigen_vectors"
      ],
      "execution_count": null,
      "outputs": [
        {
          "output_type": "execute_result",
          "data": {
            "text/plain": [
              "array([[ 0.52237162, -0.37231836, -0.72101681,  0.26199559],\n",
              "       [-0.26335492, -0.92555649,  0.24203288, -0.12413481],\n",
              "       [ 0.58125401, -0.02109478,  0.14089226, -0.80115427],\n",
              "       [ 0.56561105, -0.06541577,  0.6338014 ,  0.52354627]])"
            ]
          },
          "metadata": {
            "tags": []
          },
          "execution_count": 42
        }
      ]
    },
    {
      "cell_type": "markdown",
      "metadata": {
        "id": "5XGhjB3FBC3r"
      },
      "source": [
        "##4 Picking Principal Components Using the Explained Variance (เลือกมาเฉพาะ eigens ที่จำเป็น)\r\n",
        "\r\n",
        "คำนวณว่า แต่ละ eigen vector อธิบายข้อมูลทั้งหมด ได้ดีแค่ไหน"
      ]
    },
    {
      "cell_type": "code",
      "metadata": {
        "colab": {
          "base_uri": "https://localhost:8080/"
        },
        "id": "9QlkakYxBHrR",
        "outputId": "a3421399-b8ba-48bd-abae-dcc44d5c8550"
      },
      "source": [
        "sum(eigen_values)"
      ],
      "execution_count": null,
      "outputs": [
        {
          "output_type": "execute_result",
          "data": {
            "text/plain": [
              "4.026845637583896"
            ]
          },
          "metadata": {
            "tags": []
          },
          "execution_count": 43
        }
      ]
    },
    {
      "cell_type": "code",
      "metadata": {
        "colab": {
          "base_uri": "https://localhost:8080/"
        },
        "id": "lTj0-ZmUBMua",
        "outputId": "3e2b7c8c-20e1-43d3-c8e4-cda5c17d1662"
      },
      "source": [
        "variance_explained = []\r\n",
        "for i in eigen_values:\r\n",
        "     variance_explained.append((i/sum(eigen_values))*100)\r\n",
        "        \r\n",
        "print(variance_explained)"
      ],
      "execution_count": null,
      "outputs": [
        {
          "output_type": "stream",
          "text": [
            "[72.77045209380132, 23.03052326768066, 3.6838319576273824, 0.5151926808906327]\n"
          ],
          "name": "stdout"
        }
      ]
    },
    {
      "cell_type": "code",
      "metadata": {
        "colab": {
          "base_uri": "https://localhost:8080/"
        },
        "id": "AzE0U1e7BPyW",
        "outputId": "a929175b-cc64-4971-be15-4bcca68d0a27"
      },
      "source": [
        "cumulative_variance_explained = np.cumsum(variance_explained)\r\n",
        "print(cumulative_variance_explained)"
      ],
      "execution_count": null,
      "outputs": [
        {
          "output_type": "stream",
          "text": [
            "[ 72.77045209  95.80097536  99.48480732 100.        ]\n"
          ],
          "name": "stdout"
        }
      ]
    },
    {
      "cell_type": "code",
      "metadata": {
        "colab": {
          "base_uri": "https://localhost:8080/"
        },
        "id": "gobZitpBBWTE",
        "outputId": "918d14bd-fe71-46e7-b819-3b2f65cc04c3"
      },
      "source": [
        "selected_eigen_vectors = eigen_vectors[:,:2]\r\n",
        "selected_eigen_vectors"
      ],
      "execution_count": null,
      "outputs": [
        {
          "output_type": "execute_result",
          "data": {
            "text/plain": [
              "array([[ 0.52237162, -0.37231836],\n",
              "       [-0.26335492, -0.92555649],\n",
              "       [ 0.58125401, -0.02109478],\n",
              "       [ 0.56561105, -0.06541577]])"
            ]
          },
          "metadata": {
            "tags": []
          },
          "execution_count": 46
        }
      ]
    },
    {
      "cell_type": "markdown",
      "metadata": {
        "id": "JKVS6FM_Bcl5"
      },
      "source": [
        "##5 Project Data Onto Lower-Dimensional Linear Subspace (map data ไปบนแกนใหม่)\r\n",
        "![ดาวน์โหลด (2).png](data:image/png;base64,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)"
      ]
    },
    {
      "cell_type": "code",
      "metadata": {
        "colab": {
          "base_uri": "https://localhost:8080/"
        },
        "id": "VeKj9zEGBsey",
        "outputId": "38a8b359-f92a-4271-fe2f-f7110edd4f0a"
      },
      "source": [
        "X = data_matrix_m0_std1\r\n",
        "X.shape"
      ],
      "execution_count": null,
      "outputs": [
        {
          "output_type": "execute_result",
          "data": {
            "text/plain": [
              "(4, 150)"
            ]
          },
          "metadata": {
            "tags": []
          },
          "execution_count": 47
        }
      ]
    },
    {
      "cell_type": "code",
      "metadata": {
        "colab": {
          "base_uri": "https://localhost:8080/"
        },
        "id": "KX_kVv4gBohF",
        "outputId": "190a8163-3531-48a6-b692-9316ba3e0dd0"
      },
      "source": [
        "W = selected_eigen_vectors\r\n",
        "W.shape"
      ],
      "execution_count": null,
      "outputs": [
        {
          "output_type": "execute_result",
          "data": {
            "text/plain": [
              "(4, 2)"
            ]
          },
          "metadata": {
            "tags": []
          },
          "execution_count": 48
        }
      ]
    },
    {
      "cell_type": "code",
      "metadata": {
        "colab": {
          "base_uri": "https://localhost:8080/"
        },
        "id": "_Dz_Q4jUBgiV",
        "outputId": "d0189054-6b06-4187-cb26-c8a300f33f03"
      },
      "source": [
        "X_pca = X.T.dot(W)\r\n",
        "X_pca"
      ],
      "execution_count": null,
      "outputs": [
        {
          "output_type": "execute_result",
          "data": {
            "text/plain": [
              "array([[-2.26454173e+00, -5.05703903e-01],\n",
              "       [-2.08642550e+00,  6.55404729e-01],\n",
              "       [-2.36795045e+00,  3.18477311e-01],\n",
              "       [-2.30419716e+00,  5.75367713e-01],\n",
              "       [-2.38877749e+00, -6.74767397e-01],\n",
              "       [-2.07053681e+00, -1.51854856e+00],\n",
              "       [-2.44571134e+00, -7.45626750e-02],\n",
              "       [-2.23384186e+00, -2.47613932e-01],\n",
              "       [-2.34195768e+00,  1.09514636e+00],\n",
              "       [-2.18867576e+00,  4.48629048e-01],\n",
              "       [-2.16348656e+00, -1.07059558e+00],\n",
              "       [-2.32737775e+00, -1.58587455e-01],\n",
              "       [-2.22408272e+00,  7.09118158e-01],\n",
              "       [-2.63971626e+00,  9.38281982e-01],\n",
              "       [-2.19229151e+00, -1.88997851e+00],\n",
              "       [-2.25146521e+00, -2.72237108e+00],\n",
              "       [-2.20275048e+00, -1.51375028e+00],\n",
              "       [-2.19017916e+00, -5.14304308e-01],\n",
              "       [-1.89407429e+00, -1.43111071e+00],\n",
              "       [-2.33994907e+00, -1.15803343e+00],\n",
              "       [-1.91455639e+00, -4.30465163e-01],\n",
              "       [-2.20464540e+00, -9.52457317e-01],\n",
              "       [-2.77416979e+00, -4.89517027e-01],\n",
              "       [-1.82041156e+00, -1.06750793e-01],\n",
              "       [-2.22821750e+00, -1.62186163e-01],\n",
              "       [-1.95702401e+00,  6.07892567e-01],\n",
              "       [-2.05206331e+00, -2.66014312e-01],\n",
              "       [-2.16819365e+00, -5.52016495e-01],\n",
              "       [-2.14030596e+00, -3.36640409e-01],\n",
              "       [-2.26879019e+00,  3.14878603e-01],\n",
              "       [-2.14455443e+00,  4.83942097e-01],\n",
              "       [-1.83193810e+00, -4.45266836e-01],\n",
              "       [-2.60820287e+00, -1.82847519e+00],\n",
              "       [-2.43795086e+00, -2.18539162e+00],\n",
              "       [-2.18867576e+00,  4.48629048e-01],\n",
              "       [-2.21111990e+00,  1.84337811e-01],\n",
              "       [-2.04441652e+00, -6.84956426e-01],\n",
              "       [-2.18867576e+00,  4.48629048e-01],\n",
              "       [-2.43595220e+00,  8.82169415e-01],\n",
              "       [-2.17054720e+00, -2.92726955e-01],\n",
              "       [-2.28652724e+00, -4.67991716e-01],\n",
              "       [-1.87170722e+00,  2.32769161e+00],\n",
              "       [-2.55783442e+00,  4.53816380e-01],\n",
              "       [-1.96427929e+00, -4.97391640e-01],\n",
              "       [-2.13337283e+00, -1.17143211e+00],\n",
              "       [-2.07535759e+00,  6.91917347e-01],\n",
              "       [-2.38125822e+00, -1.15063259e+00],\n",
              "       [-2.39819169e+00,  3.62390765e-01],\n",
              "       [-2.22678121e+00, -1.02548255e+00],\n",
              "       [-2.20595417e+00, -3.22378453e-02],\n",
              "       [ 1.10399365e+00, -8.63112446e-01],\n",
              "       [ 7.32481440e-01, -5.98635573e-01],\n",
              "       [ 1.24210951e+00, -6.14822450e-01],\n",
              "       [ 3.97307283e-01,  1.75816895e+00],\n",
              "       [ 1.07259395e+00,  2.11757903e-01],\n",
              "       [ 3.84458146e-01,  5.91062469e-01],\n",
              "       [ 7.48715076e-01, -7.78698611e-01],\n",
              "       [-4.97863388e-01,  1.84886877e+00],\n",
              "       [ 9.26222368e-01, -3.03308268e-02],\n",
              "       [ 4.96802558e-03,  1.02940111e+00],\n",
              "       [-1.24697461e-01,  2.65806268e+00],\n",
              "       [ 4.38730118e-01,  5.88812850e-02],\n",
              "       [ 5.51633981e-01,  1.77258156e+00],\n",
              "       [ 7.17165066e-01,  1.85434315e-01],\n",
              "       [-3.72583830e-02,  4.32795099e-01],\n",
              "       [ 8.75890536e-01, -5.09998151e-01],\n",
              "       [ 3.48006402e-01,  1.90621647e-01],\n",
              "       [ 1.53392545e-01,  7.90725456e-01],\n",
              "       [ 1.21530321e+00,  1.63335564e+00],\n",
              "       [ 1.56941176e-01,  1.30310327e+00],\n",
              "       [ 7.38256104e-01, -4.02470382e-01],\n",
              "       [ 4.72369682e-01,  4.16608222e-01],\n",
              "       [ 1.22798821e+00,  9.40914793e-01],\n",
              "       [ 6.29381045e-01,  4.16811643e-01],\n",
              "       [ 7.00472799e-01,  6.34939277e-02],\n",
              "       [ 8.73536987e-01, -2.50708611e-01],\n",
              "       [ 1.25422219e+00,  8.26200998e-02],\n",
              "       [ 1.35823985e+00, -3.28820266e-01],\n",
              "       [ 6.62126138e-01,  2.24346071e-01],\n",
              "       [-4.72815133e-02,  1.05721241e+00],\n",
              "       [ 1.21534209e-01,  1.56359238e+00],\n",
              "       [ 1.41182261e-02,  1.57339235e+00],\n",
              "       [ 2.36010837e-01,  7.75923784e-01],\n",
              "       [ 1.05669143e+00,  6.36901284e-01],\n",
              "       [ 2.21417088e-01,  2.80847693e-01],\n",
              "       [ 4.31783161e-01, -8.55136920e-01],\n",
              "       [ 1.04941336e+00, -5.22197265e-01],\n",
              "       [ 1.03587821e+00,  1.39246648e+00],\n",
              "       [ 6.70675999e-02,  2.12620735e-01],\n",
              "       [ 2.75425066e-01,  1.32981591e+00],\n",
              "       [ 2.72335066e-01,  1.11944152e+00],\n",
              "       [ 6.23170540e-01, -2.75426333e-02],\n",
              "       [ 3.30005364e-01,  9.88900732e-01],\n",
              "       [-3.73627623e-01,  2.01793227e+00],\n",
              "       [ 2.82944343e-01,  8.53950717e-01],\n",
              "       [ 8.90531103e-02,  1.74908548e-01],\n",
              "       [ 2.24356783e-01,  3.80484659e-01],\n",
              "       [ 5.73883486e-01,  1.53719974e-01],\n",
              "       [-4.57012873e-01,  1.53946451e+00],\n",
              "       [ 2.52244473e-01,  5.95860746e-01],\n",
              "       [ 1.84767259e+00, -8.71696662e-01],\n",
              "       [ 1.15318981e+00,  7.01326114e-01],\n",
              "       [ 2.20634950e+00, -5.54470105e-01],\n",
              "       [ 1.43868540e+00,  5.00105223e-02],\n",
              "       [ 1.86789070e+00, -2.91192802e-01],\n",
              "       [ 2.75419671e+00, -7.88432206e-01],\n",
              "       [ 3.58374475e-01,  1.56009458e+00],\n",
              "       [ 2.30300590e+00, -4.09516695e-01],\n",
              "       [ 2.00173530e+00,  7.23865359e-01],\n",
              "       [ 2.26755460e+00, -1.92144299e+00],\n",
              "       [ 1.36590943e+00, -6.93948040e-01],\n",
              "       [ 1.59906459e+00,  4.28248836e-01],\n",
              "       [ 1.88425185e+00, -4.14332758e-01],\n",
              "       [ 1.25308651e+00,  1.16739134e+00],\n",
              "       [ 1.46406152e+00,  4.44147569e-01],\n",
              "       [ 1.59180930e+00, -6.77035372e-01],\n",
              "       [ 1.47128019e+00, -2.53192472e-01],\n",
              "       [ 2.43737848e+00, -2.55675734e+00],\n",
              "       [ 3.30914118e+00,  2.36132010e-03],\n",
              "       [ 1.25398099e+00,  1.71758384e+00],\n",
              "       [ 2.04049626e+00, -9.07398765e-01],\n",
              "       [ 9.73915114e-01,  5.71174376e-01],\n",
              "       [ 2.89806444e+00, -3.97791359e-01],\n",
              "       [ 1.32919369e+00,  4.86760542e-01],\n",
              "       [ 1.70424071e+00, -1.01414842e+00],\n",
              "       [ 1.95772766e+00, -1.00333452e+00],\n",
              "       [ 1.17190451e+00,  3.18896617e-01],\n",
              "       [ 1.01978105e+00, -6.55429631e-02],\n",
              "       [ 1.78600886e+00,  1.93272800e-01],\n",
              "       [ 1.86477791e+00, -5.55381532e-01],\n",
              "       [ 2.43549739e+00, -2.46654468e-01],\n",
              "       [ 2.31608241e+00, -2.62618387e+00],\n",
              "       [ 1.86037143e+00,  1.84672394e-01],\n",
              "       [ 1.11127173e+00,  2.95986102e-01],\n",
              "       [ 1.19746916e+00,  8.17167742e-01],\n",
              "       [ 2.80094940e+00, -8.44748194e-01],\n",
              "       [ 1.58015525e+00, -1.07247450e+00],\n",
              "       [ 1.34704442e+00, -4.22255966e-01],\n",
              "       [ 9.23432978e-01, -1.92303705e-02],\n",
              "       [ 1.85355198e+00, -6.72422729e-01],\n",
              "       [ 2.01615720e+00, -6.10397038e-01],\n",
              "       [ 1.90311686e+00, -6.86024832e-01],\n",
              "       [ 1.15318981e+00,  7.01326114e-01],\n",
              "       [ 2.04330844e+00, -8.64684880e-01],\n",
              "       [ 2.00169097e+00, -1.04855005e+00],\n",
              "       [ 1.87052207e+00, -3.82821838e-01],\n",
              "       [ 1.55849189e+00,  9.05313601e-01],\n",
              "       [ 1.52084506e+00, -2.66794575e-01],\n",
              "       [ 1.37639119e+00, -1.01636193e+00],\n",
              "       [ 9.59298576e-01,  2.22839447e-02]])"
            ]
          },
          "metadata": {
            "tags": []
          },
          "execution_count": 49
        }
      ]
    },
    {
      "cell_type": "code",
      "metadata": {
        "colab": {
          "base_uri": "https://localhost:8080/",
          "height": 282
        },
        "id": "ZH69ugliByjA",
        "outputId": "35b4e79d-ef37-46b6-ba0c-174b7b9ca84f"
      },
      "source": [
        "plt.plot(X_pca[:,0],X_pca[:,1],'or')"
      ],
      "execution_count": null,
      "outputs": [
        {
          "output_type": "execute_result",
          "data": {
            "text/plain": [
              "[<matplotlib.lines.Line2D at 0x7f75a506f290>]"
            ]
          },
          "metadata": {
            "tags": []
          },
          "execution_count": 50
        },
        {
          "output_type": "display_data",
          "data": {
            "image/png": "[encoded data removed]",
            "text/plain": [
              "<Figure size 432x288 with 1 Axes>"
            ]
          },
          "metadata": {
            "tags": [],
            "needs_background": "light"
          }
        }
      ]
    },
    {
      "cell_type": "code",
      "metadata": {
        "colab": {
          "base_uri": "https://localhost:8080/",
          "height": 282
        },
        "id": "IFervGNkB4CV",
        "outputId": "632996a2-9934-4317-8a3c-efaa9c673aee"
      },
      "source": [
        "plt.plot(X_pca[:50,0],X_pca[:50,1],'or')\r\n",
        "plt.plot(X_pca[50:100,0],X_pca[50:100,1],'og')\r\n",
        "plt.plot(X_pca[100:,0],X_pca[100:,1],'oy')"
      ],
      "execution_count": null,
      "outputs": [
        {
          "output_type": "execute_result",
          "data": {
            "text/plain": [
              "[<matplotlib.lines.Line2D at 0x7f75a5051c90>]"
            ]
          },
          "metadata": {
            "tags": []
          },
          "execution_count": 51
        },
        {
          "output_type": "display_data",
          "data": {
            "image/png": "[encoded data removed]",
            "text/plain": [
              "<Figure size 432x288 with 1 Axes>"
            ]
          },
          "metadata": {
            "tags": [],
            "needs_background": "light"
          }
        }
      ]
    },
    {
      "cell_type": "markdown",
      "metadata": {
        "id": "Ojne1tT8B8SF"
      },
      "source": [
        "##PCA"
      ]
    },
    {
      "cell_type": "markdown",
      "metadata": {
        "id": "HInapYImCD-x"
      },
      "source": [
        "**Import**"
      ]
    },
    {
      "cell_type": "code",
      "metadata": {
        "id": "CvqYqj--B4uo"
      },
      "source": [
        "from sklearn.decomposition import PCA"
      ],
      "execution_count": null,
      "outputs": []
    },
    {
      "cell_type": "markdown",
      "metadata": {
        "id": "eqUu_cOnCJbd"
      },
      "source": [
        "**Define**"
      ]
    },
    {
      "cell_type": "code",
      "metadata": {
        "id": "fGb76Lh_CNa8"
      },
      "source": [
        "pca = PCA(n_components=2)"
      ],
      "execution_count": null,
      "outputs": []
    },
    {
      "cell_type": "markdown",
      "metadata": {
        "id": "uaEq6AY2CRM5"
      },
      "source": [
        "**Fit- Transform**"
      ]
    },
    {
      "cell_type": "code",
      "metadata": {
        "id": "gHJSLkWdCant"
      },
      "source": [
        "new_pca = pca.fit_transform(X.T)  ## record - แถว  , dimension - หลัก"
      ],
      "execution_count": null,
      "outputs": []
    },
    {
      "cell_type": "code",
      "metadata": {
        "colab": {
          "base_uri": "https://localhost:8080/",
          "height": 164
        },
        "id": "F13HLCtfCjGE",
        "outputId": "f19a43db-1c37-4585-a86c-7379fdda435b"
      },
      "source": [
        "new_pca"
      ],
      "execution_count": null,
      "outputs": [
        {
          "output_type": "error",
          "ename": "NameError",
          "evalue": "ignored",
          "traceback": [
            "\u001b[0;31m---------------------------------------------------------------------------\u001b[0m",
            "\u001b[0;31mNameError\u001b[0m                                 Traceback (most recent call last)",
            "\u001b[0;32m<ipython-input-22-5a09236fc4fd>\u001b[0m in \u001b[0;36m<module>\u001b[0;34m()\u001b[0m\n\u001b[0;32m----> 1\u001b[0;31m \u001b[0mnew_pca\u001b[0m\u001b[0;34m\u001b[0m\u001b[0;34m\u001b[0m\u001b[0m\n\u001b[0m",
            "\u001b[0;31mNameError\u001b[0m: name 'new_pca' is not defined"
          ]
        }
      ]
    },
    {
      "cell_type": "code",
      "metadata": {
        "colab": {
          "base_uri": "https://localhost:8080/",
          "height": 197
        },
        "id": "tlHsthsFCnSh",
        "outputId": "bbd84c9a-1aa6-460d-fe69-70ca2522dc92"
      },
      "source": [
        "plt.plot(new_pca[:50,0],new_pca[:50,1],'or')\r\n",
        "plt.plot(new_pca[50:100,0],new_pca[50:100,1],'og')\r\n",
        "plt.plot(new_pca[100:,0],new_pca[100:,1],'oy')"
      ],
      "execution_count": null,
      "outputs": [
        {
          "output_type": "error",
          "ename": "NameError",
          "evalue": "ignored",
          "traceback": [
            "\u001b[0;31m---------------------------------------------------------------------------\u001b[0m",
            "\u001b[0;31mNameError\u001b[0m                                 Traceback (most recent call last)",
            "\u001b[0;32m<ipython-input-23-0afb941b46c8>\u001b[0m in \u001b[0;36m<module>\u001b[0;34m()\u001b[0m\n\u001b[0;32m----> 1\u001b[0;31m \u001b[0mplt\u001b[0m\u001b[0;34m.\u001b[0m\u001b[0mplot\u001b[0m\u001b[0;34m(\u001b[0m\u001b[0mnew_pca\u001b[0m\u001b[0;34m[\u001b[0m\u001b[0;34m:\u001b[0m\u001b[0;36m50\u001b[0m\u001b[0;34m,\u001b[0m\u001b[0;36m0\u001b[0m\u001b[0;34m]\u001b[0m\u001b[0;34m,\u001b[0m\u001b[0mnew_pca\u001b[0m\u001b[0;34m[\u001b[0m\u001b[0;34m:\u001b[0m\u001b[0;36m50\u001b[0m\u001b[0;34m,\u001b[0m\u001b[0;36m1\u001b[0m\u001b[0;34m]\u001b[0m\u001b[0;34m,\u001b[0m\u001b[0;34m'or'\u001b[0m\u001b[0;34m)\u001b[0m\u001b[0;34m\u001b[0m\u001b[0;34m\u001b[0m\u001b[0m\n\u001b[0m\u001b[1;32m      2\u001b[0m \u001b[0mplt\u001b[0m\u001b[0;34m.\u001b[0m\u001b[0mplot\u001b[0m\u001b[0;34m(\u001b[0m\u001b[0mnew_pca\u001b[0m\u001b[0;34m[\u001b[0m\u001b[0;36m50\u001b[0m\u001b[0;34m:\u001b[0m\u001b[0;36m100\u001b[0m\u001b[0;34m,\u001b[0m\u001b[0;36m0\u001b[0m\u001b[0;34m]\u001b[0m\u001b[0;34m,\u001b[0m\u001b[0mnew_pca\u001b[0m\u001b[0;34m[\u001b[0m\u001b[0;36m50\u001b[0m\u001b[0;34m:\u001b[0m\u001b[0;36m100\u001b[0m\u001b[0;34m,\u001b[0m\u001b[0;36m1\u001b[0m\u001b[0;34m]\u001b[0m\u001b[0;34m,\u001b[0m\u001b[0;34m'og'\u001b[0m\u001b[0;34m)\u001b[0m\u001b[0;34m\u001b[0m\u001b[0;34m\u001b[0m\u001b[0m\n\u001b[1;32m      3\u001b[0m \u001b[0mplt\u001b[0m\u001b[0;34m.\u001b[0m\u001b[0mplot\u001b[0m\u001b[0;34m(\u001b[0m\u001b[0mnew_pca\u001b[0m\u001b[0;34m[\u001b[0m\u001b[0;36m100\u001b[0m\u001b[0;34m:\u001b[0m\u001b[0;34m,\u001b[0m\u001b[0;36m0\u001b[0m\u001b[0;34m]\u001b[0m\u001b[0;34m,\u001b[0m\u001b[0mnew_pca\u001b[0m\u001b[0;34m[\u001b[0m\u001b[0;36m100\u001b[0m\u001b[0;34m:\u001b[0m\u001b[0;34m,\u001b[0m\u001b[0;36m1\u001b[0m\u001b[0;34m]\u001b[0m\u001b[0;34m,\u001b[0m\u001b[0;34m'oy'\u001b[0m\u001b[0;34m)\u001b[0m\u001b[0;34m\u001b[0m\u001b[0;34m\u001b[0m\u001b[0m\n",
            "\u001b[0;31mNameError\u001b[0m: name 'new_pca' is not defined"
          ]
        }
      ]
    },
    {
      "cell_type": "markdown",
      "metadata": {
        "id": "6iTZn4IxMO00"
      },
      "source": [
        "#**Example**"
      ]
    },
    {
      "cell_type": "code",
      "metadata": {
        "id": "SV-bGg6s8y3N"
      },
      "source": [
        "import pandas as pd"
      ],
      "execution_count": 76,
      "outputs": []
    },
    {
      "cell_type": "code",
      "metadata": {
        "colab": {
          "base_uri": "https://localhost:8080/",
          "height": 698
        },
        "id": "NnxDO0k486SP",
        "outputId": "9976712c-086c-484a-b2c7-2b7d32ed346a"
      },
      "source": [
        "data = pd.read_csv('nndb_flat.csv')\r\n",
        "data.head(10)"
      ],
      "execution_count": 77,
      "outputs": [
        {
          "output_type": "execute_result",
          "data": {
            "text/html": [
              "<div>\n",
              "<style scoped>\n",
              "    .dataframe tbody tr th:only-of-type {\n",
              "        vertical-align: middle;\n",
              "    }\n",
              "\n",
              "    .dataframe tbody tr th {\n",
              "        vertical-align: top;\n",
              "    }\n",
              "\n",
              "    .dataframe thead th {\n",
              "        text-align: right;\n",
              "    }\n",
              "</style>\n",
              "<table border=\"1\" class=\"dataframe\">\n",
              "  <thead>\n",
              "    <tr style=\"text-align: right;\">\n",
              "      <th></th>\n",
              "      <th>ID</th>\n",
              "      <th>FoodGroup</th>\n",
              "      <th>ShortDescrip</th>\n",
              "      <th>Descrip</th>\n",
              "      <th>CommonName</th>\n",
              "      <th>MfgName</th>\n",
              "      <th>ScientificName</th>\n",
              "      <th>Energy_kcal</th>\n",
              "      <th>Protein_g</th>\n",
              "      <th>Fat_g</th>\n",
              "      <th>Carb_g</th>\n",
              "      <th>Sugar_g</th>\n",
              "      <th>Fiber_g</th>\n",
              "      <th>VitA_mcg</th>\n",
              "      <th>VitB6_mg</th>\n",
              "      <th>VitB12_mcg</th>\n",
              "      <th>VitC_mg</th>\n",
              "      <th>VitE_mg</th>\n",
              "      <th>Folate_mcg</th>\n",
              "      <th>Niacin_mg</th>\n",
              "      <th>Riboflavin_mg</th>\n",
              "      <th>Thiamin_mg</th>\n",
              "      <th>Calcium_mg</th>\n",
              "      <th>Copper_mcg</th>\n",
              "      <th>Iron_mg</th>\n",
              "      <th>Magnesium_mg</th>\n",
              "      <th>Manganese_mg</th>\n",
              "      <th>Phosphorus_mg</th>\n",
              "      <th>Selenium_mcg</th>\n",
              "      <th>Zinc_mg</th>\n",
              "      <th>VitA_USRDA</th>\n",
              "      <th>VitB6_USRDA</th>\n",
              "      <th>VitB12_USRDA</th>\n",
              "      <th>VitC_USRDA</th>\n",
              "      <th>VitE_USRDA</th>\n",
              "      <th>Folate_USRDA</th>\n",
              "      <th>Niacin_USRDA</th>\n",
              "      <th>Riboflavin_USRDA</th>\n",
              "      <th>Thiamin_USRDA</th>\n",
              "      <th>Calcium_USRDA</th>\n",
              "      <th>Copper_USRDA</th>\n",
              "      <th>Magnesium_USRDA</th>\n",
              "      <th>Phosphorus_USRDA</th>\n",
              "      <th>Selenium_USRDA</th>\n",
              "      <th>Zinc_USRDA</th>\n",
              "    </tr>\n",
              "  </thead>\n",
              "  <tbody>\n",
              "    <tr>\n",
              "      <th>0</th>\n",
              "      <td>1001</td>\n",
              "      <td>Dairy and Egg Products</td>\n",
              "      <td>BUTTER,WITH SALT</td>\n",
              "      <td>Butter, salted</td>\n",
              "      <td>NaN</td>\n",
              "      <td>NaN</td>\n",
              "      <td>NaN</td>\n",
              "      <td>717</td>\n",
              "      <td>0.85</td>\n",
              "      <td>81.11</td>\n",
              "      <td>0.06</td>\n",
              "      <td>0.06</td>\n",
              "      <td>0.0</td>\n",
              "      <td>684</td>\n",
              "      <td>0.003</td>\n",
              "      <td>0.17</td>\n",
              "      <td>0.0</td>\n",
              "      <td>2.32</td>\n",
              "      <td>3</td>\n",
              "      <td>0.042</td>\n",
              "      <td>0.034</td>\n",
              "      <td>0.005</td>\n",
              "      <td>24</td>\n",
              "      <td>0.000</td>\n",
              "      <td>0.02</td>\n",
              "      <td>2</td>\n",
              "      <td>0.000</td>\n",
              "      <td>24</td>\n",
              "      <td>1.0</td>\n",
              "      <td>0.09</td>\n",
              "      <td>0.760000</td>\n",
              "      <td>0.001765</td>\n",
              "      <td>0.070833</td>\n",
              "      <td>0.0</td>\n",
              "      <td>0.154667</td>\n",
              "      <td>0.0075</td>\n",
              "      <td>0.002625</td>\n",
              "      <td>0.026154</td>\n",
              "      <td>0.004167</td>\n",
              "      <td>0.020000</td>\n",
              "      <td>0.000000</td>\n",
              "      <td>0.004762</td>\n",
              "      <td>0.034286</td>\n",
              "      <td>0.018182</td>\n",
              "      <td>0.008182</td>\n",
              "    </tr>\n",
              "    <tr>\n",
              "      <th>1</th>\n",
              "      <td>1002</td>\n",
              "      <td>Dairy and Egg Products</td>\n",
              "      <td>BUTTER,WHIPPED,WITH SALT</td>\n",
              "      <td>Butter, whipped, with salt</td>\n",
              "      <td>NaN</td>\n",
              "      <td>NaN</td>\n",
              "      <td>NaN</td>\n",
              "      <td>717</td>\n",
              "      <td>0.85</td>\n",
              "      <td>81.11</td>\n",
              "      <td>0.06</td>\n",
              "      <td>0.06</td>\n",
              "      <td>0.0</td>\n",
              "      <td>684</td>\n",
              "      <td>0.003</td>\n",
              "      <td>0.13</td>\n",
              "      <td>0.0</td>\n",
              "      <td>2.32</td>\n",
              "      <td>3</td>\n",
              "      <td>0.042</td>\n",
              "      <td>0.034</td>\n",
              "      <td>0.005</td>\n",
              "      <td>24</td>\n",
              "      <td>0.016</td>\n",
              "      <td>0.16</td>\n",
              "      <td>2</td>\n",
              "      <td>0.004</td>\n",
              "      <td>23</td>\n",
              "      <td>1.0</td>\n",
              "      <td>0.05</td>\n",
              "      <td>0.760000</td>\n",
              "      <td>0.001765</td>\n",
              "      <td>0.054167</td>\n",
              "      <td>0.0</td>\n",
              "      <td>0.154667</td>\n",
              "      <td>0.0075</td>\n",
              "      <td>0.002625</td>\n",
              "      <td>0.026154</td>\n",
              "      <td>0.004167</td>\n",
              "      <td>0.020000</td>\n",
              "      <td>0.000018</td>\n",
              "      <td>0.004762</td>\n",
              "      <td>0.032857</td>\n",
              "      <td>0.018182</td>\n",
              "      <td>0.004545</td>\n",
              "    </tr>\n",
              "    <tr>\n",
              "      <th>2</th>\n",
              "      <td>1003</td>\n",
              "      <td>Dairy and Egg Products</td>\n",
              "      <td>BUTTER OIL,ANHYDROUS</td>\n",
              "      <td>Butter oil, anhydrous</td>\n",
              "      <td>NaN</td>\n",
              "      <td>NaN</td>\n",
              "      <td>NaN</td>\n",
              "      <td>876</td>\n",
              "      <td>0.28</td>\n",
              "      <td>99.48</td>\n",
              "      <td>0.00</td>\n",
              "      <td>0.00</td>\n",
              "      <td>0.0</td>\n",
              "      <td>840</td>\n",
              "      <td>0.001</td>\n",
              "      <td>0.01</td>\n",
              "      <td>0.0</td>\n",
              "      <td>2.80</td>\n",
              "      <td>0</td>\n",
              "      <td>0.003</td>\n",
              "      <td>0.005</td>\n",
              "      <td>0.001</td>\n",
              "      <td>4</td>\n",
              "      <td>0.001</td>\n",
              "      <td>0.00</td>\n",
              "      <td>0</td>\n",
              "      <td>0.000</td>\n",
              "      <td>3</td>\n",
              "      <td>0.0</td>\n",
              "      <td>0.01</td>\n",
              "      <td>0.933333</td>\n",
              "      <td>0.000588</td>\n",
              "      <td>0.004167</td>\n",
              "      <td>0.0</td>\n",
              "      <td>0.186667</td>\n",
              "      <td>0.0000</td>\n",
              "      <td>0.000188</td>\n",
              "      <td>0.003846</td>\n",
              "      <td>0.000833</td>\n",
              "      <td>0.003333</td>\n",
              "      <td>0.000001</td>\n",
              "      <td>0.000000</td>\n",
              "      <td>0.004286</td>\n",
              "      <td>0.000000</td>\n",
              "      <td>0.000909</td>\n",
              "    </tr>\n",
              "    <tr>\n",
              "      <th>3</th>\n",
              "      <td>1004</td>\n",
              "      <td>Dairy and Egg Products</td>\n",
              "      <td>CHEESE,BLUE</td>\n",
              "      <td>Cheese, blue</td>\n",
              "      <td>NaN</td>\n",
              "      <td>NaN</td>\n",
              "      <td>NaN</td>\n",
              "      <td>353</td>\n",
              "      <td>21.40</td>\n",
              "      <td>28.74</td>\n",
              "      <td>2.34</td>\n",
              "      <td>0.50</td>\n",
              "      <td>0.0</td>\n",
              "      <td>198</td>\n",
              "      <td>0.166</td>\n",
              "      <td>1.22</td>\n",
              "      <td>0.0</td>\n",
              "      <td>0.25</td>\n",
              "      <td>36</td>\n",
              "      <td>1.016</td>\n",
              "      <td>0.382</td>\n",
              "      <td>0.029</td>\n",
              "      <td>528</td>\n",
              "      <td>0.040</td>\n",
              "      <td>0.31</td>\n",
              "      <td>23</td>\n",
              "      <td>0.009</td>\n",
              "      <td>387</td>\n",
              "      <td>14.5</td>\n",
              "      <td>2.66</td>\n",
              "      <td>0.220000</td>\n",
              "      <td>0.097647</td>\n",
              "      <td>0.508333</td>\n",
              "      <td>0.0</td>\n",
              "      <td>0.016667</td>\n",
              "      <td>0.0900</td>\n",
              "      <td>0.063500</td>\n",
              "      <td>0.293846</td>\n",
              "      <td>0.024167</td>\n",
              "      <td>0.440000</td>\n",
              "      <td>0.000044</td>\n",
              "      <td>0.054762</td>\n",
              "      <td>0.552857</td>\n",
              "      <td>0.263636</td>\n",
              "      <td>0.241818</td>\n",
              "    </tr>\n",
              "    <tr>\n",
              "      <th>4</th>\n",
              "      <td>1005</td>\n",
              "      <td>Dairy and Egg Products</td>\n",
              "      <td>CHEESE,BRICK</td>\n",
              "      <td>Cheese, brick</td>\n",
              "      <td>NaN</td>\n",
              "      <td>NaN</td>\n",
              "      <td>NaN</td>\n",
              "      <td>371</td>\n",
              "      <td>23.24</td>\n",
              "      <td>29.68</td>\n",
              "      <td>2.79</td>\n",
              "      <td>0.51</td>\n",
              "      <td>0.0</td>\n",
              "      <td>292</td>\n",
              "      <td>0.065</td>\n",
              "      <td>1.26</td>\n",
              "      <td>0.0</td>\n",
              "      <td>0.26</td>\n",
              "      <td>20</td>\n",
              "      <td>0.118</td>\n",
              "      <td>0.351</td>\n",
              "      <td>0.014</td>\n",
              "      <td>674</td>\n",
              "      <td>0.024</td>\n",
              "      <td>0.43</td>\n",
              "      <td>24</td>\n",
              "      <td>0.012</td>\n",
              "      <td>451</td>\n",
              "      <td>14.5</td>\n",
              "      <td>2.60</td>\n",
              "      <td>0.324444</td>\n",
              "      <td>0.038235</td>\n",
              "      <td>0.525000</td>\n",
              "      <td>0.0</td>\n",
              "      <td>0.017333</td>\n",
              "      <td>0.0500</td>\n",
              "      <td>0.007375</td>\n",
              "      <td>0.270000</td>\n",
              "      <td>0.011667</td>\n",
              "      <td>0.561667</td>\n",
              "      <td>0.000027</td>\n",
              "      <td>0.057143</td>\n",
              "      <td>0.644286</td>\n",
              "      <td>0.263636</td>\n",
              "      <td>0.236364</td>\n",
              "    </tr>\n",
              "    <tr>\n",
              "      <th>5</th>\n",
              "      <td>1006</td>\n",
              "      <td>Dairy and Egg Products</td>\n",
              "      <td>CHEESE,BRIE</td>\n",
              "      <td>Cheese, brie</td>\n",
              "      <td>NaN</td>\n",
              "      <td>NaN</td>\n",
              "      <td>NaN</td>\n",
              "      <td>334</td>\n",
              "      <td>20.75</td>\n",
              "      <td>27.68</td>\n",
              "      <td>0.45</td>\n",
              "      <td>0.45</td>\n",
              "      <td>0.0</td>\n",
              "      <td>174</td>\n",
              "      <td>0.235</td>\n",
              "      <td>1.65</td>\n",
              "      <td>0.0</td>\n",
              "      <td>0.24</td>\n",
              "      <td>65</td>\n",
              "      <td>0.380</td>\n",
              "      <td>0.520</td>\n",
              "      <td>0.070</td>\n",
              "      <td>184</td>\n",
              "      <td>0.019</td>\n",
              "      <td>0.50</td>\n",
              "      <td>20</td>\n",
              "      <td>0.034</td>\n",
              "      <td>188</td>\n",
              "      <td>14.5</td>\n",
              "      <td>2.38</td>\n",
              "      <td>0.193333</td>\n",
              "      <td>0.138235</td>\n",
              "      <td>0.687500</td>\n",
              "      <td>0.0</td>\n",
              "      <td>0.016000</td>\n",
              "      <td>0.1625</td>\n",
              "      <td>0.023750</td>\n",
              "      <td>0.400000</td>\n",
              "      <td>0.058333</td>\n",
              "      <td>0.153333</td>\n",
              "      <td>0.000021</td>\n",
              "      <td>0.047619</td>\n",
              "      <td>0.268571</td>\n",
              "      <td>0.263636</td>\n",
              "      <td>0.216364</td>\n",
              "    </tr>\n",
              "    <tr>\n",
              "      <th>6</th>\n",
              "      <td>1007</td>\n",
              "      <td>Dairy and Egg Products</td>\n",
              "      <td>CHEESE,CAMEMBERT</td>\n",
              "      <td>Cheese, camembert</td>\n",
              "      <td>NaN</td>\n",
              "      <td>NaN</td>\n",
              "      <td>NaN</td>\n",
              "      <td>300</td>\n",
              "      <td>19.80</td>\n",
              "      <td>24.26</td>\n",
              "      <td>0.46</td>\n",
              "      <td>0.46</td>\n",
              "      <td>0.0</td>\n",
              "      <td>241</td>\n",
              "      <td>0.227</td>\n",
              "      <td>1.30</td>\n",
              "      <td>0.0</td>\n",
              "      <td>0.21</td>\n",
              "      <td>62</td>\n",
              "      <td>0.630</td>\n",
              "      <td>0.488</td>\n",
              "      <td>0.028</td>\n",
              "      <td>388</td>\n",
              "      <td>0.021</td>\n",
              "      <td>0.33</td>\n",
              "      <td>20</td>\n",
              "      <td>0.038</td>\n",
              "      <td>347</td>\n",
              "      <td>14.5</td>\n",
              "      <td>2.38</td>\n",
              "      <td>0.267778</td>\n",
              "      <td>0.133529</td>\n",
              "      <td>0.541667</td>\n",
              "      <td>0.0</td>\n",
              "      <td>0.014000</td>\n",
              "      <td>0.1550</td>\n",
              "      <td>0.039375</td>\n",
              "      <td>0.375385</td>\n",
              "      <td>0.023333</td>\n",
              "      <td>0.323333</td>\n",
              "      <td>0.000023</td>\n",
              "      <td>0.047619</td>\n",
              "      <td>0.495714</td>\n",
              "      <td>0.263636</td>\n",
              "      <td>0.216364</td>\n",
              "    </tr>\n",
              "    <tr>\n",
              "      <th>7</th>\n",
              "      <td>1008</td>\n",
              "      <td>Dairy and Egg Products</td>\n",
              "      <td>CHEESE,CARAWAY</td>\n",
              "      <td>Cheese, caraway</td>\n",
              "      <td>NaN</td>\n",
              "      <td>NaN</td>\n",
              "      <td>NaN</td>\n",
              "      <td>376</td>\n",
              "      <td>25.18</td>\n",
              "      <td>29.20</td>\n",
              "      <td>3.06</td>\n",
              "      <td>0.00</td>\n",
              "      <td>0.0</td>\n",
              "      <td>271</td>\n",
              "      <td>0.074</td>\n",
              "      <td>0.27</td>\n",
              "      <td>0.0</td>\n",
              "      <td>0.00</td>\n",
              "      <td>18</td>\n",
              "      <td>0.180</td>\n",
              "      <td>0.450</td>\n",
              "      <td>0.031</td>\n",
              "      <td>673</td>\n",
              "      <td>0.024</td>\n",
              "      <td>0.64</td>\n",
              "      <td>22</td>\n",
              "      <td>0.021</td>\n",
              "      <td>490</td>\n",
              "      <td>14.5</td>\n",
              "      <td>2.94</td>\n",
              "      <td>0.301111</td>\n",
              "      <td>0.043529</td>\n",
              "      <td>0.112500</td>\n",
              "      <td>0.0</td>\n",
              "      <td>0.000000</td>\n",
              "      <td>0.0450</td>\n",
              "      <td>0.011250</td>\n",
              "      <td>0.346154</td>\n",
              "      <td>0.025833</td>\n",
              "      <td>0.560833</td>\n",
              "      <td>0.000027</td>\n",
              "      <td>0.052381</td>\n",
              "      <td>0.700000</td>\n",
              "      <td>0.263636</td>\n",
              "      <td>0.267273</td>\n",
              "    </tr>\n",
              "    <tr>\n",
              "      <th>8</th>\n",
              "      <td>1009</td>\n",
              "      <td>Dairy and Egg Products</td>\n",
              "      <td>CHEESE,CHEDDAR</td>\n",
              "      <td>Cheese, cheddar</td>\n",
              "      <td>NaN</td>\n",
              "      <td>NaN</td>\n",
              "      <td>NaN</td>\n",
              "      <td>406</td>\n",
              "      <td>24.04</td>\n",
              "      <td>33.82</td>\n",
              "      <td>1.33</td>\n",
              "      <td>0.28</td>\n",
              "      <td>0.0</td>\n",
              "      <td>263</td>\n",
              "      <td>0.049</td>\n",
              "      <td>0.88</td>\n",
              "      <td>0.0</td>\n",
              "      <td>0.78</td>\n",
              "      <td>26</td>\n",
              "      <td>0.039</td>\n",
              "      <td>0.434</td>\n",
              "      <td>0.027</td>\n",
              "      <td>675</td>\n",
              "      <td>0.056</td>\n",
              "      <td>0.16</td>\n",
              "      <td>27</td>\n",
              "      <td>0.033</td>\n",
              "      <td>473</td>\n",
              "      <td>28.3</td>\n",
              "      <td>3.43</td>\n",
              "      <td>0.292222</td>\n",
              "      <td>0.028824</td>\n",
              "      <td>0.366667</td>\n",
              "      <td>0.0</td>\n",
              "      <td>0.052000</td>\n",
              "      <td>0.0650</td>\n",
              "      <td>0.002437</td>\n",
              "      <td>0.333846</td>\n",
              "      <td>0.022500</td>\n",
              "      <td>0.562500</td>\n",
              "      <td>0.000062</td>\n",
              "      <td>0.064286</td>\n",
              "      <td>0.675714</td>\n",
              "      <td>0.514545</td>\n",
              "      <td>0.311818</td>\n",
              "    </tr>\n",
              "    <tr>\n",
              "      <th>9</th>\n",
              "      <td>1010</td>\n",
              "      <td>Dairy and Egg Products</td>\n",
              "      <td>CHEESE,CHESHIRE</td>\n",
              "      <td>Cheese, cheshire</td>\n",
              "      <td>NaN</td>\n",
              "      <td>NaN</td>\n",
              "      <td>NaN</td>\n",
              "      <td>387</td>\n",
              "      <td>23.37</td>\n",
              "      <td>30.60</td>\n",
              "      <td>4.78</td>\n",
              "      <td>0.00</td>\n",
              "      <td>0.0</td>\n",
              "      <td>233</td>\n",
              "      <td>0.074</td>\n",
              "      <td>0.83</td>\n",
              "      <td>0.0</td>\n",
              "      <td>0.00</td>\n",
              "      <td>18</td>\n",
              "      <td>0.080</td>\n",
              "      <td>0.293</td>\n",
              "      <td>0.046</td>\n",
              "      <td>643</td>\n",
              "      <td>0.042</td>\n",
              "      <td>0.21</td>\n",
              "      <td>21</td>\n",
              "      <td>0.012</td>\n",
              "      <td>464</td>\n",
              "      <td>14.5</td>\n",
              "      <td>2.79</td>\n",
              "      <td>0.258889</td>\n",
              "      <td>0.043529</td>\n",
              "      <td>0.345833</td>\n",
              "      <td>0.0</td>\n",
              "      <td>0.000000</td>\n",
              "      <td>0.0450</td>\n",
              "      <td>0.005000</td>\n",
              "      <td>0.225385</td>\n",
              "      <td>0.038333</td>\n",
              "      <td>0.535833</td>\n",
              "      <td>0.000047</td>\n",
              "      <td>0.050000</td>\n",
              "      <td>0.662857</td>\n",
              "      <td>0.263636</td>\n",
              "      <td>0.253636</td>\n",
              "    </tr>\n",
              "  </tbody>\n",
              "</table>\n",
              "</div>"
            ],
            "text/plain": [
              "     ID               FoodGroup  ... Selenium_USRDA Zinc_USRDA\n",
              "0  1001  Dairy and Egg Products  ...       0.018182   0.008182\n",
              "1  1002  Dairy and Egg Products  ...       0.018182   0.004545\n",
              "2  1003  Dairy and Egg Products  ...       0.000000   0.000909\n",
              "3  1004  Dairy and Egg Products  ...       0.263636   0.241818\n",
              "4  1005  Dairy and Egg Products  ...       0.263636   0.236364\n",
              "5  1006  Dairy and Egg Products  ...       0.263636   0.216364\n",
              "6  1007  Dairy and Egg Products  ...       0.263636   0.216364\n",
              "7  1008  Dairy and Egg Products  ...       0.263636   0.267273\n",
              "8  1009  Dairy and Egg Products  ...       0.514545   0.311818\n",
              "9  1010  Dairy and Egg Products  ...       0.263636   0.253636\n",
              "\n",
              "[10 rows x 45 columns]"
            ]
          },
          "metadata": {
            "tags": []
          },
          "execution_count": 77
        }
      ]
    },
    {
      "cell_type": "markdown",
      "metadata": {
        "id": "VolwzDJjBhDU"
      },
      "source": [
        "##**ตรวจสอบขนาดของข้อมูลว่ามี data กี่ตัว และมีกี่ dimensions**"
      ]
    },
    {
      "cell_type": "code",
      "metadata": {
        "id": "Dhc-ELRxAtFh",
        "colab": {
          "base_uri": "https://localhost:8080/"
        },
        "outputId": "1c598835-7856-4078-cb9e-a4c8e929f7af"
      },
      "source": [
        "data.shape"
      ],
      "execution_count": 78,
      "outputs": [
        {
          "output_type": "execute_result",
          "data": {
            "text/plain": [
              "(8618, 45)"
            ]
          },
          "metadata": {
            "tags": []
          },
          "execution_count": 78
        }
      ]
    },
    {
      "cell_type": "markdown",
      "metadata": {
        "id": "GjTvIif0M3OC"
      },
      "source": [
        "##**ลอง plot scatter matrix เพื่อดูการกระจายของ data ในมุมมองต่างๆ**"
      ]
    },
    {
      "cell_type": "code",
      "metadata": {
        "id": "vgVYxj8GCEgY",
        "colab": {
          "base_uri": "https://localhost:8080/",
          "height": 1000
        },
        "outputId": "64e0aaae-07c1-47db-ec29-af116d6596f0"
      },
      "source": [
        "pd.plotting.scatter_matrix(data)"
      ],
      "execution_count": null,
      "outputs": [
        {
          "output_type": "execute_result",
          "data": {
            "text/plain": [
              "array([[<matplotlib.axes._subplots.AxesSubplot object at 0x7f75686f3910>,\n",
              "        <matplotlib.axes._subplots.AxesSubplot object at 0x7f75680c4910>,\n",
              "        <matplotlib.axes._subplots.AxesSubplot object at 0x7f756830ce90>,\n",
              "        ...,\n",
              "        <matplotlib.axes._subplots.AxesSubplot object at 0x7f7567e84cd0>,\n",
              "        <matplotlib.axes._subplots.AxesSubplot object at 0x7f7567e47290>,\n",
              "        <matplotlib.axes._subplots.AxesSubplot object at 0x7f7567e7d810>],\n",
              "       [<matplotlib.axes._subplots.AxesSubplot object at 0x7f7567e31d90>,\n",
              "        <matplotlib.axes._subplots.AxesSubplot object at 0x7f7567df4350>,\n",
              "        <matplotlib.axes._subplots.AxesSubplot object at 0x7f7567daa8d0>,\n",
              "        ...,\n",
              "        <matplotlib.axes._subplots.AxesSubplot object at 0x7f75675dd6d0>,\n",
              "        <matplotlib.axes._subplots.AxesSubplot object at 0x7f7567593c50>,\n",
              "        <matplotlib.axes._subplots.AxesSubplot object at 0x7f7567556210>],\n",
              "       [<matplotlib.axes._subplots.AxesSubplot object at 0x7f756750c790>,\n",
              "        <matplotlib.axes._subplots.AxesSubplot object at 0x7f7567540d10>,\n",
              "        <matplotlib.axes._subplots.AxesSubplot object at 0x7f7567483250>,\n",
              "        ...,\n",
              "        <matplotlib.axes._subplots.AxesSubplot object at 0x7f7566d22b90>,\n",
              "        <matplotlib.axes._subplots.AxesSubplot object at 0x7f7566ced650>,\n",
              "        <matplotlib.axes._subplots.AxesSubplot object at 0x7f7566ca5c10>],\n",
              "       ...,\n",
              "       [<matplotlib.axes._subplots.AxesSubplot object at 0x7f7554834490>,\n",
              "        <matplotlib.axes._subplots.AxesSubplot object at 0x7f75547eba10>,\n",
              "        <matplotlib.axes._subplots.AxesSubplot object at 0x7f75547a1f90>,\n",
              "        ...,\n",
              "        <matplotlib.axes._subplots.AxesSubplot object at 0x7f7553fdbe10>,\n",
              "        <matplotlib.axes._subplots.AxesSubplot object at 0x7f75545b5310>,\n",
              "        <matplotlib.axes._subplots.AxesSubplot object at 0x7f7553f538d0>],\n",
              "       [<matplotlib.axes._subplots.AxesSubplot object at 0x7f7553f08e50>,\n",
              "        <matplotlib.axes._subplots.AxesSubplot object at 0x7f7553ecc410>,\n",
              "        <matplotlib.axes._subplots.AxesSubplot object at 0x7f7553f00990>,\n",
              "        ...,\n",
              "        <matplotlib.axes._subplots.AxesSubplot object at 0x7f755373c810>,\n",
              "        <matplotlib.axes._subplots.AxesSubplot object at 0x7f75536f1d90>,\n",
              "        <matplotlib.axes._subplots.AxesSubplot object at 0x7f75536b4350>],\n",
              "       [<matplotlib.axes._subplots.AxesSubplot object at 0x7f75536698d0>,\n",
              "        <matplotlib.axes._subplots.AxesSubplot object at 0x7f755361fe50>,\n",
              "        <matplotlib.axes._subplots.AxesSubplot object at 0x7f75535e3410>,\n",
              "        ...,\n",
              "        <matplotlib.axes._subplots.AxesSubplot object at 0x7f7552e1d210>,\n",
              "        <matplotlib.axes._subplots.AxesSubplot object at 0x7f7552dd3790>,\n",
              "        <matplotlib.axes._subplots.AxesSubplot object at 0x7f7552d87d10>]],\n",
              "      dtype=object)"
            ]
          },
          "metadata": {
            "tags": []
          },
          "execution_count": 124
        },
        {
          "output_type": "stream",
          "text": [
            "Error in callback <function flush_figures at 0x7f75c665b440> (for post_execute):\n"
          ],
          "name": "stdout"
        },
        {
          "output_type": "error",
          "ename": "KeyboardInterrupt",
          "evalue": "ignored",
          "traceback": [
            "\u001b[0;31m---------------------------------------------------------------------------\u001b[0m",
            "\u001b[0;31mKeyboardInterrupt\u001b[0m                         Traceback (most recent call last)",
            "\u001b[0;32m/usr/local/lib/python3.7/dist-packages/ipykernel/pylab/backend_inline.py\u001b[0m in \u001b[0;36mflush_figures\u001b[0;34m()\u001b[0m\n\u001b[1;32m    115\u001b[0m         \u001b[0;31m# ignore the tracking, just draw and close all figures\u001b[0m\u001b[0;34m\u001b[0m\u001b[0;34m\u001b[0m\u001b[0;34m\u001b[0m\u001b[0m\n\u001b[1;32m    116\u001b[0m         \u001b[0;32mtry\u001b[0m\u001b[0;34m:\u001b[0m\u001b[0;34m\u001b[0m\u001b[0;34m\u001b[0m\u001b[0m\n\u001b[0;32m--> 117\u001b[0;31m             \u001b[0;32mreturn\u001b[0m \u001b[0mshow\u001b[0m\u001b[0;34m(\u001b[0m\u001b[0;32mTrue\u001b[0m\u001b[0;34m)\u001b[0m\u001b[0;34m\u001b[0m\u001b[0;34m\u001b[0m\u001b[0m\n\u001b[0m\u001b[1;32m    118\u001b[0m         \u001b[0;32mexcept\u001b[0m \u001b[0mException\u001b[0m \u001b[0;32mas\u001b[0m \u001b[0me\u001b[0m\u001b[0;34m:\u001b[0m\u001b[0;34m\u001b[0m\u001b[0;34m\u001b[0m\u001b[0m\n\u001b[1;32m    119\u001b[0m             \u001b[0;31m# safely show traceback if in IPython, else raise\u001b[0m\u001b[0;34m\u001b[0m\u001b[0;34m\u001b[0m\u001b[0;34m\u001b[0m\u001b[0m\n",
            "\u001b[0;32m/usr/local/lib/python3.7/dist-packages/ipykernel/pylab/backend_inline.py\u001b[0m in \u001b[0;36mshow\u001b[0;34m(close, block)\u001b[0m\n\u001b[1;32m     37\u001b[0m             display(\n\u001b[1;32m     38\u001b[0m                 \u001b[0mfigure_manager\u001b[0m\u001b[0;34m.\u001b[0m\u001b[0mcanvas\u001b[0m\u001b[0;34m.\u001b[0m\u001b[0mfigure\u001b[0m\u001b[0;34m,\u001b[0m\u001b[0;34m\u001b[0m\u001b[0;34m\u001b[0m\u001b[0m\n\u001b[0;32m---> 39\u001b[0;31m                 \u001b[0mmetadata\u001b[0m\u001b[0;34m=\u001b[0m\u001b[0m_fetch_figure_metadata\u001b[0m\u001b[0;34m(\u001b[0m\u001b[0mfigure_manager\u001b[0m\u001b[0;34m.\u001b[0m\u001b[0mcanvas\u001b[0m\u001b[0;34m.\u001b[0m\u001b[0mfigure\u001b[0m\u001b[0;34m)\u001b[0m\u001b[0;34m\u001b[0m\u001b[0;34m\u001b[0m\u001b[0m\n\u001b[0m\u001b[1;32m     40\u001b[0m             )\n\u001b[1;32m     41\u001b[0m     \u001b[0;32mfinally\u001b[0m\u001b[0;34m:\u001b[0m\u001b[0;34m\u001b[0m\u001b[0;34m\u001b[0m\u001b[0m\n",
            "\u001b[0;32m/usr/local/lib/python3.7/dist-packages/IPython/core/display.py\u001b[0m in \u001b[0;36mdisplay\u001b[0;34m(*objs, **kwargs)\u001b[0m\n\u001b[1;32m    304\u001b[0m             \u001b[0mpublish_display_data\u001b[0m\u001b[0;34m(\u001b[0m\u001b[0mdata\u001b[0m\u001b[0;34m=\u001b[0m\u001b[0mobj\u001b[0m\u001b[0;34m,\u001b[0m \u001b[0mmetadata\u001b[0m\u001b[0;34m=\u001b[0m\u001b[0mmetadata\u001b[0m\u001b[0;34m,\u001b[0m \u001b[0;34m**\u001b[0m\u001b[0mkwargs\u001b[0m\u001b[0;34m)\u001b[0m\u001b[0;34m\u001b[0m\u001b[0;34m\u001b[0m\u001b[0m\n\u001b[1;32m    305\u001b[0m         \u001b[0;32melse\u001b[0m\u001b[0;34m:\u001b[0m\u001b[0;34m\u001b[0m\u001b[0;34m\u001b[0m\u001b[0m\n\u001b[0;32m--> 306\u001b[0;31m             \u001b[0mformat_dict\u001b[0m\u001b[0;34m,\u001b[0m \u001b[0mmd_dict\u001b[0m \u001b[0;34m=\u001b[0m \u001b[0mformat\u001b[0m\u001b[0;34m(\u001b[0m\u001b[0mobj\u001b[0m\u001b[0;34m,\u001b[0m \u001b[0minclude\u001b[0m\u001b[0;34m=\u001b[0m\u001b[0minclude\u001b[0m\u001b[0;34m,\u001b[0m \u001b[0mexclude\u001b[0m\u001b[0;34m=\u001b[0m\u001b[0mexclude\u001b[0m\u001b[0;34m)\u001b[0m\u001b[0;34m\u001b[0m\u001b[0;34m\u001b[0m\u001b[0m\n\u001b[0m\u001b[1;32m    307\u001b[0m             \u001b[0;32mif\u001b[0m \u001b[0;32mnot\u001b[0m \u001b[0mformat_dict\u001b[0m\u001b[0;34m:\u001b[0m\u001b[0;34m\u001b[0m\u001b[0;34m\u001b[0m\u001b[0m\n\u001b[1;32m    308\u001b[0m                 \u001b[0;31m# nothing to display (e.g. _ipython_display_ took over)\u001b[0m\u001b[0;34m\u001b[0m\u001b[0;34m\u001b[0m\u001b[0;34m\u001b[0m\u001b[0m\n",
            "\u001b[0;32m/usr/local/lib/python3.7/dist-packages/IPython/core/formatters.py\u001b[0m in \u001b[0;36mformat\u001b[0;34m(self, obj, include, exclude)\u001b[0m\n\u001b[1;32m    171\u001b[0m             \u001b[0mmd\u001b[0m \u001b[0;34m=\u001b[0m \u001b[0;32mNone\u001b[0m\u001b[0;34m\u001b[0m\u001b[0;34m\u001b[0m\u001b[0m\n\u001b[1;32m    172\u001b[0m             \u001b[0;32mtry\u001b[0m\u001b[0;34m:\u001b[0m\u001b[0;34m\u001b[0m\u001b[0;34m\u001b[0m\u001b[0m\n\u001b[0;32m--> 173\u001b[0;31m                 \u001b[0mdata\u001b[0m \u001b[0;34m=\u001b[0m \u001b[0mformatter\u001b[0m\u001b[0;34m(\u001b[0m\u001b[0mobj\u001b[0m\u001b[0;34m)\u001b[0m\u001b[0;34m\u001b[0m\u001b[0;34m\u001b[0m\u001b[0m\n\u001b[0m\u001b[1;32m    174\u001b[0m             \u001b[0;32mexcept\u001b[0m\u001b[0;34m:\u001b[0m\u001b[0;34m\u001b[0m\u001b[0;34m\u001b[0m\u001b[0m\n\u001b[1;32m    175\u001b[0m                 \u001b[0;31m# FIXME: log the exception\u001b[0m\u001b[0;34m\u001b[0m\u001b[0;34m\u001b[0m\u001b[0;34m\u001b[0m\u001b[0m\n",
            "\u001b[0;32m<decorator-gen-2>\u001b[0m in \u001b[0;36m__call__\u001b[0;34m(self, obj)\u001b[0m\n",
            "\u001b[0;32m/usr/local/lib/python3.7/dist-packages/IPython/core/formatters.py\u001b[0m in \u001b[0;36mcatch_format_error\u001b[0;34m(method, self, *args, **kwargs)\u001b[0m\n\u001b[1;32m    215\u001b[0m     \u001b[0;34m\"\"\"show traceback on failed format call\"\"\"\u001b[0m\u001b[0;34m\u001b[0m\u001b[0;34m\u001b[0m\u001b[0m\n\u001b[1;32m    216\u001b[0m     \u001b[0;32mtry\u001b[0m\u001b[0;34m:\u001b[0m\u001b[0;34m\u001b[0m\u001b[0;34m\u001b[0m\u001b[0m\n\u001b[0;32m--> 217\u001b[0;31m         \u001b[0mr\u001b[0m \u001b[0;34m=\u001b[0m \u001b[0mmethod\u001b[0m\u001b[0;34m(\u001b[0m\u001b[0mself\u001b[0m\u001b[0;34m,\u001b[0m \u001b[0;34m*\u001b[0m\u001b[0margs\u001b[0m\u001b[0;34m,\u001b[0m \u001b[0;34m**\u001b[0m\u001b[0mkwargs\u001b[0m\u001b[0;34m)\u001b[0m\u001b[0;34m\u001b[0m\u001b[0;34m\u001b[0m\u001b[0m\n\u001b[0m\u001b[1;32m    218\u001b[0m     \u001b[0;32mexcept\u001b[0m \u001b[0mNotImplementedError\u001b[0m\u001b[0;34m:\u001b[0m\u001b[0;34m\u001b[0m\u001b[0;34m\u001b[0m\u001b[0m\n\u001b[1;32m    219\u001b[0m         \u001b[0;31m# don't warn on NotImplementedErrors\u001b[0m\u001b[0;34m\u001b[0m\u001b[0;34m\u001b[0m\u001b[0;34m\u001b[0m\u001b[0m\n",
            "\u001b[0;32m/usr/local/lib/python3.7/dist-packages/IPython/core/formatters.py\u001b[0m in \u001b[0;36m__call__\u001b[0;34m(self, obj)\u001b[0m\n\u001b[1;32m    332\u001b[0m                 \u001b[0;32mpass\u001b[0m\u001b[0;34m\u001b[0m\u001b[0;34m\u001b[0m\u001b[0m\n\u001b[1;32m    333\u001b[0m             \u001b[0;32melse\u001b[0m\u001b[0;34m:\u001b[0m\u001b[0;34m\u001b[0m\u001b[0;34m\u001b[0m\u001b[0m\n\u001b[0;32m--> 334\u001b[0;31m                 \u001b[0;32mreturn\u001b[0m \u001b[0mprinter\u001b[0m\u001b[0;34m(\u001b[0m\u001b[0mobj\u001b[0m\u001b[0;34m)\u001b[0m\u001b[0;34m\u001b[0m\u001b[0;34m\u001b[0m\u001b[0m\n\u001b[0m\u001b[1;32m    335\u001b[0m             \u001b[0;31m# Finally look for special method names\u001b[0m\u001b[0;34m\u001b[0m\u001b[0;34m\u001b[0m\u001b[0;34m\u001b[0m\u001b[0m\n\u001b[1;32m    336\u001b[0m             \u001b[0mmethod\u001b[0m \u001b[0;34m=\u001b[0m \u001b[0mget_real_method\u001b[0m\u001b[0;34m(\u001b[0m\u001b[0mobj\u001b[0m\u001b[0;34m,\u001b[0m \u001b[0mself\u001b[0m\u001b[0;34m.\u001b[0m\u001b[0mprint_method\u001b[0m\u001b[0;34m)\u001b[0m\u001b[0;34m\u001b[0m\u001b[0;34m\u001b[0m\u001b[0m\n",
            "\u001b[0;32m/usr/local/lib/python3.7/dist-packages/IPython/core/pylabtools.py\u001b[0m in \u001b[0;36m<lambda>\u001b[0;34m(fig)\u001b[0m\n\u001b[1;32m    239\u001b[0m \u001b[0;34m\u001b[0m\u001b[0m\n\u001b[1;32m    240\u001b[0m     \u001b[0;32mif\u001b[0m \u001b[0;34m'png'\u001b[0m \u001b[0;32min\u001b[0m \u001b[0mformats\u001b[0m\u001b[0;34m:\u001b[0m\u001b[0;34m\u001b[0m\u001b[0;34m\u001b[0m\u001b[0m\n\u001b[0;32m--> 241\u001b[0;31m         \u001b[0mpng_formatter\u001b[0m\u001b[0;34m.\u001b[0m\u001b[0mfor_type\u001b[0m\u001b[0;34m(\u001b[0m\u001b[0mFigure\u001b[0m\u001b[0;34m,\u001b[0m \u001b[0;32mlambda\u001b[0m \u001b[0mfig\u001b[0m\u001b[0;34m:\u001b[0m \u001b[0mprint_figure\u001b[0m\u001b[0;34m(\u001b[0m\u001b[0mfig\u001b[0m\u001b[0;34m,\u001b[0m \u001b[0;34m'png'\u001b[0m\u001b[0;34m,\u001b[0m \u001b[0;34m**\u001b[0m\u001b[0mkwargs\u001b[0m\u001b[0;34m)\u001b[0m\u001b[0;34m)\u001b[0m\u001b[0;34m\u001b[0m\u001b[0;34m\u001b[0m\u001b[0m\n\u001b[0m\u001b[1;32m    242\u001b[0m     \u001b[0;32mif\u001b[0m \u001b[0;34m'retina'\u001b[0m \u001b[0;32min\u001b[0m \u001b[0mformats\u001b[0m \u001b[0;32mor\u001b[0m \u001b[0;34m'png2x'\u001b[0m \u001b[0;32min\u001b[0m \u001b[0mformats\u001b[0m\u001b[0;34m:\u001b[0m\u001b[0;34m\u001b[0m\u001b[0;34m\u001b[0m\u001b[0m\n\u001b[1;32m    243\u001b[0m         \u001b[0mpng_formatter\u001b[0m\u001b[0;34m.\u001b[0m\u001b[0mfor_type\u001b[0m\u001b[0;34m(\u001b[0m\u001b[0mFigure\u001b[0m\u001b[0;34m,\u001b[0m \u001b[0;32mlambda\u001b[0m \u001b[0mfig\u001b[0m\u001b[0;34m:\u001b[0m \u001b[0mretina_figure\u001b[0m\u001b[0;34m(\u001b[0m\u001b[0mfig\u001b[0m\u001b[0;34m,\u001b[0m \u001b[0;34m**\u001b[0m\u001b[0mkwargs\u001b[0m\u001b[0;34m)\u001b[0m\u001b[0;34m)\u001b[0m\u001b[0;34m\u001b[0m\u001b[0;34m\u001b[0m\u001b[0m\n",
            "\u001b[0;32m/usr/local/lib/python3.7/dist-packages/IPython/core/pylabtools.py\u001b[0m in \u001b[0;36mprint_figure\u001b[0;34m(fig, fmt, bbox_inches, **kwargs)\u001b[0m\n\u001b[1;32m    123\u001b[0m \u001b[0;34m\u001b[0m\u001b[0m\n\u001b[1;32m    124\u001b[0m     \u001b[0mbytes_io\u001b[0m \u001b[0;34m=\u001b[0m \u001b[0mBytesIO\u001b[0m\u001b[0;34m(\u001b[0m\u001b[0;34m)\u001b[0m\u001b[0;34m\u001b[0m\u001b[0;34m\u001b[0m\u001b[0m\n\u001b[0;32m--> 125\u001b[0;31m     \u001b[0mfig\u001b[0m\u001b[0;34m.\u001b[0m\u001b[0mcanvas\u001b[0m\u001b[0;34m.\u001b[0m\u001b[0mprint_figure\u001b[0m\u001b[0;34m(\u001b[0m\u001b[0mbytes_io\u001b[0m\u001b[0;34m,\u001b[0m \u001b[0;34m**\u001b[0m\u001b[0mkw\u001b[0m\u001b[0;34m)\u001b[0m\u001b[0;34m\u001b[0m\u001b[0;34m\u001b[0m\u001b[0m\n\u001b[0m\u001b[1;32m    126\u001b[0m     \u001b[0mdata\u001b[0m \u001b[0;34m=\u001b[0m \u001b[0mbytes_io\u001b[0m\u001b[0;34m.\u001b[0m\u001b[0mgetvalue\u001b[0m\u001b[0;34m(\u001b[0m\u001b[0;34m)\u001b[0m\u001b[0;34m\u001b[0m\u001b[0;34m\u001b[0m\u001b[0m\n\u001b[1;32m    127\u001b[0m     \u001b[0;32mif\u001b[0m \u001b[0mfmt\u001b[0m \u001b[0;34m==\u001b[0m \u001b[0;34m'svg'\u001b[0m\u001b[0;34m:\u001b[0m\u001b[0;34m\u001b[0m\u001b[0;34m\u001b[0m\u001b[0m\n",
            "\u001b[0;32m/usr/local/lib/python3.7/dist-packages/matplotlib/backend_bases.py\u001b[0m in \u001b[0;36mprint_figure\u001b[0;34m(self, filename, dpi, facecolor, edgecolor, orientation, format, bbox_inches, **kwargs)\u001b[0m\n\u001b[1;32m   2124\u001b[0m                     \u001b[0morientation\u001b[0m\u001b[0;34m=\u001b[0m\u001b[0morientation\u001b[0m\u001b[0;34m,\u001b[0m\u001b[0;34m\u001b[0m\u001b[0;34m\u001b[0m\u001b[0m\n\u001b[1;32m   2125\u001b[0m                     \u001b[0mbbox_inches_restore\u001b[0m\u001b[0;34m=\u001b[0m\u001b[0m_bbox_inches_restore\u001b[0m\u001b[0;34m,\u001b[0m\u001b[0;34m\u001b[0m\u001b[0;34m\u001b[0m\u001b[0m\n\u001b[0;32m-> 2126\u001b[0;31m                     **kwargs)\n\u001b[0m\u001b[1;32m   2127\u001b[0m             \u001b[0;32mfinally\u001b[0m\u001b[0;34m:\u001b[0m\u001b[0;34m\u001b[0m\u001b[0;34m\u001b[0m\u001b[0m\n\u001b[1;32m   2128\u001b[0m                 \u001b[0;32mif\u001b[0m \u001b[0mbbox_inches\u001b[0m \u001b[0;32mand\u001b[0m \u001b[0mrestore_bbox\u001b[0m\u001b[0;34m:\u001b[0m\u001b[0;34m\u001b[0m\u001b[0;34m\u001b[0m\u001b[0m\n",
            "\u001b[0;32m/usr/local/lib/python3.7/dist-packages/matplotlib/backends/backend_agg.py\u001b[0m in \u001b[0;36mprint_png\u001b[0;34m(self, filename_or_obj, metadata, pil_kwargs, *args, **kwargs)\u001b[0m\n\u001b[1;32m    512\u001b[0m         }\n\u001b[1;32m    513\u001b[0m \u001b[0;34m\u001b[0m\u001b[0m\n\u001b[0;32m--> 514\u001b[0;31m         \u001b[0mFigureCanvasAgg\u001b[0m\u001b[0;34m.\u001b[0m\u001b[0mdraw\u001b[0m\u001b[0;34m(\u001b[0m\u001b[0mself\u001b[0m\u001b[0;34m)\u001b[0m\u001b[0;34m\u001b[0m\u001b[0;34m\u001b[0m\u001b[0m\n\u001b[0m\u001b[1;32m    515\u001b[0m         \u001b[0;32mif\u001b[0m \u001b[0mpil_kwargs\u001b[0m \u001b[0;32mis\u001b[0m \u001b[0;32mnot\u001b[0m \u001b[0;32mNone\u001b[0m\u001b[0;34m:\u001b[0m\u001b[0;34m\u001b[0m\u001b[0;34m\u001b[0m\u001b[0m\n\u001b[1;32m    516\u001b[0m             \u001b[0;32mfrom\u001b[0m \u001b[0mPIL\u001b[0m \u001b[0;32mimport\u001b[0m \u001b[0mImage\u001b[0m\u001b[0;34m\u001b[0m\u001b[0;34m\u001b[0m\u001b[0m\n",
            "\u001b[0;32m/usr/local/lib/python3.7/dist-packages/matplotlib/backends/backend_agg.py\u001b[0m in \u001b[0;36mdraw\u001b[0;34m(self)\u001b[0m\n\u001b[1;32m    391\u001b[0m              (self.toolbar._wait_cursor_for_draw_cm() if self.toolbar\n\u001b[1;32m    392\u001b[0m               else nullcontext()):\n\u001b[0;32m--> 393\u001b[0;31m             \u001b[0mself\u001b[0m\u001b[0;34m.\u001b[0m\u001b[0mfigure\u001b[0m\u001b[0;34m.\u001b[0m\u001b[0mdraw\u001b[0m\u001b[0;34m(\u001b[0m\u001b[0mself\u001b[0m\u001b[0;34m.\u001b[0m\u001b[0mrenderer\u001b[0m\u001b[0;34m)\u001b[0m\u001b[0;34m\u001b[0m\u001b[0;34m\u001b[0m\u001b[0m\n\u001b[0m\u001b[1;32m    394\u001b[0m             \u001b[0;31m# A GUI class may be need to update a window using this draw, so\u001b[0m\u001b[0;34m\u001b[0m\u001b[0;34m\u001b[0m\u001b[0;34m\u001b[0m\u001b[0m\n\u001b[1;32m    395\u001b[0m             \u001b[0;31m# don't forget to call the superclass.\u001b[0m\u001b[0;34m\u001b[0m\u001b[0;34m\u001b[0m\u001b[0;34m\u001b[0m\u001b[0m\n",
            "\u001b[0;32m/usr/local/lib/python3.7/dist-packages/matplotlib/artist.py\u001b[0m in \u001b[0;36mdraw_wrapper\u001b[0;34m(artist, renderer, *args, **kwargs)\u001b[0m\n\u001b[1;32m     36\u001b[0m                 \u001b[0mrenderer\u001b[0m\u001b[0;34m.\u001b[0m\u001b[0mstart_filter\u001b[0m\u001b[0;34m(\u001b[0m\u001b[0;34m)\u001b[0m\u001b[0;34m\u001b[0m\u001b[0;34m\u001b[0m\u001b[0m\n\u001b[1;32m     37\u001b[0m \u001b[0;34m\u001b[0m\u001b[0m\n\u001b[0;32m---> 38\u001b[0;31m             \u001b[0;32mreturn\u001b[0m \u001b[0mdraw\u001b[0m\u001b[0;34m(\u001b[0m\u001b[0martist\u001b[0m\u001b[0;34m,\u001b[0m \u001b[0mrenderer\u001b[0m\u001b[0;34m,\u001b[0m \u001b[0;34m*\u001b[0m\u001b[0margs\u001b[0m\u001b[0;34m,\u001b[0m \u001b[0;34m**\u001b[0m\u001b[0mkwargs\u001b[0m\u001b[0;34m)\u001b[0m\u001b[0;34m\u001b[0m\u001b[0;34m\u001b[0m\u001b[0m\n\u001b[0m\u001b[1;32m     39\u001b[0m         \u001b[0;32mfinally\u001b[0m\u001b[0;34m:\u001b[0m\u001b[0;34m\u001b[0m\u001b[0;34m\u001b[0m\u001b[0m\n\u001b[1;32m     40\u001b[0m             \u001b[0;32mif\u001b[0m \u001b[0martist\u001b[0m\u001b[0;34m.\u001b[0m\u001b[0mget_agg_filter\u001b[0m\u001b[0;34m(\u001b[0m\u001b[0;34m)\u001b[0m \u001b[0;32mis\u001b[0m \u001b[0;32mnot\u001b[0m \u001b[0;32mNone\u001b[0m\u001b[0;34m:\u001b[0m\u001b[0;34m\u001b[0m\u001b[0;34m\u001b[0m\u001b[0m\n",
            "\u001b[0;32m/usr/local/lib/python3.7/dist-packages/matplotlib/figure.py\u001b[0m in \u001b[0;36mdraw\u001b[0;34m(self, renderer)\u001b[0m\n\u001b[1;32m   1734\u001b[0m             \u001b[0mself\u001b[0m\u001b[0;34m.\u001b[0m\u001b[0mpatch\u001b[0m\u001b[0;34m.\u001b[0m\u001b[0mdraw\u001b[0m\u001b[0;34m(\u001b[0m\u001b[0mrenderer\u001b[0m\u001b[0;34m)\u001b[0m\u001b[0;34m\u001b[0m\u001b[0;34m\u001b[0m\u001b[0m\n\u001b[1;32m   1735\u001b[0m             mimage._draw_list_compositing_images(\n\u001b[0;32m-> 1736\u001b[0;31m                 renderer, self, artists, self.suppressComposite)\n\u001b[0m\u001b[1;32m   1737\u001b[0m \u001b[0;34m\u001b[0m\u001b[0m\n\u001b[1;32m   1738\u001b[0m             \u001b[0mrenderer\u001b[0m\u001b[0;34m.\u001b[0m\u001b[0mclose_group\u001b[0m\u001b[0;34m(\u001b[0m\u001b[0;34m'figure'\u001b[0m\u001b[0;34m)\u001b[0m\u001b[0;34m\u001b[0m\u001b[0;34m\u001b[0m\u001b[0m\n",
            "\u001b[0;32m/usr/local/lib/python3.7/dist-packages/matplotlib/image.py\u001b[0m in \u001b[0;36m_draw_list_compositing_images\u001b[0;34m(renderer, parent, artists, suppress_composite)\u001b[0m\n\u001b[1;32m    135\u001b[0m     \u001b[0;32mif\u001b[0m \u001b[0mnot_composite\u001b[0m \u001b[0;32mor\u001b[0m \u001b[0;32mnot\u001b[0m \u001b[0mhas_images\u001b[0m\u001b[0;34m:\u001b[0m\u001b[0;34m\u001b[0m\u001b[0;34m\u001b[0m\u001b[0m\n\u001b[1;32m    136\u001b[0m         \u001b[0;32mfor\u001b[0m \u001b[0ma\u001b[0m \u001b[0;32min\u001b[0m \u001b[0martists\u001b[0m\u001b[0;34m:\u001b[0m\u001b[0;34m\u001b[0m\u001b[0;34m\u001b[0m\u001b[0m\n\u001b[0;32m--> 137\u001b[0;31m             \u001b[0ma\u001b[0m\u001b[0;34m.\u001b[0m\u001b[0mdraw\u001b[0m\u001b[0;34m(\u001b[0m\u001b[0mrenderer\u001b[0m\u001b[0;34m)\u001b[0m\u001b[0;34m\u001b[0m\u001b[0;34m\u001b[0m\u001b[0m\n\u001b[0m\u001b[1;32m    138\u001b[0m     \u001b[0;32melse\u001b[0m\u001b[0;34m:\u001b[0m\u001b[0;34m\u001b[0m\u001b[0;34m\u001b[0m\u001b[0m\n\u001b[1;32m    139\u001b[0m         \u001b[0;31m# Composite any adjacent images together\u001b[0m\u001b[0;34m\u001b[0m\u001b[0;34m\u001b[0m\u001b[0;34m\u001b[0m\u001b[0m\n",
            "\u001b[0;32m/usr/local/lib/python3.7/dist-packages/matplotlib/artist.py\u001b[0m in \u001b[0;36mdraw_wrapper\u001b[0;34m(artist, renderer, *args, **kwargs)\u001b[0m\n\u001b[1;32m     36\u001b[0m                 \u001b[0mrenderer\u001b[0m\u001b[0;34m.\u001b[0m\u001b[0mstart_filter\u001b[0m\u001b[0;34m(\u001b[0m\u001b[0;34m)\u001b[0m\u001b[0;34m\u001b[0m\u001b[0;34m\u001b[0m\u001b[0m\n\u001b[1;32m     37\u001b[0m \u001b[0;34m\u001b[0m\u001b[0m\n\u001b[0;32m---> 38\u001b[0;31m             \u001b[0;32mreturn\u001b[0m \u001b[0mdraw\u001b[0m\u001b[0;34m(\u001b[0m\u001b[0martist\u001b[0m\u001b[0;34m,\u001b[0m \u001b[0mrenderer\u001b[0m\u001b[0;34m,\u001b[0m \u001b[0;34m*\u001b[0m\u001b[0margs\u001b[0m\u001b[0;34m,\u001b[0m \u001b[0;34m**\u001b[0m\u001b[0mkwargs\u001b[0m\u001b[0;34m)\u001b[0m\u001b[0;34m\u001b[0m\u001b[0;34m\u001b[0m\u001b[0m\n\u001b[0m\u001b[1;32m     39\u001b[0m         \u001b[0;32mfinally\u001b[0m\u001b[0;34m:\u001b[0m\u001b[0;34m\u001b[0m\u001b[0;34m\u001b[0m\u001b[0m\n\u001b[1;32m     40\u001b[0m             \u001b[0;32mif\u001b[0m \u001b[0martist\u001b[0m\u001b[0;34m.\u001b[0m\u001b[0mget_agg_filter\u001b[0m\u001b[0;34m(\u001b[0m\u001b[0;34m)\u001b[0m \u001b[0;32mis\u001b[0m \u001b[0;32mnot\u001b[0m \u001b[0;32mNone\u001b[0m\u001b[0;34m:\u001b[0m\u001b[0;34m\u001b[0m\u001b[0;34m\u001b[0m\u001b[0m\n",
            "\u001b[0;32m/usr/local/lib/python3.7/dist-packages/matplotlib/axes/_base.py\u001b[0m in \u001b[0;36mdraw\u001b[0;34m(self, renderer, inframe)\u001b[0m\n\u001b[1;32m   2628\u001b[0m             \u001b[0mrenderer\u001b[0m\u001b[0;34m.\u001b[0m\u001b[0mstop_rasterizing\u001b[0m\u001b[0;34m(\u001b[0m\u001b[0;34m)\u001b[0m\u001b[0;34m\u001b[0m\u001b[0;34m\u001b[0m\u001b[0m\n\u001b[1;32m   2629\u001b[0m \u001b[0;34m\u001b[0m\u001b[0m\n\u001b[0;32m-> 2630\u001b[0;31m         \u001b[0mmimage\u001b[0m\u001b[0;34m.\u001b[0m\u001b[0m_draw_list_compositing_images\u001b[0m\u001b[0;34m(\u001b[0m\u001b[0mrenderer\u001b[0m\u001b[0;34m,\u001b[0m \u001b[0mself\u001b[0m\u001b[0;34m,\u001b[0m \u001b[0martists\u001b[0m\u001b[0;34m)\u001b[0m\u001b[0;34m\u001b[0m\u001b[0;34m\u001b[0m\u001b[0m\n\u001b[0m\u001b[1;32m   2631\u001b[0m \u001b[0;34m\u001b[0m\u001b[0m\n\u001b[1;32m   2632\u001b[0m         \u001b[0mrenderer\u001b[0m\u001b[0;34m.\u001b[0m\u001b[0mclose_group\u001b[0m\u001b[0;34m(\u001b[0m\u001b[0;34m'axes'\u001b[0m\u001b[0;34m)\u001b[0m\u001b[0;34m\u001b[0m\u001b[0;34m\u001b[0m\u001b[0m\n",
            "\u001b[0;32m/usr/local/lib/python3.7/dist-packages/matplotlib/image.py\u001b[0m in \u001b[0;36m_draw_list_compositing_images\u001b[0;34m(renderer, parent, artists, suppress_composite)\u001b[0m\n\u001b[1;32m    135\u001b[0m     \u001b[0;32mif\u001b[0m \u001b[0mnot_composite\u001b[0m \u001b[0;32mor\u001b[0m \u001b[0;32mnot\u001b[0m \u001b[0mhas_images\u001b[0m\u001b[0;34m:\u001b[0m\u001b[0;34m\u001b[0m\u001b[0;34m\u001b[0m\u001b[0m\n\u001b[1;32m    136\u001b[0m         \u001b[0;32mfor\u001b[0m \u001b[0ma\u001b[0m \u001b[0;32min\u001b[0m \u001b[0martists\u001b[0m\u001b[0;34m:\u001b[0m\u001b[0;34m\u001b[0m\u001b[0;34m\u001b[0m\u001b[0m\n\u001b[0;32m--> 137\u001b[0;31m             \u001b[0ma\u001b[0m\u001b[0;34m.\u001b[0m\u001b[0mdraw\u001b[0m\u001b[0;34m(\u001b[0m\u001b[0mrenderer\u001b[0m\u001b[0;34m)\u001b[0m\u001b[0;34m\u001b[0m\u001b[0;34m\u001b[0m\u001b[0m\n\u001b[0m\u001b[1;32m    138\u001b[0m     \u001b[0;32melse\u001b[0m\u001b[0;34m:\u001b[0m\u001b[0;34m\u001b[0m\u001b[0;34m\u001b[0m\u001b[0m\n\u001b[1;32m    139\u001b[0m         \u001b[0;31m# Composite any adjacent images together\u001b[0m\u001b[0;34m\u001b[0m\u001b[0;34m\u001b[0m\u001b[0;34m\u001b[0m\u001b[0m\n",
            "\u001b[0;32m/usr/local/lib/python3.7/dist-packages/matplotlib/artist.py\u001b[0m in \u001b[0;36mdraw_wrapper\u001b[0;34m(artist, renderer, *args, **kwargs)\u001b[0m\n\u001b[1;32m     36\u001b[0m                 \u001b[0mrenderer\u001b[0m\u001b[0;34m.\u001b[0m\u001b[0mstart_filter\u001b[0m\u001b[0;34m(\u001b[0m\u001b[0;34m)\u001b[0m\u001b[0;34m\u001b[0m\u001b[0;34m\u001b[0m\u001b[0m\n\u001b[1;32m     37\u001b[0m \u001b[0;34m\u001b[0m\u001b[0m\n\u001b[0;32m---> 38\u001b[0;31m             \u001b[0;32mreturn\u001b[0m \u001b[0mdraw\u001b[0m\u001b[0;34m(\u001b[0m\u001b[0martist\u001b[0m\u001b[0;34m,\u001b[0m \u001b[0mrenderer\u001b[0m\u001b[0;34m,\u001b[0m \u001b[0;34m*\u001b[0m\u001b[0margs\u001b[0m\u001b[0;34m,\u001b[0m \u001b[0;34m**\u001b[0m\u001b[0mkwargs\u001b[0m\u001b[0;34m)\u001b[0m\u001b[0;34m\u001b[0m\u001b[0;34m\u001b[0m\u001b[0m\n\u001b[0m\u001b[1;32m     39\u001b[0m         \u001b[0;32mfinally\u001b[0m\u001b[0;34m:\u001b[0m\u001b[0;34m\u001b[0m\u001b[0;34m\u001b[0m\u001b[0m\n\u001b[1;32m     40\u001b[0m             \u001b[0;32mif\u001b[0m \u001b[0martist\u001b[0m\u001b[0;34m.\u001b[0m\u001b[0mget_agg_filter\u001b[0m\u001b[0;34m(\u001b[0m\u001b[0;34m)\u001b[0m \u001b[0;32mis\u001b[0m \u001b[0;32mnot\u001b[0m \u001b[0;32mNone\u001b[0m\u001b[0;34m:\u001b[0m\u001b[0;34m\u001b[0m\u001b[0;34m\u001b[0m\u001b[0m\n",
            "\u001b[0;32m/usr/local/lib/python3.7/dist-packages/matplotlib/collections.py\u001b[0m in \u001b[0;36mdraw\u001b[0;34m(self, renderer)\u001b[0m\n\u001b[1;32m    892\u001b[0m     \u001b[0;32mdef\u001b[0m \u001b[0mdraw\u001b[0m\u001b[0;34m(\u001b[0m\u001b[0mself\u001b[0m\u001b[0;34m,\u001b[0m \u001b[0mrenderer\u001b[0m\u001b[0;34m)\u001b[0m\u001b[0;34m:\u001b[0m\u001b[0;34m\u001b[0m\u001b[0;34m\u001b[0m\u001b[0m\n\u001b[1;32m    893\u001b[0m         \u001b[0mself\u001b[0m\u001b[0;34m.\u001b[0m\u001b[0mset_sizes\u001b[0m\u001b[0;34m(\u001b[0m\u001b[0mself\u001b[0m\u001b[0;34m.\u001b[0m\u001b[0m_sizes\u001b[0m\u001b[0;34m,\u001b[0m \u001b[0mself\u001b[0m\u001b[0;34m.\u001b[0m\u001b[0mfigure\u001b[0m\u001b[0;34m.\u001b[0m\u001b[0mdpi\u001b[0m\u001b[0;34m)\u001b[0m\u001b[0;34m\u001b[0m\u001b[0;34m\u001b[0m\u001b[0m\n\u001b[0;32m--> 894\u001b[0;31m         \u001b[0mCollection\u001b[0m\u001b[0;34m.\u001b[0m\u001b[0mdraw\u001b[0m\u001b[0;34m(\u001b[0m\u001b[0mself\u001b[0m\u001b[0;34m,\u001b[0m \u001b[0mrenderer\u001b[0m\u001b[0;34m)\u001b[0m\u001b[0;34m\u001b[0m\u001b[0;34m\u001b[0m\u001b[0m\n\u001b[0m\u001b[1;32m    895\u001b[0m \u001b[0;34m\u001b[0m\u001b[0m\n\u001b[1;32m    896\u001b[0m \u001b[0;34m\u001b[0m\u001b[0m\n",
            "\u001b[0;32m/usr/local/lib/python3.7/dist-packages/matplotlib/artist.py\u001b[0m in \u001b[0;36mdraw_wrapper\u001b[0;34m(artist, renderer, *args, **kwargs)\u001b[0m\n\u001b[1;32m     36\u001b[0m                 \u001b[0mrenderer\u001b[0m\u001b[0;34m.\u001b[0m\u001b[0mstart_filter\u001b[0m\u001b[0;34m(\u001b[0m\u001b[0;34m)\u001b[0m\u001b[0;34m\u001b[0m\u001b[0;34m\u001b[0m\u001b[0m\n\u001b[1;32m     37\u001b[0m \u001b[0;34m\u001b[0m\u001b[0m\n\u001b[0;32m---> 38\u001b[0;31m             \u001b[0;32mreturn\u001b[0m \u001b[0mdraw\u001b[0m\u001b[0;34m(\u001b[0m\u001b[0martist\u001b[0m\u001b[0;34m,\u001b[0m \u001b[0mrenderer\u001b[0m\u001b[0;34m,\u001b[0m \u001b[0;34m*\u001b[0m\u001b[0margs\u001b[0m\u001b[0;34m,\u001b[0m \u001b[0;34m**\u001b[0m\u001b[0mkwargs\u001b[0m\u001b[0;34m)\u001b[0m\u001b[0;34m\u001b[0m\u001b[0;34m\u001b[0m\u001b[0m\n\u001b[0m\u001b[1;32m     39\u001b[0m         \u001b[0;32mfinally\u001b[0m\u001b[0;34m:\u001b[0m\u001b[0;34m\u001b[0m\u001b[0;34m\u001b[0m\u001b[0m\n\u001b[1;32m     40\u001b[0m             \u001b[0;32mif\u001b[0m \u001b[0martist\u001b[0m\u001b[0;34m.\u001b[0m\u001b[0mget_agg_filter\u001b[0m\u001b[0;34m(\u001b[0m\u001b[0;34m)\u001b[0m \u001b[0;32mis\u001b[0m \u001b[0;32mnot\u001b[0m \u001b[0;32mNone\u001b[0m\u001b[0;34m:\u001b[0m\u001b[0;34m\u001b[0m\u001b[0;34m\u001b[0m\u001b[0m\n",
            "\u001b[0;32m/usr/local/lib/python3.7/dist-packages/matplotlib/collections.py\u001b[0m in \u001b[0;36mdraw\u001b[0;34m(self, renderer)\u001b[0m\n\u001b[1;32m    367\u001b[0m                 \u001b[0mself\u001b[0m\u001b[0;34m.\u001b[0m\u001b[0m_linewidths\u001b[0m\u001b[0;34m,\u001b[0m \u001b[0mself\u001b[0m\u001b[0;34m.\u001b[0m\u001b[0m_linestyles\u001b[0m\u001b[0;34m,\u001b[0m\u001b[0;34m\u001b[0m\u001b[0;34m\u001b[0m\u001b[0m\n\u001b[1;32m    368\u001b[0m                 \u001b[0mself\u001b[0m\u001b[0;34m.\u001b[0m\u001b[0m_antialiaseds\u001b[0m\u001b[0;34m,\u001b[0m \u001b[0mself\u001b[0m\u001b[0;34m.\u001b[0m\u001b[0m_urls\u001b[0m\u001b[0;34m,\u001b[0m\u001b[0;34m\u001b[0m\u001b[0;34m\u001b[0m\u001b[0m\n\u001b[0;32m--> 369\u001b[0;31m                 self._offset_position)\n\u001b[0m\u001b[1;32m    370\u001b[0m \u001b[0;34m\u001b[0m\u001b[0m\n\u001b[1;32m    371\u001b[0m         \u001b[0mgc\u001b[0m\u001b[0;34m.\u001b[0m\u001b[0mrestore\u001b[0m\u001b[0;34m(\u001b[0m\u001b[0;34m)\u001b[0m\u001b[0;34m\u001b[0m\u001b[0;34m\u001b[0m\u001b[0m\n",
            "\u001b[0;32m/usr/local/lib/python3.7/dist-packages/matplotlib/path.py\u001b[0m in \u001b[0;36mvertices\u001b[0;34m(self)\u001b[0m\n\u001b[1;32m    195\u001b[0m         )\n\u001b[1;32m    196\u001b[0m \u001b[0;34m\u001b[0m\u001b[0m\n\u001b[0;32m--> 197\u001b[0;31m     \u001b[0;34m@\u001b[0m\u001b[0mproperty\u001b[0m\u001b[0;34m\u001b[0m\u001b[0;34m\u001b[0m\u001b[0m\n\u001b[0m\u001b[1;32m    198\u001b[0m     \u001b[0;32mdef\u001b[0m \u001b[0mvertices\u001b[0m\u001b[0;34m(\u001b[0m\u001b[0mself\u001b[0m\u001b[0;34m)\u001b[0m\u001b[0;34m:\u001b[0m\u001b[0;34m\u001b[0m\u001b[0;34m\u001b[0m\u001b[0m\n\u001b[1;32m    199\u001b[0m         \"\"\"\n",
            "\u001b[0;31mKeyboardInterrupt\u001b[0m: "
          ]
        }
      ]
    },
    {
      "cell_type": "markdown",
      "metadata": {
        "id": "MT2UsAY3A_nM"
      },
      "source": [
        "#**เนื่องจาก Data มี dimension มากเกินไป เราจะทดสอบดูว่า column ใด ให้ข้อมูลซ้ำกับ column อื่น แล้วลบมันออก**"
      ]
    },
    {
      "cell_type": "markdown",
      "metadata": {
        "id": "9DArB9KwCVL2"
      },
      "source": [
        "###**เลือกมาทำต่อเฉพาะข้อมูลที่เป็นตัวเลข**"
      ]
    },
    {
      "cell_type": "code",
      "metadata": {
        "id": "SVFvb9yZCVss",
        "colab": {
          "base_uri": "https://localhost:8080/",
          "height": 214
        },
        "outputId": "c4c3313a-985a-4640-cc68-486c13f1572b"
      },
      "source": [
        "newdata = data.iloc[:,7:]\r\n",
        "newdata.head()"
      ],
      "execution_count": 79,
      "outputs": [
        {
          "output_type": "execute_result",
          "data": {
            "text/html": [
              "<div>\n",
              "<style scoped>\n",
              "    .dataframe tbody tr th:only-of-type {\n",
              "        vertical-align: middle;\n",
              "    }\n",
              "\n",
              "    .dataframe tbody tr th {\n",
              "        vertical-align: top;\n",
              "    }\n",
              "\n",
              "    .dataframe thead th {\n",
              "        text-align: right;\n",
              "    }\n",
              "</style>\n",
              "<table border=\"1\" class=\"dataframe\">\n",
              "  <thead>\n",
              "    <tr style=\"text-align: right;\">\n",
              "      <th></th>\n",
              "      <th>Energy_kcal</th>\n",
              "      <th>Protein_g</th>\n",
              "      <th>Fat_g</th>\n",
              "      <th>Carb_g</th>\n",
              "      <th>Sugar_g</th>\n",
              "      <th>Fiber_g</th>\n",
              "      <th>VitA_mcg</th>\n",
              "      <th>VitB6_mg</th>\n",
              "      <th>VitB12_mcg</th>\n",
              "      <th>VitC_mg</th>\n",
              "      <th>VitE_mg</th>\n",
              "      <th>Folate_mcg</th>\n",
              "      <th>Niacin_mg</th>\n",
              "      <th>Riboflavin_mg</th>\n",
              "      <th>Thiamin_mg</th>\n",
              "      <th>Calcium_mg</th>\n",
              "      <th>Copper_mcg</th>\n",
              "      <th>Iron_mg</th>\n",
              "      <th>Magnesium_mg</th>\n",
              "      <th>Manganese_mg</th>\n",
              "      <th>Phosphorus_mg</th>\n",
              "      <th>Selenium_mcg</th>\n",
              "      <th>Zinc_mg</th>\n",
              "      <th>VitA_USRDA</th>\n",
              "      <th>VitB6_USRDA</th>\n",
              "      <th>VitB12_USRDA</th>\n",
              "      <th>VitC_USRDA</th>\n",
              "      <th>VitE_USRDA</th>\n",
              "      <th>Folate_USRDA</th>\n",
              "      <th>Niacin_USRDA</th>\n",
              "      <th>Riboflavin_USRDA</th>\n",
              "      <th>Thiamin_USRDA</th>\n",
              "      <th>Calcium_USRDA</th>\n",
              "      <th>Copper_USRDA</th>\n",
              "      <th>Magnesium_USRDA</th>\n",
              "      <th>Phosphorus_USRDA</th>\n",
              "      <th>Selenium_USRDA</th>\n",
              "      <th>Zinc_USRDA</th>\n",
              "    </tr>\n",
              "  </thead>\n",
              "  <tbody>\n",
              "    <tr>\n",
              "      <th>0</th>\n",
              "      <td>717</td>\n",
              "      <td>0.85</td>\n",
              "      <td>81.11</td>\n",
              "      <td>0.06</td>\n",
              "      <td>0.06</td>\n",
              "      <td>0.0</td>\n",
              "      <td>684</td>\n",
              "      <td>0.003</td>\n",
              "      <td>0.17</td>\n",
              "      <td>0.0</td>\n",
              "      <td>2.32</td>\n",
              "      <td>3</td>\n",
              "      <td>0.042</td>\n",
              "      <td>0.034</td>\n",
              "      <td>0.005</td>\n",
              "      <td>24</td>\n",
              "      <td>0.000</td>\n",
              "      <td>0.02</td>\n",
              "      <td>2</td>\n",
              "      <td>0.000</td>\n",
              "      <td>24</td>\n",
              "      <td>1.0</td>\n",
              "      <td>0.09</td>\n",
              "      <td>0.760000</td>\n",
              "      <td>0.001765</td>\n",
              "      <td>0.070833</td>\n",
              "      <td>0.0</td>\n",
              "      <td>0.154667</td>\n",
              "      <td>0.0075</td>\n",
              "      <td>0.002625</td>\n",
              "      <td>0.026154</td>\n",
              "      <td>0.004167</td>\n",
              "      <td>0.020000</td>\n",
              "      <td>0.000000</td>\n",
              "      <td>0.004762</td>\n",
              "      <td>0.034286</td>\n",
              "      <td>0.018182</td>\n",
              "      <td>0.008182</td>\n",
              "    </tr>\n",
              "    <tr>\n",
              "      <th>1</th>\n",
              "      <td>717</td>\n",
              "      <td>0.85</td>\n",
              "      <td>81.11</td>\n",
              "      <td>0.06</td>\n",
              "      <td>0.06</td>\n",
              "      <td>0.0</td>\n",
              "      <td>684</td>\n",
              "      <td>0.003</td>\n",
              "      <td>0.13</td>\n",
              "      <td>0.0</td>\n",
              "      <td>2.32</td>\n",
              "      <td>3</td>\n",
              "      <td>0.042</td>\n",
              "      <td>0.034</td>\n",
              "      <td>0.005</td>\n",
              "      <td>24</td>\n",
              "      <td>0.016</td>\n",
              "      <td>0.16</td>\n",
              "      <td>2</td>\n",
              "      <td>0.004</td>\n",
              "      <td>23</td>\n",
              "      <td>1.0</td>\n",
              "      <td>0.05</td>\n",
              "      <td>0.760000</td>\n",
              "      <td>0.001765</td>\n",
              "      <td>0.054167</td>\n",
              "      <td>0.0</td>\n",
              "      <td>0.154667</td>\n",
              "      <td>0.0075</td>\n",
              "      <td>0.002625</td>\n",
              "      <td>0.026154</td>\n",
              "      <td>0.004167</td>\n",
              "      <td>0.020000</td>\n",
              "      <td>0.000018</td>\n",
              "      <td>0.004762</td>\n",
              "      <td>0.032857</td>\n",
              "      <td>0.018182</td>\n",
              "      <td>0.004545</td>\n",
              "    </tr>\n",
              "    <tr>\n",
              "      <th>2</th>\n",
              "      <td>876</td>\n",
              "      <td>0.28</td>\n",
              "      <td>99.48</td>\n",
              "      <td>0.00</td>\n",
              "      <td>0.00</td>\n",
              "      <td>0.0</td>\n",
              "      <td>840</td>\n",
              "      <td>0.001</td>\n",
              "      <td>0.01</td>\n",
              "      <td>0.0</td>\n",
              "      <td>2.80</td>\n",
              "      <td>0</td>\n",
              "      <td>0.003</td>\n",
              "      <td>0.005</td>\n",
              "      <td>0.001</td>\n",
              "      <td>4</td>\n",
              "      <td>0.001</td>\n",
              "      <td>0.00</td>\n",
              "      <td>0</td>\n",
              "      <td>0.000</td>\n",
              "      <td>3</td>\n",
              "      <td>0.0</td>\n",
              "      <td>0.01</td>\n",
              "      <td>0.933333</td>\n",
              "      <td>0.000588</td>\n",
              "      <td>0.004167</td>\n",
              "      <td>0.0</td>\n",
              "      <td>0.186667</td>\n",
              "      <td>0.0000</td>\n",
              "      <td>0.000188</td>\n",
              "      <td>0.003846</td>\n",
              "      <td>0.000833</td>\n",
              "      <td>0.003333</td>\n",
              "      <td>0.000001</td>\n",
              "      <td>0.000000</td>\n",
              "      <td>0.004286</td>\n",
              "      <td>0.000000</td>\n",
              "      <td>0.000909</td>\n",
              "    </tr>\n",
              "    <tr>\n",
              "      <th>3</th>\n",
              "      <td>353</td>\n",
              "      <td>21.40</td>\n",
              "      <td>28.74</td>\n",
              "      <td>2.34</td>\n",
              "      <td>0.50</td>\n",
              "      <td>0.0</td>\n",
              "      <td>198</td>\n",
              "      <td>0.166</td>\n",
              "      <td>1.22</td>\n",
              "      <td>0.0</td>\n",
              "      <td>0.25</td>\n",
              "      <td>36</td>\n",
              "      <td>1.016</td>\n",
              "      <td>0.382</td>\n",
              "      <td>0.029</td>\n",
              "      <td>528</td>\n",
              "      <td>0.040</td>\n",
              "      <td>0.31</td>\n",
              "      <td>23</td>\n",
              "      <td>0.009</td>\n",
              "      <td>387</td>\n",
              "      <td>14.5</td>\n",
              "      <td>2.66</td>\n",
              "      <td>0.220000</td>\n",
              "      <td>0.097647</td>\n",
              "      <td>0.508333</td>\n",
              "      <td>0.0</td>\n",
              "      <td>0.016667</td>\n",
              "      <td>0.0900</td>\n",
              "      <td>0.063500</td>\n",
              "      <td>0.293846</td>\n",
              "      <td>0.024167</td>\n",
              "      <td>0.440000</td>\n",
              "      <td>0.000044</td>\n",
              "      <td>0.054762</td>\n",
              "      <td>0.552857</td>\n",
              "      <td>0.263636</td>\n",
              "      <td>0.241818</td>\n",
              "    </tr>\n",
              "    <tr>\n",
              "      <th>4</th>\n",
              "      <td>371</td>\n",
              "      <td>23.24</td>\n",
              "      <td>29.68</td>\n",
              "      <td>2.79</td>\n",
              "      <td>0.51</td>\n",
              "      <td>0.0</td>\n",
              "      <td>292</td>\n",
              "      <td>0.065</td>\n",
              "      <td>1.26</td>\n",
              "      <td>0.0</td>\n",
              "      <td>0.26</td>\n",
              "      <td>20</td>\n",
              "      <td>0.118</td>\n",
              "      <td>0.351</td>\n",
              "      <td>0.014</td>\n",
              "      <td>674</td>\n",
              "      <td>0.024</td>\n",
              "      <td>0.43</td>\n",
              "      <td>24</td>\n",
              "      <td>0.012</td>\n",
              "      <td>451</td>\n",
              "      <td>14.5</td>\n",
              "      <td>2.60</td>\n",
              "      <td>0.324444</td>\n",
              "      <td>0.038235</td>\n",
              "      <td>0.525000</td>\n",
              "      <td>0.0</td>\n",
              "      <td>0.017333</td>\n",
              "      <td>0.0500</td>\n",
              "      <td>0.007375</td>\n",
              "      <td>0.270000</td>\n",
              "      <td>0.011667</td>\n",
              "      <td>0.561667</td>\n",
              "      <td>0.000027</td>\n",
              "      <td>0.057143</td>\n",
              "      <td>0.644286</td>\n",
              "      <td>0.263636</td>\n",
              "      <td>0.236364</td>\n",
              "    </tr>\n",
              "  </tbody>\n",
              "</table>\n",
              "</div>"
            ],
            "text/plain": [
              "   Energy_kcal  Protein_g  Fat_g  ...  Phosphorus_USRDA  Selenium_USRDA  Zinc_USRDA\n",
              "0          717       0.85  81.11  ...          0.034286        0.018182    0.008182\n",
              "1          717       0.85  81.11  ...          0.032857        0.018182    0.004545\n",
              "2          876       0.28  99.48  ...          0.004286        0.000000    0.000909\n",
              "3          353      21.40  28.74  ...          0.552857        0.263636    0.241818\n",
              "4          371      23.24  29.68  ...          0.644286        0.263636    0.236364\n",
              "\n",
              "[5 rows x 38 columns]"
            ]
          },
          "metadata": {
            "tags": []
          },
          "execution_count": 79
        }
      ]
    },
    {
      "cell_type": "markdown",
      "metadata": {
        "id": "bJ2vFAzKDKXi"
      },
      "source": [
        "**ตรวจสอบว่า ระหว่าง column มี แcorreltion กันมากน้อยแค่ไหน ด้วย numpy**"
      ]
    },
    {
      "cell_type": "code",
      "metadata": {
        "id": "HVYxwixEDebP"
      },
      "source": [
        "import numpy as np"
      ],
      "execution_count": 5,
      "outputs": []
    },
    {
      "cell_type": "code",
      "metadata": {
        "id": "v4tt0rFHFyXM"
      },
      "source": [
        "corr = np.corrcoef(newdata.to_numpy().T)"
      ],
      "execution_count": 6,
      "outputs": []
    },
    {
      "cell_type": "code",
      "metadata": {
        "id": "GPtNVUn3GHTX",
        "colab": {
          "base_uri": "https://localhost:8080/"
        },
        "outputId": "b64f53bf-5908-4cd5-cec8-c64c3588b6b6"
      },
      "source": [
        "corr.shape"
      ],
      "execution_count": 7,
      "outputs": [
        {
          "output_type": "execute_result",
          "data": {
            "text/plain": [
              "(38, 38)"
            ]
          },
          "metadata": {
            "tags": []
          },
          "execution_count": 7
        }
      ]
    },
    {
      "cell_type": "code",
      "metadata": {
        "id": "C91XEmsiH8hH",
        "colab": {
          "base_uri": "https://localhost:8080/"
        },
        "outputId": "6e5fb4ae-6fe8-4afa-fb08-968e3b788df1"
      },
      "source": [
        "corr"
      ],
      "execution_count": 8,
      "outputs": [
        {
          "output_type": "execute_result",
          "data": {
            "text/plain": [
              "array([[1.        , 0.11030203, 0.80679472, ..., 0.19518065, 0.05667274,\n",
              "        0.11276635],\n",
              "       [0.11030203, 1.        , 0.05471538, ..., 0.44460761, 0.37836917,\n",
              "        0.41631538],\n",
              "       [0.80679472, 0.05471538, 1.        , ..., 0.06608644, 0.03755914,\n",
              "        0.02826352],\n",
              "       ...,\n",
              "       [0.19518065, 0.44460761, 0.06608644, ..., 1.        , 0.22368557,\n",
              "        0.26657694],\n",
              "       [0.05667274, 0.37836917, 0.03755914, ..., 0.22368557, 1.        ,\n",
              "        0.20529859],\n",
              "       [0.11276635, 0.41631538, 0.02826352, ..., 0.26657694, 0.20529859,\n",
              "        1.        ]])"
            ]
          },
          "metadata": {
            "tags": []
          },
          "execution_count": 8
        }
      ]
    },
    {
      "cell_type": "code",
      "metadata": {
        "id": "pf-WW6HtEF9P",
        "colab": {
          "base_uri": "https://localhost:8080/"
        },
        "outputId": "15fd013e-8da6-43f2-f12a-222974983bba"
      },
      "source": [
        "for i in range(corr.shape[0]):\r\n",
        "    for j in range(corr.shape[1]):\r\n",
        "        if (i !=j) and (corr[i,j] == 1.):\r\n",
        "            print(f'column = {i} <=> column = {j} corrcoef = {corr[i,j]}')"
      ],
      "execution_count": 81,
      "outputs": [
        {
          "output_type": "stream",
          "text": [
            "column = 9 <=> column = 26 corrcoef = 1.0\n",
            "column = 10 <=> column = 27 corrcoef = 1.0\n",
            "column = 11 <=> column = 28 corrcoef = 1.0\n",
            "column = 12 <=> column = 29 corrcoef = 1.0\n",
            "column = 13 <=> column = 30 corrcoef = 1.0\n",
            "column = 14 <=> column = 31 corrcoef = 1.0\n",
            "column = 15 <=> column = 32 corrcoef = 1.0\n",
            "column = 21 <=> column = 36 corrcoef = 1.0\n",
            "column = 22 <=> column = 37 corrcoef = 1.0\n",
            "column = 26 <=> column = 9 corrcoef = 1.0\n",
            "column = 27 <=> column = 10 corrcoef = 1.0\n",
            "column = 28 <=> column = 11 corrcoef = 1.0\n",
            "column = 29 <=> column = 12 corrcoef = 1.0\n",
            "column = 30 <=> column = 13 corrcoef = 1.0\n",
            "column = 31 <=> column = 14 corrcoef = 1.0\n",
            "column = 32 <=> column = 15 corrcoef = 1.0\n",
            "column = 36 <=> column = 21 corrcoef = 1.0\n",
            "column = 37 <=> column = 22 corrcoef = 1.0\n"
          ],
          "name": "stdout"
        }
      ]
    },
    {
      "cell_type": "code",
      "metadata": {
        "id": "vwK90UQ1GnJE",
        "colab": {
          "base_uri": "https://localhost:8080/",
          "height": 214
        },
        "outputId": "61b1dc54-1bb1-4b9e-d382-a8f4f5c4dfbc"
      },
      "source": [
        "newdata.iloc[:5,10:30]\r\n"
      ],
      "execution_count": 82,
      "outputs": [
        {
          "output_type": "execute_result",
          "data": {
            "text/html": [
              "<div>\n",
              "<style scoped>\n",
              "    .dataframe tbody tr th:only-of-type {\n",
              "        vertical-align: middle;\n",
              "    }\n",
              "\n",
              "    .dataframe tbody tr th {\n",
              "        vertical-align: top;\n",
              "    }\n",
              "\n",
              "    .dataframe thead th {\n",
              "        text-align: right;\n",
              "    }\n",
              "</style>\n",
              "<table border=\"1\" class=\"dataframe\">\n",
              "  <thead>\n",
              "    <tr style=\"text-align: right;\">\n",
              "      <th></th>\n",
              "      <th>VitE_mg</th>\n",
              "      <th>Folate_mcg</th>\n",
              "      <th>Niacin_mg</th>\n",
              "      <th>Riboflavin_mg</th>\n",
              "      <th>Thiamin_mg</th>\n",
              "      <th>Calcium_mg</th>\n",
              "      <th>Copper_mcg</th>\n",
              "      <th>Iron_mg</th>\n",
              "      <th>Magnesium_mg</th>\n",
              "      <th>Manganese_mg</th>\n",
              "      <th>Phosphorus_mg</th>\n",
              "      <th>Selenium_mcg</th>\n",
              "      <th>Zinc_mg</th>\n",
              "      <th>VitA_USRDA</th>\n",
              "      <th>VitB6_USRDA</th>\n",
              "      <th>VitB12_USRDA</th>\n",
              "      <th>VitC_USRDA</th>\n",
              "      <th>VitE_USRDA</th>\n",
              "      <th>Folate_USRDA</th>\n",
              "      <th>Niacin_USRDA</th>\n",
              "    </tr>\n",
              "  </thead>\n",
              "  <tbody>\n",
              "    <tr>\n",
              "      <th>0</th>\n",
              "      <td>2.32</td>\n",
              "      <td>3</td>\n",
              "      <td>0.042</td>\n",
              "      <td>0.034</td>\n",
              "      <td>0.005</td>\n",
              "      <td>24</td>\n",
              "      <td>0.000</td>\n",
              "      <td>0.02</td>\n",
              "      <td>2</td>\n",
              "      <td>0.000</td>\n",
              "      <td>24</td>\n",
              "      <td>1.0</td>\n",
              "      <td>0.09</td>\n",
              "      <td>0.760000</td>\n",
              "      <td>0.001765</td>\n",
              "      <td>0.070833</td>\n",
              "      <td>0.0</td>\n",
              "      <td>0.154667</td>\n",
              "      <td>0.0075</td>\n",
              "      <td>0.002625</td>\n",
              "    </tr>\n",
              "    <tr>\n",
              "      <th>1</th>\n",
              "      <td>2.32</td>\n",
              "      <td>3</td>\n",
              "      <td>0.042</td>\n",
              "      <td>0.034</td>\n",
              "      <td>0.005</td>\n",
              "      <td>24</td>\n",
              "      <td>0.016</td>\n",
              "      <td>0.16</td>\n",
              "      <td>2</td>\n",
              "      <td>0.004</td>\n",
              "      <td>23</td>\n",
              "      <td>1.0</td>\n",
              "      <td>0.05</td>\n",
              "      <td>0.760000</td>\n",
              "      <td>0.001765</td>\n",
              "      <td>0.054167</td>\n",
              "      <td>0.0</td>\n",
              "      <td>0.154667</td>\n",
              "      <td>0.0075</td>\n",
              "      <td>0.002625</td>\n",
              "    </tr>\n",
              "    <tr>\n",
              "      <th>2</th>\n",
              "      <td>2.80</td>\n",
              "      <td>0</td>\n",
              "      <td>0.003</td>\n",
              "      <td>0.005</td>\n",
              "      <td>0.001</td>\n",
              "      <td>4</td>\n",
              "      <td>0.001</td>\n",
              "      <td>0.00</td>\n",
              "      <td>0</td>\n",
              "      <td>0.000</td>\n",
              "      <td>3</td>\n",
              "      <td>0.0</td>\n",
              "      <td>0.01</td>\n",
              "      <td>0.933333</td>\n",
              "      <td>0.000588</td>\n",
              "      <td>0.004167</td>\n",
              "      <td>0.0</td>\n",
              "      <td>0.186667</td>\n",
              "      <td>0.0000</td>\n",
              "      <td>0.000188</td>\n",
              "    </tr>\n",
              "    <tr>\n",
              "      <th>3</th>\n",
              "      <td>0.25</td>\n",
              "      <td>36</td>\n",
              "      <td>1.016</td>\n",
              "      <td>0.382</td>\n",
              "      <td>0.029</td>\n",
              "      <td>528</td>\n",
              "      <td>0.040</td>\n",
              "      <td>0.31</td>\n",
              "      <td>23</td>\n",
              "      <td>0.009</td>\n",
              "      <td>387</td>\n",
              "      <td>14.5</td>\n",
              "      <td>2.66</td>\n",
              "      <td>0.220000</td>\n",
              "      <td>0.097647</td>\n",
              "      <td>0.508333</td>\n",
              "      <td>0.0</td>\n",
              "      <td>0.016667</td>\n",
              "      <td>0.0900</td>\n",
              "      <td>0.063500</td>\n",
              "    </tr>\n",
              "    <tr>\n",
              "      <th>4</th>\n",
              "      <td>0.26</td>\n",
              "      <td>20</td>\n",
              "      <td>0.118</td>\n",
              "      <td>0.351</td>\n",
              "      <td>0.014</td>\n",
              "      <td>674</td>\n",
              "      <td>0.024</td>\n",
              "      <td>0.43</td>\n",
              "      <td>24</td>\n",
              "      <td>0.012</td>\n",
              "      <td>451</td>\n",
              "      <td>14.5</td>\n",
              "      <td>2.60</td>\n",
              "      <td>0.324444</td>\n",
              "      <td>0.038235</td>\n",
              "      <td>0.525000</td>\n",
              "      <td>0.0</td>\n",
              "      <td>0.017333</td>\n",
              "      <td>0.0500</td>\n",
              "      <td>0.007375</td>\n",
              "    </tr>\n",
              "  </tbody>\n",
              "</table>\n",
              "</div>"
            ],
            "text/plain": [
              "   VitE_mg  Folate_mcg  Niacin_mg  ...  VitE_USRDA  Folate_USRDA  Niacin_USRDA\n",
              "0     2.32           3      0.042  ...    0.154667        0.0075      0.002625\n",
              "1     2.32           3      0.042  ...    0.154667        0.0075      0.002625\n",
              "2     2.80           0      0.003  ...    0.186667        0.0000      0.000188\n",
              "3     0.25          36      1.016  ...    0.016667        0.0900      0.063500\n",
              "4     0.26          20      0.118  ...    0.017333        0.0500      0.007375\n",
              "\n",
              "[5 rows x 20 columns]"
            ]
          },
          "metadata": {
            "tags": []
          },
          "execution_count": 82
        }
      ]
    },
    {
      "cell_type": "code",
      "metadata": {
        "id": "EfLayNXUHN3_"
      },
      "source": [
        "from matplotlib import pyplot as plt"
      ],
      "execution_count": 11,
      "outputs": []
    },
    {
      "cell_type": "markdown",
      "metadata": {
        "id": "e4j9mcC-Npe2"
      },
      "source": [
        "**data ที่มี correlation เป็น 1**"
      ]
    },
    {
      "cell_type": "code",
      "metadata": {
        "id": "_5a9X54GHdM-",
        "colab": {
          "base_uri": "https://localhost:8080/",
          "height": 282
        },
        "outputId": "23489de2-dc70-4e0c-9f93-f955f813932b"
      },
      "source": [
        "plt.plot(newdata.iloc[:,10],newdata.iloc[:,27],'r.')"
      ],
      "execution_count": 83,
      "outputs": [
        {
          "output_type": "execute_result",
          "data": {
            "text/plain": [
              "[<matplotlib.lines.Line2D at 0x7f5a204c6950>]"
            ]
          },
          "metadata": {
            "tags": []
          },
          "execution_count": 83
        },
        {
          "output_type": "display_data",
          "data": {
            "image/png": "[encoded data removed]",
            "text/plain": [
              "<Figure size 432x288 with 1 Axes>"
            ]
          },
          "metadata": {
            "tags": [],
            "needs_background": "light"
          }
        }
      ]
    },
    {
      "cell_type": "code",
      "metadata": {
        "colab": {
          "base_uri": "https://localhost:8080/",
          "height": 282
        },
        "id": "R232oVtKsETe",
        "outputId": "618f68cb-69cb-4399-cb12-09a0f0a4a4ef"
      },
      "source": [
        "plt.plot(newdata.iloc[:,10],newdata.iloc[:,10],'r.')"
      ],
      "execution_count": 84,
      "outputs": [
        {
          "output_type": "execute_result",
          "data": {
            "text/plain": [
              "[<matplotlib.lines.Line2D at 0x7f5a204b0ed0>]"
            ]
          },
          "metadata": {
            "tags": []
          },
          "execution_count": 84
        },
        {
          "output_type": "display_data",
          "data": {
            "image/png": "[encoded data removed]",
            "text/plain": [
              "<Figure size 432x288 with 1 Axes>"
            ]
          },
          "metadata": {
            "tags": [],
            "needs_background": "light"
          }
        }
      ]
    },
    {
      "cell_type": "markdown",
      "metadata": {
        "id": "x1qXYVvmIbcI"
      },
      "source": [
        "###**data ที่มี correllation เป็นค่าอื่นๆ**"
      ]
    },
    {
      "cell_type": "code",
      "metadata": {
        "id": "qDCG6Z8DInmW",
        "colab": {
          "base_uri": "https://localhost:8080/",
          "height": 282
        },
        "outputId": "c8468e2a-3834-4e34-9104-fea247fd2dc7"
      },
      "source": [
        "plt.plot(newdata.iloc[:,11],newdata.iloc[:,29],'r.')"
      ],
      "execution_count": 85,
      "outputs": [
        {
          "output_type": "execute_result",
          "data": {
            "text/plain": [
              "[<matplotlib.lines.Line2D at 0x7f5a208e5190>]"
            ]
          },
          "metadata": {
            "tags": []
          },
          "execution_count": 85
        },
        {
          "output_type": "display_data",
          "data": {
            "image/png": "[encoded data removed]",
            "text/plain": [
              "<Figure size 432x288 with 1 Axes>"
            ]
          },
          "metadata": {
            "tags": [],
            "needs_background": "light"
          }
        }
      ]
    },
    {
      "cell_type": "markdown",
      "metadata": {
        "id": "n6LGWZhhn-UO"
      },
      "source": [
        "##ลบ column ซ้ำ"
      ]
    },
    {
      "cell_type": "markdown",
      "metadata": {
        "id": "MdFyJ9sP_VGV"
      },
      "source": [
        "correlation เป็น 1 = มันซ้ำกัน"
      ]
    },
    {
      "cell_type": "code",
      "metadata": {
        "colab": {
          "base_uri": "https://localhost:8080/"
        },
        "id": "VYnW_E2YoEs6",
        "outputId": "1d1f4b3b-892e-4de3-e54f-d32fec03e463"
      },
      "source": [
        "newdata.columns.str.contains('_USRDA')"
      ],
      "execution_count": 86,
      "outputs": [
        {
          "output_type": "execute_result",
          "data": {
            "text/plain": [
              "array([False, False, False, False, False, False, False, False, False,\n",
              "       False, False, False, False, False, False, False, False, False,\n",
              "       False, False, False, False, False,  True,  True,  True,  True,\n",
              "        True,  True,  True,  True,  True,  True,  True,  True,  True,\n",
              "        True,  True])"
            ]
          },
          "metadata": {
            "tags": []
          },
          "execution_count": 86
        }
      ]
    },
    {
      "cell_type": "code",
      "metadata": {
        "colab": {
          "base_uri": "https://localhost:8080/"
        },
        "id": "DBHetaZTnVig",
        "outputId": "aea08679-2e8d-4a62-9063-f6b904f33bb0"
      },
      "source": [
        "newdata.columns[newdata.columns.str.contains('_USRDA')].values"
      ],
      "execution_count": 87,
      "outputs": [
        {
          "output_type": "execute_result",
          "data": {
            "text/plain": [
              "array(['VitA_USRDA', 'VitB6_USRDA', 'VitB12_USRDA', 'VitC_USRDA',\n",
              "       'VitE_USRDA', 'Folate_USRDA', 'Niacin_USRDA', 'Riboflavin_USRDA',\n",
              "       'Thiamin_USRDA', 'Calcium_USRDA', 'Copper_USRDA',\n",
              "       'Magnesium_USRDA', 'Phosphorus_USRDA', 'Selenium_USRDA',\n",
              "       'Zinc_USRDA'], dtype=object)"
            ]
          },
          "metadata": {
            "tags": []
          },
          "execution_count": 87
        }
      ]
    },
    {
      "cell_type": "code",
      "metadata": {
        "colab": {
          "base_uri": "https://localhost:8080/",
          "height": 419
        },
        "id": "IQpgPcY2ooYV",
        "outputId": "adf78d22-52ba-4935-9a76-43c8304466c3"
      },
      "source": [
        "newdata.drop(newdata.columns[newdata.columns.str.contains('_USRDA')].values, axis=1)"
      ],
      "execution_count": 88,
      "outputs": [
        {
          "output_type": "execute_result",
          "data": {
            "text/html": [
              "<div>\n",
              "<style scoped>\n",
              "    .dataframe tbody tr th:only-of-type {\n",
              "        vertical-align: middle;\n",
              "    }\n",
              "\n",
              "    .dataframe tbody tr th {\n",
              "        vertical-align: top;\n",
              "    }\n",
              "\n",
              "    .dataframe thead th {\n",
              "        text-align: right;\n",
              "    }\n",
              "</style>\n",
              "<table border=\"1\" class=\"dataframe\">\n",
              "  <thead>\n",
              "    <tr style=\"text-align: right;\">\n",
              "      <th></th>\n",
              "      <th>Energy_kcal</th>\n",
              "      <th>Protein_g</th>\n",
              "      <th>Fat_g</th>\n",
              "      <th>Carb_g</th>\n",
              "      <th>Sugar_g</th>\n",
              "      <th>Fiber_g</th>\n",
              "      <th>VitA_mcg</th>\n",
              "      <th>VitB6_mg</th>\n",
              "      <th>VitB12_mcg</th>\n",
              "      <th>VitC_mg</th>\n",
              "      <th>VitE_mg</th>\n",
              "      <th>Folate_mcg</th>\n",
              "      <th>Niacin_mg</th>\n",
              "      <th>Riboflavin_mg</th>\n",
              "      <th>Thiamin_mg</th>\n",
              "      <th>Calcium_mg</th>\n",
              "      <th>Copper_mcg</th>\n",
              "      <th>Iron_mg</th>\n",
              "      <th>Magnesium_mg</th>\n",
              "      <th>Manganese_mg</th>\n",
              "      <th>Phosphorus_mg</th>\n",
              "      <th>Selenium_mcg</th>\n",
              "      <th>Zinc_mg</th>\n",
              "    </tr>\n",
              "  </thead>\n",
              "  <tbody>\n",
              "    <tr>\n",
              "      <th>0</th>\n",
              "      <td>717</td>\n",
              "      <td>0.85</td>\n",
              "      <td>81.11</td>\n",
              "      <td>0.06</td>\n",
              "      <td>0.06</td>\n",
              "      <td>0.0</td>\n",
              "      <td>684</td>\n",
              "      <td>0.003</td>\n",
              "      <td>0.17</td>\n",
              "      <td>0.0</td>\n",
              "      <td>2.32</td>\n",
              "      <td>3</td>\n",
              "      <td>0.042</td>\n",
              "      <td>0.034</td>\n",
              "      <td>0.005</td>\n",
              "      <td>24</td>\n",
              "      <td>0.000</td>\n",
              "      <td>0.02</td>\n",
              "      <td>2</td>\n",
              "      <td>0.000</td>\n",
              "      <td>24</td>\n",
              "      <td>1.0</td>\n",
              "      <td>0.09</td>\n",
              "    </tr>\n",
              "    <tr>\n",
              "      <th>1</th>\n",
              "      <td>717</td>\n",
              "      <td>0.85</td>\n",
              "      <td>81.11</td>\n",
              "      <td>0.06</td>\n",
              "      <td>0.06</td>\n",
              "      <td>0.0</td>\n",
              "      <td>684</td>\n",
              "      <td>0.003</td>\n",
              "      <td>0.13</td>\n",
              "      <td>0.0</td>\n",
              "      <td>2.32</td>\n",
              "      <td>3</td>\n",
              "      <td>0.042</td>\n",
              "      <td>0.034</td>\n",
              "      <td>0.005</td>\n",
              "      <td>24</td>\n",
              "      <td>0.016</td>\n",
              "      <td>0.16</td>\n",
              "      <td>2</td>\n",
              "      <td>0.004</td>\n",
              "      <td>23</td>\n",
              "      <td>1.0</td>\n",
              "      <td>0.05</td>\n",
              "    </tr>\n",
              "    <tr>\n",
              "      <th>2</th>\n",
              "      <td>876</td>\n",
              "      <td>0.28</td>\n",
              "      <td>99.48</td>\n",
              "      <td>0.00</td>\n",
              "      <td>0.00</td>\n",
              "      <td>0.0</td>\n",
              "      <td>840</td>\n",
              "      <td>0.001</td>\n",
              "      <td>0.01</td>\n",
              "      <td>0.0</td>\n",
              "      <td>2.80</td>\n",
              "      <td>0</td>\n",
              "      <td>0.003</td>\n",
              "      <td>0.005</td>\n",
              "      <td>0.001</td>\n",
              "      <td>4</td>\n",
              "      <td>0.001</td>\n",
              "      <td>0.00</td>\n",
              "      <td>0</td>\n",
              "      <td>0.000</td>\n",
              "      <td>3</td>\n",
              "      <td>0.0</td>\n",
              "      <td>0.01</td>\n",
              "    </tr>\n",
              "    <tr>\n",
              "      <th>3</th>\n",
              "      <td>353</td>\n",
              "      <td>21.40</td>\n",
              "      <td>28.74</td>\n",
              "      <td>2.34</td>\n",
              "      <td>0.50</td>\n",
              "      <td>0.0</td>\n",
              "      <td>198</td>\n",
              "      <td>0.166</td>\n",
              "      <td>1.22</td>\n",
              "      <td>0.0</td>\n",
              "      <td>0.25</td>\n",
              "      <td>36</td>\n",
              "      <td>1.016</td>\n",
              "      <td>0.382</td>\n",
              "      <td>0.029</td>\n",
              "      <td>528</td>\n",
              "      <td>0.040</td>\n",
              "      <td>0.31</td>\n",
              "      <td>23</td>\n",
              "      <td>0.009</td>\n",
              "      <td>387</td>\n",
              "      <td>14.5</td>\n",
              "      <td>2.66</td>\n",
              "    </tr>\n",
              "    <tr>\n",
              "      <th>4</th>\n",
              "      <td>371</td>\n",
              "      <td>23.24</td>\n",
              "      <td>29.68</td>\n",
              "      <td>2.79</td>\n",
              "      <td>0.51</td>\n",
              "      <td>0.0</td>\n",
              "      <td>292</td>\n",
              "      <td>0.065</td>\n",
              "      <td>1.26</td>\n",
              "      <td>0.0</td>\n",
              "      <td>0.26</td>\n",
              "      <td>20</td>\n",
              "      <td>0.118</td>\n",
              "      <td>0.351</td>\n",
              "      <td>0.014</td>\n",
              "      <td>674</td>\n",
              "      <td>0.024</td>\n",
              "      <td>0.43</td>\n",
              "      <td>24</td>\n",
              "      <td>0.012</td>\n",
              "      <td>451</td>\n",
              "      <td>14.5</td>\n",
              "      <td>2.60</td>\n",
              "    </tr>\n",
              "    <tr>\n",
              "      <th>...</th>\n",
              "      <td>...</td>\n",
              "      <td>...</td>\n",
              "      <td>...</td>\n",
              "      <td>...</td>\n",
              "      <td>...</td>\n",
              "      <td>...</td>\n",
              "      <td>...</td>\n",
              "      <td>...</td>\n",
              "      <td>...</td>\n",
              "      <td>...</td>\n",
              "      <td>...</td>\n",
              "      <td>...</td>\n",
              "      <td>...</td>\n",
              "      <td>...</td>\n",
              "      <td>...</td>\n",
              "      <td>...</td>\n",
              "      <td>...</td>\n",
              "      <td>...</td>\n",
              "      <td>...</td>\n",
              "      <td>...</td>\n",
              "      <td>...</td>\n",
              "      <td>...</td>\n",
              "      <td>...</td>\n",
              "    </tr>\n",
              "    <tr>\n",
              "      <th>8613</th>\n",
              "      <td>305</td>\n",
              "      <td>18.50</td>\n",
              "      <td>25.10</td>\n",
              "      <td>0.00</td>\n",
              "      <td>0.00</td>\n",
              "      <td>0.0</td>\n",
              "      <td>47</td>\n",
              "      <td>0.410</td>\n",
              "      <td>12.00</td>\n",
              "      <td>0.0</td>\n",
              "      <td>2.38</td>\n",
              "      <td>15</td>\n",
              "      <td>3.300</td>\n",
              "      <td>0.190</td>\n",
              "      <td>0.020</td>\n",
              "      <td>66</td>\n",
              "      <td>0.100</td>\n",
              "      <td>1.40</td>\n",
              "      <td>60</td>\n",
              "      <td>0.000</td>\n",
              "      <td>254</td>\n",
              "      <td>73.4</td>\n",
              "      <td>1.10</td>\n",
              "    </tr>\n",
              "    <tr>\n",
              "      <th>8614</th>\n",
              "      <td>111</td>\n",
              "      <td>20.54</td>\n",
              "      <td>0.84</td>\n",
              "      <td>5.41</td>\n",
              "      <td>0.00</td>\n",
              "      <td>0.0</td>\n",
              "      <td>2</td>\n",
              "      <td>0.112</td>\n",
              "      <td>2.15</td>\n",
              "      <td>0.0</td>\n",
              "      <td>0.00</td>\n",
              "      <td>20</td>\n",
              "      <td>1.076</td>\n",
              "      <td>0.024</td>\n",
              "      <td>0.012</td>\n",
              "      <td>10</td>\n",
              "      <td>0.033</td>\n",
              "      <td>0.58</td>\n",
              "      <td>37</td>\n",
              "      <td>0.029</td>\n",
              "      <td>426</td>\n",
              "      <td>21.7</td>\n",
              "      <td>1.55</td>\n",
              "    </tr>\n",
              "    <tr>\n",
              "      <th>8615</th>\n",
              "      <td>269</td>\n",
              "      <td>0.00</td>\n",
              "      <td>0.00</td>\n",
              "      <td>73.14</td>\n",
              "      <td>73.20</td>\n",
              "      <td>0.0</td>\n",
              "      <td>0</td>\n",
              "      <td>0.000</td>\n",
              "      <td>0.00</td>\n",
              "      <td>0.0</td>\n",
              "      <td>0.00</td>\n",
              "      <td>0</td>\n",
              "      <td>0.100</td>\n",
              "      <td>0.060</td>\n",
              "      <td>0.130</td>\n",
              "      <td>13</td>\n",
              "      <td>0.020</td>\n",
              "      <td>3.60</td>\n",
              "      <td>10</td>\n",
              "      <td>0.000</td>\n",
              "      <td>8</td>\n",
              "      <td>0.7</td>\n",
              "      <td>0.19</td>\n",
              "    </tr>\n",
              "    <tr>\n",
              "      <th>8616</th>\n",
              "      <td>90</td>\n",
              "      <td>16.10</td>\n",
              "      <td>1.40</td>\n",
              "      <td>2.00</td>\n",
              "      <td>0.00</td>\n",
              "      <td>0.0</td>\n",
              "      <td>30</td>\n",
              "      <td>0.130</td>\n",
              "      <td>0.50</td>\n",
              "      <td>0.0</td>\n",
              "      <td>5.00</td>\n",
              "      <td>6</td>\n",
              "      <td>1.400</td>\n",
              "      <td>0.120</td>\n",
              "      <td>0.010</td>\n",
              "      <td>10</td>\n",
              "      <td>0.400</td>\n",
              "      <td>3.50</td>\n",
              "      <td>250</td>\n",
              "      <td>0.000</td>\n",
              "      <td>272</td>\n",
              "      <td>27.4</td>\n",
              "      <td>1.00</td>\n",
              "    </tr>\n",
              "    <tr>\n",
              "      <th>8617</th>\n",
              "      <td>89</td>\n",
              "      <td>19.80</td>\n",
              "      <td>0.50</td>\n",
              "      <td>0.00</td>\n",
              "      <td>0.00</td>\n",
              "      <td>0.0</td>\n",
              "      <td>30</td>\n",
              "      <td>0.120</td>\n",
              "      <td>1.00</td>\n",
              "      <td>0.0</td>\n",
              "      <td>0.50</td>\n",
              "      <td>15</td>\n",
              "      <td>1.100</td>\n",
              "      <td>0.150</td>\n",
              "      <td>0.120</td>\n",
              "      <td>118</td>\n",
              "      <td>0.250</td>\n",
              "      <td>1.40</td>\n",
              "      <td>20</td>\n",
              "      <td>0.000</td>\n",
              "      <td>180</td>\n",
              "      <td>16.8</td>\n",
              "      <td>1.00</td>\n",
              "    </tr>\n",
              "  </tbody>\n",
              "</table>\n",
              "<p>8618 rows × 23 columns</p>\n",
              "</div>"
            ],
            "text/plain": [
              "      Energy_kcal  Protein_g  Fat_g  ...  Phosphorus_mg  Selenium_mcg  Zinc_mg\n",
              "0             717       0.85  81.11  ...             24           1.0     0.09\n",
              "1             717       0.85  81.11  ...             23           1.0     0.05\n",
              "2             876       0.28  99.48  ...              3           0.0     0.01\n",
              "3             353      21.40  28.74  ...            387          14.5     2.66\n",
              "4             371      23.24  29.68  ...            451          14.5     2.60\n",
              "...           ...        ...    ...  ...            ...           ...      ...\n",
              "8613          305      18.50  25.10  ...            254          73.4     1.10\n",
              "8614          111      20.54   0.84  ...            426          21.7     1.55\n",
              "8615          269       0.00   0.00  ...              8           0.7     0.19\n",
              "8616           90      16.10   1.40  ...            272          27.4     1.00\n",
              "8617           89      19.80   0.50  ...            180          16.8     1.00\n",
              "\n",
              "[8618 rows x 23 columns]"
            ]
          },
          "metadata": {
            "tags": []
          },
          "execution_count": 88
        }
      ]
    },
    {
      "cell_type": "markdown",
      "metadata": {
        "id": "pe5zIma_pK53"
      },
      "source": [
        "##Quiz1 ลบ column ที่มีค่า correlation เป็น 1 เมื่อเทียบกับ column อื่น"
      ]
    },
    {
      "cell_type": "code",
      "metadata": {
        "colab": {
          "base_uri": "https://localhost:8080/",
          "height": 419
        },
        "id": "abig760sqE1r",
        "outputId": "4a1b0ae9-72d5-4e56-8334-3519b8a1a8bc"
      },
      "source": [
        "newdata_dropped = newdata.drop(['VitE_mg','Niacin_mg','Riboflavin_mg','Thiamin_mg','Magnesium_mg','Phosphorus_mg','Zinc_mg'], axis=1)\r\n",
        "newdata_dropped"
      ],
      "execution_count": 89,
      "outputs": [
        {
          "output_type": "execute_result",
          "data": {
            "text/html": [
              "<div>\n",
              "<style scoped>\n",
              "    .dataframe tbody tr th:only-of-type {\n",
              "        vertical-align: middle;\n",
              "    }\n",
              "\n",
              "    .dataframe tbody tr th {\n",
              "        vertical-align: top;\n",
              "    }\n",
              "\n",
              "    .dataframe thead th {\n",
              "        text-align: right;\n",
              "    }\n",
              "</style>\n",
              "<table border=\"1\" class=\"dataframe\">\n",
              "  <thead>\n",
              "    <tr style=\"text-align: right;\">\n",
              "      <th></th>\n",
              "      <th>Energy_kcal</th>\n",
              "      <th>Protein_g</th>\n",
              "      <th>Fat_g</th>\n",
              "      <th>Carb_g</th>\n",
              "      <th>Sugar_g</th>\n",
              "      <th>Fiber_g</th>\n",
              "      <th>VitA_mcg</th>\n",
              "      <th>VitB6_mg</th>\n",
              "      <th>VitB12_mcg</th>\n",
              "      <th>VitC_mg</th>\n",
              "      <th>Folate_mcg</th>\n",
              "      <th>Calcium_mg</th>\n",
              "      <th>Copper_mcg</th>\n",
              "      <th>Iron_mg</th>\n",
              "      <th>Manganese_mg</th>\n",
              "      <th>Selenium_mcg</th>\n",
              "      <th>VitA_USRDA</th>\n",
              "      <th>VitB6_USRDA</th>\n",
              "      <th>VitB12_USRDA</th>\n",
              "      <th>VitC_USRDA</th>\n",
              "      <th>VitE_USRDA</th>\n",
              "      <th>Folate_USRDA</th>\n",
              "      <th>Niacin_USRDA</th>\n",
              "      <th>Riboflavin_USRDA</th>\n",
              "      <th>Thiamin_USRDA</th>\n",
              "      <th>Calcium_USRDA</th>\n",
              "      <th>Copper_USRDA</th>\n",
              "      <th>Magnesium_USRDA</th>\n",
              "      <th>Phosphorus_USRDA</th>\n",
              "      <th>Selenium_USRDA</th>\n",
              "      <th>Zinc_USRDA</th>\n",
              "    </tr>\n",
              "  </thead>\n",
              "  <tbody>\n",
              "    <tr>\n",
              "      <th>0</th>\n",
              "      <td>717</td>\n",
              "      <td>0.85</td>\n",
              "      <td>81.11</td>\n",
              "      <td>0.06</td>\n",
              "      <td>0.06</td>\n",
              "      <td>0.0</td>\n",
              "      <td>684</td>\n",
              "      <td>0.003</td>\n",
              "      <td>0.17</td>\n",
              "      <td>0.0</td>\n",
              "      <td>3</td>\n",
              "      <td>24</td>\n",
              "      <td>0.000</td>\n",
              "      <td>0.02</td>\n",
              "      <td>0.000</td>\n",
              "      <td>1.0</td>\n",
              "      <td>0.760000</td>\n",
              "      <td>0.001765</td>\n",
              "      <td>0.070833</td>\n",
              "      <td>0.0</td>\n",
              "      <td>0.154667</td>\n",
              "      <td>0.0075</td>\n",
              "      <td>0.002625</td>\n",
              "      <td>0.026154</td>\n",
              "      <td>0.004167</td>\n",
              "      <td>0.020000</td>\n",
              "      <td>0.000000</td>\n",
              "      <td>0.004762</td>\n",
              "      <td>0.034286</td>\n",
              "      <td>0.018182</td>\n",
              "      <td>0.008182</td>\n",
              "    </tr>\n",
              "    <tr>\n",
              "      <th>1</th>\n",
              "      <td>717</td>\n",
              "      <td>0.85</td>\n",
              "      <td>81.11</td>\n",
              "      <td>0.06</td>\n",
              "      <td>0.06</td>\n",
              "      <td>0.0</td>\n",
              "      <td>684</td>\n",
              "      <td>0.003</td>\n",
              "      <td>0.13</td>\n",
              "      <td>0.0</td>\n",
              "      <td>3</td>\n",
              "      <td>24</td>\n",
              "      <td>0.016</td>\n",
              "      <td>0.16</td>\n",
              "      <td>0.004</td>\n",
              "      <td>1.0</td>\n",
              "      <td>0.760000</td>\n",
              "      <td>0.001765</td>\n",
              "      <td>0.054167</td>\n",
              "      <td>0.0</td>\n",
              "      <td>0.154667</td>\n",
              "      <td>0.0075</td>\n",
              "      <td>0.002625</td>\n",
              "      <td>0.026154</td>\n",
              "      <td>0.004167</td>\n",
              "      <td>0.020000</td>\n",
              "      <td>0.000018</td>\n",
              "      <td>0.004762</td>\n",
              "      <td>0.032857</td>\n",
              "      <td>0.018182</td>\n",
              "      <td>0.004545</td>\n",
              "    </tr>\n",
              "    <tr>\n",
              "      <th>2</th>\n",
              "      <td>876</td>\n",
              "      <td>0.28</td>\n",
              "      <td>99.48</td>\n",
              "      <td>0.00</td>\n",
              "      <td>0.00</td>\n",
              "      <td>0.0</td>\n",
              "      <td>840</td>\n",
              "      <td>0.001</td>\n",
              "      <td>0.01</td>\n",
              "      <td>0.0</td>\n",
              "      <td>0</td>\n",
              "      <td>4</td>\n",
              "      <td>0.001</td>\n",
              "      <td>0.00</td>\n",
              "      <td>0.000</td>\n",
              "      <td>0.0</td>\n",
              "      <td>0.933333</td>\n",
              "      <td>0.000588</td>\n",
              "      <td>0.004167</td>\n",
              "      <td>0.0</td>\n",
              "      <td>0.186667</td>\n",
              "      <td>0.0000</td>\n",
              "      <td>0.000188</td>\n",
              "      <td>0.003846</td>\n",
              "      <td>0.000833</td>\n",
              "      <td>0.003333</td>\n",
              "      <td>0.000001</td>\n",
              "      <td>0.000000</td>\n",
              "      <td>0.004286</td>\n",
              "      <td>0.000000</td>\n",
              "      <td>0.000909</td>\n",
              "    </tr>\n",
              "    <tr>\n",
              "      <th>3</th>\n",
              "      <td>353</td>\n",
              "      <td>21.40</td>\n",
              "      <td>28.74</td>\n",
              "      <td>2.34</td>\n",
              "      <td>0.50</td>\n",
              "      <td>0.0</td>\n",
              "      <td>198</td>\n",
              "      <td>0.166</td>\n",
              "      <td>1.22</td>\n",
              "      <td>0.0</td>\n",
              "      <td>36</td>\n",
              "      <td>528</td>\n",
              "      <td>0.040</td>\n",
              "      <td>0.31</td>\n",
              "      <td>0.009</td>\n",
              "      <td>14.5</td>\n",
              "      <td>0.220000</td>\n",
              "      <td>0.097647</td>\n",
              "      <td>0.508333</td>\n",
              "      <td>0.0</td>\n",
              "      <td>0.016667</td>\n",
              "      <td>0.0900</td>\n",
              "      <td>0.063500</td>\n",
              "      <td>0.293846</td>\n",
              "      <td>0.024167</td>\n",
              "      <td>0.440000</td>\n",
              "      <td>0.000044</td>\n",
              "      <td>0.054762</td>\n",
              "      <td>0.552857</td>\n",
              "      <td>0.263636</td>\n",
              "      <td>0.241818</td>\n",
              "    </tr>\n",
              "    <tr>\n",
              "      <th>4</th>\n",
              "      <td>371</td>\n",
              "      <td>23.24</td>\n",
              "      <td>29.68</td>\n",
              "      <td>2.79</td>\n",
              "      <td>0.51</td>\n",
              "      <td>0.0</td>\n",
              "      <td>292</td>\n",
              "      <td>0.065</td>\n",
              "      <td>1.26</td>\n",
              "      <td>0.0</td>\n",
              "      <td>20</td>\n",
              "      <td>674</td>\n",
              "      <td>0.024</td>\n",
              "      <td>0.43</td>\n",
              "      <td>0.012</td>\n",
              "      <td>14.5</td>\n",
              "      <td>0.324444</td>\n",
              "      <td>0.038235</td>\n",
              "      <td>0.525000</td>\n",
              "      <td>0.0</td>\n",
              "      <td>0.017333</td>\n",
              "      <td>0.0500</td>\n",
              "      <td>0.007375</td>\n",
              "      <td>0.270000</td>\n",
              "      <td>0.011667</td>\n",
              "      <td>0.561667</td>\n",
              "      <td>0.000027</td>\n",
              "      <td>0.057143</td>\n",
              "      <td>0.644286</td>\n",
              "      <td>0.263636</td>\n",
              "      <td>0.236364</td>\n",
              "    </tr>\n",
              "    <tr>\n",
              "      <th>...</th>\n",
              "      <td>...</td>\n",
              "      <td>...</td>\n",
              "      <td>...</td>\n",
              "      <td>...</td>\n",
              "      <td>...</td>\n",
              "      <td>...</td>\n",
              "      <td>...</td>\n",
              "      <td>...</td>\n",
              "      <td>...</td>\n",
              "      <td>...</td>\n",
              "      <td>...</td>\n",
              "      <td>...</td>\n",
              "      <td>...</td>\n",
              "      <td>...</td>\n",
              "      <td>...</td>\n",
              "      <td>...</td>\n",
              "      <td>...</td>\n",
              "      <td>...</td>\n",
              "      <td>...</td>\n",
              "      <td>...</td>\n",
              "      <td>...</td>\n",
              "      <td>...</td>\n",
              "      <td>...</td>\n",
              "      <td>...</td>\n",
              "      <td>...</td>\n",
              "      <td>...</td>\n",
              "      <td>...</td>\n",
              "      <td>...</td>\n",
              "      <td>...</td>\n",
              "      <td>...</td>\n",
              "      <td>...</td>\n",
              "    </tr>\n",
              "    <tr>\n",
              "      <th>8613</th>\n",
              "      <td>305</td>\n",
              "      <td>18.50</td>\n",
              "      <td>25.10</td>\n",
              "      <td>0.00</td>\n",
              "      <td>0.00</td>\n",
              "      <td>0.0</td>\n",
              "      <td>47</td>\n",
              "      <td>0.410</td>\n",
              "      <td>12.00</td>\n",
              "      <td>0.0</td>\n",
              "      <td>15</td>\n",
              "      <td>66</td>\n",
              "      <td>0.100</td>\n",
              "      <td>1.40</td>\n",
              "      <td>0.000</td>\n",
              "      <td>73.4</td>\n",
              "      <td>0.052222</td>\n",
              "      <td>0.241176</td>\n",
              "      <td>5.000000</td>\n",
              "      <td>0.0</td>\n",
              "      <td>0.158667</td>\n",
              "      <td>0.0375</td>\n",
              "      <td>0.206250</td>\n",
              "      <td>0.146154</td>\n",
              "      <td>0.016667</td>\n",
              "      <td>0.055000</td>\n",
              "      <td>0.000111</td>\n",
              "      <td>0.142857</td>\n",
              "      <td>0.362857</td>\n",
              "      <td>1.334545</td>\n",
              "      <td>0.100000</td>\n",
              "    </tr>\n",
              "    <tr>\n",
              "      <th>8614</th>\n",
              "      <td>111</td>\n",
              "      <td>20.54</td>\n",
              "      <td>0.84</td>\n",
              "      <td>5.41</td>\n",
              "      <td>0.00</td>\n",
              "      <td>0.0</td>\n",
              "      <td>2</td>\n",
              "      <td>0.112</td>\n",
              "      <td>2.15</td>\n",
              "      <td>0.0</td>\n",
              "      <td>20</td>\n",
              "      <td>10</td>\n",
              "      <td>0.033</td>\n",
              "      <td>0.58</td>\n",
              "      <td>0.029</td>\n",
              "      <td>21.7</td>\n",
              "      <td>0.002222</td>\n",
              "      <td>0.065882</td>\n",
              "      <td>0.895833</td>\n",
              "      <td>0.0</td>\n",
              "      <td>0.000000</td>\n",
              "      <td>0.0500</td>\n",
              "      <td>0.067250</td>\n",
              "      <td>0.018462</td>\n",
              "      <td>0.010000</td>\n",
              "      <td>0.008333</td>\n",
              "      <td>0.000037</td>\n",
              "      <td>0.088095</td>\n",
              "      <td>0.608571</td>\n",
              "      <td>0.394545</td>\n",
              "      <td>0.140909</td>\n",
              "    </tr>\n",
              "    <tr>\n",
              "      <th>8615</th>\n",
              "      <td>269</td>\n",
              "      <td>0.00</td>\n",
              "      <td>0.00</td>\n",
              "      <td>73.14</td>\n",
              "      <td>73.20</td>\n",
              "      <td>0.0</td>\n",
              "      <td>0</td>\n",
              "      <td>0.000</td>\n",
              "      <td>0.00</td>\n",
              "      <td>0.0</td>\n",
              "      <td>0</td>\n",
              "      <td>13</td>\n",
              "      <td>0.020</td>\n",
              "      <td>3.60</td>\n",
              "      <td>0.000</td>\n",
              "      <td>0.7</td>\n",
              "      <td>0.000000</td>\n",
              "      <td>0.000000</td>\n",
              "      <td>0.000000</td>\n",
              "      <td>0.0</td>\n",
              "      <td>0.000000</td>\n",
              "      <td>0.0000</td>\n",
              "      <td>0.006250</td>\n",
              "      <td>0.046154</td>\n",
              "      <td>0.108333</td>\n",
              "      <td>0.010833</td>\n",
              "      <td>0.000022</td>\n",
              "      <td>0.023810</td>\n",
              "      <td>0.011429</td>\n",
              "      <td>0.012727</td>\n",
              "      <td>0.017273</td>\n",
              "    </tr>\n",
              "    <tr>\n",
              "      <th>8616</th>\n",
              "      <td>90</td>\n",
              "      <td>16.10</td>\n",
              "      <td>1.40</td>\n",
              "      <td>2.00</td>\n",
              "      <td>0.00</td>\n",
              "      <td>0.0</td>\n",
              "      <td>30</td>\n",
              "      <td>0.130</td>\n",
              "      <td>0.50</td>\n",
              "      <td>0.0</td>\n",
              "      <td>6</td>\n",
              "      <td>10</td>\n",
              "      <td>0.400</td>\n",
              "      <td>3.50</td>\n",
              "      <td>0.000</td>\n",
              "      <td>27.4</td>\n",
              "      <td>0.033333</td>\n",
              "      <td>0.076471</td>\n",
              "      <td>0.208333</td>\n",
              "      <td>0.0</td>\n",
              "      <td>0.333333</td>\n",
              "      <td>0.0150</td>\n",
              "      <td>0.087500</td>\n",
              "      <td>0.092308</td>\n",
              "      <td>0.008333</td>\n",
              "      <td>0.008333</td>\n",
              "      <td>0.000444</td>\n",
              "      <td>0.595238</td>\n",
              "      <td>0.388571</td>\n",
              "      <td>0.498182</td>\n",
              "      <td>0.090909</td>\n",
              "    </tr>\n",
              "    <tr>\n",
              "      <th>8617</th>\n",
              "      <td>89</td>\n",
              "      <td>19.80</td>\n",
              "      <td>0.50</td>\n",
              "      <td>0.00</td>\n",
              "      <td>0.00</td>\n",
              "      <td>0.0</td>\n",
              "      <td>30</td>\n",
              "      <td>0.120</td>\n",
              "      <td>1.00</td>\n",
              "      <td>0.0</td>\n",
              "      <td>15</td>\n",
              "      <td>118</td>\n",
              "      <td>0.250</td>\n",
              "      <td>1.40</td>\n",
              "      <td>0.000</td>\n",
              "      <td>16.8</td>\n",
              "      <td>0.033333</td>\n",
              "      <td>0.070588</td>\n",
              "      <td>0.416667</td>\n",
              "      <td>0.0</td>\n",
              "      <td>0.033333</td>\n",
              "      <td>0.0375</td>\n",
              "      <td>0.068750</td>\n",
              "      <td>0.115385</td>\n",
              "      <td>0.100000</td>\n",
              "      <td>0.098333</td>\n",
              "      <td>0.000278</td>\n",
              "      <td>0.047619</td>\n",
              "      <td>0.257143</td>\n",
              "      <td>0.305455</td>\n",
              "      <td>0.090909</td>\n",
              "    </tr>\n",
              "  </tbody>\n",
              "</table>\n",
              "<p>8618 rows × 31 columns</p>\n",
              "</div>"
            ],
            "text/plain": [
              "      Energy_kcal  Protein_g  ...  Selenium_USRDA  Zinc_USRDA\n",
              "0             717       0.85  ...        0.018182    0.008182\n",
              "1             717       0.85  ...        0.018182    0.004545\n",
              "2             876       0.28  ...        0.000000    0.000909\n",
              "3             353      21.40  ...        0.263636    0.241818\n",
              "4             371      23.24  ...        0.263636    0.236364\n",
              "...           ...        ...  ...             ...         ...\n",
              "8613          305      18.50  ...        1.334545    0.100000\n",
              "8614          111      20.54  ...        0.394545    0.140909\n",
              "8615          269       0.00  ...        0.012727    0.017273\n",
              "8616           90      16.10  ...        0.498182    0.090909\n",
              "8617           89      19.80  ...        0.305455    0.090909\n",
              "\n",
              "[8618 rows x 31 columns]"
            ]
          },
          "metadata": {
            "tags": []
          },
          "execution_count": 89
        }
      ]
    },
    {
      "cell_type": "code",
      "metadata": {
        "colab": {
          "base_uri": "https://localhost:8080/",
          "height": 723
        },
        "id": "li8UCCoJwTeW",
        "outputId": "ddf91983-d93f-4a9b-8250-5c64790877dd"
      },
      "source": [
        "data_dropped = data.drop(['ID','ShortDescrip','Descrip','CommonName','MfgName','ScientificName','VitE_mg','Niacin_mg','Riboflavin_mg','Thiamin_mg','Magnesium_mg','Phosphorus_mg','Zinc_mg'], axis=1)\r\n",
        "data_dropped"
      ],
      "execution_count": 90,
      "outputs": [
        {
          "output_type": "execute_result",
          "data": {
            "text/html": [
              "<div>\n",
              "<style scoped>\n",
              "    .dataframe tbody tr th:only-of-type {\n",
              "        vertical-align: middle;\n",
              "    }\n",
              "\n",
              "    .dataframe tbody tr th {\n",
              "        vertical-align: top;\n",
              "    }\n",
              "\n",
              "    .dataframe thead th {\n",
              "        text-align: right;\n",
              "    }\n",
              "</style>\n",
              "<table border=\"1\" class=\"dataframe\">\n",
              "  <thead>\n",
              "    <tr style=\"text-align: right;\">\n",
              "      <th></th>\n",
              "      <th>FoodGroup</th>\n",
              "      <th>Energy_kcal</th>\n",
              "      <th>Protein_g</th>\n",
              "      <th>Fat_g</th>\n",
              "      <th>Carb_g</th>\n",
              "      <th>Sugar_g</th>\n",
              "      <th>Fiber_g</th>\n",
              "      <th>VitA_mcg</th>\n",
              "      <th>VitB6_mg</th>\n",
              "      <th>VitB12_mcg</th>\n",
              "      <th>VitC_mg</th>\n",
              "      <th>Folate_mcg</th>\n",
              "      <th>Calcium_mg</th>\n",
              "      <th>Copper_mcg</th>\n",
              "      <th>Iron_mg</th>\n",
              "      <th>Manganese_mg</th>\n",
              "      <th>Selenium_mcg</th>\n",
              "      <th>VitA_USRDA</th>\n",
              "      <th>VitB6_USRDA</th>\n",
              "      <th>VitB12_USRDA</th>\n",
              "      <th>VitC_USRDA</th>\n",
              "      <th>VitE_USRDA</th>\n",
              "      <th>Folate_USRDA</th>\n",
              "      <th>Niacin_USRDA</th>\n",
              "      <th>Riboflavin_USRDA</th>\n",
              "      <th>Thiamin_USRDA</th>\n",
              "      <th>Calcium_USRDA</th>\n",
              "      <th>Copper_USRDA</th>\n",
              "      <th>Magnesium_USRDA</th>\n",
              "      <th>Phosphorus_USRDA</th>\n",
              "      <th>Selenium_USRDA</th>\n",
              "      <th>Zinc_USRDA</th>\n",
              "    </tr>\n",
              "  </thead>\n",
              "  <tbody>\n",
              "    <tr>\n",
              "      <th>0</th>\n",
              "      <td>Dairy and Egg Products</td>\n",
              "      <td>717</td>\n",
              "      <td>0.85</td>\n",
              "      <td>81.11</td>\n",
              "      <td>0.06</td>\n",
              "      <td>0.06</td>\n",
              "      <td>0.0</td>\n",
              "      <td>684</td>\n",
              "      <td>0.003</td>\n",
              "      <td>0.17</td>\n",
              "      <td>0.0</td>\n",
              "      <td>3</td>\n",
              "      <td>24</td>\n",
              "      <td>0.000</td>\n",
              "      <td>0.02</td>\n",
              "      <td>0.000</td>\n",
              "      <td>1.0</td>\n",
              "      <td>0.760000</td>\n",
              "      <td>0.001765</td>\n",
              "      <td>0.070833</td>\n",
              "      <td>0.0</td>\n",
              "      <td>0.154667</td>\n",
              "      <td>0.0075</td>\n",
              "      <td>0.002625</td>\n",
              "      <td>0.026154</td>\n",
              "      <td>0.004167</td>\n",
              "      <td>0.020000</td>\n",
              "      <td>0.000000</td>\n",
              "      <td>0.004762</td>\n",
              "      <td>0.034286</td>\n",
              "      <td>0.018182</td>\n",
              "      <td>0.008182</td>\n",
              "    </tr>\n",
              "    <tr>\n",
              "      <th>1</th>\n",
              "      <td>Dairy and Egg Products</td>\n",
              "      <td>717</td>\n",
              "      <td>0.85</td>\n",
              "      <td>81.11</td>\n",
              "      <td>0.06</td>\n",
              "      <td>0.06</td>\n",
              "      <td>0.0</td>\n",
              "      <td>684</td>\n",
              "      <td>0.003</td>\n",
              "      <td>0.13</td>\n",
              "      <td>0.0</td>\n",
              "      <td>3</td>\n",
              "      <td>24</td>\n",
              "      <td>0.016</td>\n",
              "      <td>0.16</td>\n",
              "      <td>0.004</td>\n",
              "      <td>1.0</td>\n",
              "      <td>0.760000</td>\n",
              "      <td>0.001765</td>\n",
              "      <td>0.054167</td>\n",
              "      <td>0.0</td>\n",
              "      <td>0.154667</td>\n",
              "      <td>0.0075</td>\n",
              "      <td>0.002625</td>\n",
              "      <td>0.026154</td>\n",
              "      <td>0.004167</td>\n",
              "      <td>0.020000</td>\n",
              "      <td>0.000018</td>\n",
              "      <td>0.004762</td>\n",
              "      <td>0.032857</td>\n",
              "      <td>0.018182</td>\n",
              "      <td>0.004545</td>\n",
              "    </tr>\n",
              "    <tr>\n",
              "      <th>2</th>\n",
              "      <td>Dairy and Egg Products</td>\n",
              "      <td>876</td>\n",
              "      <td>0.28</td>\n",
              "      <td>99.48</td>\n",
              "      <td>0.00</td>\n",
              "      <td>0.00</td>\n",
              "      <td>0.0</td>\n",
              "      <td>840</td>\n",
              "      <td>0.001</td>\n",
              "      <td>0.01</td>\n",
              "      <td>0.0</td>\n",
              "      <td>0</td>\n",
              "      <td>4</td>\n",
              "      <td>0.001</td>\n",
              "      <td>0.00</td>\n",
              "      <td>0.000</td>\n",
              "      <td>0.0</td>\n",
              "      <td>0.933333</td>\n",
              "      <td>0.000588</td>\n",
              "      <td>0.004167</td>\n",
              "      <td>0.0</td>\n",
              "      <td>0.186667</td>\n",
              "      <td>0.0000</td>\n",
              "      <td>0.000188</td>\n",
              "      <td>0.003846</td>\n",
              "      <td>0.000833</td>\n",
              "      <td>0.003333</td>\n",
              "      <td>0.000001</td>\n",
              "      <td>0.000000</td>\n",
              "      <td>0.004286</td>\n",
              "      <td>0.000000</td>\n",
              "      <td>0.000909</td>\n",
              "    </tr>\n",
              "    <tr>\n",
              "      <th>3</th>\n",
              "      <td>Dairy and Egg Products</td>\n",
              "      <td>353</td>\n",
              "      <td>21.40</td>\n",
              "      <td>28.74</td>\n",
              "      <td>2.34</td>\n",
              "      <td>0.50</td>\n",
              "      <td>0.0</td>\n",
              "      <td>198</td>\n",
              "      <td>0.166</td>\n",
              "      <td>1.22</td>\n",
              "      <td>0.0</td>\n",
              "      <td>36</td>\n",
              "      <td>528</td>\n",
              "      <td>0.040</td>\n",
              "      <td>0.31</td>\n",
              "      <td>0.009</td>\n",
              "      <td>14.5</td>\n",
              "      <td>0.220000</td>\n",
              "      <td>0.097647</td>\n",
              "      <td>0.508333</td>\n",
              "      <td>0.0</td>\n",
              "      <td>0.016667</td>\n",
              "      <td>0.0900</td>\n",
              "      <td>0.063500</td>\n",
              "      <td>0.293846</td>\n",
              "      <td>0.024167</td>\n",
              "      <td>0.440000</td>\n",
              "      <td>0.000044</td>\n",
              "      <td>0.054762</td>\n",
              "      <td>0.552857</td>\n",
              "      <td>0.263636</td>\n",
              "      <td>0.241818</td>\n",
              "    </tr>\n",
              "    <tr>\n",
              "      <th>4</th>\n",
              "      <td>Dairy and Egg Products</td>\n",
              "      <td>371</td>\n",
              "      <td>23.24</td>\n",
              "      <td>29.68</td>\n",
              "      <td>2.79</td>\n",
              "      <td>0.51</td>\n",
              "      <td>0.0</td>\n",
              "      <td>292</td>\n",
              "      <td>0.065</td>\n",
              "      <td>1.26</td>\n",
              "      <td>0.0</td>\n",
              "      <td>20</td>\n",
              "      <td>674</td>\n",
              "      <td>0.024</td>\n",
              "      <td>0.43</td>\n",
              "      <td>0.012</td>\n",
              "      <td>14.5</td>\n",
              "      <td>0.324444</td>\n",
              "      <td>0.038235</td>\n",
              "      <td>0.525000</td>\n",
              "      <td>0.0</td>\n",
              "      <td>0.017333</td>\n",
              "      <td>0.0500</td>\n",
              "      <td>0.007375</td>\n",
              "      <td>0.270000</td>\n",
              "      <td>0.011667</td>\n",
              "      <td>0.561667</td>\n",
              "      <td>0.000027</td>\n",
              "      <td>0.057143</td>\n",
              "      <td>0.644286</td>\n",
              "      <td>0.263636</td>\n",
              "      <td>0.236364</td>\n",
              "    </tr>\n",
              "    <tr>\n",
              "      <th>...</th>\n",
              "      <td>...</td>\n",
              "      <td>...</td>\n",
              "      <td>...</td>\n",
              "      <td>...</td>\n",
              "      <td>...</td>\n",
              "      <td>...</td>\n",
              "      <td>...</td>\n",
              "      <td>...</td>\n",
              "      <td>...</td>\n",
              "      <td>...</td>\n",
              "      <td>...</td>\n",
              "      <td>...</td>\n",
              "      <td>...</td>\n",
              "      <td>...</td>\n",
              "      <td>...</td>\n",
              "      <td>...</td>\n",
              "      <td>...</td>\n",
              "      <td>...</td>\n",
              "      <td>...</td>\n",
              "      <td>...</td>\n",
              "      <td>...</td>\n",
              "      <td>...</td>\n",
              "      <td>...</td>\n",
              "      <td>...</td>\n",
              "      <td>...</td>\n",
              "      <td>...</td>\n",
              "      <td>...</td>\n",
              "      <td>...</td>\n",
              "      <td>...</td>\n",
              "      <td>...</td>\n",
              "      <td>...</td>\n",
              "      <td>...</td>\n",
              "    </tr>\n",
              "    <tr>\n",
              "      <th>8613</th>\n",
              "      <td>Finfish and Shellfish Products</td>\n",
              "      <td>305</td>\n",
              "      <td>18.50</td>\n",
              "      <td>25.10</td>\n",
              "      <td>0.00</td>\n",
              "      <td>0.00</td>\n",
              "      <td>0.0</td>\n",
              "      <td>47</td>\n",
              "      <td>0.410</td>\n",
              "      <td>12.00</td>\n",
              "      <td>0.0</td>\n",
              "      <td>15</td>\n",
              "      <td>66</td>\n",
              "      <td>0.100</td>\n",
              "      <td>1.40</td>\n",
              "      <td>0.000</td>\n",
              "      <td>73.4</td>\n",
              "      <td>0.052222</td>\n",
              "      <td>0.241176</td>\n",
              "      <td>5.000000</td>\n",
              "      <td>0.0</td>\n",
              "      <td>0.158667</td>\n",
              "      <td>0.0375</td>\n",
              "      <td>0.206250</td>\n",
              "      <td>0.146154</td>\n",
              "      <td>0.016667</td>\n",
              "      <td>0.055000</td>\n",
              "      <td>0.000111</td>\n",
              "      <td>0.142857</td>\n",
              "      <td>0.362857</td>\n",
              "      <td>1.334545</td>\n",
              "      <td>0.100000</td>\n",
              "    </tr>\n",
              "    <tr>\n",
              "      <th>8614</th>\n",
              "      <td>Finfish and Shellfish Products</td>\n",
              "      <td>111</td>\n",
              "      <td>20.54</td>\n",
              "      <td>0.84</td>\n",
              "      <td>5.41</td>\n",
              "      <td>0.00</td>\n",
              "      <td>0.0</td>\n",
              "      <td>2</td>\n",
              "      <td>0.112</td>\n",
              "      <td>2.15</td>\n",
              "      <td>0.0</td>\n",
              "      <td>20</td>\n",
              "      <td>10</td>\n",
              "      <td>0.033</td>\n",
              "      <td>0.58</td>\n",
              "      <td>0.029</td>\n",
              "      <td>21.7</td>\n",
              "      <td>0.002222</td>\n",
              "      <td>0.065882</td>\n",
              "      <td>0.895833</td>\n",
              "      <td>0.0</td>\n",
              "      <td>0.000000</td>\n",
              "      <td>0.0500</td>\n",
              "      <td>0.067250</td>\n",
              "      <td>0.018462</td>\n",
              "      <td>0.010000</td>\n",
              "      <td>0.008333</td>\n",
              "      <td>0.000037</td>\n",
              "      <td>0.088095</td>\n",
              "      <td>0.608571</td>\n",
              "      <td>0.394545</td>\n",
              "      <td>0.140909</td>\n",
              "    </tr>\n",
              "    <tr>\n",
              "      <th>8615</th>\n",
              "      <td>Sweets</td>\n",
              "      <td>269</td>\n",
              "      <td>0.00</td>\n",
              "      <td>0.00</td>\n",
              "      <td>73.14</td>\n",
              "      <td>73.20</td>\n",
              "      <td>0.0</td>\n",
              "      <td>0</td>\n",
              "      <td>0.000</td>\n",
              "      <td>0.00</td>\n",
              "      <td>0.0</td>\n",
              "      <td>0</td>\n",
              "      <td>13</td>\n",
              "      <td>0.020</td>\n",
              "      <td>3.60</td>\n",
              "      <td>0.000</td>\n",
              "      <td>0.7</td>\n",
              "      <td>0.000000</td>\n",
              "      <td>0.000000</td>\n",
              "      <td>0.000000</td>\n",
              "      <td>0.0</td>\n",
              "      <td>0.000000</td>\n",
              "      <td>0.0000</td>\n",
              "      <td>0.006250</td>\n",
              "      <td>0.046154</td>\n",
              "      <td>0.108333</td>\n",
              "      <td>0.010833</td>\n",
              "      <td>0.000022</td>\n",
              "      <td>0.023810</td>\n",
              "      <td>0.011429</td>\n",
              "      <td>0.012727</td>\n",
              "      <td>0.017273</td>\n",
              "    </tr>\n",
              "    <tr>\n",
              "      <th>8616</th>\n",
              "      <td>Finfish and Shellfish Products</td>\n",
              "      <td>90</td>\n",
              "      <td>16.10</td>\n",
              "      <td>1.40</td>\n",
              "      <td>2.00</td>\n",
              "      <td>0.00</td>\n",
              "      <td>0.0</td>\n",
              "      <td>30</td>\n",
              "      <td>0.130</td>\n",
              "      <td>0.50</td>\n",
              "      <td>0.0</td>\n",
              "      <td>6</td>\n",
              "      <td>10</td>\n",
              "      <td>0.400</td>\n",
              "      <td>3.50</td>\n",
              "      <td>0.000</td>\n",
              "      <td>27.4</td>\n",
              "      <td>0.033333</td>\n",
              "      <td>0.076471</td>\n",
              "      <td>0.208333</td>\n",
              "      <td>0.0</td>\n",
              "      <td>0.333333</td>\n",
              "      <td>0.0150</td>\n",
              "      <td>0.087500</td>\n",
              "      <td>0.092308</td>\n",
              "      <td>0.008333</td>\n",
              "      <td>0.008333</td>\n",
              "      <td>0.000444</td>\n",
              "      <td>0.595238</td>\n",
              "      <td>0.388571</td>\n",
              "      <td>0.498182</td>\n",
              "      <td>0.090909</td>\n",
              "    </tr>\n",
              "    <tr>\n",
              "      <th>8617</th>\n",
              "      <td>Finfish and Shellfish Products</td>\n",
              "      <td>89</td>\n",
              "      <td>19.80</td>\n",
              "      <td>0.50</td>\n",
              "      <td>0.00</td>\n",
              "      <td>0.00</td>\n",
              "      <td>0.0</td>\n",
              "      <td>30</td>\n",
              "      <td>0.120</td>\n",
              "      <td>1.00</td>\n",
              "      <td>0.0</td>\n",
              "      <td>15</td>\n",
              "      <td>118</td>\n",
              "      <td>0.250</td>\n",
              "      <td>1.40</td>\n",
              "      <td>0.000</td>\n",
              "      <td>16.8</td>\n",
              "      <td>0.033333</td>\n",
              "      <td>0.070588</td>\n",
              "      <td>0.416667</td>\n",
              "      <td>0.0</td>\n",
              "      <td>0.033333</td>\n",
              "      <td>0.0375</td>\n",
              "      <td>0.068750</td>\n",
              "      <td>0.115385</td>\n",
              "      <td>0.100000</td>\n",
              "      <td>0.098333</td>\n",
              "      <td>0.000278</td>\n",
              "      <td>0.047619</td>\n",
              "      <td>0.257143</td>\n",
              "      <td>0.305455</td>\n",
              "      <td>0.090909</td>\n",
              "    </tr>\n",
              "  </tbody>\n",
              "</table>\n",
              "<p>8618 rows × 32 columns</p>\n",
              "</div>"
            ],
            "text/plain": [
              "                           FoodGroup  Energy_kcal  ...  Selenium_USRDA  Zinc_USRDA\n",
              "0             Dairy and Egg Products          717  ...        0.018182    0.008182\n",
              "1             Dairy and Egg Products          717  ...        0.018182    0.004545\n",
              "2             Dairy and Egg Products          876  ...        0.000000    0.000909\n",
              "3             Dairy and Egg Products          353  ...        0.263636    0.241818\n",
              "4             Dairy and Egg Products          371  ...        0.263636    0.236364\n",
              "...                              ...          ...  ...             ...         ...\n",
              "8613  Finfish and Shellfish Products          305  ...        1.334545    0.100000\n",
              "8614  Finfish and Shellfish Products          111  ...        0.394545    0.140909\n",
              "8615                          Sweets          269  ...        0.012727    0.017273\n",
              "8616  Finfish and Shellfish Products           90  ...        0.498182    0.090909\n",
              "8617  Finfish and Shellfish Products           89  ...        0.305455    0.090909\n",
              "\n",
              "[8618 rows x 32 columns]"
            ]
          },
          "metadata": {
            "tags": []
          },
          "execution_count": 90
        }
      ]
    },
    {
      "cell_type": "markdown",
      "metadata": {
        "id": "AttALccW6D8D"
      },
      "source": [
        "###ทดลอง plot กราฟ parallel coordinate"
      ]
    },
    {
      "cell_type": "code",
      "metadata": {
        "colab": {
          "base_uri": "https://localhost:8080/",
          "height": 431
        },
        "id": "qTLY1nQRxIgd",
        "outputId": "96214fa8-fd2e-4997-e045-1e0ff2fa0fad"
      },
      "source": [
        "pd.plotting.parallel_coordinates(data_dropped,'FoodGroup',cols=['Protein_g','Fat_g','Carb_g','Sugar_g',\t'Fiber_g'])\r\n"
      ],
      "execution_count": 28,
      "outputs": [
        {
          "output_type": "execute_result",
          "data": {
            "text/plain": [
              "<matplotlib.axes._subplots.AxesSubplot at 0x7f5a2e826f90>"
            ]
          },
          "metadata": {
            "tags": []
          },
          "execution_count": 28
        },
        {
          "output_type": "display_data",
          "data": {
            "image/png": "[encoded data removed]",
            "text/plain": [
              "<Figure size 432x288 with 1 Axes>"
            ]
          },
          "metadata": {
            "tags": [],
            "needs_background": "light"
          }
        }
      ]
    },
    {
      "cell_type": "markdown",
      "metadata": {
        "id": "4Kox7hC2zZ-6"
      },
      "source": [
        "##ทำ PCA เพื่อลดจำนวน Dimension ของข้อมูล"
      ]
    },
    {
      "cell_type": "code",
      "metadata": {
        "id": "bVmg9N9zzUuG"
      },
      "source": [
        "from sklearn.decomposition import PCA"
      ],
      "execution_count": 91,
      "outputs": []
    },
    {
      "cell_type": "code",
      "metadata": {
        "id": "-EF0cxhAz1MJ"
      },
      "source": [
        "pca = PCA(n_components=2)"
      ],
      "execution_count": 92,
      "outputs": []
    },
    {
      "cell_type": "code",
      "metadata": {
        "id": "3D_ApDJhz71B"
      },
      "source": [
        "new_pca = pca.fit_transform(newdata_dropped.to_numpy())"
      ],
      "execution_count": 93,
      "outputs": []
    },
    {
      "cell_type": "code",
      "metadata": {
        "colab": {
          "base_uri": "https://localhost:8080/"
        },
        "id": "BUI02w1N0c6N",
        "outputId": "6120777c-2da0-467f-8b71-1886d00cf19a"
      },
      "source": [
        "new_pca.shape"
      ],
      "execution_count": 94,
      "outputs": [
        {
          "output_type": "execute_result",
          "data": {
            "text/plain": [
              "(8618, 2)"
            ]
          },
          "metadata": {
            "tags": []
          },
          "execution_count": 94
        }
      ]
    },
    {
      "cell_type": "code",
      "metadata": {
        "colab": {
          "base_uri": "https://localhost:8080/"
        },
        "id": "dPMH3DB92wYV",
        "outputId": "9e1e36d4-7310-45e9-d97d-83f023804878"
      },
      "source": [
        "new_pca"
      ],
      "execution_count": 95,
      "outputs": [
        {
          "output_type": "execute_result",
          "data": {
            "text/plain": [
              "array([[ 590.95286674,   85.56968946],\n",
              "       [ 590.95284476,   85.57159456],\n",
              "       [ 747.5994042 ,  117.79120834],\n",
              "       ...,\n",
              "       [ -95.72739188,  -53.51885094],\n",
              "       [ -66.70492177, -118.10632681],\n",
              "       [ -65.40356382,  -28.88067151]])"
            ]
          },
          "metadata": {
            "tags": []
          },
          "execution_count": 95
        }
      ]
    },
    {
      "cell_type": "markdown",
      "metadata": {
        "id": "MFT5psHw2zCR"
      },
      "source": [
        "###ดูว่ามี food group อะไรบ้าง"
      ]
    },
    {
      "cell_type": "code",
      "metadata": {
        "colab": {
          "base_uri": "https://localhost:8080/"
        },
        "id": "320t5Z5d06w-",
        "outputId": "5cb7e297-2e8e-4116-8d7f-c7d792865bdc"
      },
      "source": [
        "FG = set(data['FoodGroup'])\r\n",
        "FG"
      ],
      "execution_count": 101,
      "outputs": [
        {
          "output_type": "execute_result",
          "data": {
            "text/plain": [
              "{'American Indian/Alaska Native Foods',\n",
              " 'Baby Foods',\n",
              " 'Baked Products',\n",
              " 'Beef Products',\n",
              " 'Beverages',\n",
              " 'Breakfast Cereals',\n",
              " 'Cereal Grains and Pasta',\n",
              " 'Dairy and Egg Products',\n",
              " 'Fast Foods',\n",
              " 'Fats and Oils',\n",
              " 'Finfish and Shellfish Products',\n",
              " 'Fruits and Fruit Juices',\n",
              " 'Lamb, Veal, and Game Products',\n",
              " 'Legumes and Legume Products',\n",
              " 'Meals, Entrees, and Side Dishes',\n",
              " 'Nut and Seed Products',\n",
              " 'Pork Products',\n",
              " 'Poultry Products',\n",
              " 'Restaurant Foods',\n",
              " 'Sausages and Luncheon Meats',\n",
              " 'Snacks',\n",
              " 'Soups, Sauces, and Gravies',\n",
              " 'Spices and Herbs',\n",
              " 'Sweets',\n",
              " 'Vegetables and Vegetable Products'}"
            ]
          },
          "metadata": {
            "tags": []
          },
          "execution_count": 101
        }
      ]
    },
    {
      "cell_type": "markdown",
      "metadata": {
        "id": "JEX2qBat1VcP"
      },
      "source": [
        "###สร้าง Dictionary เพื่อแทนค่าที่เป็น text ให้เป็นตัวเลข เพื่อจะได้ plot สีได้"
      ]
    },
    {
      "cell_type": "markdown",
      "metadata": {
        "id": "fRaqWc_wHS9B"
      },
      "source": [
        "###สร้าง color list แบบง่าย (เมื่อรันใหม่เลขลำดับอาจเปลี่ยนแปลง)"
      ]
    },
    {
      "cell_type": "code",
      "metadata": {
        "id": "je4eMMVl0hLZ"
      },
      "source": [
        "# color_list = {}\r\n",
        "# num = 0\r\n",
        "# for each_fg in FG:\r\n",
        "#     if each_fg not in color_list:\r\n",
        "#         color_list[each_fg] = num\r\n",
        "#         num += 1"
      ],
      "execution_count": 73,
      "outputs": []
    },
    {
      "cell_type": "code",
      "metadata": {
        "id": "5DU893On2XTu"
      },
      "source": [
        "# color_list"
      ],
      "execution_count": 99,
      "outputs": []
    },
    {
      "cell_type": "markdown",
      "metadata": {
        "id": "POZ5sZ1NFKUm"
      },
      "source": [
        "### สร้าง color list แบบข้างล่างนี้ ลำดับจะไม่มีการเปลี่ยนแปลง"
      ]
    },
    {
      "cell_type": "code",
      "metadata": {
        "colab": {
          "base_uri": "https://localhost:8080/",
          "height": 231
        },
        "id": "9IMPMr8TD-NX",
        "outputId": "734cad6e-3fe0-4219-9bc8-29b6e449eb76"
      },
      "source": [
        "FG_l = list(FG)  ### แปลงเป็น list\r\n",
        "FG_l.sort() ### เรียงค่่า สมาชิกจากน้อยไปมาก\r\n",
        "color_list2 = {}\r\n",
        "num = 0\r\n",
        "for each_fg in FG_l:\r\n",
        "    if each_fg not in color_list2:\r\n",
        "        color_list2[each_fg] = num\r\n",
        "        num += 1"
      ],
      "execution_count": 102,
      "outputs": [
        {
          "output_type": "error",
          "ename": "TypeError",
          "evalue": "ignored",
          "traceback": [
            "\u001b[0;31m---------------------------------------------------------------------------\u001b[0m",
            "\u001b[0;31mTypeError\u001b[0m                                 Traceback (most recent call last)",
            "\u001b[0;32m<ipython-input-102-67fb368b2375>\u001b[0m in \u001b[0;36m<module>\u001b[0;34m()\u001b[0m\n\u001b[0;32m----> 1\u001b[0;31m \u001b[0mFG_l\u001b[0m \u001b[0;34m=\u001b[0m \u001b[0mlist\u001b[0m\u001b[0;34m(\u001b[0m\u001b[0mFG\u001b[0m\u001b[0;34m)\u001b[0m  \u001b[0;31m### แปลงเป็น list\u001b[0m\u001b[0;34m\u001b[0m\u001b[0;34m\u001b[0m\u001b[0m\n\u001b[0m\u001b[1;32m      2\u001b[0m \u001b[0mFG_l\u001b[0m\u001b[0;34m.\u001b[0m\u001b[0msort\u001b[0m\u001b[0;34m(\u001b[0m\u001b[0;34m)\u001b[0m \u001b[0;31m### เรียงค่่า สมาชิกจากน้อยไปมาก\u001b[0m\u001b[0;34m\u001b[0m\u001b[0;34m\u001b[0m\u001b[0m\n\u001b[1;32m      3\u001b[0m \u001b[0mcolor_list2\u001b[0m \u001b[0;34m=\u001b[0m \u001b[0;34m{\u001b[0m\u001b[0;34m}\u001b[0m\u001b[0;34m\u001b[0m\u001b[0;34m\u001b[0m\u001b[0m\n\u001b[1;32m      4\u001b[0m \u001b[0mnum\u001b[0m \u001b[0;34m=\u001b[0m \u001b[0;36m0\u001b[0m\u001b[0;34m\u001b[0m\u001b[0;34m\u001b[0m\u001b[0m\n\u001b[1;32m      5\u001b[0m \u001b[0;32mfor\u001b[0m \u001b[0meach_fg\u001b[0m \u001b[0;32min\u001b[0m \u001b[0mFG_l\u001b[0m\u001b[0;34m:\u001b[0m\u001b[0;34m\u001b[0m\u001b[0;34m\u001b[0m\u001b[0m\n",
            "\u001b[0;31mTypeError\u001b[0m: 'set' object is not callable"
          ]
        }
      ]
    },
    {
      "cell_type": "code",
      "metadata": {
        "colab": {
          "base_uri": "https://localhost:8080/",
          "height": 164
        },
        "id": "adgMfOuEE7C1",
        "outputId": "ff442283-2291-4598-bb0e-22be0cbfc976"
      },
      "source": [
        "color_list2"
      ],
      "execution_count": 64,
      "outputs": [
        {
          "output_type": "error",
          "ename": "NameError",
          "evalue": "ignored",
          "traceback": [
            "\u001b[0;31m---------------------------------------------------------------------------\u001b[0m",
            "\u001b[0;31mNameError\u001b[0m                                 Traceback (most recent call last)",
            "\u001b[0;32m<ipython-input-64-c983d048ba8e>\u001b[0m in \u001b[0;36m<module>\u001b[0;34m()\u001b[0m\n\u001b[0;32m----> 1\u001b[0;31m \u001b[0mcolor_list2\u001b[0m\u001b[0;34m\u001b[0m\u001b[0;34m\u001b[0m\u001b[0m\n\u001b[0m",
            "\u001b[0;31mNameError\u001b[0m: name 'color_list2' is not defined"
          ]
        }
      ]
    },
    {
      "cell_type": "markdown",
      "metadata": {
        "id": "PQZgCUaP32k4"
      },
      "source": [
        "###แทนค่า text ใน Dictionary ด้วยตัวเลขที่เรากำหนด"
      ]
    },
    {
      "cell_type": "code",
      "metadata": {
        "id": "3UNcnPyp3TDb"
      },
      "source": [
        "data_dropped2 = data_dropped.replace(color_list)\r\n"
      ],
      "execution_count": 103,
      "outputs": []
    },
    {
      "cell_type": "code",
      "metadata": {
        "colab": {
          "base_uri": "https://localhost:8080/",
          "height": 419
        },
        "id": "z2_j1sAZ3iUr",
        "outputId": "237848ad-635f-4734-b12c-37ca1be4af3b"
      },
      "source": [
        "data_dropped2\r\n"
      ],
      "execution_count": 104,
      "outputs": [
        {
          "output_type": "execute_result",
          "data": {
            "text/html": [
              "<div>\n",
              "<style scoped>\n",
              "    .dataframe tbody tr th:only-of-type {\n",
              "        vertical-align: middle;\n",
              "    }\n",
              "\n",
              "    .dataframe tbody tr th {\n",
              "        vertical-align: top;\n",
              "    }\n",
              "\n",
              "    .dataframe thead th {\n",
              "        text-align: right;\n",
              "    }\n",
              "</style>\n",
              "<table border=\"1\" class=\"dataframe\">\n",
              "  <thead>\n",
              "    <tr style=\"text-align: right;\">\n",
              "      <th></th>\n",
              "      <th>FoodGroup</th>\n",
              "      <th>Energy_kcal</th>\n",
              "      <th>Protein_g</th>\n",
              "      <th>Fat_g</th>\n",
              "      <th>Carb_g</th>\n",
              "      <th>Sugar_g</th>\n",
              "      <th>Fiber_g</th>\n",
              "      <th>VitA_mcg</th>\n",
              "      <th>VitB6_mg</th>\n",
              "      <th>VitB12_mcg</th>\n",
              "      <th>VitC_mg</th>\n",
              "      <th>Folate_mcg</th>\n",
              "      <th>Calcium_mg</th>\n",
              "      <th>Copper_mcg</th>\n",
              "      <th>Iron_mg</th>\n",
              "      <th>Manganese_mg</th>\n",
              "      <th>Selenium_mcg</th>\n",
              "      <th>VitA_USRDA</th>\n",
              "      <th>VitB6_USRDA</th>\n",
              "      <th>VitB12_USRDA</th>\n",
              "      <th>VitC_USRDA</th>\n",
              "      <th>VitE_USRDA</th>\n",
              "      <th>Folate_USRDA</th>\n",
              "      <th>Niacin_USRDA</th>\n",
              "      <th>Riboflavin_USRDA</th>\n",
              "      <th>Thiamin_USRDA</th>\n",
              "      <th>Calcium_USRDA</th>\n",
              "      <th>Copper_USRDA</th>\n",
              "      <th>Magnesium_USRDA</th>\n",
              "      <th>Phosphorus_USRDA</th>\n",
              "      <th>Selenium_USRDA</th>\n",
              "      <th>Zinc_USRDA</th>\n",
              "    </tr>\n",
              "  </thead>\n",
              "  <tbody>\n",
              "    <tr>\n",
              "      <th>0</th>\n",
              "      <td>20</td>\n",
              "      <td>717</td>\n",
              "      <td>0.85</td>\n",
              "      <td>81.11</td>\n",
              "      <td>0.06</td>\n",
              "      <td>0.06</td>\n",
              "      <td>0.0</td>\n",
              "      <td>684</td>\n",
              "      <td>0.003</td>\n",
              "      <td>0.17</td>\n",
              "      <td>0.0</td>\n",
              "      <td>3</td>\n",
              "      <td>24</td>\n",
              "      <td>0.000</td>\n",
              "      <td>0.02</td>\n",
              "      <td>0.000</td>\n",
              "      <td>1.0</td>\n",
              "      <td>0.760000</td>\n",
              "      <td>0.001765</td>\n",
              "      <td>0.070833</td>\n",
              "      <td>0.0</td>\n",
              "      <td>0.154667</td>\n",
              "      <td>0.0075</td>\n",
              "      <td>0.002625</td>\n",
              "      <td>0.026154</td>\n",
              "      <td>0.004167</td>\n",
              "      <td>0.020000</td>\n",
              "      <td>0.000000</td>\n",
              "      <td>0.004762</td>\n",
              "      <td>0.034286</td>\n",
              "      <td>0.018182</td>\n",
              "      <td>0.008182</td>\n",
              "    </tr>\n",
              "    <tr>\n",
              "      <th>1</th>\n",
              "      <td>20</td>\n",
              "      <td>717</td>\n",
              "      <td>0.85</td>\n",
              "      <td>81.11</td>\n",
              "      <td>0.06</td>\n",
              "      <td>0.06</td>\n",
              "      <td>0.0</td>\n",
              "      <td>684</td>\n",
              "      <td>0.003</td>\n",
              "      <td>0.13</td>\n",
              "      <td>0.0</td>\n",
              "      <td>3</td>\n",
              "      <td>24</td>\n",
              "      <td>0.016</td>\n",
              "      <td>0.16</td>\n",
              "      <td>0.004</td>\n",
              "      <td>1.0</td>\n",
              "      <td>0.760000</td>\n",
              "      <td>0.001765</td>\n",
              "      <td>0.054167</td>\n",
              "      <td>0.0</td>\n",
              "      <td>0.154667</td>\n",
              "      <td>0.0075</td>\n",
              "      <td>0.002625</td>\n",
              "      <td>0.026154</td>\n",
              "      <td>0.004167</td>\n",
              "      <td>0.020000</td>\n",
              "      <td>0.000018</td>\n",
              "      <td>0.004762</td>\n",
              "      <td>0.032857</td>\n",
              "      <td>0.018182</td>\n",
              "      <td>0.004545</td>\n",
              "    </tr>\n",
              "    <tr>\n",
              "      <th>2</th>\n",
              "      <td>20</td>\n",
              "      <td>876</td>\n",
              "      <td>0.28</td>\n",
              "      <td>99.48</td>\n",
              "      <td>0.00</td>\n",
              "      <td>0.00</td>\n",
              "      <td>0.0</td>\n",
              "      <td>840</td>\n",
              "      <td>0.001</td>\n",
              "      <td>0.01</td>\n",
              "      <td>0.0</td>\n",
              "      <td>0</td>\n",
              "      <td>4</td>\n",
              "      <td>0.001</td>\n",
              "      <td>0.00</td>\n",
              "      <td>0.000</td>\n",
              "      <td>0.0</td>\n",
              "      <td>0.933333</td>\n",
              "      <td>0.000588</td>\n",
              "      <td>0.004167</td>\n",
              "      <td>0.0</td>\n",
              "      <td>0.186667</td>\n",
              "      <td>0.0000</td>\n",
              "      <td>0.000188</td>\n",
              "      <td>0.003846</td>\n",
              "      <td>0.000833</td>\n",
              "      <td>0.003333</td>\n",
              "      <td>0.000001</td>\n",
              "      <td>0.000000</td>\n",
              "      <td>0.004286</td>\n",
              "      <td>0.000000</td>\n",
              "      <td>0.000909</td>\n",
              "    </tr>\n",
              "    <tr>\n",
              "      <th>3</th>\n",
              "      <td>20</td>\n",
              "      <td>353</td>\n",
              "      <td>21.40</td>\n",
              "      <td>28.74</td>\n",
              "      <td>2.34</td>\n",
              "      <td>0.50</td>\n",
              "      <td>0.0</td>\n",
              "      <td>198</td>\n",
              "      <td>0.166</td>\n",
              "      <td>1.22</td>\n",
              "      <td>0.0</td>\n",
              "      <td>36</td>\n",
              "      <td>528</td>\n",
              "      <td>0.040</td>\n",
              "      <td>0.31</td>\n",
              "      <td>0.009</td>\n",
              "      <td>14.5</td>\n",
              "      <td>0.220000</td>\n",
              "      <td>0.097647</td>\n",
              "      <td>0.508333</td>\n",
              "      <td>0.0</td>\n",
              "      <td>0.016667</td>\n",
              "      <td>0.0900</td>\n",
              "      <td>0.063500</td>\n",
              "      <td>0.293846</td>\n",
              "      <td>0.024167</td>\n",
              "      <td>0.440000</td>\n",
              "      <td>0.000044</td>\n",
              "      <td>0.054762</td>\n",
              "      <td>0.552857</td>\n",
              "      <td>0.263636</td>\n",
              "      <td>0.241818</td>\n",
              "    </tr>\n",
              "    <tr>\n",
              "      <th>4</th>\n",
              "      <td>20</td>\n",
              "      <td>371</td>\n",
              "      <td>23.24</td>\n",
              "      <td>29.68</td>\n",
              "      <td>2.79</td>\n",
              "      <td>0.51</td>\n",
              "      <td>0.0</td>\n",
              "      <td>292</td>\n",
              "      <td>0.065</td>\n",
              "      <td>1.26</td>\n",
              "      <td>0.0</td>\n",
              "      <td>20</td>\n",
              "      <td>674</td>\n",
              "      <td>0.024</td>\n",
              "      <td>0.43</td>\n",
              "      <td>0.012</td>\n",
              "      <td>14.5</td>\n",
              "      <td>0.324444</td>\n",
              "      <td>0.038235</td>\n",
              "      <td>0.525000</td>\n",
              "      <td>0.0</td>\n",
              "      <td>0.017333</td>\n",
              "      <td>0.0500</td>\n",
              "      <td>0.007375</td>\n",
              "      <td>0.270000</td>\n",
              "      <td>0.011667</td>\n",
              "      <td>0.561667</td>\n",
              "      <td>0.000027</td>\n",
              "      <td>0.057143</td>\n",
              "      <td>0.644286</td>\n",
              "      <td>0.263636</td>\n",
              "      <td>0.236364</td>\n",
              "    </tr>\n",
              "    <tr>\n",
              "      <th>...</th>\n",
              "      <td>...</td>\n",
              "      <td>...</td>\n",
              "      <td>...</td>\n",
              "      <td>...</td>\n",
              "      <td>...</td>\n",
              "      <td>...</td>\n",
              "      <td>...</td>\n",
              "      <td>...</td>\n",
              "      <td>...</td>\n",
              "      <td>...</td>\n",
              "      <td>...</td>\n",
              "      <td>...</td>\n",
              "      <td>...</td>\n",
              "      <td>...</td>\n",
              "      <td>...</td>\n",
              "      <td>...</td>\n",
              "      <td>...</td>\n",
              "      <td>...</td>\n",
              "      <td>...</td>\n",
              "      <td>...</td>\n",
              "      <td>...</td>\n",
              "      <td>...</td>\n",
              "      <td>...</td>\n",
              "      <td>...</td>\n",
              "      <td>...</td>\n",
              "      <td>...</td>\n",
              "      <td>...</td>\n",
              "      <td>...</td>\n",
              "      <td>...</td>\n",
              "      <td>...</td>\n",
              "      <td>...</td>\n",
              "      <td>...</td>\n",
              "    </tr>\n",
              "    <tr>\n",
              "      <th>8613</th>\n",
              "      <td>13</td>\n",
              "      <td>305</td>\n",
              "      <td>18.50</td>\n",
              "      <td>25.10</td>\n",
              "      <td>0.00</td>\n",
              "      <td>0.00</td>\n",
              "      <td>0.0</td>\n",
              "      <td>47</td>\n",
              "      <td>0.410</td>\n",
              "      <td>12.00</td>\n",
              "      <td>0.0</td>\n",
              "      <td>15</td>\n",
              "      <td>66</td>\n",
              "      <td>0.100</td>\n",
              "      <td>1.40</td>\n",
              "      <td>0.000</td>\n",
              "      <td>73.4</td>\n",
              "      <td>0.052222</td>\n",
              "      <td>0.241176</td>\n",
              "      <td>5.000000</td>\n",
              "      <td>0.0</td>\n",
              "      <td>0.158667</td>\n",
              "      <td>0.0375</td>\n",
              "      <td>0.206250</td>\n",
              "      <td>0.146154</td>\n",
              "      <td>0.016667</td>\n",
              "      <td>0.055000</td>\n",
              "      <td>0.000111</td>\n",
              "      <td>0.142857</td>\n",
              "      <td>0.362857</td>\n",
              "      <td>1.334545</td>\n",
              "      <td>0.100000</td>\n",
              "    </tr>\n",
              "    <tr>\n",
              "      <th>8614</th>\n",
              "      <td>13</td>\n",
              "      <td>111</td>\n",
              "      <td>20.54</td>\n",
              "      <td>0.84</td>\n",
              "      <td>5.41</td>\n",
              "      <td>0.00</td>\n",
              "      <td>0.0</td>\n",
              "      <td>2</td>\n",
              "      <td>0.112</td>\n",
              "      <td>2.15</td>\n",
              "      <td>0.0</td>\n",
              "      <td>20</td>\n",
              "      <td>10</td>\n",
              "      <td>0.033</td>\n",
              "      <td>0.58</td>\n",
              "      <td>0.029</td>\n",
              "      <td>21.7</td>\n",
              "      <td>0.002222</td>\n",
              "      <td>0.065882</td>\n",
              "      <td>0.895833</td>\n",
              "      <td>0.0</td>\n",
              "      <td>0.000000</td>\n",
              "      <td>0.0500</td>\n",
              "      <td>0.067250</td>\n",
              "      <td>0.018462</td>\n",
              "      <td>0.010000</td>\n",
              "      <td>0.008333</td>\n",
              "      <td>0.000037</td>\n",
              "      <td>0.088095</td>\n",
              "      <td>0.608571</td>\n",
              "      <td>0.394545</td>\n",
              "      <td>0.140909</td>\n",
              "    </tr>\n",
              "    <tr>\n",
              "      <th>8615</th>\n",
              "      <td>14</td>\n",
              "      <td>269</td>\n",
              "      <td>0.00</td>\n",
              "      <td>0.00</td>\n",
              "      <td>73.14</td>\n",
              "      <td>73.20</td>\n",
              "      <td>0.0</td>\n",
              "      <td>0</td>\n",
              "      <td>0.000</td>\n",
              "      <td>0.00</td>\n",
              "      <td>0.0</td>\n",
              "      <td>0</td>\n",
              "      <td>13</td>\n",
              "      <td>0.020</td>\n",
              "      <td>3.60</td>\n",
              "      <td>0.000</td>\n",
              "      <td>0.7</td>\n",
              "      <td>0.000000</td>\n",
              "      <td>0.000000</td>\n",
              "      <td>0.000000</td>\n",
              "      <td>0.0</td>\n",
              "      <td>0.000000</td>\n",
              "      <td>0.0000</td>\n",
              "      <td>0.006250</td>\n",
              "      <td>0.046154</td>\n",
              "      <td>0.108333</td>\n",
              "      <td>0.010833</td>\n",
              "      <td>0.000022</td>\n",
              "      <td>0.023810</td>\n",
              "      <td>0.011429</td>\n",
              "      <td>0.012727</td>\n",
              "      <td>0.017273</td>\n",
              "    </tr>\n",
              "    <tr>\n",
              "      <th>8616</th>\n",
              "      <td>13</td>\n",
              "      <td>90</td>\n",
              "      <td>16.10</td>\n",
              "      <td>1.40</td>\n",
              "      <td>2.00</td>\n",
              "      <td>0.00</td>\n",
              "      <td>0.0</td>\n",
              "      <td>30</td>\n",
              "      <td>0.130</td>\n",
              "      <td>0.50</td>\n",
              "      <td>0.0</td>\n",
              "      <td>6</td>\n",
              "      <td>10</td>\n",
              "      <td>0.400</td>\n",
              "      <td>3.50</td>\n",
              "      <td>0.000</td>\n",
              "      <td>27.4</td>\n",
              "      <td>0.033333</td>\n",
              "      <td>0.076471</td>\n",
              "      <td>0.208333</td>\n",
              "      <td>0.0</td>\n",
              "      <td>0.333333</td>\n",
              "      <td>0.0150</td>\n",
              "      <td>0.087500</td>\n",
              "      <td>0.092308</td>\n",
              "      <td>0.008333</td>\n",
              "      <td>0.008333</td>\n",
              "      <td>0.000444</td>\n",
              "      <td>0.595238</td>\n",
              "      <td>0.388571</td>\n",
              "      <td>0.498182</td>\n",
              "      <td>0.090909</td>\n",
              "    </tr>\n",
              "    <tr>\n",
              "      <th>8617</th>\n",
              "      <td>13</td>\n",
              "      <td>89</td>\n",
              "      <td>19.80</td>\n",
              "      <td>0.50</td>\n",
              "      <td>0.00</td>\n",
              "      <td>0.00</td>\n",
              "      <td>0.0</td>\n",
              "      <td>30</td>\n",
              "      <td>0.120</td>\n",
              "      <td>1.00</td>\n",
              "      <td>0.0</td>\n",
              "      <td>15</td>\n",
              "      <td>118</td>\n",
              "      <td>0.250</td>\n",
              "      <td>1.40</td>\n",
              "      <td>0.000</td>\n",
              "      <td>16.8</td>\n",
              "      <td>0.033333</td>\n",
              "      <td>0.070588</td>\n",
              "      <td>0.416667</td>\n",
              "      <td>0.0</td>\n",
              "      <td>0.033333</td>\n",
              "      <td>0.0375</td>\n",
              "      <td>0.068750</td>\n",
              "      <td>0.115385</td>\n",
              "      <td>0.100000</td>\n",
              "      <td>0.098333</td>\n",
              "      <td>0.000278</td>\n",
              "      <td>0.047619</td>\n",
              "      <td>0.257143</td>\n",
              "      <td>0.305455</td>\n",
              "      <td>0.090909</td>\n",
              "    </tr>\n",
              "  </tbody>\n",
              "</table>\n",
              "<p>8618 rows × 32 columns</p>\n",
              "</div>"
            ],
            "text/plain": [
              "      FoodGroup  Energy_kcal  ...  Selenium_USRDA  Zinc_USRDA\n",
              "0            20          717  ...        0.018182    0.008182\n",
              "1            20          717  ...        0.018182    0.004545\n",
              "2            20          876  ...        0.000000    0.000909\n",
              "3            20          353  ...        0.263636    0.241818\n",
              "4            20          371  ...        0.263636    0.236364\n",
              "...         ...          ...  ...             ...         ...\n",
              "8613         13          305  ...        1.334545    0.100000\n",
              "8614         13          111  ...        0.394545    0.140909\n",
              "8615         14          269  ...        0.012727    0.017273\n",
              "8616         13           90  ...        0.498182    0.090909\n",
              "8617         13           89  ...        0.305455    0.090909\n",
              "\n",
              "[8618 rows x 32 columns]"
            ]
          },
          "metadata": {
            "tags": []
          },
          "execution_count": 104
        }
      ]
    },
    {
      "cell_type": "markdown",
      "metadata": {
        "id": "zvwJSxxo3GqD"
      },
      "source": [
        "Plot  กราฟ Scatter"
      ]
    },
    {
      "cell_type": "code",
      "metadata": {
        "colab": {
          "base_uri": "https://localhost:8080/",
          "height": 282
        },
        "id": "6iz7zrNq3Mi2",
        "outputId": "b8f1bf34-9015-4553-dc85-0c17c93da329"
      },
      "source": [
        "plt.scatter(new_pca[:,0],new_pca[:,1],c = data_dropped2['FoodGroup'])"
      ],
      "execution_count": 105,
      "outputs": [
        {
          "output_type": "execute_result",
          "data": {
            "text/plain": [
              "<matplotlib.collections.PathCollection at 0x7f5a1f341e90>"
            ]
          },
          "metadata": {
            "tags": []
          },
          "execution_count": 105
        },
        {
          "output_type": "display_data",
          "data": {
            "image/png": "[encoded data removed]",
            "text/plain": [
              "<Figure size 432x288 with 1 Axes>"
            ]
          },
          "metadata": {
            "tags": [],
            "needs_background": "light"
          }
        }
      ]
    },
    {
      "cell_type": "code",
      "metadata": {
        "colab": {
          "base_uri": "https://localhost:8080/",
          "height": 282
        },
        "id": "ePWMBK214NcJ",
        "outputId": "ebfb88bc-1489-4c86-a50b-7bd7d8520636"
      },
      "source": [
        "plt.scatter(new_pca[:,0],new_pca[:,1],c = data_dropped2['FoodGroup'],alpha=0.5)"
      ],
      "execution_count": 106,
      "outputs": [
        {
          "output_type": "execute_result",
          "data": {
            "text/plain": [
              "<matplotlib.collections.PathCollection at 0x7f5a1ec2a350>"
            ]
          },
          "metadata": {
            "tags": []
          },
          "execution_count": 106
        },
        {
          "output_type": "display_data",
          "data": {
            "image/png": "[encoded data removed]",
            "text/plain": [
              "<Figure size 432x288 with 1 Axes>"
            ]
          },
          "metadata": {
            "tags": [],
            "needs_background": "light"
          }
        }
      ]
    },
    {
      "cell_type": "markdown",
      "metadata": {
        "id": "QXz4xQow4N4W"
      },
      "source": [
        "### ทดลอง เปรียบเทียบค่าสารอาหาร baby food และ sweet"
      ]
    },
    {
      "cell_type": "code",
      "metadata": {
        "colab": {
          "base_uri": "https://localhost:8080/",
          "height": 419
        },
        "id": "3hxukW364b85",
        "outputId": "cad4ec72-e174-47a9-da5a-8acdf3b6b980"
      },
      "source": [
        "bb = data_dropped2[(data_dropped2['FoodGroup']==1) | (data_dropped2['FoodGroup']==8)]  ## ใช้  | และ  &  แทน  or  และ  and  ใน pandas\r\n",
        "bb"
      ],
      "execution_count": 108,
      "outputs": [
        {
          "output_type": "execute_result",
          "data": {
            "text/html": [
              "<div>\n",
              "<style scoped>\n",
              "    .dataframe tbody tr th:only-of-type {\n",
              "        vertical-align: middle;\n",
              "    }\n",
              "\n",
              "    .dataframe tbody tr th {\n",
              "        vertical-align: top;\n",
              "    }\n",
              "\n",
              "    .dataframe thead th {\n",
              "        text-align: right;\n",
              "    }\n",
              "</style>\n",
              "<table border=\"1\" class=\"dataframe\">\n",
              "  <thead>\n",
              "    <tr style=\"text-align: right;\">\n",
              "      <th></th>\n",
              "      <th>FoodGroup</th>\n",
              "      <th>Energy_kcal</th>\n",
              "      <th>Protein_g</th>\n",
              "      <th>Fat_g</th>\n",
              "      <th>Carb_g</th>\n",
              "      <th>Sugar_g</th>\n",
              "      <th>Fiber_g</th>\n",
              "      <th>VitA_mcg</th>\n",
              "      <th>VitB6_mg</th>\n",
              "      <th>VitB12_mcg</th>\n",
              "      <th>VitC_mg</th>\n",
              "      <th>Folate_mcg</th>\n",
              "      <th>Calcium_mg</th>\n",
              "      <th>Copper_mcg</th>\n",
              "      <th>Iron_mg</th>\n",
              "      <th>Manganese_mg</th>\n",
              "      <th>Selenium_mcg</th>\n",
              "      <th>VitA_USRDA</th>\n",
              "      <th>VitB6_USRDA</th>\n",
              "      <th>VitB12_USRDA</th>\n",
              "      <th>VitC_USRDA</th>\n",
              "      <th>VitE_USRDA</th>\n",
              "      <th>Folate_USRDA</th>\n",
              "      <th>Niacin_USRDA</th>\n",
              "      <th>Riboflavin_USRDA</th>\n",
              "      <th>Thiamin_USRDA</th>\n",
              "      <th>Calcium_USRDA</th>\n",
              "      <th>Copper_USRDA</th>\n",
              "      <th>Magnesium_USRDA</th>\n",
              "      <th>Phosphorus_USRDA</th>\n",
              "      <th>Selenium_USRDA</th>\n",
              "      <th>Zinc_USRDA</th>\n",
              "    </tr>\n",
              "  </thead>\n",
              "  <tbody>\n",
              "    <tr>\n",
              "      <th>1181</th>\n",
              "      <td>8</td>\n",
              "      <td>69</td>\n",
              "      <td>1.82</td>\n",
              "      <td>3.26</td>\n",
              "      <td>8.52</td>\n",
              "      <td>0.72</td>\n",
              "      <td>0.4</td>\n",
              "      <td>26</td>\n",
              "      <td>0.010</td>\n",
              "      <td>0.04</td>\n",
              "      <td>2.2</td>\n",
              "      <td>19</td>\n",
              "      <td>23</td>\n",
              "      <td>0.100</td>\n",
              "      <td>0.64</td>\n",
              "      <td>0.300</td>\n",
              "      <td>1.9</td>\n",
              "      <td>0.028889</td>\n",
              "      <td>0.005882</td>\n",
              "      <td>0.016667</td>\n",
              "      <td>0.024444</td>\n",
              "      <td>0.032667</td>\n",
              "      <td>0.0475</td>\n",
              "      <td>0.038750</td>\n",
              "      <td>0.047692</td>\n",
              "      <td>0.035833</td>\n",
              "      <td>0.019167</td>\n",
              "      <td>0.000111</td>\n",
              "      <td>0.007143</td>\n",
              "      <td>0.044286</td>\n",
              "      <td>0.034545</td>\n",
              "      <td>0.063636</td>\n",
              "    </tr>\n",
              "    <tr>\n",
              "      <th>1182</th>\n",
              "      <td>8</td>\n",
              "      <td>91</td>\n",
              "      <td>4.83</td>\n",
              "      <td>1.32</td>\n",
              "      <td>15.42</td>\n",
              "      <td>2.49</td>\n",
              "      <td>6.8</td>\n",
              "      <td>22</td>\n",
              "      <td>0.070</td>\n",
              "      <td>0.00</td>\n",
              "      <td>0.2</td>\n",
              "      <td>66</td>\n",
              "      <td>35</td>\n",
              "      <td>0.300</td>\n",
              "      <td>1.50</td>\n",
              "      <td>0.500</td>\n",
              "      <td>0.0</td>\n",
              "      <td>0.024444</td>\n",
              "      <td>0.041176</td>\n",
              "      <td>0.000000</td>\n",
              "      <td>0.002222</td>\n",
              "      <td>0.024000</td>\n",
              "      <td>0.1650</td>\n",
              "      <td>0.025625</td>\n",
              "      <td>0.030000</td>\n",
              "      <td>0.035000</td>\n",
              "      <td>0.029167</td>\n",
              "      <td>0.000333</td>\n",
              "      <td>0.078571</td>\n",
              "      <td>0.107143</td>\n",
              "      <td>0.000000</td>\n",
              "      <td>0.100000</td>\n",
              "    </tr>\n",
              "    <tr>\n",
              "      <th>1183</th>\n",
              "      <td>8</td>\n",
              "      <td>40</td>\n",
              "      <td>2.38</td>\n",
              "      <td>1.59</td>\n",
              "      <td>4.76</td>\n",
              "      <td>0.79</td>\n",
              "      <td>0.0</td>\n",
              "      <td>0</td>\n",
              "      <td>0.000</td>\n",
              "      <td>0.00</td>\n",
              "      <td>0.0</td>\n",
              "      <td>0</td>\n",
              "      <td>0</td>\n",
              "      <td>0.000</td>\n",
              "      <td>0.29</td>\n",
              "      <td>0.000</td>\n",
              "      <td>0.0</td>\n",
              "      <td>0.000000</td>\n",
              "      <td>0.000000</td>\n",
              "      <td>0.000000</td>\n",
              "      <td>0.000000</td>\n",
              "      <td>0.000000</td>\n",
              "      <td>0.0000</td>\n",
              "      <td>0.000000</td>\n",
              "      <td>0.000000</td>\n",
              "      <td>0.000000</td>\n",
              "      <td>0.000000</td>\n",
              "      <td>0.000000</td>\n",
              "      <td>0.000000</td>\n",
              "      <td>0.000000</td>\n",
              "      <td>0.000000</td>\n",
              "      <td>0.000000</td>\n",
              "    </tr>\n",
              "    <tr>\n",
              "      <th>1184</th>\n",
              "      <td>8</td>\n",
              "      <td>129</td>\n",
              "      <td>5.88</td>\n",
              "      <td>4.42</td>\n",
              "      <td>16.97</td>\n",
              "      <td>3.00</td>\n",
              "      <td>5.9</td>\n",
              "      <td>34</td>\n",
              "      <td>0.031</td>\n",
              "      <td>0.03</td>\n",
              "      <td>1.2</td>\n",
              "      <td>24</td>\n",
              "      <td>60</td>\n",
              "      <td>0.300</td>\n",
              "      <td>1.53</td>\n",
              "      <td>0.500</td>\n",
              "      <td>6.4</td>\n",
              "      <td>0.037778</td>\n",
              "      <td>0.018235</td>\n",
              "      <td>0.012500</td>\n",
              "      <td>0.013333</td>\n",
              "      <td>0.058000</td>\n",
              "      <td>0.0600</td>\n",
              "      <td>0.026312</td>\n",
              "      <td>0.019231</td>\n",
              "      <td>0.054167</td>\n",
              "      <td>0.050000</td>\n",
              "      <td>0.000333</td>\n",
              "      <td>0.078571</td>\n",
              "      <td>0.140000</td>\n",
              "      <td>0.116364</td>\n",
              "      <td>0.070000</td>\n",
              "    </tr>\n",
              "    <tr>\n",
              "      <th>1185</th>\n",
              "      <td>8</td>\n",
              "      <td>142</td>\n",
              "      <td>7.60</td>\n",
              "      <td>5.31</td>\n",
              "      <td>16.75</td>\n",
              "      <td>0.00</td>\n",
              "      <td>4.6</td>\n",
              "      <td>33</td>\n",
              "      <td>0.100</td>\n",
              "      <td>0.06</td>\n",
              "      <td>0.7</td>\n",
              "      <td>24</td>\n",
              "      <td>66</td>\n",
              "      <td>0.300</td>\n",
              "      <td>1.78</td>\n",
              "      <td>0.600</td>\n",
              "      <td>6.9</td>\n",
              "      <td>0.036667</td>\n",
              "      <td>0.058824</td>\n",
              "      <td>0.025000</td>\n",
              "      <td>0.007778</td>\n",
              "      <td>0.000000</td>\n",
              "      <td>0.0600</td>\n",
              "      <td>0.048750</td>\n",
              "      <td>0.037692</td>\n",
              "      <td>0.069167</td>\n",
              "      <td>0.055000</td>\n",
              "      <td>0.000333</td>\n",
              "      <td>0.088095</td>\n",
              "      <td>0.180000</td>\n",
              "      <td>0.125455</td>\n",
              "      <td>0.081818</td>\n",
              "    </tr>\n",
              "    <tr>\n",
              "      <th>...</th>\n",
              "      <td>...</td>\n",
              "      <td>...</td>\n",
              "      <td>...</td>\n",
              "      <td>...</td>\n",
              "      <td>...</td>\n",
              "      <td>...</td>\n",
              "      <td>...</td>\n",
              "      <td>...</td>\n",
              "      <td>...</td>\n",
              "      <td>...</td>\n",
              "      <td>...</td>\n",
              "      <td>...</td>\n",
              "      <td>...</td>\n",
              "      <td>...</td>\n",
              "      <td>...</td>\n",
              "      <td>...</td>\n",
              "      <td>...</td>\n",
              "      <td>...</td>\n",
              "      <td>...</td>\n",
              "      <td>...</td>\n",
              "      <td>...</td>\n",
              "      <td>...</td>\n",
              "      <td>...</td>\n",
              "      <td>...</td>\n",
              "      <td>...</td>\n",
              "      <td>...</td>\n",
              "      <td>...</td>\n",
              "      <td>...</td>\n",
              "      <td>...</td>\n",
              "      <td>...</td>\n",
              "      <td>...</td>\n",
              "      <td>...</td>\n",
              "    </tr>\n",
              "    <tr>\n",
              "      <th>7732</th>\n",
              "      <td>8</td>\n",
              "      <td>170</td>\n",
              "      <td>0.91</td>\n",
              "      <td>0.67</td>\n",
              "      <td>39.95</td>\n",
              "      <td>35.29</td>\n",
              "      <td>1.0</td>\n",
              "      <td>16</td>\n",
              "      <td>0.090</td>\n",
              "      <td>0.00</td>\n",
              "      <td>0.3</td>\n",
              "      <td>0</td>\n",
              "      <td>43</td>\n",
              "      <td>0.089</td>\n",
              "      <td>0.69</td>\n",
              "      <td>0.136</td>\n",
              "      <td>0.0</td>\n",
              "      <td>0.017778</td>\n",
              "      <td>0.052941</td>\n",
              "      <td>0.000000</td>\n",
              "      <td>0.003333</td>\n",
              "      <td>0.060667</td>\n",
              "      <td>0.0000</td>\n",
              "      <td>0.039813</td>\n",
              "      <td>0.048462</td>\n",
              "      <td>0.025000</td>\n",
              "      <td>0.035833</td>\n",
              "      <td>0.000099</td>\n",
              "      <td>0.038095</td>\n",
              "      <td>0.031429</td>\n",
              "      <td>0.000000</td>\n",
              "      <td>0.015455</td>\n",
              "    </tr>\n",
              "    <tr>\n",
              "      <th>7733</th>\n",
              "      <td>8</td>\n",
              "      <td>160</td>\n",
              "      <td>1.00</td>\n",
              "      <td>0.52</td>\n",
              "      <td>37.92</td>\n",
              "      <td>30.95</td>\n",
              "      <td>1.4</td>\n",
              "      <td>14</td>\n",
              "      <td>0.093</td>\n",
              "      <td>0.00</td>\n",
              "      <td>0.2</td>\n",
              "      <td>0</td>\n",
              "      <td>40</td>\n",
              "      <td>0.072</td>\n",
              "      <td>1.09</td>\n",
              "      <td>0.178</td>\n",
              "      <td>0.0</td>\n",
              "      <td>0.015556</td>\n",
              "      <td>0.054706</td>\n",
              "      <td>0.000000</td>\n",
              "      <td>0.002222</td>\n",
              "      <td>0.064000</td>\n",
              "      <td>0.0000</td>\n",
              "      <td>0.049188</td>\n",
              "      <td>0.056154</td>\n",
              "      <td>0.022500</td>\n",
              "      <td>0.033333</td>\n",
              "      <td>0.000080</td>\n",
              "      <td>0.038095</td>\n",
              "      <td>0.034286</td>\n",
              "      <td>0.000000</td>\n",
              "      <td>0.020000</td>\n",
              "    </tr>\n",
              "    <tr>\n",
              "      <th>7734</th>\n",
              "      <td>8</td>\n",
              "      <td>132</td>\n",
              "      <td>0.44</td>\n",
              "      <td>1.41</td>\n",
              "      <td>29.45</td>\n",
              "      <td>23.49</td>\n",
              "      <td>0.5</td>\n",
              "      <td>1</td>\n",
              "      <td>0.015</td>\n",
              "      <td>0.00</td>\n",
              "      <td>0.0</td>\n",
              "      <td>0</td>\n",
              "      <td>20</td>\n",
              "      <td>0.015</td>\n",
              "      <td>0.15</td>\n",
              "      <td>0.071</td>\n",
              "      <td>0.0</td>\n",
              "      <td>0.001111</td>\n",
              "      <td>0.008824</td>\n",
              "      <td>0.000000</td>\n",
              "      <td>0.000000</td>\n",
              "      <td>0.014000</td>\n",
              "      <td>0.0000</td>\n",
              "      <td>0.010000</td>\n",
              "      <td>0.016923</td>\n",
              "      <td>0.012500</td>\n",
              "      <td>0.016667</td>\n",
              "      <td>0.000017</td>\n",
              "      <td>0.011905</td>\n",
              "      <td>0.024286</td>\n",
              "      <td>0.000000</td>\n",
              "      <td>0.010909</td>\n",
              "    </tr>\n",
              "    <tr>\n",
              "      <th>7735</th>\n",
              "      <td>8</td>\n",
              "      <td>257</td>\n",
              "      <td>6.31</td>\n",
              "      <td>16.02</td>\n",
              "      <td>22.02</td>\n",
              "      <td>17.07</td>\n",
              "      <td>1.8</td>\n",
              "      <td>0</td>\n",
              "      <td>0.190</td>\n",
              "      <td>0.00</td>\n",
              "      <td>0.0</td>\n",
              "      <td>22</td>\n",
              "      <td>22</td>\n",
              "      <td>0.123</td>\n",
              "      <td>0.91</td>\n",
              "      <td>0.484</td>\n",
              "      <td>3.4</td>\n",
              "      <td>0.000000</td>\n",
              "      <td>0.111765</td>\n",
              "      <td>0.000000</td>\n",
              "      <td>0.000000</td>\n",
              "      <td>0.148667</td>\n",
              "      <td>0.0550</td>\n",
              "      <td>0.200000</td>\n",
              "      <td>0.097692</td>\n",
              "      <td>0.050000</td>\n",
              "      <td>0.018333</td>\n",
              "      <td>0.000137</td>\n",
              "      <td>0.107143</td>\n",
              "      <td>0.152857</td>\n",
              "      <td>0.061818</td>\n",
              "      <td>0.070909</td>\n",
              "    </tr>\n",
              "    <tr>\n",
              "      <th>7736</th>\n",
              "      <td>8</td>\n",
              "      <td>50</td>\n",
              "      <td>1.16</td>\n",
              "      <td>0.51</td>\n",
              "      <td>10.28</td>\n",
              "      <td>2.78</td>\n",
              "      <td>1.1</td>\n",
              "      <td>56</td>\n",
              "      <td>0.070</td>\n",
              "      <td>0.00</td>\n",
              "      <td>0.7</td>\n",
              "      <td>0</td>\n",
              "      <td>25</td>\n",
              "      <td>0.046</td>\n",
              "      <td>0.40</td>\n",
              "      <td>0.089</td>\n",
              "      <td>0.0</td>\n",
              "      <td>0.062222</td>\n",
              "      <td>0.041176</td>\n",
              "      <td>0.000000</td>\n",
              "      <td>0.007778</td>\n",
              "      <td>0.012000</td>\n",
              "      <td>0.0000</td>\n",
              "      <td>0.038125</td>\n",
              "      <td>0.076923</td>\n",
              "      <td>0.041667</td>\n",
              "      <td>0.020833</td>\n",
              "      <td>0.000051</td>\n",
              "      <td>0.028571</td>\n",
              "      <td>0.040000</td>\n",
              "      <td>0.000000</td>\n",
              "      <td>0.021818</td>\n",
              "    </tr>\n",
              "  </tbody>\n",
              "</table>\n",
              "<p>1398 rows × 32 columns</p>\n",
              "</div>"
            ],
            "text/plain": [
              "      FoodGroup  Energy_kcal  ...  Selenium_USRDA  Zinc_USRDA\n",
              "1181          8           69  ...        0.034545    0.063636\n",
              "1182          8           91  ...        0.000000    0.100000\n",
              "1183          8           40  ...        0.000000    0.000000\n",
              "1184          8          129  ...        0.116364    0.070000\n",
              "1185          8          142  ...        0.125455    0.081818\n",
              "...         ...          ...  ...             ...         ...\n",
              "7732          8          170  ...        0.000000    0.015455\n",
              "7733          8          160  ...        0.000000    0.020000\n",
              "7734          8          132  ...        0.000000    0.010909\n",
              "7735          8          257  ...        0.061818    0.070909\n",
              "7736          8           50  ...        0.000000    0.021818\n",
              "\n",
              "[1398 rows x 32 columns]"
            ]
          },
          "metadata": {
            "tags": []
          },
          "execution_count": 108
        }
      ]
    },
    {
      "cell_type": "code",
      "metadata": {
        "id": "Bm6VphRGC9mf"
      },
      "source": [
        "pca = PCA(n_components=2)\r\n",
        "new_pca2 = pca.fit_transform(bb.iloc[:,1:].to_numpy())"
      ],
      "execution_count": 109,
      "outputs": []
    },
    {
      "cell_type": "code",
      "metadata": {
        "colab": {
          "base_uri": "https://localhost:8080/",
          "height": 282
        },
        "id": "A8a0urr2MrK5",
        "outputId": "d7702443-f0c9-4980-a141-48b700c812da"
      },
      "source": [
        "plt.scatter(new_pca2[:,0],new_pca2[:,1],c = bb['FoodGroup'],alpha=0.5)"
      ],
      "execution_count": 110,
      "outputs": [
        {
          "output_type": "execute_result",
          "data": {
            "text/plain": [
              "<matplotlib.collections.PathCollection at 0x7f5a1f2d68d0>"
            ]
          },
          "metadata": {
            "tags": []
          },
          "execution_count": 110
        },
        {
          "output_type": "display_data",
          "data": {
            "image/png": "[encoded data removed]",
            "text/plain": [
              "<Figure size 432x288 with 1 Axes>"
            ]
          },
          "metadata": {
            "tags": [],
            "needs_background": "light"
          }
        }
      ]
    },
    {
      "cell_type": "code",
      "metadata": {
        "id": "kwggFkmlMaAs"
      },
      "source": [
        "baby_pca = pca.transform(bb[bb['FoodGroup']==1].iloc[:,1:].to_numpy())\r\n",
        "fast_pca = pca.transform(bb[bb['FoodGroup']==8].iloc[:,1:].to_numpy())"
      ],
      "execution_count": 111,
      "outputs": []
    },
    {
      "cell_type": "code",
      "metadata": {
        "colab": {
          "base_uri": "https://localhost:8080/",
          "height": 282
        },
        "id": "RYc7KXPNMa_f",
        "outputId": "1064e219-cf1b-4baf-d851-c1f0e3dc707a"
      },
      "source": [
        "plt.plot(baby_pca[:,0],baby_pca[:,1],'oc',alpha=0.5,label='baby')\r\n",
        "plt.plot(fast_pca[:,0],fast_pca[:,1],'*r',alpha=0.5,label='fast')\r\n",
        "plt.legend()"
      ],
      "execution_count": 112,
      "outputs": [
        {
          "output_type": "execute_result",
          "data": {
            "text/plain": [
              "<matplotlib.legend.Legend at 0x7f5a1f2b08d0>"
            ]
          },
          "metadata": {
            "tags": []
          },
          "execution_count": 112
        },
        {
          "output_type": "display_data",
          "data": {
            "image/png": "[encoded data removed]",
            "text/plain": [
              "<Figure size 432x288 with 1 Axes>"
            ]
          },
          "metadata": {
            "tags": [],
            "needs_background": "light"
          }
        }
      ]
    },
    {
      "cell_type": "markdown",
      "metadata": {
        "id": "7kUfhslfN0ME"
      },
      "source": [
        "### 2.Principle components เป็นตัวแทนของข้อมูลได้ดีแค่ไหน"
      ]
    },
    {
      "cell_type": "code",
      "metadata": {
        "colab": {
          "base_uri": "https://localhost:8080/"
        },
        "id": "CZay1etFN_lA",
        "outputId": "0e0ac54c-7b47-47c0-e886-bb8cd8a57e25"
      },
      "source": [
        "pca.explained_variance_ratio_"
      ],
      "execution_count": 113,
      "outputs": [
        {
          "output_type": "execute_result",
          "data": {
            "text/plain": [
              "array([0.98816115, 0.01036343])"
            ]
          },
          "metadata": {
            "tags": []
          },
          "execution_count": 113
        }
      ]
    }
  ]
}